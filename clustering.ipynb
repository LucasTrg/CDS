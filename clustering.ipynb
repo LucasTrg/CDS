{
 "cells": [
  {
   "cell_type": "markdown",
   "metadata": {},
   "source": [
    "## Import"
   ]
  },
  {
   "cell_type": "code",
   "execution_count": 54,
   "metadata": {},
   "outputs": [],
   "source": [
    "import pandas as pd\n",
    "import numpy as np\n",
    "import json\n",
    "import glob\n",
    "import re\n",
    "\n",
    "#Gensim\n",
    "import gensim\n",
    "import gensim.corpora as corpora\n",
    "from gensim.utils import simple_preprocess\n",
    "from gensim.models import CoherenceModel\n",
    "\n",
    "from wordcloud import WordCloud, STOPWORDS\n",
    "\n",
    "#spacy\n",
    "import spacy\n",
    "#from nltk.corpus import STOPWORDS\n",
    "\n",
    "#vis\n",
    "import pyLDAvis\n",
    "import pyLDAvis.gensim_models\n",
    "\n",
    "import warnings\n"
   ]
  },
  {
   "cell_type": "code",
   "execution_count": 55,
   "metadata": {},
   "outputs": [
    {
     "data": {
      "text/html": [
       "<div>\n",
       "<style scoped>\n",
       "    .dataframe tbody tr th:only-of-type {\n",
       "        vertical-align: middle;\n",
       "    }\n",
       "\n",
       "    .dataframe tbody tr th {\n",
       "        vertical-align: top;\n",
       "    }\n",
       "\n",
       "    .dataframe thead th {\n",
       "        text-align: right;\n",
       "    }\n",
       "</style>\n",
       "<table border=\"1\" class=\"dataframe\">\n",
       "  <thead>\n",
       "    <tr style=\"text-align: right;\">\n",
       "      <th></th>\n",
       "      <th>Unnamed: 0</th>\n",
       "      <th>Artist</th>\n",
       "      <th>Song Name</th>\n",
       "      <th>release date</th>\n",
       "      <th>GPE</th>\n",
       "      <th>Line</th>\n",
       "      <th>Line Before</th>\n",
       "      <th>Line After</th>\n",
       "      <th>polarity</th>\n",
       "      <th>pos</th>\n",
       "      <th>neg</th>\n",
       "      <th>neu</th>\n",
       "      <th>compound</th>\n",
       "    </tr>\n",
       "  </thead>\n",
       "  <tbody>\n",
       "    <tr>\n",
       "      <th>0</th>\n",
       "      <td>8</td>\n",
       "      <td>French Montana</td>\n",
       "      <td>100</td>\n",
       "      <td>2012-04-13</td>\n",
       "      <td>Harlem</td>\n",
       "      <td>Shout out to ma niggas in Harlem</td>\n",
       "      <td>Motthaven, you know, Tremont</td>\n",
       "      <td>Can't call no blocks out there</td>\n",
       "      <td>{'neg': 0.0, 'neu': 1.0, 'pos': 0.0, 'compound...</td>\n",
       "      <td>0.000</td>\n",
       "      <td>0.0</td>\n",
       "      <td>1.000</td>\n",
       "      <td>0.0000</td>\n",
       "    </tr>\n",
       "    <tr>\n",
       "      <th>1</th>\n",
       "      <td>14</td>\n",
       "      <td>French Montana</td>\n",
       "      <td>2 Times</td>\n",
       "      <td>NaN</td>\n",
       "      <td>New York</td>\n",
       "      <td>New York undercovers amongst the others</td>\n",
       "      <td>Still watching out for JC and Torres</td>\n",
       "      <td>The family be couple hundred of us</td>\n",
       "      <td>{'neg': 0.0, 'neu': 1.0, 'pos': 0.0, 'compound...</td>\n",
       "      <td>0.000</td>\n",
       "      <td>0.0</td>\n",
       "      <td>1.000</td>\n",
       "      <td>0.0000</td>\n",
       "    </tr>\n",
       "    <tr>\n",
       "      <th>2</th>\n",
       "      <td>16</td>\n",
       "      <td>French Montana</td>\n",
       "      <td>50's &amp; 100's</td>\n",
       "      <td>2016-11-05</td>\n",
       "      <td>South Bronx</td>\n",
       "      <td>Who run it? (South Bronx)</td>\n",
       "      <td>40 cars, 40 chains2Embed\", \"50's &amp; 100's Lyric...</td>\n",
       "      <td>Who run it? (North Memphis, let me chirp these...</td>\n",
       "      <td>{'neg': 0.0, 'neu': 1.0, 'pos': 0.0, 'compound...</td>\n",
       "      <td>0.000</td>\n",
       "      <td>0.0</td>\n",
       "      <td>1.000</td>\n",
       "      <td>0.0000</td>\n",
       "    </tr>\n",
       "    <tr>\n",
       "      <th>3</th>\n",
       "      <td>95</td>\n",
       "      <td>French Montana</td>\n",
       "      <td>Bag</td>\n",
       "      <td>NaN</td>\n",
       "      <td>New York</td>\n",
       "      <td>Talk about New York, big estate</td>\n",
       "      <td>And grab a casket, my chest christens in the l...</td>\n",
       "      <td>Got the bank and I ain't fit (That's a stash)</td>\n",
       "      <td>{'neg': 0.0, 'neu': 0.714, 'pos': 0.286, 'comp...</td>\n",
       "      <td>0.286</td>\n",
       "      <td>0.0</td>\n",
       "      <td>0.714</td>\n",
       "      <td>0.4939</td>\n",
       "    </tr>\n",
       "    <tr>\n",
       "      <th>4</th>\n",
       "      <td>98</td>\n",
       "      <td>French Montana</td>\n",
       "      <td>Bag</td>\n",
       "      <td>NaN</td>\n",
       "      <td>New York</td>\n",
       "      <td>Runnin' through New York with a strap (That's ...</td>\n",
       "      <td>[Verse 2: French Montana]</td>\n",
       "      <td>'Cause we comin' for they head, not they chaps...</td>\n",
       "      <td>{'neg': 0.0, 'neu': 1.0, 'pos': 0.0, 'compound...</td>\n",
       "      <td>0.000</td>\n",
       "      <td>0.0</td>\n",
       "      <td>1.000</td>\n",
       "      <td>0.0000</td>\n",
       "    </tr>\n",
       "  </tbody>\n",
       "</table>\n",
       "</div>"
      ],
      "text/plain": [
       "   Unnamed: 0          Artist     Song Name release date          GPE  \\\n",
       "0           8  French Montana           100   2012-04-13       Harlem   \n",
       "1          14  French Montana       2 Times          NaN     New York   \n",
       "2          16  French Montana  50's & 100's   2016-11-05  South Bronx   \n",
       "3          95  French Montana           Bag          NaN     New York   \n",
       "4          98  French Montana           Bag          NaN     New York   \n",
       "\n",
       "                                                Line  \\\n",
       "0                   Shout out to ma niggas in Harlem   \n",
       "1            New York undercovers amongst the others   \n",
       "2                          Who run it? (South Bronx)   \n",
       "3                    Talk about New York, big estate   \n",
       "4  Runnin' through New York with a strap (That's ...   \n",
       "\n",
       "                                         Line Before  \\\n",
       "0                       Motthaven, you know, Tremont   \n",
       "1               Still watching out for JC and Torres   \n",
       "2  40 cars, 40 chains2Embed\", \"50's & 100's Lyric...   \n",
       "3  And grab a casket, my chest christens in the l...   \n",
       "4                          [Verse 2: French Montana]   \n",
       "\n",
       "                                          Line After  \\\n",
       "0                     Can't call no blocks out there   \n",
       "1                 The family be couple hundred of us   \n",
       "2  Who run it? (North Memphis, let me chirp these...   \n",
       "3      Got the bank and I ain't fit (That's a stash)   \n",
       "4  'Cause we comin' for they head, not they chaps...   \n",
       "\n",
       "                                            polarity    pos  neg    neu  \\\n",
       "0  {'neg': 0.0, 'neu': 1.0, 'pos': 0.0, 'compound...  0.000  0.0  1.000   \n",
       "1  {'neg': 0.0, 'neu': 1.0, 'pos': 0.0, 'compound...  0.000  0.0  1.000   \n",
       "2  {'neg': 0.0, 'neu': 1.0, 'pos': 0.0, 'compound...  0.000  0.0  1.000   \n",
       "3  {'neg': 0.0, 'neu': 0.714, 'pos': 0.286, 'comp...  0.286  0.0  0.714   \n",
       "4  {'neg': 0.0, 'neu': 1.0, 'pos': 0.0, 'compound...  0.000  0.0  1.000   \n",
       "\n",
       "   compound  \n",
       "0    0.0000  \n",
       "1    0.0000  \n",
       "2    0.0000  \n",
       "3    0.4939  \n",
       "4    0.0000  "
      ]
     },
     "execution_count": 55,
     "metadata": {},
     "output_type": "execute_result"
    }
   ],
   "source": [
    "DATA_PATH = 'data/wordclouds/selected_polarity-2022-05-08 11:43:02.920751.csv'\n",
    "data = pd.read_csv(DATA_PATH)\n",
    "data.head(5)"
   ]
  },
  {
   "cell_type": "code",
   "execution_count": 56,
   "metadata": {},
   "outputs": [
    {
     "data": {
      "text/plain": [
       "(1620, 13)"
      ]
     },
     "execution_count": 56,
     "metadata": {},
     "output_type": "execute_result"
    }
   ],
   "source": [
    "data.shape"
   ]
  },
  {
   "cell_type": "code",
   "execution_count": 57,
   "metadata": {},
   "outputs": [],
   "source": [
    "data['GPE'] = data['GPE'].replace(['NYC'],'New York City')\n",
    "data['GPE'] = data['GPE'].replace(['New York'],'New York City')\n",
    "data['GPE'] = data['GPE'].replace(['South Bronx'],'Bronx')"
   ]
  },
  {
   "cell_type": "code",
   "execution_count": 58,
   "metadata": {},
   "outputs": [
    {
     "data": {
      "text/plain": [
       "array(['Harlem', 'New York City', 'Bronx', 'Jersey', 'West Coast',\n",
       "       'Manhattan', 'Brooklyn', 'Staten Island', 'America', 'East Coast',\n",
       "       'Long Island', 'Queensbridge', 'Brownsville'], dtype=object)"
      ]
     },
     "execution_count": 58,
     "metadata": {},
     "output_type": "execute_result"
    }
   ],
   "source": [
    "data.GPE.unique()"
   ]
  },
  {
   "cell_type": "code",
   "execution_count": 59,
   "metadata": {},
   "outputs": [
    {
     "data": {
      "text/plain": [
       "Index(['Unnamed: 0', 'Artist', 'Song Name', 'release date', 'GPE', 'Line',\n",
       "       'Line Before', 'Line After', 'polarity', 'pos', 'neg', 'neu',\n",
       "       'compound'],\n",
       "      dtype='object')"
      ]
     },
     "execution_count": 59,
     "metadata": {},
     "output_type": "execute_result"
    }
   ],
   "source": [
    "data.columns"
   ]
  },
  {
   "cell_type": "markdown",
   "metadata": {},
   "source": [
    "## Dropping duplicated and NA lines"
   ]
  },
  {
   "cell_type": "code",
   "execution_count": 60,
   "metadata": {},
   "outputs": [
    {
     "data": {
      "text/html": [
       "<div>\n",
       "<style scoped>\n",
       "    .dataframe tbody tr th:only-of-type {\n",
       "        vertical-align: middle;\n",
       "    }\n",
       "\n",
       "    .dataframe tbody tr th {\n",
       "        vertical-align: top;\n",
       "    }\n",
       "\n",
       "    .dataframe thead th {\n",
       "        text-align: right;\n",
       "    }\n",
       "</style>\n",
       "<table border=\"1\" class=\"dataframe\">\n",
       "  <thead>\n",
       "    <tr style=\"text-align: right;\">\n",
       "      <th></th>\n",
       "      <th>Artist</th>\n",
       "      <th>Song Name</th>\n",
       "      <th>release date</th>\n",
       "      <th>GPE</th>\n",
       "      <th>Line</th>\n",
       "    </tr>\n",
       "  </thead>\n",
       "  <tbody>\n",
       "    <tr>\n",
       "      <th>1411</th>\n",
       "      <td>A$AP Ferg</td>\n",
       "      <td>Focus</td>\n",
       "      <td>NaN</td>\n",
       "      <td>Harlem</td>\n",
       "      <td>Flip phone shorty got a Motorola, feds can't l...</td>\n",
       "    </tr>\n",
       "    <tr>\n",
       "      <th>549</th>\n",
       "      <td>EPMD</td>\n",
       "      <td>House Party</td>\n",
       "      <td>NaN</td>\n",
       "      <td>Brownsville</td>\n",
       "      <td>NaN</td>\n",
       "    </tr>\n",
       "    <tr>\n",
       "      <th>481</th>\n",
       "      <td>Das EFX</td>\n",
       "      <td>If Only</td>\n",
       "      <td>1993-11-16</td>\n",
       "      <td>Brooklyn</td>\n",
       "      <td>The boogity-woogity Brooklyn boy, he\\'s cool l...</td>\n",
       "    </tr>\n",
       "    <tr>\n",
       "      <th>122</th>\n",
       "      <td>A Tribe Called Quest</td>\n",
       "      <td>His Name is Mutty Ranks</td>\n",
       "      <td>1993-11-09</td>\n",
       "      <td>New York City</td>\n",
       "      <td>From New York to ATLiens, youknowhatI'msayin?</td>\n",
       "    </tr>\n",
       "    <tr>\n",
       "      <th>780</th>\n",
       "      <td>Ja Rule</td>\n",
       "      <td>Clap Back</td>\n",
       "      <td>NaN</td>\n",
       "      <td>Brooklyn</td>\n",
       "      <td>[Ja Rule] All my Brooklyn niggas, Brooklyn sir...</td>\n",
       "    </tr>\n",
       "  </tbody>\n",
       "</table>\n",
       "</div>"
      ],
      "text/plain": [
       "                    Artist                Song Name release date  \\\n",
       "1411             A$AP Ferg                    Focus          NaN   \n",
       "549                   EPMD              House Party          NaN   \n",
       "481                Das EFX                  If Only   1993-11-16   \n",
       "122   A Tribe Called Quest  His Name is Mutty Ranks   1993-11-09   \n",
       "780                Ja Rule                Clap Back          NaN   \n",
       "\n",
       "                GPE                                               Line  \n",
       "1411         Harlem  Flip phone shorty got a Motorola, feds can't l...  \n",
       "549     Brownsville                                                NaN  \n",
       "481        Brooklyn  The boogity-woogity Brooklyn boy, he\\'s cool l...  \n",
       "122   New York City      From New York to ATLiens, youknowhatI'msayin?  \n",
       "780        Brooklyn  [Ja Rule] All my Brooklyn niggas, Brooklyn sir...  "
      ]
     },
     "execution_count": 60,
     "metadata": {},
     "output_type": "execute_result"
    }
   ],
   "source": [
    "df1 = data[['Artist', 'Song Name', 'release date', 'GPE', 'Line Before']]\n",
    "df1.columns = ['Artist', 'Song Name', 'release date', 'GPE', 'Line']\n",
    "df2 = data[['Artist', 'Song Name', 'release date', 'GPE', 'Line']]\n",
    "df3 = data[['Artist', 'Song Name', 'release date', 'GPE', 'Line After']]\n",
    "df3.columns = ['Artist', 'Song Name', 'release date', 'GPE', 'Line']\n",
    "df_lines = pd.concat([df1, df2, df3])\n",
    "df_lines.sample(5)"
   ]
  },
  {
   "cell_type": "code",
   "execution_count": 61,
   "metadata": {},
   "outputs": [
    {
     "data": {
      "text/plain": [
       "((1620, 13), (4860, 5))"
      ]
     },
     "execution_count": 61,
     "metadata": {},
     "output_type": "execute_result"
    }
   ],
   "source": [
    "data.shape, df_lines.shape"
   ]
  },
  {
   "cell_type": "code",
   "execution_count": 62,
   "metadata": {},
   "outputs": [
    {
     "data": {
      "text/plain": [
       "1522"
      ]
     },
     "execution_count": 62,
     "metadata": {},
     "output_type": "execute_result"
    }
   ],
   "source": [
    "df_lines.duplicated(subset=['Line']).sum()"
   ]
  },
  {
   "cell_type": "code",
   "execution_count": 63,
   "metadata": {},
   "outputs": [
    {
     "data": {
      "text/plain": [
       "(3337, 5)"
      ]
     },
     "execution_count": 63,
     "metadata": {},
     "output_type": "execute_result"
    }
   ],
   "source": [
    "df_lines = df_lines.drop_duplicates(subset=['Line'])\n",
    "df_lines = df_lines.dropna(subset=['Line'])\n",
    "df_lines.shape"
   ]
  },
  {
   "cell_type": "code",
   "execution_count": 64,
   "metadata": {},
   "outputs": [
    {
     "data": {
      "text/plain": [
       "array(['Harlem', 'New York City', 'Bronx', 'Jersey', 'West Coast',\n",
       "       'Manhattan', 'Brooklyn', 'America', 'Long Island', 'Queensbridge',\n",
       "       'Brownsville', 'Staten Island', 'East Coast'], dtype=object)"
      ]
     },
     "execution_count": 64,
     "metadata": {},
     "output_type": "execute_result"
    }
   ],
   "source": [
    "df_lines.GPE.unique()"
   ]
  },
  {
   "cell_type": "markdown",
   "metadata": {},
   "source": [
    "## Creating corpus by neighborhood"
   ]
  },
  {
   "cell_type": "code",
   "execution_count": 65,
   "metadata": {},
   "outputs": [
    {
     "name": "stderr",
     "output_type": "stream",
     "text": [
      "<>:12: DeprecationWarning: invalid escape sequence \\(\n",
      "<>:12: DeprecationWarning: invalid escape sequence \\(\n",
      "/var/folders/z2/v95s75vx1flf254b1kb3nfdw0000gn/T/ipykernel_26100/615644494.py:12: DeprecationWarning: invalid escape sequence \\(\n",
      "  line = re.sub(\"[\\(\\[].*?[\\)\\]]\", \"\", line)\n"
     ]
    }
   ],
   "source": [
    "corpus = []\n",
    "i = 0\n",
    "\n",
    "#For each neighborhood, creating a corpus of sentences describing it\n",
    "for neighborhood in df_lines.GPE.unique():\n",
    "    temp = []\n",
    "    for j, row in df_lines[df_lines.GPE==neighborhood].iterrows():\n",
    "        #Cleaning lyrics\n",
    "        line = row.Line.replace('\\\\n', ' ')\n",
    "        line = line.replace(\"\\'\", '')\n",
    "        line = line.replace(\"\\\\\", '')\n",
    "        line = re.sub(\"[\\(\\[].*?[\\)\\]]\", \"\", line)\n",
    "        line = line.lower()\n",
    "\n",
    "        # Remove words shorter than 3 character\n",
    "        line = ' '.join([w for w in line.split() if len(w)>2])\n",
    "        #appening the cleaned line in a temporary list  \n",
    "        temp.append(line)\n",
    "        i += 1\n",
    "        #if i==5: break\n",
    "\n",
    "    corpus_i = \" \".join(temp)\n",
    "    corpus.append(corpus_i)\n"
   ]
  },
  {
   "cell_type": "code",
   "execution_count": 66,
   "metadata": {},
   "outputs": [
    {
     "data": {
      "text/plain": [
       "13873"
      ]
     },
     "execution_count": 66,
     "metadata": {},
     "output_type": "execute_result"
    }
   ],
   "source": [
    "len(corpus[0])\n"
   ]
  },
  {
   "cell_type": "code",
   "execution_count": 67,
   "metadata": {},
   "outputs": [
    {
     "data": {
      "text/plain": [
       "'motthaven, you know, tremont all niggas the scene like some sparta shit brought the garden back over'"
      ]
     },
     "execution_count": 67,
     "metadata": {},
     "output_type": "execute_result"
    }
   ],
   "source": [
    "corpus[0][0:100]"
   ]
  },
  {
   "cell_type": "markdown",
   "metadata": {},
   "source": [
    "## Lematization"
   ]
  },
  {
   "cell_type": "code",
   "execution_count": 68,
   "metadata": {},
   "outputs": [
    {
     "data": {
      "text/plain": [
       "13873"
      ]
     },
     "execution_count": 68,
     "metadata": {},
     "output_type": "execute_result"
    }
   ],
   "source": [
    "def lemmatization(texts, allowed_postags=['NOUN', 'ADJ', 'VERB', 'ADV']):\n",
    "    nlp = spacy.load('en_core_web_sm', disable=['parser', 'ner'])\n",
    "    texts_out = []\n",
    "\n",
    "    for text in texts:\n",
    "        doc = nlp(text)\n",
    "        new_text = []\n",
    "\n",
    "        for token in doc:\n",
    "            if token.pos_ in allowed_postags: #pos = part of speach\n",
    "                new_text.append(token.lemma_)\n",
    "        final = \" \".join(new_text)\n",
    "        texts_out.append(final)\n",
    "        \n",
    "    return texts_out\n",
    "\n",
    "lemmatized_corpus = corpus  #Not activated in this case\n",
    "len(lemmatized_corpus[0])"
   ]
  },
  {
   "cell_type": "code",
   "execution_count": 69,
   "metadata": {},
   "outputs": [
    {
     "data": {
      "text/plain": [
       "'motthaven, you know, tremont all niggas the scene like some sparta shit brought the garden back over'"
      ]
     },
     "execution_count": 69,
     "metadata": {},
     "output_type": "execute_result"
    }
   ],
   "source": [
    "corpus[0][0:100]"
   ]
  },
  {
   "cell_type": "markdown",
   "metadata": {},
   "source": [
    "## Removing stop words"
   ]
  },
  {
   "cell_type": "code",
   "execution_count": 70,
   "metadata": {},
   "outputs": [],
   "source": [
    "\n",
    "def gen_words(texts):\n",
    "    final = []\n",
    "    for i,text in enumerate(texts):\n",
    "        new = gensim.utils.simple_preprocess(text, deacc=True) #remove the accent in case there are\n",
    "        final.append(new)\n",
    "    return final\n",
    "\n",
    "data_words = gen_words(lemmatized_corpus)  "
   ]
  },
  {
   "cell_type": "code",
   "execution_count": 71,
   "metadata": {},
   "outputs": [
    {
     "data": {
      "text/plain": [
       "2335"
      ]
     },
     "execution_count": 71,
     "metadata": {},
     "output_type": "execute_result"
    }
   ],
   "source": [
    "len(data_words[0])"
   ]
  },
  {
   "cell_type": "code",
   "execution_count": 72,
   "metadata": {},
   "outputs": [
    {
     "data": {
      "text/plain": [
       "1105"
      ]
     },
     "execution_count": 72,
     "metadata": {},
     "output_type": "execute_result"
    }
   ],
   "source": [
    "# Stopwords removal \n",
    "PATH_DATA = './data/wordclouds/'\n",
    "PATH_STOPWORD = PATH_DATA + 'stopword_list.csv'\n",
    "sw = pd.read_csv(PATH_STOPWORD, header=None)\n",
    "sw_list = list(sw.values.flatten())\n",
    "sw_list =  sw_list[:-2] #remove 2 NaNs at the end of the list\n",
    "\n",
    "# Wordcloud library stopwords\n",
    "stopwords =  list(STOPWORDS) + sw_list\n",
    "\n",
    "# Additionnal handpicked stopwords\n",
    "add_sw = ['//', 'yeah', 'huh', 'yo', 's', 'nt', 'lyric', 'lyrics', 'll','harlem', 'new','york', \n",
    "        'bronx', 'jersey', 'west',\n",
    "       'manhattan', 'brooklyn', 'taten', 'america', 'east', 'Coast',\n",
    "       'long', 'island', 'queensbridge', 'brownsville', 'talk', 'man', 'dont', \n",
    "       'aint', 'fuck', 'nyc', 'yall', 'rap', 'ill', 'wanna', 'gotta', 'staten', 'youre','coast', 'queens', 'nigga', 'niggas',\n",
    "       'city', 'em']\n",
    "stopwords = stopwords + add_sw\n",
    "\n",
    "# Adding default spacy stopword list\n",
    "en = spacy.load('en_core_web_sm')\n",
    "spacy_stopwords = en.Defaults.stop_words\n",
    "stopwords = stopwords + list(spacy_stopwords)\n",
    "len(stopwords)"
   ]
  },
  {
   "cell_type": "code",
   "execution_count": 73,
   "metadata": {},
   "outputs": [
    {
     "data": {
      "text/plain": [
       "[2335, 7120, 1836, 937, 300, 554, 5231, 3415, 319, 405, 442, 606, 289]"
      ]
     },
     "execution_count": 73,
     "metadata": {},
     "output_type": "execute_result"
    }
   ],
   "source": [
    "a = []\n",
    "for l in data_words:\n",
    "    a.append(len(l))\n",
    "\n",
    "a"
   ]
  },
  {
   "cell_type": "code",
   "execution_count": 74,
   "metadata": {},
   "outputs": [],
   "source": [
    "\n",
    "new_data_words= []\n",
    "\n",
    "for text in data_words:\n",
    "    tokens_without_sw = []\n",
    "    for word in text:\n",
    "        if not word in stopwords:\n",
    "            tokens_without_sw.append(word)\n",
    "    new_data_words.append(tokens_without_sw)\n",
    "    \n",
    "data_words = new_data_words"
   ]
  },
  {
   "cell_type": "code",
   "execution_count": 75,
   "metadata": {},
   "outputs": [
    {
     "data": {
      "text/plain": [
       "[1096, 3267, 791, 471, 125, 256, 2410, 1574, 142, 187, 225, 269, 121]"
      ]
     },
     "execution_count": 75,
     "metadata": {},
     "output_type": "execute_result"
    }
   ],
   "source": [
    "a = []\n",
    "for l in new_data_words:\n",
    "    a.append(len(l))\n",
    "\n",
    "a"
   ]
  },
  {
   "cell_type": "markdown",
   "metadata": {},
   "source": [
    "## Bigrams/trigrams"
   ]
  },
  {
   "cell_type": "code",
   "execution_count": 76,
   "metadata": {},
   "outputs": [],
   "source": [
    "from gensim.models.phrases import Phraser\n",
    "from gensim.models import Phrases"
   ]
  },
  {
   "cell_type": "code",
   "execution_count": 77,
   "metadata": {},
   "outputs": [],
   "source": [
    "bigram_phrases = Phrases(data_words, min_count=2, threshold=100)\n",
    "trigram_phrases = Phrases(bigram_phrases[data_words], threshold=100)\n",
    "\n",
    "bigram = Phraser(bigram_phrases)\n",
    "trigram = Phraser(trigram_phrases)\n",
    "\n",
    "#function changing the individual words by their corresponding bigrams and trigrams\n",
    "def make_bigrams(texts):\n",
    "    b = []\n",
    "    for doc in texts:\n",
    "        b.append(bigram[doc])\n",
    "    return b\n",
    "\n",
    "def make_trigrams(texts):\n",
    "    b = []\n",
    "    for doc in texts:\n",
    "        b.append(trigram[bigram[doc]])\n",
    "    return b\n",
    "\n",
    "data_bigrams = make_bigrams(data_words)\n",
    "data_bigrams_trigrams = make_trigrams(data_bigrams)\n",
    "\n",
    "#print(data_bigrams_trigrams[1])"
   ]
  },
  {
   "cell_type": "markdown",
   "metadata": {},
   "source": [
    "## TF-IDF dictionnary"
   ]
  },
  {
   "cell_type": "code",
   "execution_count": 78,
   "metadata": {},
   "outputs": [
    {
     "data": {
      "text/plain": [
       "[]"
      ]
     },
     "execution_count": 78,
     "metadata": {},
     "output_type": "execute_result"
    }
   ],
   "source": [
    "from gensim.models import TfidfModel\n",
    "texts = data_bigrams_trigrams\n",
    "\n",
    "id2word = corpora.Dictionary(texts)\n",
    "\n",
    "corpus = [id2word.doc2bow(text) for text in texts]\n",
    "\n",
    "\n",
    "tfidf = TfidfModel(corpus, id2word=id2word)\n",
    "\n",
    "low_value = 0.01 #threshold filtering word wich appears more than this freq in all the docs\n",
    "words = []\n",
    "words_missing_in_tfidf = []\n",
    "#Creating new corpus by removing too frequent words\n",
    "for i in range(0, len(corpus)):\n",
    "    bow = corpus[i]\n",
    "    low_value_words = [] #reinitialize to be safe. You can skip this.\n",
    "    tfidf_ids = [id for id, value in tfidf[bow]]\n",
    "    bow_ids = [id for id, value in bow]\n",
    "    low_value_words = [id for id, value in tfidf[bow] if value < low_value]\n",
    "    drops = low_value_words + words_missing_in_tfidf\n",
    "    \n",
    "    for item in drops:\n",
    "        words.append(id2word[item])\n",
    "    words_missing_in_tfidf = [id for id in bow_ids if id not in tfidf_ids] # The words with tf-idf socre 0 will be missing\n",
    "\n",
    "    new_bow = [b for b in bow if b[0] not in low_value_words and b[0] not in words_missing_in_tfidf]  \n",
    "\n",
    "    #reassign        \n",
    "    corpus[i] = new_bow\n",
    "low_value_words"
   ]
  },
  {
   "cell_type": "markdown",
   "metadata": {},
   "source": [
    "## Bag of word and dictionnary"
   ]
  },
  {
   "cell_type": "markdown",
   "metadata": {},
   "source": [
    "id2word = corpora.Dictionary(data_words)\n",
    "\n",
    "corpus = []\n",
    "\n",
    "for i, text in enumerate(data_words):\n",
    "    new = id2word.doc2bow(text)\n",
    "    corpus.append(new)\n",
    "\n",
    "\n",
    "id2word[[0][:1][0]]"
   ]
  },
  {
   "cell_type": "markdown",
   "metadata": {},
   "source": [
    "len(id2word)"
   ]
  },
  {
   "cell_type": "markdown",
   "metadata": {},
   "source": [
    "## Visualization"
   ]
  },
  {
   "cell_type": "code",
   "execution_count": 81,
   "metadata": {},
   "outputs": [],
   "source": [
    "lda_model = gensim.models.ldamodel.LdaModel(corpus=corpus, id2word=id2word, num_topics=4, random_state=100, \n",
    "update_every=1, chunksize=50, passes=10, alpha=\"auto\")"
   ]
  },
  {
   "cell_type": "code",
   "execution_count": 82,
   "metadata": {},
   "outputs": [
    {
     "name": "stderr",
     "output_type": "stream",
     "text": [
      "/opt/anaconda3/envs/ada/lib/python3.8/site-packages/pyLDAvis/_prepare.py:246: FutureWarning: In a future version of pandas all arguments of DataFrame.drop except for the argument 'labels' will be keyword-only\n",
      "  default_term_info = default_term_info.sort_values(\n"
     ]
    },
    {
     "data": {
      "text/html": [
       "\n",
       "<link rel=\"stylesheet\" type=\"text/css\" href=\"https://cdn.jsdelivr.net/gh/bmabey/pyLDAvis@3.3.1/pyLDAvis/js/ldavis.v1.0.0.css\">\n",
       "\n",
       "\n",
       "<div id=\"ldavis_el261001407136194724489365793113\"></div>\n",
       "<script type=\"text/javascript\">\n",
       "\n",
       "var ldavis_el261001407136194724489365793113_data = {\"mdsDat\": {\"x\": [-0.09366778769904623, -0.04478422876934696, 0.09066889948853064, 0.04778311697986254], \"y\": [-0.058198427794060086, 0.10981454601512139, -0.08740883216256663, 0.03579271394150534], \"topics\": [1, 2, 3, 4], \"cluster\": [1, 1, 1, 1], \"Freq\": [43.01262212874609, 33.7143345410324, 14.394436657628864, 8.878606672592653]}, \"tinfo\": {\"Term\": [\"black\", \"love\", \"big\", \"rock\", \"style\", \"street\", \"bring\", \"americas\", \"people\", \"north\", \"feel\", \"dirty\", \"land\", \"game\", \"pop\", \"hate\", \"weed\", \"walk\", \"music\", \"white\", \"bang\", \"africa\", \"place\", \"ass\", \"high\", \"country\", \"hip_hop\", \"american\", \"kids\", \"problem\", \"cold\", \"chicago\", \"diggs_family\", \"day_star\", \"chi_town\", \"hot\", \"rise\", \"heat\", \"fame\", \"classic\", \"carolina\", \"dad\", \"theodore\", \"bob_boss\", \"coming_coming\", \"pimp_baby\", \"ave\", \"stardom\", \"bail\", \"nervous\", \"stars\", \"housing\", \"slang\", \"beware\", \"fork\", \"baddest\", \"stick\", \"martin\", \"easy\", \"extort\", \"bring\", \"game\", \"pretty\", \"walk\", \"problem\", \"dog\", \"philly\", \"dirty\", \"shit\", \"real\", \"king\", \"born\", \"wu_tang\", \"bitches\", \"turn\", \"music\", \"embed\", \"streets\", \"word\", \"bitch\", \"left\", \"home\", \"big\", \"love\", \"world\", \"hell\", \"straight\", \"south\", \"good\", \"cats\", \"goin\", \"run\", \"live\", \"time\", \"people\", \"thing\", \"black\", \"poppin\", \"kick\", \"muthafucka\", \"projects\", \"whip\", \"bigger\", \"brooklyns_brooklyns\", \"holla\", \"tooken\", \"brooklyns\", \"cut_scratched\", \"fat_joe\", \"quick\", \"mcs\", \"pun\", \"joe\", \"scratch\", \"bound\", \"dot\", \"bu\", \"boogie\", \"pump\", \"broadway\", \"sonny\", \"palm\", \"creating_krs\", \"brook_lawn\", \"ego_trip\", \"styles\", \"flash\", \"style\", \"boy\", \"rep\", \"heart\", \"uptown\", \"star\", \"place\", \"baby\", \"wild\", \"lookin\", \"son\", \"gettin\", \"neck\", \"big\", \"rock\", \"peace\", \"cuz\", \"shit\", \"crew\", \"people\", \"hold\", \"money\", \"south\", \"night\", \"stay\", \"kid\", \"black\", \"embed\", \"straight\", \"live\", \"house\", \"hit\", \"time\", \"real\", \"run\", \"streets\", \"hip_hop\", \"hate_hate\", \"americas_wanted\", \"americas_nightmare\", \"hate\", \"dance\", \"god_bless\", \"bury\", \"havent\", \"social\", \"americaaaaaa\", \"media\", \"homeland_security\", \"wealth\", \"false_claims\", \"prolifically\", \"rocked\", \"land\", \"fred\", \"deported\", \"kruger\", \"democracy\", \"spic\", \"makes\", \"quality\", \"wider\", \"majority\", \"blogs\", \"spiritually\", \"fear\", \"verse\", \"americas\", \"freedom\", \"justice\", \"black\", \"africa\", \"love\", \"kids\", \"american\", \"wearing\", \"ive\", \"dem\", \"nation\", \"chains\", \"million\", \"white\", \"theyre\", \"free\", \"state\", \"people\", \"hip_hop\", \"country\", \"feel\", \"don\", \"ass\", \"music\", \"time\", \"drug\", \"world\", \"class\", \"family\", \"shout\", \"fuckin\", \"home\", \"bitch\", \"embed\", \"streets\", \"live\", \"bed_stuy\", \"mothafucka\", \"mr_mothafucka\", \"na_chill\", \"mid\", \"puff_thug\", \"worthy\", \"thang\", \"stubs\", \"br_br\", \"dug\", \"souullllllll\", \"bushwick\", \"saukrates\", \"downhill\", \"months\", \"bringin\", \"underground\", \"boyz\", \"tha\", \"wear\", \"ness\", \"dunn\", \"mercy\", \"whassup\", \"mix\", \"hershey\", \"mouth\", \"mansion\", \"doc\", \"bang\", \"weed\", \"grill\", \"dogs\", \"street\", \"north\", \"block\", \"found\", \"big\", \"stoppin\", \"rock\", \"lot\", \"whos\", \"high\", \"pop\", \"compton\", \"care\", \"feel\", \"speak\", \"die\", \"hey\", \"black\", \"dirty\", \"style\", \"ass\", \"shit\", \"run\", \"straight\", \"love\", \"walk\", \"place\", \"shout\", \"south\", \"cats\", \"team\", \"check\"], \"Freq\": [43.0, 22.0, 44.0, 21.0, 12.0, 9.0, 16.0, 6.0, 29.0, 9.0, 10.0, 12.0, 5.0, 12.0, 7.0, 4.0, 5.0, 27.0, 14.0, 16.0, 3.0, 6.0, 13.0, 13.0, 12.0, 9.0, 16.0, 7.0, 9.0, 12.0, 5.018311373086924, 5.716036768675034, 4.938041752442849, 4.93028461286383, 4.209289339794296, 8.96578505048231, 4.1864566651595325, 4.173740278719381, 4.158022296942425, 4.152244900218414, 4.138275216076228, 3.428817782642801, 3.429838864496784, 4.136697484064363, 3.4274678995880374, 3.425824664211954, 3.4214765252075816, 3.421498616538259, 3.421833582761553, 3.419470067255012, 3.415413482440393, 3.4143030077599477, 3.4108793652568297, 3.4074500714830736, 4.107381003875789, 4.105695897721793, 7.339088374797788, 3.395493780943787, 3.394106650877998, 3.387456132840354, 14.439382822521877, 10.458119170475747, 6.482989715831662, 19.630979107194047, 9.907114118209272, 8.093292569146064, 4.988268704621315, 8.947874632573592, 36.148371133590544, 20.63457901233366, 10.278710850277857, 10.377689259246292, 4.947035492787923, 6.5671186405698885, 8.893489886460893, 9.74699204344461, 18.18226663150654, 14.97462185721097, 7.432150930911571, 11.982910079001142, 7.173672600700574, 10.402452099680007, 18.99378498516571, 12.190935406208137, 12.099886243697252, 8.930043332453813, 12.009652919165802, 11.74613827931224, 9.02513777723804, 8.796692867958878, 7.382814824486466, 9.387600000947465, 9.467626103202212, 9.573014080578346, 9.582115708817426, 8.07473636512894, 8.668443959594791, 5.228280652611263, 4.5175823027064235, 4.505079144932831, 3.791846256877746, 3.790327708519853, 3.788708890063547, 3.7884866045441736, 3.787692900271194, 3.78530816323183, 3.7836941770694237, 3.0737502690496314, 3.0730743519404498, 3.07156446144246, 3.0715044604598756, 3.0711144540730766, 3.0706108887796413, 3.0690587157100313, 3.067554462888258, 3.064616830888568, 3.063407347994659, 6.6945580873941255, 6.688262816516656, 2.3514026679723434, 2.3512432022736625, 2.3498790859749716, 2.3496330416772597, 2.34974096290768, 2.3489617555163984, 2.348785578134649, 2.3491894773664086, 10.29225123190748, 8.131928337379497, 9.181284313725842, 5.23532815057241, 10.338389974059147, 4.520071336755783, 9.579069888320655, 10.305320170758462, 9.15446669334869, 7.415603586611099, 5.4305016823318955, 6.927774658259117, 6.2151748007048555, 20.37471003493625, 11.403074792036769, 7.55377819837113, 5.979112411424264, 23.886357340820734, 9.164689411092914, 12.832504375071917, 8.484317732318521, 8.430142885412119, 10.185050013278103, 7.0073182427551615, 7.602767993923455, 7.798715900780323, 12.98966265341582, 10.970123003971239, 9.210292574004063, 8.587995403312906, 7.0003283296296495, 7.748630785277462, 8.49899179812643, 9.519660056356546, 7.923187737806229, 8.030132844858938, 7.018567017570695, 2.3599399233079477, 2.3580621016343866, 2.358203084400576, 4.028372445152606, 1.80471609173462, 1.804572358085188, 1.804338533009557, 1.8042787012990278, 1.8043283891275994, 1.8041399536254732, 1.8040839043794028, 1.804041093758938, 1.8036934508891393, 1.8038125985195896, 1.8033026535384706, 1.8030041827066356, 4.025294206804004, 1.2497889257259995, 1.2496562815746397, 1.249706399228718, 1.2495740989377635, 1.2495183935520984, 1.2495325777938187, 1.2494895092780498, 1.2493830844825973, 1.2494314828346489, 1.2492153665698926, 1.2495875094935718, 1.2492343648572877, 1.2491601769748357, 4.579021214032887, 2.3601581027351357, 2.3596856385381986, 19.049075576895035, 3.4723443240911886, 8.486668741055944, 4.034768248691927, 3.4744769463251064, 2.3606905705728045, 1.8054777425324477, 1.8056819956132197, 1.8048324884818276, 1.8033538887388663, 2.917593644435609, 5.145667400550793, 3.4741960123739437, 2.917469166968876, 4.033305810388017, 6.825739769046408, 4.591386434208908, 3.473829801042257, 3.4823974269017044, 3.4817434044107483, 3.4795014345679323, 3.480041295404316, 4.050044934919961, 2.363064926671676, 4.0434658537845936, 2.3621162158133435, 2.92426247313677, 2.9311111408299237, 2.9254983074335614, 2.9386234591053833, 2.9300943456113338, 2.962329195449512, 2.392201594257742, 2.385471042613823, 2.2787314188214944, 1.8436285158128918, 1.4109828500882737, 1.4095304172264442, 1.4095275539315208, 1.4089485320692554, 1.4087624178992413, 0.9773655729530186, 0.9771554919440171, 0.9769565459708285, 0.9768968409692798, 0.9768358633922097, 0.9769359726665647, 0.9767566455659986, 0.9766912139746035, 0.9765793333766748, 0.9765732886429479, 0.976502872797427, 0.976319303778456, 0.9762883377741004, 0.9761460214116168, 0.9758338162170179, 0.9757898063135674, 0.9756752745166357, 0.9757225719068501, 0.9755444113338453, 0.9755804676402867, 0.9754712382413612, 0.9752869268866693, 0.9751069634983425, 2.2869350769206043, 2.2860794819783408, 1.413577525528576, 1.4104649118510384, 2.7189424399732487, 2.2837568195557507, 1.8478186828132281, 1.4181805372376668, 4.489114503152587, 1.4123363402033093, 3.1750468689084714, 1.850272844706369, 1.4115299515145425, 2.2920559208189704, 1.849456699605271, 1.4114578389016597, 1.4098505760180522, 1.8564433513140217, 1.413683467440738, 1.8571994732696908, 1.859820130460223, 2.7669526845755534, 1.8527123719810132, 1.8569139921610427, 1.8594763229735078, 2.374130254883869, 1.8697190712498413, 1.8796326466579563, 1.8682244312998832, 1.8619756612976608, 1.4291280802569704, 1.427245198725006, 1.426228092739477, 1.4257306217585453, 1.4233669187753883, 1.4208259036029076], \"Total\": [43.0, 22.0, 44.0, 21.0, 12.0, 9.0, 16.0, 6.0, 29.0, 9.0, 10.0, 12.0, 5.0, 12.0, 7.0, 4.0, 5.0, 27.0, 14.0, 16.0, 3.0, 6.0, 13.0, 13.0, 12.0, 9.0, 16.0, 7.0, 9.0, 12.0, 5.514102739994417, 6.3171616920889075, 5.505865956624065, 5.504341454857703, 4.699410828078414, 10.012911064276722, 4.698125820400897, 4.696760232220303, 4.69490766902253, 4.694311453743139, 4.692845416197752, 3.8886567372369942, 3.8899992478741146, 4.692781616813676, 3.888951319708108, 3.888605488339119, 3.8878029403643986, 3.888054014420871, 3.8886739171494127, 3.88721189076188, 3.8875148646060165, 3.887452644995624, 3.887160305165253, 3.8861416573410192, 4.689217162792462, 4.689211002938428, 8.383903034303746, 3.885768878190193, 3.8853842471750935, 3.8844570942701693, 16.567049812753726, 12.500451499438881, 7.851562378260827, 27.00760345119398, 12.635735811936138, 10.205328029653947, 5.947501316033146, 12.046650274229668, 64.28804673217665, 33.11801167471122, 14.46266150014049, 14.808074266804706, 6.06507305359434, 8.584860320422155, 12.617546146189055, 14.173127765614295, 32.68288917660142, 25.965019374490122, 10.278464019103977, 19.662699431462364, 10.103323954975393, 18.04111781387323, 44.06703918602477, 22.9485178744024, 22.967182839324423, 14.585657803164528, 23.260716788721123, 24.646495574655862, 15.608452428737872, 15.219858849456855, 11.289471402601212, 20.461657438033455, 21.00692824896099, 22.69199491747987, 29.832045697479156, 15.672095415924806, 43.474134874481194, 5.7098132107833965, 4.988217859361923, 4.984676107270177, 4.262104201855204, 4.261657223257498, 4.260603005114109, 4.261280517449579, 4.260726231223931, 4.259412859846504, 4.259125493383999, 3.5371436280553685, 3.5371480260467547, 3.5365372162479427, 3.5369517646629562, 3.5366008409725276, 3.5372019654368256, 3.5357792596274265, 3.5354488631525043, 3.534929467606265, 3.534515973357446, 7.9773384938831455, 7.974332568813167, 2.8119326351791636, 2.811914907033242, 2.811285228356191, 2.8111147661620772, 2.8113116535172114, 2.810971688219309, 2.810784392160483, 2.8114229431364413, 12.542529242334226, 9.864999681415835, 11.75202586605193, 6.52480816763067, 14.481578179670425, 5.7986727474695785, 13.865385660520609, 15.2198104246059, 13.818183594715597, 10.69417680497402, 7.317536609501503, 10.014856034445742, 8.851269558819144, 44.06703918602477, 21.042734731479914, 11.990325313066013, 8.881190043474096, 64.28804673217665, 17.071875579500446, 29.832045697479156, 15.52818738482138, 17.163495004791862, 24.646495574655862, 12.75140065664436, 15.187234916374617, 16.292737164306317, 43.474134874481194, 32.68288917660142, 23.260716788721123, 21.00692824896099, 13.263591394753718, 17.286763369170618, 22.69199491747987, 33.11801167471122, 20.461657438033455, 25.965019374490122, 16.542395082253776, 2.8667245248053765, 2.8674786814255206, 2.8679653775735896, 4.9808281546177255, 2.308656234751136, 2.308859613001739, 2.3086852989322044, 2.3088722763422798, 2.309020538124356, 2.308871053675017, 2.3088646602837577, 2.308963584869403, 2.3088188935709804, 2.309266889555389, 2.30903673920315, 2.3089079552391047, 5.355797921037182, 1.7502452940078703, 1.7501934930612175, 1.750463047532123, 1.7504658091348435, 1.750437827034637, 1.7505240348070774, 1.75048594188907, 1.750396692175638, 1.750587326283153, 1.7503080227693464, 1.7508676337555007, 1.7503969519888822, 1.7503403208981019, 6.728198739141933, 3.593006576145099, 3.680963639234449, 43.474134874481194, 6.415160924791763, 22.9485178744024, 9.509117036705257, 7.668725778044333, 4.490903589296977, 3.03322784706365, 3.0341960036281077, 3.033236631618683, 3.0341296060899574, 6.327608894986977, 16.214000318065967, 8.652833106304481, 6.5911532723616775, 11.286463048167873, 29.832045697479156, 16.542395082253776, 9.301537023636065, 10.896995533798902, 13.273196922868502, 13.50631145438536, 14.173127765614295, 22.69199491747987, 4.9253930488210385, 22.967182839324423, 5.210260009580886, 9.998964709238406, 12.16532349205672, 13.157593965161384, 18.04111781387323, 19.662699431462364, 32.68288917660142, 25.965019374490122, 21.00692824896099, 2.817415339045834, 2.3811481820968514, 1.9435094736777279, 1.9451501095680137, 1.945525261251928, 1.9452799371826224, 1.945855292295813, 1.5067091291941472, 1.5071747465116037, 1.5071974003046296, 1.5072173350466662, 1.507124131199802, 1.507297561031771, 1.5071807147579217, 1.5072099397121148, 1.5072092751279302, 1.5072977582450768, 1.5077872500837612, 1.5076686608867078, 1.5078979972587003, 1.5079022517190817, 1.5080066027831305, 1.50838145362678, 1.508234273544614, 1.508335619502827, 1.5081425934758885, 1.5084172863924783, 1.508325192896447, 1.5085297922514473, 1.5086975662167987, 3.6254425389652125, 5.0790791846103165, 2.6678223248052055, 2.756112352431354, 9.6642558268469, 9.133852457762565, 5.851518833332207, 3.39180412423778, 44.06703918602477, 3.3954813274948905, 21.042734731479914, 6.271179902242601, 3.4831107936626142, 12.091861080357454, 7.261247301135322, 4.1260878700165815, 4.1267953541612945, 10.896995533798902, 4.688499905706692, 11.010104484867313, 11.552390638188323, 43.474134874481194, 12.046650274229668, 12.542529242334226, 13.50631145438536, 64.28804673217665, 20.461657438033455, 23.260716788721123, 22.9485178744024, 27.00760345119398, 13.865385660520609, 12.16532349205672, 24.646495574655862, 15.219858849456855, 8.628943329088601, 8.010237941340918], \"Category\": [\"Default\", \"Default\", \"Default\", \"Default\", \"Default\", \"Default\", \"Default\", \"Default\", \"Default\", \"Default\", \"Default\", \"Default\", \"Default\", \"Default\", \"Default\", \"Default\", \"Default\", \"Default\", \"Default\", \"Default\", \"Default\", \"Default\", \"Default\", \"Default\", \"Default\", \"Default\", \"Default\", \"Default\", \"Default\", \"Default\", \"Topic1\", \"Topic1\", \"Topic1\", \"Topic1\", \"Topic1\", \"Topic1\", \"Topic1\", \"Topic1\", \"Topic1\", \"Topic1\", \"Topic1\", \"Topic1\", \"Topic1\", \"Topic1\", \"Topic1\", \"Topic1\", \"Topic1\", \"Topic1\", \"Topic1\", \"Topic1\", \"Topic1\", \"Topic1\", \"Topic1\", \"Topic1\", \"Topic1\", \"Topic1\", \"Topic1\", \"Topic1\", \"Topic1\", \"Topic1\", \"Topic1\", \"Topic1\", \"Topic1\", \"Topic1\", \"Topic1\", \"Topic1\", \"Topic1\", \"Topic1\", \"Topic1\", \"Topic1\", \"Topic1\", \"Topic1\", \"Topic1\", \"Topic1\", \"Topic1\", \"Topic1\", \"Topic1\", \"Topic1\", \"Topic1\", \"Topic1\", \"Topic1\", \"Topic1\", \"Topic1\", \"Topic1\", \"Topic1\", \"Topic1\", \"Topic1\", \"Topic1\", \"Topic1\", \"Topic1\", \"Topic1\", \"Topic1\", \"Topic1\", \"Topic1\", \"Topic1\", \"Topic1\", \"Topic1\", \"Topic2\", \"Topic2\", \"Topic2\", \"Topic2\", \"Topic2\", \"Topic2\", \"Topic2\", \"Topic2\", \"Topic2\", \"Topic2\", \"Topic2\", \"Topic2\", \"Topic2\", \"Topic2\", \"Topic2\", \"Topic2\", \"Topic2\", \"Topic2\", \"Topic2\", \"Topic2\", \"Topic2\", \"Topic2\", \"Topic2\", \"Topic2\", \"Topic2\", \"Topic2\", \"Topic2\", \"Topic2\", \"Topic2\", \"Topic2\", \"Topic2\", \"Topic2\", \"Topic2\", \"Topic2\", \"Topic2\", \"Topic2\", \"Topic2\", \"Topic2\", \"Topic2\", \"Topic2\", \"Topic2\", \"Topic2\", \"Topic2\", \"Topic2\", \"Topic2\", \"Topic2\", \"Topic2\", \"Topic2\", \"Topic2\", \"Topic2\", \"Topic2\", \"Topic2\", \"Topic2\", \"Topic2\", \"Topic2\", \"Topic2\", \"Topic2\", \"Topic2\", \"Topic2\", \"Topic2\", \"Topic2\", \"Topic2\", \"Topic2\", \"Topic2\", \"Topic2\", \"Topic2\", \"Topic2\", \"Topic3\", \"Topic3\", \"Topic3\", \"Topic3\", \"Topic3\", \"Topic3\", \"Topic3\", \"Topic3\", \"Topic3\", \"Topic3\", \"Topic3\", \"Topic3\", \"Topic3\", \"Topic3\", \"Topic3\", \"Topic3\", \"Topic3\", \"Topic3\", \"Topic3\", \"Topic3\", \"Topic3\", \"Topic3\", \"Topic3\", \"Topic3\", \"Topic3\", \"Topic3\", \"Topic3\", \"Topic3\", \"Topic3\", \"Topic3\", \"Topic3\", \"Topic3\", \"Topic3\", \"Topic3\", \"Topic3\", \"Topic3\", \"Topic3\", \"Topic3\", \"Topic3\", \"Topic3\", \"Topic3\", \"Topic3\", \"Topic3\", \"Topic3\", \"Topic3\", \"Topic3\", \"Topic3\", \"Topic3\", \"Topic3\", \"Topic3\", \"Topic3\", \"Topic3\", \"Topic3\", \"Topic3\", \"Topic3\", \"Topic3\", \"Topic3\", \"Topic3\", \"Topic3\", \"Topic3\", \"Topic3\", \"Topic3\", \"Topic3\", \"Topic3\", \"Topic3\", \"Topic3\", \"Topic3\", \"Topic4\", \"Topic4\", \"Topic4\", \"Topic4\", \"Topic4\", \"Topic4\", \"Topic4\", \"Topic4\", \"Topic4\", \"Topic4\", \"Topic4\", \"Topic4\", \"Topic4\", \"Topic4\", \"Topic4\", \"Topic4\", \"Topic4\", \"Topic4\", \"Topic4\", \"Topic4\", \"Topic4\", \"Topic4\", \"Topic4\", \"Topic4\", \"Topic4\", \"Topic4\", \"Topic4\", \"Topic4\", \"Topic4\", \"Topic4\", \"Topic4\", \"Topic4\", \"Topic4\", \"Topic4\", \"Topic4\", \"Topic4\", \"Topic4\", \"Topic4\", \"Topic4\", \"Topic4\", \"Topic4\", \"Topic4\", \"Topic4\", \"Topic4\", \"Topic4\", \"Topic4\", \"Topic4\", \"Topic4\", \"Topic4\", \"Topic4\", \"Topic4\", \"Topic4\", \"Topic4\", \"Topic4\", \"Topic4\", \"Topic4\", \"Topic4\", \"Topic4\", \"Topic4\", \"Topic4\", \"Topic4\", \"Topic4\", \"Topic4\", \"Topic4\", \"Topic4\", \"Topic4\"], \"logprob\": [30.0, 29.0, 28.0, 27.0, 26.0, 25.0, 24.0, 23.0, 22.0, 21.0, 20.0, 19.0, 18.0, 17.0, 16.0, 15.0, 14.0, 13.0, 12.0, 11.0, 10.0, 9.0, 8.0, 7.0, 6.0, 5.0, 4.0, 3.0, 2.0, 1.0, -6.7792, -6.6491, -6.7954, -6.7969, -6.955, -6.1989, -6.9605, -6.9635, -6.9673, -6.9687, -6.9721, -7.1601, -7.1598, -6.9724, -7.1605, -7.161, -7.1623, -7.1623, -7.1622, -7.1628, -7.164, -7.1644, -7.1654, -7.1664, -6.9795, -6.98, -6.3991, -7.1699, -7.1703, -7.1723, -5.7224, -6.045, -6.5231, -5.4152, -6.0991, -6.3013, -6.7852, -6.2009, -4.8047, -5.3654, -6.0623, -6.0527, -6.7935, -6.5103, -6.207, -6.1154, -5.4919, -5.686, -6.3865, -5.9089, -6.4219, -6.0503, -5.4482, -5.8916, -5.8991, -6.2029, -5.9066, -5.9288, -6.1923, -6.218, -6.3932, -6.1529, -6.1445, -6.1334, -6.1324, -6.3036, -6.2326, -6.4947, -6.6408, -6.6436, -6.8159, -6.8163, -6.8167, -6.8168, -6.817, -6.8176, -6.8181, -7.0259, -7.0261, -7.0266, -7.0266, -7.0267, -7.0269, -7.0274, -7.0279, -7.0288, -7.0292, -6.2475, -6.2484, -7.2937, -7.2938, -7.2944, -7.2945, -7.2945, -7.2948, -7.2949, -7.2947, -5.8174, -6.053, -5.9316, -6.4933, -5.8129, -6.6402, -5.8892, -5.8161, -5.9345, -6.1452, -6.4567, -6.2132, -6.3218, -5.1345, -5.7149, -6.1267, -6.3605, -4.9755, -5.9334, -5.5968, -6.0105, -6.0169, -5.8278, -6.2018, -6.1202, -6.0948, -5.5846, -5.7536, -5.9284, -5.9984, -6.2028, -6.1012, -6.0088, -5.8954, -6.079, -6.0656, -6.2002, -6.439, -6.4398, -6.4398, -5.9043, -6.7073, -6.7074, -6.7075, -6.7075, -6.7075, -6.7076, -6.7076, -6.7077, -6.7078, -6.7078, -6.7081, -6.7082, -5.9051, -7.0747, -7.0748, -7.0748, -7.0749, -7.0749, -7.0749, -7.0749, -7.075, -7.075, -7.0752, -7.0749, -7.0751, -7.0752, -5.7762, -6.439, -6.4392, -4.3507, -6.0528, -5.1592, -5.9027, -6.0522, -6.4387, -6.7069, -6.7067, -6.7072, -6.708, -6.2269, -5.6595, -6.0523, -6.227, -5.9031, -5.377, -5.7735, -6.0524, -6.05, -6.0501, -6.0508, -6.0506, -5.899, -6.4377, -5.9006, -6.4381, -6.2246, -6.2223, -6.2242, -6.2197, -6.2226, -6.2117, -6.4255, -6.4283, -5.9909, -6.2027, -6.4702, -6.4712, -6.4712, -6.4716, -6.4718, -6.8374, -6.8376, -6.8378, -6.8379, -6.8379, -6.8378, -6.838, -6.8381, -6.8382, -6.8382, -6.8383, -6.8384, -6.8385, -6.8386, -6.8389, -6.839, -6.8391, -6.8391, -6.8392, -6.8392, -6.8393, -6.8395, -6.8397, -5.9873, -5.9876, -6.4684, -6.4706, -5.8142, -5.9887, -6.2005, -6.4651, -5.3128, -6.4692, -5.6592, -6.1991, -6.4698, -5.985, -6.1996, -6.4699, -6.471, -6.1958, -6.4683, -6.1954, -6.194, -5.7967, -6.1978, -6.1956, -6.1942, -5.9499, -6.1887, -6.1834, -6.1895, -6.1928, -6.4574, -6.4587, -6.4594, -6.4598, -6.4615, -6.4632], \"loglift\": [30.0, 29.0, 28.0, 27.0, 26.0, 25.0, 24.0, 23.0, 22.0, 21.0, 20.0, 19.0, 18.0, 17.0, 16.0, 15.0, 14.0, 13.0, 12.0, 11.0, 10.0, 9.0, 8.0, 7.0, 6.0, 5.0, 4.0, 3.0, 2.0, 1.0, 0.7495, 0.7437, 0.7348, 0.7335, 0.7335, 0.7332, 0.7284, 0.7256, 0.7222, 0.721, 0.7179, 0.7178, 0.7178, 0.7175, 0.7174, 0.717, 0.7159, 0.7158, 0.7158, 0.7155, 0.7142, 0.7139, 0.713, 0.7122, 0.7112, 0.7108, 0.7106, 0.7088, 0.7085, 0.7068, 0.7062, 0.6653, 0.6521, 0.5247, 0.6004, 0.6118, 0.6678, 0.5463, 0.2679, 0.3706, 0.5022, 0.4882, 0.6399, 0.5758, 0.4939, 0.4693, 0.2573, 0.2933, 0.5194, 0.3484, 0.5012, 0.2931, 0.0021, 0.2111, 0.2028, 0.3531, 0.1826, 0.1026, 0.2959, 0.2955, 0.419, 0.0645, 0.0467, -0.0194, -0.292, 0.1805, -0.7688, 0.9991, 0.9881, 0.9861, 0.9703, 0.97, 0.9699, 0.9696, 0.9696, 0.9692, 0.9689, 0.9468, 0.9466, 0.9463, 0.9461, 0.9461, 0.9458, 0.9457, 0.9453, 0.9445, 0.9442, 0.9119, 0.9114, 0.9084, 0.9083, 0.908, 0.9079, 0.9079, 0.9077, 0.9077, 0.9076, 0.8895, 0.8941, 0.8404, 0.8671, 0.7502, 0.8381, 0.7174, 0.6973, 0.6755, 0.7211, 0.789, 0.7187, 0.7337, 0.3158, 0.4746, 0.6252, 0.6916, 0.0972, 0.4652, 0.2436, 0.4828, 0.3763, 0.2035, 0.4886, 0.3953, 0.3505, -0.1208, -0.0044, 0.1608, 0.1928, 0.4482, 0.2848, 0.1052, -0.1595, 0.1385, -0.0863, 0.2299, 1.7438, 1.7427, 1.7426, 1.7261, 1.6921, 1.6919, 1.6918, 1.6917, 1.6917, 1.6917, 1.6916, 1.6916, 1.6914, 1.6913, 1.6911, 1.691, 1.6527, 1.6015, 1.6015, 1.6014, 1.6012, 1.6012, 1.6012, 1.6012, 1.6011, 1.6011, 1.6011, 1.601, 1.601, 1.601, 1.5535, 1.5181, 1.4937, 1.1132, 1.3245, 0.9436, 1.081, 1.1466, 1.2952, 1.4195, 1.4193, 1.4192, 1.4181, 1.1642, 0.7906, 1.0258, 1.1233, 0.9093, 0.4634, 0.6566, 0.9534, 0.7976, 0.6001, 0.5821, 0.534, 0.215, 1.2039, 0.2014, 1.1473, 0.7089, 0.5151, 0.4348, 0.1236, 0.0346, -0.4625, -0.4462, -0.2371, 2.2093, 2.1657, 2.1013, 2.0994, 2.0992, 2.099, 2.0985, 1.9887, 1.9882, 1.988, 1.9879, 1.9879, 1.9879, 1.9878, 1.9877, 1.9876, 1.9875, 1.9871, 1.987, 1.9868, 1.9867, 1.9863, 1.986, 1.986, 1.9859, 1.9859, 1.9857, 1.9857, 1.9854, 1.9851, 1.9608, 1.6232, 1.7864, 1.7516, 1.1533, 1.0354, 1.2688, 1.5495, 0.1375, 1.5443, 0.5303, 1.2009, 1.5183, 0.7584, 1.0539, 1.3488, 1.3475, 0.6517, 1.2226, 0.6418, 0.5951, -0.3329, 0.5494, 0.5113, 0.4387, -0.8772, 0.0288, -0.0942, -0.0867, -0.253, 0.1492, 0.2787, -0.4281, 0.0536, 0.6194, 0.692]}, \"token.table\": {\"Topic\": [1, 3, 3, 1, 3, 4, 1, 3, 3, 3, 1, 2, 3, 4, 1, 1, 2, 3, 4, 1, 1, 1, 4, 4, 1, 1, 2, 4, 2, 1, 2, 3, 4, 1, 2, 1, 2, 3, 4, 1, 2, 3, 4, 3, 1, 1, 2, 1, 2, 2, 1, 2, 4, 4, 4, 1, 2, 4, 4, 2, 2, 2, 2, 2, 3, 4, 1, 3, 4, 1, 1, 2, 4, 2, 3, 1, 2, 4, 1, 1, 1, 2, 3, 1, 1, 1, 1, 3, 4, 1, 3, 4, 2, 1, 2, 4, 2, 1, 2, 1, 3, 1, 2, 3, 3, 3, 1, 2, 3, 4, 1, 1, 2, 4, 4, 1, 2, 1, 4, 1, 2, 3, 2, 4, 1, 3, 4, 4, 4, 1, 2, 1, 2, 3, 4, 1, 3, 1, 1, 2, 3, 4, 2, 3, 1, 2, 3, 4, 2, 1, 2, 4, 3, 1, 2, 3, 2, 3, 1, 2, 3, 4, 1, 4, 1, 2, 4, 3, 1, 2, 4, 1, 2, 3, 2, 4, 3, 4, 3, 3, 1, 2, 1, 1, 2, 3, 4, 4, 1, 2, 3, 4, 1, 2, 3, 4, 1, 2, 3, 4, 1, 2, 3, 4, 1, 2, 4, 2, 1, 2, 3, 4, 3, 1, 4, 1, 2, 4, 1, 2, 3, 2, 1, 3, 2, 1, 2, 3, 1, 2, 3, 4, 1, 2, 3, 3, 1, 3, 1, 2, 1, 2, 3, 4, 1, 2, 3, 4, 1, 2, 4, 1, 3, 4, 3, 3, 4, 1, 2, 3, 4, 4, 2, 3, 4, 1, 2, 4, 4, 4, 4, 4, 1, 3, 4, 2, 4, 2, 3, 1, 2, 1, 4, 1, 2, 3, 4, 1, 2, 4, 2, 1, 2, 3, 1, 2, 3, 4, 1, 4, 1, 1, 2, 3, 4, 1, 4, 2, 1, 2, 1, 3, 2, 3, 4, 1, 2, 2, 3, 2, 1, 2, 3, 4, 1, 2, 1, 1, 2, 4, 3, 1, 2, 3, 4, 4, 2, 1, 2, 3, 4, 1, 2, 3, 4, 1, 3, 1, 2, 2, 1, 2, 3, 4, 4, 1, 3, 4, 3, 3, 1, 2, 1, 1, 1, 2, 3, 4, 1, 2, 1, 4, 2, 4, 1, 2, 4, 1, 2, 4, 1, 2, 3, 4, 4, 2, 4, 2, 1, 2, 4, 4, 4, 1, 1, 2, 3, 4, 1, 2, 3, 1, 2, 3, 4, 2, 1, 2, 4, 4, 1, 2, 4, 3, 1, 2, 4, 3, 4, 1, 3, 1, 2, 4, 4, 2, 1, 2, 3, 4, 1, 2, 4, 3, 1, 2, 4, 1, 2, 4, 1, 2, 3, 4, 4, 1, 3], \"Freq\": [0.46764220495332004, 0.46764220495332004, 0.8662242080676663, 0.39119927962335554, 0.39119927962335554, 0.13039975987445185, 0.2972563798338492, 0.7431409495846231, 0.6973584882297561, 0.6974768506406933, 0.3701972975291157, 0.2221183785174694, 0.2221183785174694, 0.14807891901164627, 0.7716440483268975, 0.19711152217440853, 0.6570384072480284, 0.06570384072480284, 0.06570384072480284, 0.8530219684065093, 0.7714712171595879, 0.2758283959136817, 0.5516567918273634, 0.7098704874224665, 0.7719739177116522, 0.4311612568249327, 0.4538539545525607, 0.09077079091051214, 0.9388342436971244, 0.6102926020828428, 0.2034308673609476, 0.1525731505207107, 0.0508577168402369, 0.8153889217449468, 0.2329682633556991, 0.20701964572693302, 0.29902837716112546, 0.43704147431241414, 0.06900654857564434, 0.3417916026532003, 0.17089580132660015, 0.17089580132660015, 0.3417916026532003, 0.5713280102651845, 0.8523729264682759, 0.1253550918977274, 0.8774856432840918, 0.6753072560162008, 0.2701229024064803, 0.8485485481820679, 0.10136847767809344, 0.8109478214247475, 0.10136847767809344, 0.6632757090088138, 0.6634830977003301, 0.8450508785953219, 0.060360777042522996, 0.060360777042522996, 0.6634389220908047, 0.7112545922966498, 0.7114116990543594, 0.9391599299465309, 0.9386849759409975, 0.848772511600872, 0.8662939036884, 0.6634390088944899, 0.4846375524735629, 0.24231877623678144, 0.24231877623678144, 0.8523613384309788, 0.5913326850807936, 0.3285181583782187, 0.06570363167564373, 0.3295838114472265, 0.659167622894453, 0.37452070986767694, 0.49936094649023594, 0.12484023662255898, 0.8511705288885324, 0.9497936403169647, 0.3838580025415814, 0.1919290012707907, 0.3838580025415814, 0.8520951452444616, 0.9067658394781855, 0.7714161873914046, 0.4847206513786539, 0.24236032568932694, 0.24236032568932694, 0.537545567715802, 0.3225273406294812, 0.1075091135431604, 0.7114615255393981, 0.41003110451469404, 0.5271828486617495, 0.05857587207352772, 0.8481419799312259, 0.3377925689366823, 0.6755851378733646, 0.7714746254850946, 0.8663048096528725, 0.9083738792380676, 0.3295765991400228, 0.6591531982800456, 0.5712765109615272, 0.5713653970058626, 0.3633026376359775, 0.27247697822698314, 0.18165131881798874, 0.18165131881798874, 0.9081223624749778, 0.7470956485931116, 0.08301062762145685, 0.1660212552429137, 0.6628233665860509, 0.7839042485213749, 0.19597606213034371, 0.3628299111673847, 0.3628299111673847, 0.4520387993085938, 0.30135919953906254, 0.2260193996542969, 0.848673227426939, 0.6634775777759304, 0.40605896426453275, 0.40605896426453275, 0.20302948213226638, 0.6634743223471737, 0.6629622749574264, 0.772124404988047, 0.7114977388004067, 0.5507469031497587, 0.33656755192485255, 0.09179115052495979, 0.030597050174986595, 0.7723086977650488, 0.8660757269096198, 0.8519869360567832, 0.30003106193866164, 0.30003106193866164, 0.30003106193866164, 0.10001035397955388, 0.8481409253750992, 0.5712989838469231, 0.09176841422925505, 0.4588420711462753, 0.2753052426877652, 0.1835368284585101, 0.711383537963444, 0.8530208478589572, 0.5896566920560155, 0.2948283460280077, 0.571348486651325, 0.45515555108993383, 0.15171851702997793, 0.45515555108993383, 0.2783184441239988, 0.5566368882479976, 0.45601042378164064, 0.30400694918776044, 0.22800521189082032, 0.07600173729694011, 0.7999711050795948, 0.07999711050795948, 0.19970332005982622, 0.6989616202093918, 0.09985166002991311, 0.8662285003113758, 0.6200467453584343, 0.265734319439329, 0.08857810647977633, 0.5766106563793241, 0.32033925354406895, 0.1281357014176276, 0.3748375559729287, 0.3748375559729287, 0.8030793024432293, 0.20076982561080733, 0.6976603376760734, 0.8662237493571555, 0.1532612107986504, 0.766306053993252, 0.8516508832108463, 0.6170445050512117, 0.20568150168373722, 0.13712100112249148, 0.06856050056124574, 0.6629465261509924, 0.17312433959674736, 0.4328108489918684, 0.17312433959674736, 0.17312433959674736, 0.24810076629753303, 0.4135012771625551, 0.16540051086502203, 0.16540051086502203, 0.24180295417385414, 0.4231551698042448, 0.30225369271731767, 0.060450738543463535, 0.40493410192007767, 0.46278183076580304, 0.11569545769145076, 0.05784772884572538, 0.38639410069619134, 0.5151921342615885, 0.06439901678269856, 0.9388070913091652, 0.5542893795810265, 0.22171575183241063, 0.16628681387430796, 0.05542893795810266, 0.8661894943280891, 0.8988395025408239, 0.09987105583786932, 0.4523661670076206, 0.5277605281755574, 0.07539436116793677, 0.7717135805787744, 0.32968179458330543, 0.6593635891666109, 0.8481279919309092, 0.27166799186529744, 0.5433359837305949, 1.0023619939967066, 0.42963928831647813, 0.49101632950454643, 0.061377041188068304, 0.21032446990398648, 0.31548670485597974, 0.42064893980797297, 0.10516223495199324, 0.691435666934669, 0.2074307000804007, 0.0691435666934669, 0.5712774122309193, 0.18671354198635337, 0.7468541679454135, 0.6928412897769989, 0.29693198133299953, 0.4284300823679513, 0.4284300823679513, 0.09520668497065585, 0.047603342485327924, 0.09350883366122067, 0.6545618356285446, 0.09350883366122067, 0.09350883366122067, 0.47837887714354793, 0.31891925142903194, 0.31891925142903194, 0.5229095868271838, 0.34860639121812254, 0.08715159780453063, 0.5712368557604035, 0.571257509246486, 0.6628970837278076, 0.7720479766149287, 0.8481879877391759, 0.8662266066969042, 0.6630269697093047, 0.5140000080782857, 0.4741127414459415, 0.4741127414459415, 0.6630672751541696, 0.4661055337369508, 0.4661055337369508, 0.05826319171711885, 0.6634778703276764, 0.8399309270365483, 0.66298700353847, 0.5145331234777504, 0.7055605625923445, 0.21166816877770334, 0.07055605625923445, 1.0030742002890565, 0.5140991407712404, 0.3296808397920314, 0.6593616795840628, 0.22595628646370383, 0.6778688593911115, 0.7717613766127913, 0.6631270699706692, 0.3136910295353102, 0.5489593016867929, 0.07842275738382755, 0.07842275738382755, 0.5474141413079935, 0.21896565652319738, 0.21896565652319738, 0.7114183860914873, 0.16680114573877108, 0.6672045829550843, 0.16680114573877108, 0.33520999871775514, 0.43577299833308164, 0.2346469991024286, 0.03352099987177551, 0.8406891792560193, 0.16813783585120384, 0.7714847929408608, 0.07212204726820795, 0.7212204726820794, 0.1442440945364159, 0.07212204726820795, 0.688586931782124, 0.2754347727128496, 0.8756853885442587, 0.764179116326277, 0.1273631860543795, 0.7914062266602366, 0.15828124533204732, 0.9385035678524434, 0.866162051925688, 0.5140648298919459, 0.12540234450603452, 0.8778164115422417, 0.8482721502647813, 0.5712699405748047, 0.8482874112612402, 0.6340960383209091, 0.3019504944385281, 0.06039009888770563, 0.030195049443852814, 0.17018342393011562, 0.7658254076855203, 0.8514033367583747, 0.2851340415855742, 0.522745742906886, 0.1425670207927871, 0.8662103638483436, 0.4398470665074813, 0.39097517022887224, 0.04887189627860903, 0.09774379255721806, 0.6634904429231744, 0.8484692566232535, 0.5599796825368739, 0.37331978835791596, 0.031109982363159663, 0.031109982363159663, 0.16440171124967526, 0.4932051337490258, 0.2466025668745129, 0.08220085562483763, 0.7717716184777882, 0.8661681292902761, 0.2733160224170368, 0.6832900560425919, 0.7112590765095852, 0.48688463492309514, 0.405737195769246, 0.0405737195769246, 0.0405737195769246, 0.6635153530478693, 0.42657567243750266, 0.21328783621875133, 0.21328783621875133, 0.5712856432576467, 0.5711454028395414, 0.17245325672782266, 0.8622662836391133, 0.771594218823334, 0.7717012293158235, 0.4430085828183036, 0.17720343312732142, 0.35440686625464285, 0.08860171656366071, 0.460913394606988, 0.5267581652651291, 0.8349333205976571, 0.11927618865680817, 0.5890181117489917, 0.29450905587449583, 0.5158912388210958, 0.3869184291158218, 0.0859818731368493, 0.6208444920644848, 0.10347408201074745, 0.3104222460322424, 0.5777003199441886, 0.30810683730356725, 0.07702670932589181, 0.038513354662945906, 0.6634930702723933, 0.7972873578199409, 0.15945747156398818, 0.7115451493106942, 0.23177808959040205, 0.5794452239760052, 0.11588904479520103, 0.6631748313333932, 0.6636981090934538, 0.7712083753331059, 0.2311381689013271, 0.2311381689013271, 0.34670725335199065, 0.11556908445066355, 0.5104614148705987, 0.382846061152949, 0.06380767685882484, 0.440684040180923, 0.3525472321447384, 0.1762736160723692, 0.0440684040180923, 0.9390965683810578, 0.7132924180125403, 0.23776413933751342, 0.07925471311250448, 0.6632235416133461, 0.20715974203774762, 0.6905324734591587, 0.06905324734591588, 0.571317467843567, 0.7405321999836982, 0.18513304999592456, 0.07405321999836983, 0.8662437775301901, 0.663172960223351, 0.44534467512652337, 0.44534467512652337, 0.1968860818374351, 0.3937721636748702, 0.3937721636748702, 0.6629824205368942, 0.9386020016275513, 0.3700505663192, 0.24670037754613333, 0.3083754719326667, 0.06167509438653333, 0.28709968164649297, 0.28709968164649297, 0.28709968164649297, 0.5712990686454394, 0.28947364699436295, 0.6513157057373167, 0.07236841174859074, 0.6810356087241743, 0.19458160249262124, 0.09729080124631062, 0.5224846287831868, 0.2612423143915934, 0.17416154292772895, 0.04354038573193224, 0.5139128299824147, 0.8243923784292844, 0.16487847568585687], \"Term\": [\"africa\", \"africa\", \"americaaaaaa\", \"american\", \"american\", \"american\", \"americas\", \"americas\", \"americas_nightmare\", \"americas_wanted\", \"ass\", \"ass\", \"ass\", \"ass\", \"ave\", \"baby\", \"baby\", \"baby\", \"baby\", \"baddest\", \"bail\", \"bang\", \"bang\", \"bed_stuy\", \"beware\", \"big\", \"big\", \"big\", \"bigger\", \"bitch\", \"bitch\", \"bitch\", \"bitch\", \"bitches\", \"bitches\", \"black\", \"black\", \"black\", \"black\", \"block\", \"block\", \"block\", \"block\", \"blogs\", \"bob_boss\", \"boogie\", \"boogie\", \"born\", \"born\", \"bound\", \"boy\", \"boy\", \"boy\", \"boyz\", \"br_br\", \"bring\", \"bring\", \"bring\", \"bringin\", \"broadway\", \"brook_lawn\", \"brooklyns\", \"brooklyns_brooklyns\", \"bu\", \"bury\", \"bushwick\", \"care\", \"care\", \"care\", \"carolina\", \"cats\", \"cats\", \"cats\", \"chains\", \"chains\", \"check\", \"check\", \"check\", \"chi_town\", \"chicago\", \"class\", \"class\", \"class\", \"classic\", \"cold\", \"coming_coming\", \"compton\", \"compton\", \"compton\", \"country\", \"country\", \"country\", \"creating_krs\", \"crew\", \"crew\", \"crew\", \"cut_scratched\", \"cuz\", \"cuz\", \"dad\", \"dance\", \"day_star\", \"dem\", \"dem\", \"democracy\", \"deported\", \"die\", \"die\", \"die\", \"die\", \"diggs_family\", \"dirty\", \"dirty\", \"dirty\", \"doc\", \"dog\", \"dog\", \"dogs\", \"dogs\", \"don\", \"don\", \"don\", \"dot\", \"downhill\", \"drug\", \"drug\", \"drug\", \"dug\", \"dunn\", \"easy\", \"ego_trip\", \"embed\", \"embed\", \"embed\", \"embed\", \"extort\", \"false_claims\", \"fame\", \"family\", \"family\", \"family\", \"family\", \"fat_joe\", \"fear\", \"feel\", \"feel\", \"feel\", \"feel\", \"flash\", \"fork\", \"found\", \"found\", \"fred\", \"free\", \"free\", \"free\", \"freedom\", \"freedom\", \"fuckin\", \"fuckin\", \"fuckin\", \"fuckin\", \"game\", \"game\", \"gettin\", \"gettin\", \"gettin\", \"god_bless\", \"goin\", \"goin\", \"goin\", \"good\", \"good\", \"good\", \"grill\", \"grill\", \"hate\", \"hate\", \"hate_hate\", \"havent\", \"heart\", \"heart\", \"heat\", \"hell\", \"hell\", \"hell\", \"hell\", \"hershey\", \"hey\", \"hey\", \"hey\", \"hey\", \"high\", \"high\", \"high\", \"high\", \"hip_hop\", \"hip_hop\", \"hip_hop\", \"hip_hop\", \"hit\", \"hit\", \"hit\", \"hit\", \"hold\", \"hold\", \"hold\", \"holla\", \"home\", \"home\", \"home\", \"home\", \"homeland_security\", \"hot\", \"hot\", \"house\", \"house\", \"house\", \"housing\", \"ive\", \"ive\", \"joe\", \"justice\", \"justice\", \"kick\", \"kid\", \"kid\", \"kid\", \"kids\", \"kids\", \"kids\", \"kids\", \"king\", \"king\", \"king\", \"kruger\", \"land\", \"land\", \"left\", \"left\", \"live\", \"live\", \"live\", \"live\", \"lookin\", \"lookin\", \"lookin\", \"lookin\", \"lot\", \"lot\", \"lot\", \"love\", \"love\", \"love\", \"majority\", \"makes\", \"mansion\", \"martin\", \"mcs\", \"media\", \"mercy\", \"mid\", \"million\", \"million\", \"mix\", \"money\", \"money\", \"money\", \"months\", \"mothafucka\", \"mouth\", \"mr_mothafucka\", \"music\", \"music\", \"music\", \"muthafucka\", \"na_chill\", \"nation\", \"nation\", \"neck\", \"neck\", \"nervous\", \"ness\", \"night\", \"night\", \"night\", \"night\", \"north\", \"north\", \"north\", \"palm\", \"peace\", \"peace\", \"peace\", \"people\", \"people\", \"people\", \"people\", \"philly\", \"philly\", \"pimp_baby\", \"place\", \"place\", \"place\", \"place\", \"pop\", \"pop\", \"poppin\", \"pretty\", \"pretty\", \"problem\", \"problem\", \"projects\", \"prolifically\", \"puff_thug\", \"pump\", \"pump\", \"pun\", \"quality\", \"quick\", \"real\", \"real\", \"real\", \"real\", \"rep\", \"rep\", \"rise\", \"rock\", \"rock\", \"rock\", \"rocked\", \"run\", \"run\", \"run\", \"run\", \"saukrates\", \"scratch\", \"shit\", \"shit\", \"shit\", \"shit\", \"shout\", \"shout\", \"shout\", \"shout\", \"slang\", \"social\", \"son\", \"son\", \"sonny\", \"south\", \"south\", \"south\", \"south\", \"souullllllll\", \"speak\", \"speak\", \"speak\", \"spic\", \"spiritually\", \"star\", \"star\", \"stardom\", \"stars\", \"state\", \"state\", \"state\", \"state\", \"stay\", \"stay\", \"stick\", \"stick\", \"stoppin\", \"stoppin\", \"straight\", \"straight\", \"straight\", \"street\", \"street\", \"street\", \"streets\", \"streets\", \"streets\", \"streets\", \"stubs\", \"style\", \"style\", \"styles\", \"team\", \"team\", \"team\", \"tha\", \"thang\", \"theodore\", \"theyre\", \"theyre\", \"theyre\", \"theyre\", \"thing\", \"thing\", \"thing\", \"time\", \"time\", \"time\", \"time\", \"tooken\", \"turn\", \"turn\", \"turn\", \"underground\", \"uptown\", \"uptown\", \"uptown\", \"verse\", \"walk\", \"walk\", \"walk\", \"wealth\", \"wear\", \"wearing\", \"wearing\", \"weed\", \"weed\", \"weed\", \"whassup\", \"whip\", \"white\", \"white\", \"white\", \"white\", \"whos\", \"whos\", \"whos\", \"wider\", \"wild\", \"wild\", \"wild\", \"word\", \"word\", \"word\", \"world\", \"world\", \"world\", \"world\", \"worthy\", \"wu_tang\", \"wu_tang\"]}, \"R\": 30, \"lambda.step\": 0.01, \"plot.opts\": {\"xlab\": \"PC1\", \"ylab\": \"PC2\"}, \"topic.order\": [1, 2, 3, 4]};\n",
       "\n",
       "function LDAvis_load_lib(url, callback){\n",
       "  var s = document.createElement('script');\n",
       "  s.src = url;\n",
       "  s.async = true;\n",
       "  s.onreadystatechange = s.onload = callback;\n",
       "  s.onerror = function(){console.warn(\"failed to load library \" + url);};\n",
       "  document.getElementsByTagName(\"head\")[0].appendChild(s);\n",
       "}\n",
       "\n",
       "if(typeof(LDAvis) !== \"undefined\"){\n",
       "   // already loaded: just create the visualization\n",
       "   !function(LDAvis){\n",
       "       new LDAvis(\"#\" + \"ldavis_el261001407136194724489365793113\", ldavis_el261001407136194724489365793113_data);\n",
       "   }(LDAvis);\n",
       "}else if(typeof define === \"function\" && define.amd){\n",
       "   // require.js is available: use it to load d3/LDAvis\n",
       "   require.config({paths: {d3: \"https://d3js.org/d3.v5\"}});\n",
       "   require([\"d3\"], function(d3){\n",
       "      window.d3 = d3;\n",
       "      LDAvis_load_lib(\"https://cdn.jsdelivr.net/gh/bmabey/pyLDAvis@3.3.1/pyLDAvis/js/ldavis.v3.0.0.js\", function(){\n",
       "        new LDAvis(\"#\" + \"ldavis_el261001407136194724489365793113\", ldavis_el261001407136194724489365793113_data);\n",
       "      });\n",
       "    });\n",
       "}else{\n",
       "    // require.js not available: dynamically load d3 & LDAvis\n",
       "    LDAvis_load_lib(\"https://d3js.org/d3.v5.js\", function(){\n",
       "         LDAvis_load_lib(\"https://cdn.jsdelivr.net/gh/bmabey/pyLDAvis@3.3.1/pyLDAvis/js/ldavis.v3.0.0.js\", function(){\n",
       "                 new LDAvis(\"#\" + \"ldavis_el261001407136194724489365793113\", ldavis_el261001407136194724489365793113_data);\n",
       "            })\n",
       "         });\n",
       "}\n",
       "</script>"
      ],
      "text/plain": [
       "PreparedData(topic_coordinates=              x         y  topics  cluster       Freq\n",
       "topic                                                \n",
       "0     -0.093668 -0.058198       1        1  43.012622\n",
       "1     -0.044784  0.109815       2        1  33.714335\n",
       "2      0.090669 -0.087409       3        1  14.394437\n",
       "3      0.047783  0.035793       4        1   8.878607, topic_info=       Term       Freq      Total Category  logprob  loglift\n",
       "43    black  43.000000  43.000000  Default  30.0000  30.0000\n",
       "414    love  22.000000  22.000000  Default  29.0000  29.0000\n",
       "38      big  44.000000  44.000000  Default  28.0000  28.0000\n",
       "588    rock  21.000000  21.000000  Default  27.0000  27.0000\n",
       "686   style  12.000000  12.000000  Default  26.0000  26.0000\n",
       "...     ...        ...        ...      ...      ...      ...\n",
       "630   shout   1.427245  12.165323   Topic4  -6.4587   0.2787\n",
       "647   south   1.426228  24.646496   Topic4  -6.4594  -0.4281\n",
       "98     cats   1.425731  15.219859   Topic4  -6.4598   0.0536\n",
       "2213   team   1.423367   8.628943   Topic4  -6.4615   0.6194\n",
       "106   check   1.420826   8.010238   Topic4  -6.4632   0.6920\n",
       "\n",
       "[297 rows x 6 columns], token_table=      Topic      Freq          Term\n",
       "term                               \n",
       "807       1  0.467642        africa\n",
       "807       3  0.467642        africa\n",
       "3854      3  0.866224  americaaaaaa\n",
       "826       1  0.391199      american\n",
       "826       3  0.391199      american\n",
       "...     ...       ...           ...\n",
       "784       3  0.174162         world\n",
       "784       4  0.043540         world\n",
       "2875      4  0.513913        worthy\n",
       "2373      1  0.824392       wu_tang\n",
       "2373      3  0.164878       wu_tang\n",
       "\n",
       "[447 rows x 3 columns], R=30, lambda_step=0.01, plot_opts={'xlab': 'PC1', 'ylab': 'PC2'}, topic_order=[1, 2, 3, 4])"
      ]
     },
     "execution_count": 82,
     "metadata": {},
     "output_type": "execute_result"
    }
   ],
   "source": [
    "pyLDAvis.enable_notebook()\n",
    "vis = pyLDAvis.gensim_models.prepare(lda_model, corpus, id2word, mds=\"mmds\", R=30)\n",
    "vis"
   ]
  },
  {
   "cell_type": "code",
   "execution_count": null,
   "metadata": {},
   "outputs": [],
   "source": []
  }
 ],
 "metadata": {
  "interpreter": {
   "hash": "2ddbd0b842a978e03471eb3a4ae18fdd24eb8ad76bdab23b363108c4c8f6a59c"
  },
  "kernelspec": {
   "display_name": "Python 3.8.11 64-bit ('ada': conda)",
   "name": "python3"
  },
  "language_info": {
   "codemirror_mode": {
    "name": "ipython",
    "version": 3
   },
   "file_extension": ".py",
   "mimetype": "text/x-python",
   "name": "python",
   "nbconvert_exporter": "python",
   "pygments_lexer": "ipython3",
   "version": "3.8.11"
  },
  "orig_nbformat": 4
 },
 "nbformat": 4,
 "nbformat_minor": 2
}
