{
 "cells": [
  {
   "cell_type": "markdown",
   "metadata": {},
   "source": [
    "## Import"
   ]
  },
  {
   "cell_type": "code",
   "execution_count": 1,
   "metadata": {},
   "outputs": [],
   "source": [
    "import pandas as pd\n",
    "import numpy as np\n",
    "import json\n",
    "import glob\n",
    "import re\n",
    "\n",
    "#Gensim\n",
    "import gensim\n",
    "import gensim.corpora as corpora\n",
    "from gensim.utils import simple_preprocess\n",
    "from gensim.models import CoherenceModel\n",
    "\n",
    "from wordcloud import WordCloud, STOPWORDS\n",
    "\n",
    "#spacy\n",
    "import spacy\n",
    "#from nltk.corpus import STOPWORDS\n",
    "\n",
    "#vis\n",
    "import pyLDAvis\n",
    "import pyLDAvis.gensim_models\n",
    "\n",
    "import warnings\n"
   ]
  },
  {
   "cell_type": "code",
   "execution_count": 2,
   "metadata": {},
   "outputs": [
    {
     "data": {
      "text/html": [
       "<div>\n",
       "<style scoped>\n",
       "    .dataframe tbody tr th:only-of-type {\n",
       "        vertical-align: middle;\n",
       "    }\n",
       "\n",
       "    .dataframe tbody tr th {\n",
       "        vertical-align: top;\n",
       "    }\n",
       "\n",
       "    .dataframe thead th {\n",
       "        text-align: right;\n",
       "    }\n",
       "</style>\n",
       "<table border=\"1\" class=\"dataframe\">\n",
       "  <thead>\n",
       "    <tr style=\"text-align: right;\">\n",
       "      <th></th>\n",
       "      <th>Unnamed: 0</th>\n",
       "      <th>Artist</th>\n",
       "      <th>Song Name</th>\n",
       "      <th>release date</th>\n",
       "      <th>GPE</th>\n",
       "      <th>Line</th>\n",
       "      <th>Line Before</th>\n",
       "      <th>Line After</th>\n",
       "      <th>polarity</th>\n",
       "      <th>pos</th>\n",
       "      <th>neg</th>\n",
       "      <th>neu</th>\n",
       "      <th>compound</th>\n",
       "    </tr>\n",
       "  </thead>\n",
       "  <tbody>\n",
       "    <tr>\n",
       "      <th>1251</th>\n",
       "      <td>6910</td>\n",
       "      <td>Beastie Boys</td>\n",
       "      <td>An Open Letter to NYC</td>\n",
       "      <td>NaN</td>\n",
       "      <td>Brooklyn</td>\n",
       "      <td>Brooklyn, Bronx, Queens, and Staten</td>\n",
       "      <td>Through your gates at Ellis Island we passed i...</td>\n",
       "      <td>From the Battery to the top of Manhattan</td>\n",
       "      <td>{'neg': 0.0, 'neu': 1.0, 'pos': 0.0, 'compound...</td>\n",
       "      <td>0.000</td>\n",
       "      <td>0.0</td>\n",
       "      <td>1.000</td>\n",
       "      <td>0.0000</td>\n",
       "    </tr>\n",
       "    <tr>\n",
       "      <th>89</th>\n",
       "      <td>1030</td>\n",
       "      <td>Redman</td>\n",
       "      <td>Boodah Break</td>\n",
       "      <td>2007-03-27</td>\n",
       "      <td>New York</td>\n",
       "      <td>My foul mouth turn a New York crowd out</td>\n",
       "      <td>Before Mr. T my jewels was too gaudy</td>\n",
       "      <td>Reach out and touch and use nine to dial out</td>\n",
       "      <td>{'neg': 0.0, 'neu': 0.667, 'pos': 0.333, 'comp...</td>\n",
       "      <td>0.333</td>\n",
       "      <td>0.0</td>\n",
       "      <td>0.667</td>\n",
       "      <td>0.4588</td>\n",
       "    </tr>\n",
       "    <tr>\n",
       "      <th>62</th>\n",
       "      <td>973</td>\n",
       "      <td>Redman</td>\n",
       "      <td>All I Do</td>\n",
       "      <td>NaN</td>\n",
       "      <td>East Coast</td>\n",
       "      <td>(Jersey in the buildin\\', New York, East Coast...</td>\n",
       "      <td>It starts when I feel the flow</td>\n",
       "      <td>I\\'m talkin\\' \\'bout music (I\\'m talkin\\' \\'bo...</td>\n",
       "      <td>{'neg': 0.0, 'neu': 1.0, 'pos': 0.0, 'compound...</td>\n",
       "      <td>0.000</td>\n",
       "      <td>0.0</td>\n",
       "      <td>1.000</td>\n",
       "      <td>0.0000</td>\n",
       "    </tr>\n",
       "    <tr>\n",
       "      <th>145</th>\n",
       "      <td>1476</td>\n",
       "      <td>Kurtis Blow</td>\n",
       "      <td>Party Time</td>\n",
       "      <td>1985-01-01</td>\n",
       "      <td>Harlem</td>\n",
       "      <td>A place called Harlem was my home</td>\n",
       "      <td>I'm Kurtis Blow on the microphone</td>\n",
       "      <td>I was rocking one day, it started to shake</td>\n",
       "      <td>{'neg': 0.0, 'neu': 1.0, 'pos': 0.0, 'compound...</td>\n",
       "      <td>0.000</td>\n",
       "      <td>0.0</td>\n",
       "      <td>1.000</td>\n",
       "      <td>0.0000</td>\n",
       "    </tr>\n",
       "    <tr>\n",
       "      <th>672</th>\n",
       "      <td>4355</td>\n",
       "      <td>KRS-One</td>\n",
       "      <td>Beware</td>\n",
       "      <td>2008-02-19</td>\n",
       "      <td>New York</td>\n",
       "      <td>When you advertise in New York</td>\n",
       "      <td>[Hook: KRS-One]</td>\n",
       "      <td>You best to beware, oh yes</td>\n",
       "      <td>{'neg': 0.0, 'neu': 1.0, 'pos': 0.0, 'compound...</td>\n",
       "      <td>0.000</td>\n",
       "      <td>0.0</td>\n",
       "      <td>1.000</td>\n",
       "      <td>0.0000</td>\n",
       "    </tr>\n",
       "  </tbody>\n",
       "</table>\n",
       "</div>"
      ],
      "text/plain": [
       "      Unnamed: 0        Artist              Song Name release date  \\\n",
       "1251        6910  Beastie Boys  An Open Letter to NYC          NaN   \n",
       "89          1030        Redman           Boodah Break   2007-03-27   \n",
       "62           973        Redman               All I Do          NaN   \n",
       "145         1476   Kurtis Blow             Party Time   1985-01-01   \n",
       "672         4355       KRS-One                 Beware   2008-02-19   \n",
       "\n",
       "             GPE                                               Line  \\\n",
       "1251    Brooklyn                Brooklyn, Bronx, Queens, and Staten   \n",
       "89      New York            My foul mouth turn a New York crowd out   \n",
       "62    East Coast  (Jersey in the buildin\\', New York, East Coast...   \n",
       "145       Harlem                  A place called Harlem was my home   \n",
       "672     New York                     When you advertise in New York   \n",
       "\n",
       "                                            Line Before  \\\n",
       "1251  Through your gates at Ellis Island we passed i...   \n",
       "89                 Before Mr. T my jewels was too gaudy   \n",
       "62                       It starts when I feel the flow   \n",
       "145                   I'm Kurtis Blow on the microphone   \n",
       "672                                     [Hook: KRS-One]   \n",
       "\n",
       "                                             Line After  \\\n",
       "1251           From the Battery to the top of Manhattan   \n",
       "89         Reach out and touch and use nine to dial out   \n",
       "62    I\\'m talkin\\' \\'bout music (I\\'m talkin\\' \\'bo...   \n",
       "145          I was rocking one day, it started to shake   \n",
       "672                          You best to beware, oh yes   \n",
       "\n",
       "                                               polarity    pos  neg    neu  \\\n",
       "1251  {'neg': 0.0, 'neu': 1.0, 'pos': 0.0, 'compound...  0.000  0.0  1.000   \n",
       "89    {'neg': 0.0, 'neu': 0.667, 'pos': 0.333, 'comp...  0.333  0.0  0.667   \n",
       "62    {'neg': 0.0, 'neu': 1.0, 'pos': 0.0, 'compound...  0.000  0.0  1.000   \n",
       "145   {'neg': 0.0, 'neu': 1.0, 'pos': 0.0, 'compound...  0.000  0.0  1.000   \n",
       "672   {'neg': 0.0, 'neu': 1.0, 'pos': 0.0, 'compound...  0.000  0.0  1.000   \n",
       "\n",
       "      compound  \n",
       "1251    0.0000  \n",
       "89      0.4588  \n",
       "62      0.0000  \n",
       "145     0.0000  \n",
       "672     0.0000  "
      ]
     },
     "execution_count": 2,
     "metadata": {},
     "output_type": "execute_result"
    }
   ],
   "source": [
    "DATA_PATH = 'data/wordclouds/selected_polarity-2022-05-08 11:43:02.920751.csv'\n",
    "data = pd.read_csv(DATA_PATH)\n",
    "data.sample(5)"
   ]
  },
  {
   "cell_type": "code",
   "execution_count": 3,
   "metadata": {},
   "outputs": [],
   "source": [
    "labels = []\n",
    "for i, row in data.iterrows():\n",
    "    #positive 1\n",
    "    if row.compound >= 0.5:\n",
    "        labels.append(1)\n",
    "    elif row.compound <= -0.5:\n",
    "        labels.append(-1)\n",
    "    else:\n",
    "        labels.append(0)\n",
    "data['labels'] = labels"
   ]
  },
  {
   "cell_type": "code",
   "execution_count": 4,
   "metadata": {},
   "outputs": [
    {
     "data": {
      "text/plain": [
       "0       0\n",
       "1       0\n",
       "2       0\n",
       "3       0\n",
       "4       0\n",
       "       ..\n",
       "1615   -1\n",
       "1616    0\n",
       "1617    0\n",
       "1618    1\n",
       "1619    0\n",
       "Name: labels, Length: 1620, dtype: int64"
      ]
     },
     "execution_count": 4,
     "metadata": {},
     "output_type": "execute_result"
    }
   ],
   "source": [
    "data.labels"
   ]
  },
  {
   "cell_type": "code",
   "execution_count": 5,
   "metadata": {},
   "outputs": [],
   "source": [
    "data['GPE'] = data['GPE'].replace(['NYC'],'New York City')\n",
    "data['GPE'] = data['GPE'].replace(['New York'],'New York City')\n",
    "data['GPE'] = data['GPE'].replace(['South Bronx'],'Bronx')"
   ]
  },
  {
   "cell_type": "code",
   "execution_count": 6,
   "metadata": {},
   "outputs": [
    {
     "data": {
      "text/plain": [
       "array(['Harlem', 'New York City', 'Bronx', 'Jersey', 'West Coast',\n",
       "       'Manhattan', 'Brooklyn', 'Staten Island', 'America', 'East Coast',\n",
       "       'Long Island', 'Queensbridge', 'Brownsville'], dtype=object)"
      ]
     },
     "execution_count": 6,
     "metadata": {},
     "output_type": "execute_result"
    }
   ],
   "source": [
    "data.GPE.unique()"
   ]
  },
  {
   "cell_type": "code",
   "execution_count": 7,
   "metadata": {},
   "outputs": [
    {
     "data": {
      "text/plain": [
       "Index(['Unnamed: 0', 'Artist', 'Song Name', 'release date', 'GPE', 'Line',\n",
       "       'Line Before', 'Line After', 'polarity', 'pos', 'neg', 'neu',\n",
       "       'compound', 'labels'],\n",
       "      dtype='object')"
      ]
     },
     "execution_count": 7,
     "metadata": {},
     "output_type": "execute_result"
    }
   ],
   "source": [
    "data.columns"
   ]
  },
  {
   "cell_type": "markdown",
   "metadata": {},
   "source": [
    "## Dropping duplicated and NA lines"
   ]
  },
  {
   "cell_type": "code",
   "execution_count": 8,
   "metadata": {},
   "outputs": [
    {
     "data": {
      "text/html": [
       "<div>\n",
       "<style scoped>\n",
       "    .dataframe tbody tr th:only-of-type {\n",
       "        vertical-align: middle;\n",
       "    }\n",
       "\n",
       "    .dataframe tbody tr th {\n",
       "        vertical-align: top;\n",
       "    }\n",
       "\n",
       "    .dataframe thead th {\n",
       "        text-align: right;\n",
       "    }\n",
       "</style>\n",
       "<table border=\"1\" class=\"dataframe\">\n",
       "  <thead>\n",
       "    <tr style=\"text-align: right;\">\n",
       "      <th></th>\n",
       "      <th>Artist</th>\n",
       "      <th>Song Name</th>\n",
       "      <th>release date</th>\n",
       "      <th>GPE</th>\n",
       "      <th>Line</th>\n",
       "      <th>labels</th>\n",
       "    </tr>\n",
       "  </thead>\n",
       "  <tbody>\n",
       "    <tr>\n",
       "      <th>174</th>\n",
       "      <td>Cormega</td>\n",
       "      <td>Glory Days</td>\n",
       "      <td>2005-02-22</td>\n",
       "      <td>Brooklyn</td>\n",
       "      <td>Alpo and all them Mob Style niggas doin' it up...</td>\n",
       "      <td>1</td>\n",
       "    </tr>\n",
       "    <tr>\n",
       "      <th>1177</th>\n",
       "      <td>Mos Def</td>\n",
       "      <td>Brooklyn (Alternate Version)</td>\n",
       "      <td>NaN</td>\n",
       "      <td>Brooklyn</td>\n",
       "      <td>Brooklyn my habitat</td>\n",
       "      <td>0</td>\n",
       "    </tr>\n",
       "    <tr>\n",
       "      <th>841</th>\n",
       "      <td>Fat Joe</td>\n",
       "      <td>Another Wild Nigga From the Bronx</td>\n",
       "      <td>NaN</td>\n",
       "      <td>Bronx</td>\n",
       "      <td>I come from the Bronx, a.k.a., West Bubblefuck</td>\n",
       "      <td>0</td>\n",
       "    </tr>\n",
       "    <tr>\n",
       "      <th>585</th>\n",
       "      <td>2Pac</td>\n",
       "      <td>All Out</td>\n",
       "      <td>1993-02-16</td>\n",
       "      <td>West Coast</td>\n",
       "      <td>Just West Coast, slut, to my real niggas stuck...</td>\n",
       "      <td>1</td>\n",
       "    </tr>\n",
       "    <tr>\n",
       "      <th>1305</th>\n",
       "      <td>Nas</td>\n",
       "      <td>Black President</td>\n",
       "      <td>NaN</td>\n",
       "      <td>America</td>\n",
       "      <td>NaN</td>\n",
       "      <td>0</td>\n",
       "    </tr>\n",
       "  </tbody>\n",
       "</table>\n",
       "</div>"
      ],
      "text/plain": [
       "       Artist                          Song Name release date         GPE  \\\n",
       "174   Cormega                         Glory Days   2005-02-22    Brooklyn   \n",
       "1177  Mos Def       Brooklyn (Alternate Version)          NaN    Brooklyn   \n",
       "841   Fat Joe  Another Wild Nigga From the Bronx          NaN       Bronx   \n",
       "585      2Pac                            All Out   1993-02-16  West Coast   \n",
       "1305      Nas                    Black President          NaN     America   \n",
       "\n",
       "                                                   Line  labels  \n",
       "174   Alpo and all them Mob Style niggas doin' it up...       1  \n",
       "1177                                Brooklyn my habitat       0  \n",
       "841      I come from the Bronx, a.k.a., West Bubblefuck       0  \n",
       "585   Just West Coast, slut, to my real niggas stuck...       1  \n",
       "1305                                                NaN       0  "
      ]
     },
     "execution_count": 8,
     "metadata": {},
     "output_type": "execute_result"
    }
   ],
   "source": [
    "df1 = data[['Artist', 'Song Name', 'release date', 'GPE', 'Line Before', 'labels']]\n",
    "df1.columns = ['Artist', 'Song Name', 'release date', 'GPE', 'Line', 'labels']\n",
    "df2 = data[['Artist', 'Song Name', 'release date', 'GPE', 'Line', 'labels']]\n",
    "df3 = data[['Artist', 'Song Name', 'release date', 'GPE', 'Line After', 'labels']]\n",
    "df3.columns = ['Artist', 'Song Name', 'release date', 'GPE', 'Line', 'labels']\n",
    "df_lines = pd.concat([df1, df2, df3])\n",
    "df_lines.sample(5)"
   ]
  },
  {
   "cell_type": "code",
   "execution_count": 9,
   "metadata": {},
   "outputs": [
    {
     "data": {
      "text/plain": [
       "((1620, 14), (4860, 6))"
      ]
     },
     "execution_count": 9,
     "metadata": {},
     "output_type": "execute_result"
    }
   ],
   "source": [
    "data.shape, df_lines.shape"
   ]
  },
  {
   "cell_type": "code",
   "execution_count": 10,
   "metadata": {},
   "outputs": [
    {
     "data": {
      "text/plain": [
       "1522"
      ]
     },
     "execution_count": 10,
     "metadata": {},
     "output_type": "execute_result"
    }
   ],
   "source": [
    "df_lines.duplicated(subset=['Line']).sum()"
   ]
  },
  {
   "cell_type": "code",
   "execution_count": 11,
   "metadata": {},
   "outputs": [
    {
     "data": {
      "text/plain": [
       "(3337, 6)"
      ]
     },
     "execution_count": 11,
     "metadata": {},
     "output_type": "execute_result"
    }
   ],
   "source": [
    "df_lines = df_lines.drop_duplicates(subset=['Line'])\n",
    "df_lines = df_lines.dropna(subset=['Line'])\n",
    "df_lines.shape"
   ]
  },
  {
   "cell_type": "code",
   "execution_count": 12,
   "metadata": {},
   "outputs": [
    {
     "data": {
      "text/plain": [
       "array(['Harlem', 'New York City', 'Bronx', 'Jersey', 'West Coast',\n",
       "       'Manhattan', 'Brooklyn', 'America', 'Long Island', 'Queensbridge',\n",
       "       'Brownsville', 'Staten Island', 'East Coast'], dtype=object)"
      ]
     },
     "execution_count": 12,
     "metadata": {},
     "output_type": "execute_result"
    }
   ],
   "source": [
    "df_lines.GPE.unique()"
   ]
  },
  {
   "cell_type": "code",
   "execution_count": 13,
   "metadata": {},
   "outputs": [
    {
     "data": {
      "text/plain": [
       "array([ 0, -1,  1])"
      ]
     },
     "execution_count": 13,
     "metadata": {},
     "output_type": "execute_result"
    }
   ],
   "source": [
    "df_lines.labels.unique()"
   ]
  },
  {
   "cell_type": "markdown",
   "metadata": {},
   "source": [
    "## Creating corpus by labels"
   ]
  },
  {
   "cell_type": "code",
   "execution_count": 14,
   "metadata": {},
   "outputs": [
    {
     "name": "stderr",
     "output_type": "stream",
     "text": [
      "<>:12: DeprecationWarning: invalid escape sequence \\(\n",
      "<>:12: DeprecationWarning: invalid escape sequence \\(\n",
      "/var/folders/z2/v95s75vx1flf254b1kb3nfdw0000gn/T/ipykernel_42532/3895702062.py:12: DeprecationWarning: invalid escape sequence \\(\n",
      "  line = re.sub(\"[\\(\\[].*?[\\)\\]]\", \"\", line)\n"
     ]
    }
   ],
   "source": [
    "corpus = []\n",
    "i = 0\n",
    "\n",
    "#For each label, creating a corpus of sentences describing it\n",
    "for label in df_lines.labels.unique():\n",
    "    temp = []\n",
    "    for j, row in df_lines[df_lines.labels==label].iterrows():\n",
    "        #Cleaning lyrics\n",
    "        line = row.Line.replace('\\\\n', ' ')\n",
    "        line = line.replace(\"\\'\", '')\n",
    "        line = line.replace(\"\\\\\", '')\n",
    "        line = re.sub(\"[\\(\\[].*?[\\)\\]]\", \"\", line)\n",
    "        line = line.lower()\n",
    "\n",
    "        # Remove words shorter than 3 character\n",
    "        line = ' '.join([w for w in line.split() if len(w)>2])\n",
    "        #appening the cleaned line in a temporary list  \n",
    "        temp.append(line)\n",
    "        i += 1\n",
    "        #if i==5: break\n",
    "\n",
    "    corpus_i = \" \".join(temp)\n",
    "    corpus.append(corpus_i)\n"
   ]
  },
  {
   "cell_type": "code",
   "execution_count": 15,
   "metadata": {},
   "outputs": [
    {
     "data": {
      "text/plain": [
       "111966"
      ]
     },
     "execution_count": 15,
     "metadata": {},
     "output_type": "execute_result"
    }
   ],
   "source": [
    "len(corpus[0])\n"
   ]
  },
  {
   "cell_type": "code",
   "execution_count": 16,
   "metadata": {},
   "outputs": [
    {
     "data": {
      "text/plain": [
       "'motthaven, you know, tremont still watching out for and torres cars, chains2embed\", \"50s 100s lyrics'"
      ]
     },
     "execution_count": 16,
     "metadata": {},
     "output_type": "execute_result"
    }
   ],
   "source": [
    "corpus[0][0:100]"
   ]
  },
  {
   "cell_type": "markdown",
   "metadata": {},
   "source": [
    "## Lematization"
   ]
  },
  {
   "cell_type": "code",
   "execution_count": 18,
   "metadata": {},
   "outputs": [
    {
     "data": {
      "text/plain": [
       "111966"
      ]
     },
     "execution_count": 18,
     "metadata": {},
     "output_type": "execute_result"
    }
   ],
   "source": [
    "def lemmatization(texts, allowed_postags=['NOUN', 'ADJ', 'VERB', 'ADV']):\n",
    "    nlp = spacy.load('en_core_web_sm', disable=['parser', 'ner'])\n",
    "    texts_out = []\n",
    "\n",
    "    for text in texts:\n",
    "        doc = nlp(text)\n",
    "        new_text = []\n",
    "\n",
    "        for token in doc:\n",
    "            if token.pos_ in allowed_postags: #pos = part of speach\n",
    "                new_text.append(token.lemma_)\n",
    "        final = \" \".join(new_text)\n",
    "        texts_out.append(final)\n",
    "        \n",
    "    return texts_out\n",
    "\n",
    "lemmatized_corpus = corpus  #Not activated in this case\n",
    "len(lemmatized_corpus[0])"
   ]
  },
  {
   "cell_type": "code",
   "execution_count": 22,
   "metadata": {},
   "outputs": [
    {
     "data": {
      "text/plain": [
       "13077"
      ]
     },
     "execution_count": 22,
     "metadata": {},
     "output_type": "execute_result"
    }
   ],
   "source": [
    "len(corpus[2])"
   ]
  },
  {
   "cell_type": "markdown",
   "metadata": {},
   "source": [
    "## Removing stop words"
   ]
  },
  {
   "cell_type": "code",
   "execution_count": 23,
   "metadata": {},
   "outputs": [],
   "source": [
    "\n",
    "def gen_words(texts):\n",
    "    final = []\n",
    "    for i,text in enumerate(texts):\n",
    "        new = gensim.utils.simple_preprocess(text, deacc=True) #remove the accent in case there are\n",
    "        final.append(new)\n",
    "    return final\n",
    "\n",
    "data_words = gen_words(lemmatized_corpus)  "
   ]
  },
  {
   "cell_type": "code",
   "execution_count": 24,
   "metadata": {},
   "outputs": [
    {
     "data": {
      "text/plain": [
       "19041"
      ]
     },
     "execution_count": 24,
     "metadata": {},
     "output_type": "execute_result"
    }
   ],
   "source": [
    "len(data_words[0])"
   ]
  },
  {
   "cell_type": "code",
   "execution_count": 25,
   "metadata": {},
   "outputs": [
    {
     "data": {
      "text/plain": [
       "1105"
      ]
     },
     "execution_count": 25,
     "metadata": {},
     "output_type": "execute_result"
    }
   ],
   "source": [
    "# Stopwords removal \n",
    "PATH_DATA = './data/wordclouds/'\n",
    "PATH_STOPWORD = PATH_DATA + 'stopword_list.csv'\n",
    "sw = pd.read_csv(PATH_STOPWORD, header=None)\n",
    "sw_list = list(sw.values.flatten())\n",
    "sw_list =  sw_list[:-2] #remove 2 NaNs at the end of the list\n",
    "\n",
    "# Wordcloud library stopwords\n",
    "stopwords =  list(STOPWORDS) + sw_list\n",
    "\n",
    "# Additionnal handpicked stopwords\n",
    "add_sw = ['//', 'yeah', 'huh', 'yo', 's', 'nt', 'lyric', 'lyrics', 'll','harlem', 'new','york', \n",
    "        'bronx', 'jersey', 'west',\n",
    "       'manhattan', 'brooklyn', 'taten', 'america', 'east', 'Coast',\n",
    "       'long', 'island', 'queensbridge', 'brownsville', 'talk', 'man', 'dont', \n",
    "       'aint', 'fuck', 'nyc', 'yall', 'rap', 'ill', 'wanna', 'gotta', 'staten', 'youre','coast', 'queens', 'nigga', 'niggas',\n",
    "       'city', 'em']\n",
    "stopwords = stopwords + add_sw\n",
    "\n",
    "# Adding default spacy stopword list\n",
    "en = spacy.load('en_core_web_sm')\n",
    "spacy_stopwords = en.Defaults.stop_words\n",
    "stopwords = stopwords + list(spacy_stopwords)\n",
    "len(stopwords)"
   ]
  },
  {
   "cell_type": "code",
   "execution_count": 26,
   "metadata": {},
   "outputs": [
    {
     "data": {
      "text/plain": [
       "[19041, 2527, 2221]"
      ]
     },
     "execution_count": 26,
     "metadata": {},
     "output_type": "execute_result"
    }
   ],
   "source": [
    "a = []\n",
    "for l in data_words:\n",
    "    a.append(len(l))\n",
    "\n",
    "a"
   ]
  },
  {
   "cell_type": "code",
   "execution_count": 27,
   "metadata": {},
   "outputs": [],
   "source": [
    "\n",
    "new_data_words= []\n",
    "\n",
    "for text in data_words:\n",
    "    tokens_without_sw = []\n",
    "    for word in text:\n",
    "        if not word in stopwords:\n",
    "            tokens_without_sw.append(word)\n",
    "    new_data_words.append(tokens_without_sw)\n",
    "    \n",
    "data_words = new_data_words"
   ]
  },
  {
   "cell_type": "code",
   "execution_count": 28,
   "metadata": {},
   "outputs": [
    {
     "data": {
      "text/plain": [
       "[8701, 1218, 1015]"
      ]
     },
     "execution_count": 28,
     "metadata": {},
     "output_type": "execute_result"
    }
   ],
   "source": [
    "a = []\n",
    "for l in new_data_words:\n",
    "    a.append(len(l))\n",
    "\n",
    "a"
   ]
  },
  {
   "cell_type": "markdown",
   "metadata": {},
   "source": [
    "## Bigrams/trigrams"
   ]
  },
  {
   "cell_type": "code",
   "execution_count": 29,
   "metadata": {},
   "outputs": [],
   "source": [
    "from gensim.models.phrases import Phraser\n",
    "from gensim.models import Phrases"
   ]
  },
  {
   "cell_type": "code",
   "execution_count": 30,
   "metadata": {},
   "outputs": [],
   "source": [
    "bigram_phrases = Phrases(data_words, min_count=2, threshold=100)\n",
    "trigram_phrases = Phrases(bigram_phrases[data_words], threshold=100)\n",
    "\n",
    "bigram = Phraser(bigram_phrases)\n",
    "trigram = Phraser(trigram_phrases)\n",
    "\n",
    "#function changing the individual words by their corresponding bigrams and trigrams\n",
    "def make_bigrams(texts):\n",
    "    b = []\n",
    "    for doc in texts:\n",
    "        b.append(bigram[doc])\n",
    "    return b\n",
    "\n",
    "def make_trigrams(texts):\n",
    "    b = []\n",
    "    for doc in texts:\n",
    "        b.append(trigram[bigram[doc]])\n",
    "    return b\n",
    "\n",
    "data_bigrams = make_bigrams(data_words)\n",
    "data_bigrams_trigrams = make_trigrams(data_bigrams)\n",
    "\n",
    "#print(data_bigrams_trigrams[1])"
   ]
  },
  {
   "cell_type": "markdown",
   "metadata": {},
   "source": [
    "## TF-IDF dictionnary"
   ]
  },
  {
   "cell_type": "code",
   "execution_count": 31,
   "metadata": {},
   "outputs": [
    {
     "data": {
      "text/plain": [
       "[]"
      ]
     },
     "execution_count": 31,
     "metadata": {},
     "output_type": "execute_result"
    }
   ],
   "source": [
    "from gensim.models import TfidfModel\n",
    "texts = data_bigrams_trigrams\n",
    "\n",
    "id2word = corpora.Dictionary(texts)\n",
    "\n",
    "corpus = [id2word.doc2bow(text) for text in texts]\n",
    "\n",
    "\n",
    "tfidf = TfidfModel(corpus, id2word=id2word)\n",
    "\n",
    "low_value = 0.01 #threshold filtering word wich appears more than this freq in all the docs\n",
    "words = []\n",
    "words_missing_in_tfidf = []\n",
    "#Creating new corpus by removing too frequent words\n",
    "for i in range(0, len(corpus)):\n",
    "    bow = corpus[i]\n",
    "    low_value_words = [] #reinitialize to be safe. You can skip this.\n",
    "    tfidf_ids = [id for id, value in tfidf[bow]]\n",
    "    bow_ids = [id for id, value in bow]\n",
    "    low_value_words = [id for id, value in tfidf[bow] if value < low_value]\n",
    "    drops = low_value_words + words_missing_in_tfidf\n",
    "    \n",
    "    for item in drops:\n",
    "        words.append(id2word[item])\n",
    "    words_missing_in_tfidf = [id for id in bow_ids if id not in tfidf_ids] # The words with tf-idf socre 0 will be missing\n",
    "\n",
    "    new_bow = [b for b in bow if b[0] not in low_value_words and b[0] not in words_missing_in_tfidf]  \n",
    "\n",
    "    #reassign        \n",
    "    corpus[i] = new_bow\n",
    "low_value_words"
   ]
  },
  {
   "cell_type": "markdown",
   "metadata": {},
   "source": [
    "## Bag of word and dictionnary"
   ]
  },
  {
   "cell_type": "markdown",
   "metadata": {},
   "source": [
    "id2word = corpora.Dictionary(data_words)\n",
    "\n",
    "corpus = []\n",
    "\n",
    "for i, text in enumerate(data_words):\n",
    "    new = id2word.doc2bow(text)\n",
    "    corpus.append(new)\n",
    "\n",
    "\n",
    "id2word[[0][:1][0]]"
   ]
  },
  {
   "cell_type": "markdown",
   "metadata": {},
   "source": [
    "len(id2word)"
   ]
  },
  {
   "cell_type": "markdown",
   "metadata": {},
   "source": [
    "## Visualization"
   ]
  },
  {
   "cell_type": "code",
   "execution_count": 32,
   "metadata": {},
   "outputs": [],
   "source": [
    "lda_model = gensim.models.ldamodel.LdaModel(corpus=corpus, id2word=id2word, num_topics=4, random_state=100, \n",
    "update_every=1, chunksize=100, passes=10, alpha=\"auto\")"
   ]
  },
  {
   "cell_type": "code",
   "execution_count": 33,
   "metadata": {},
   "outputs": [
    {
     "name": "stderr",
     "output_type": "stream",
     "text": [
      "/opt/anaconda3/envs/ada/lib/python3.8/site-packages/pyLDAvis/_prepare.py:246: FutureWarning: In a future version of pandas all arguments of DataFrame.drop except for the argument 'labels' will be keyword-only\n",
      "  default_term_info = default_term_info.sort_values(\n",
      "/opt/anaconda3/envs/ada/lib/python3.8/site-packages/past/builtins/misc.py:45: DeprecationWarning: the imp module is deprecated in favour of importlib; see the module's documentation for alternative uses\n",
      "  from imp import reload\n",
      "/opt/anaconda3/envs/ada/lib/python3.8/site-packages/past/builtins/misc.py:45: DeprecationWarning: the imp module is deprecated in favour of importlib; see the module's documentation for alternative uses\n",
      "  from imp import reload\n",
      "/opt/anaconda3/envs/ada/lib/python3.8/site-packages/past/builtins/misc.py:45: DeprecationWarning: the imp module is deprecated in favour of importlib; see the module's documentation for alternative uses\n",
      "  from imp import reload\n",
      "/opt/anaconda3/envs/ada/lib/python3.8/site-packages/past/builtins/misc.py:45: DeprecationWarning: the imp module is deprecated in favour of importlib; see the module's documentation for alternative uses\n",
      "  from imp import reload\n"
     ]
    },
    {
     "data": {
      "text/html": [
       "\n",
       "<link rel=\"stylesheet\" type=\"text/css\" href=\"https://cdn.jsdelivr.net/gh/bmabey/pyLDAvis@3.3.1/pyLDAvis/js/ldavis.v1.0.0.css\">\n",
       "\n",
       "\n",
       "<div id=\"ldavis_el424091404072914242087056523035\"></div>\n",
       "<script type=\"text/javascript\">\n",
       "\n",
       "var ldavis_el424091404072914242087056523035_data = {\"mdsDat\": {\"x\": [-0.13452839610260062, 0.00793887975733608, 0.08955838349021718, 0.03703113285504734], \"y\": [-0.08953031558183458, 0.09618432959088932, -0.026939105040818114, 0.020285091031763364], \"topics\": [1, 2, 3, 4], \"cluster\": [1, 1, 1, 1], \"Freq\": [71.79163550974465, 15.636979184964797, 12.54662295679592, 0.024762348494633813]}, \"tinfo\": {\"Term\": [\"south\", \"brother\", \"death\", \"country\", \"mind\", \"life\", \"rich\", \"kill\", \"shaolin\", \"told\", \"hit\", \"goin\", \"king\", \"hold\", \"kids\", \"young\", \"block\", \"cats\", \"gun\", \"check\", \"dead\", \"year\", \"thing\", \"dog\", \"morning\", \"town\", \"music\", \"strong\", \"thought\", \"building\", \"goin\", \"check\", \"kids\", \"building\", \"dog\", \"thought\", \"comin\", \"hands\", \"hate\", \"days\", \"hood\", \"million\", \"cmon\", \"light\", \"hit\", \"rhyme\", \"air\", \"wu_tang\", \"inside\", \"roll\", \"scared\", \"philly\", \"mic\", \"poppin\", \"deal\", \"doin\", \"orleans\", \"kinda\", \"act\", \"speak\", \"hold\", \"cats\", \"king\", \"night\", \"stop\", \"state\", \"whats\", \"thing\", \"south\", \"started\", \"sound\", \"beat\", \"watch\", \"born\", \"tonight\", \"head\", \"music\", \"cops\", \"represent\", \"town\", \"american\", \"listen\", \"life\", \"set\", \"gun\", \"cuz\", \"dick\", \"rampant\", \"motherfucking\", \"puff_thug\", \"dirty_bastard\", \"motherfucker\", \"smoke_grass\", \"hes\", \"dad\", \"na_chill\", \"smilin\", \"boroughs\", \"father\", \"sick\", \"drops\", \"wasnt\", \"executioner_style\", \"jackie\", \"kings\", \"thinkin\", \"crime\", \"shouts\", \"poison\", \"runs\", \"sin\", \"salt\", \"religion\", \"rippin\", \"pork\", \"met\", \"killer\", \"death\", \"told\", \"shaolin\", \"kill\", \"morning\", \"life\", \"block\", \"dead\", \"gun\", \"til\", \"scene\", \"weed\", \"doubt\", \"gold\", \"bad\", \"livin\", \"wit\", \"matter\", \"set\", \"music\", \"bob_boss\", \"dear\", \"understand\", \"paper\", \"mcs\", \"ave\", \"sitting\", \"speakin\", \"taking\", \"artist\", \"taste\", \"suv\", \"paris\", \"beware\", \"projects\", \"answers\", \"hope\", \"lenox\", \"reach\", \"bling\", \"rest\", \"cocaine\", \"merrier\", \"motto\", \"jackson\", \"knowledge\", \"hummer\", \"eatin\", \"verse\", \"ride\", \"tired\", \"brother\", \"rich\", \"mind\", \"country\", \"south\", \"year\", \"young\", \"thing\", \"police\", \"left\", \"town\", \"men\", \"cuz\", \"pretty\", \"planet\", \"care\", \"def\", \"la\", \"proof\", \"parties\", \"strong\", \"favorite\", \"abcs\", \"abhor\", \"abide\", \"absence\", \"absorption\", \"abu\", \"accepted\", \"accountants\", \"acid\", \"acrinel\", \"additional\", \"adjust\", \"administration\", \"admire\", \"adrenaline\", \"aeronautics\", \"affected\", \"affordable\", \"afghan\", \"afghanistan\", \"afloat\", \"aforementioned\", \"africa\", \"againembed\", \"age\", \"ahh\", \"aids\", \"airport\", \"airwaves\", \"aisle\", \"south\", \"king\", \"hold\", \"tonight\", \"cats\", \"town\", \"hit\", \"born\", \"strong\", \"music\", \"state\", \"country\", \"thing\", \"whats\", \"kids\", \"head\", \"goin\", \"dog\", \"cops\", \"young\", \"neck\", \"sound\", \"stop\", \"beat\", \"rapper\", \"stick\", \"started\", \"check\", \"life\", \"brother\", \"cuz\", \"night\", \"watch\"], \"Freq\": [23.0, 8.0, 6.0, 8.0, 8.0, 11.0, 7.0, 7.0, 6.0, 6.0, 19.0, 12.0, 14.0, 16.0, 11.0, 6.0, 8.0, 16.0, 10.0, 11.0, 8.0, 6.0, 15.0, 9.0, 5.0, 11.0, 14.0, 8.0, 8.0, 9.0, 11.778796345350708, 11.010170026344076, 10.99887791934511, 9.47355573900253, 9.450762153428599, 8.697972700430652, 8.692752369135704, 7.913685387539176, 7.915379901494274, 7.912155579223865, 7.144995326519406, 7.145902138078573, 7.14452447310849, 7.141921751783718, 18.74509861499563, 6.3814311469503, 6.374373463758404, 6.370070179966339, 6.374625174919775, 6.373859340221781, 6.376786820124438, 6.365058289707053, 6.3781221455091535, 6.370791348728119, 6.368983308851812, 6.368844658341482, 5.60424757899744, 5.605187890008767, 5.60242790736691, 5.603504077267553, 15.635969794080971, 15.642822293128386, 14.073564650737504, 13.347681771606478, 12.562378308666146, 11.780223794228862, 11.00719601942453, 14.114648937190847, 21.814418920260046, 11.012988633027213, 14.106349447918184, 10.230363265179012, 10.241628386508182, 12.555961302496812, 9.447897019728572, 11.790460668484785, 13.346652593992893, 9.462743790817859, 9.468923509201058, 10.23442228213241, 8.698375624396911, 8.69695934200281, 9.482528939479746, 8.710067863741122, 8.710843934382831, 8.702590041586719, 2.217481266397182, 1.3736004224792904, 1.3737555752050743, 1.373507999692932, 1.3735399220369044, 1.3722563397868859, 1.3717386911106586, 1.3713628181779791, 1.3718478351248122, 1.370024511909722, 0.9524184348768217, 0.9516753029772965, 0.9515515658916126, 0.9515656522592704, 0.9516927335905133, 0.9512563602154478, 0.9516799646529243, 0.9513528366327869, 0.951302368927078, 0.9510634073807694, 0.9509816253757352, 0.9508700491829931, 0.9508969044882398, 0.9507073972398951, 0.951097863244105, 0.9511793412268157, 0.9507405356731619, 0.9512022442418563, 0.9509097747666033, 0.9506745628289519, 1.8042569617728004, 2.638733989860263, 2.2238235774294854, 2.2204219729920847, 2.2244147995080112, 1.800445940606355, 2.2285089667984543, 1.8065107805980343, 1.8063105312275909, 1.8013490895888409, 1.3781678511867224, 1.377840317803487, 1.3808329108749418, 1.3773528686780654, 1.376756174197716, 1.3760577335797521, 1.376158466309621, 1.3769625040146303, 1.3746079524595276, 1.380220103211444, 1.3833670382824865, 1.9352149767885924, 1.5639120647651605, 1.2006051152056467, 1.1996716457836063, 1.1975496291018124, 1.1956748842416587, 0.8347949551794501, 0.8337528520337296, 0.8338079007095764, 0.8321044816396873, 0.8328500374873083, 0.8320922847395735, 0.8322916634001, 0.8321307456312657, 0.832970461547765, 0.8327429487043094, 0.8319226665153248, 0.8322304349615288, 0.83231882183102, 0.8310853086661807, 0.8305202669402435, 0.8315785513067816, 0.8306789079543899, 0.8316188823898244, 0.8316541720874869, 0.8310964485016179, 0.8309617134116946, 0.8315088663507982, 0.8308037228988875, 0.830831369205812, 0.8312761494966275, 1.9409019847483062, 1.5762276813733713, 1.569064035373217, 1.5723048330461131, 1.9606608003072787, 1.2048273567743641, 1.2071668848415202, 0.8418370387418038, 0.8397337239735179, 0.8395118217041146, 0.8381425976973429, 0.8381073893123477, 0.8375415344597363, 0.8373846010116058, 0.836467150185048, 0.8353575575253647, 0.8352275385701519, 0.8350854853401601, 0.8347612104224688, 0.83451548354151, 0.8342989479081568, 0.833843190407239, 0.0002911812930332727, 0.0002911812930332727, 0.0002911812930332727, 0.0002911812930332727, 0.0002911812930332727, 0.0002911812930332727, 0.0002911812930332727, 0.0002911812930332727, 0.0002911812930332727, 0.0002911812930332727, 0.0002911812930332727, 0.0002911812930332727, 0.0002911812930332727, 0.0002911812930332727, 0.0002911812930332727, 0.0002911812930332727, 0.0002911812930332727, 0.0002911812930332727, 0.0002911812930332727, 0.0002911812930332727, 0.0002911812930332727, 0.0002911812930332727, 0.0002911812930332727, 0.0002911812930332727, 0.0002911812930332727, 0.0002911812930332727, 0.0002911812930332727, 0.0002911812930332727, 0.0002911812930332727, 0.0002911812930332727, 0.0004607324713826141, 0.00042689540695234487, 0.0004063820236512609, 0.000385741419163222, 0.00039201152599415676, 0.00037760604351364516, 0.0003889680870789769, 0.00037818959197288864, 0.00036498193849197647, 0.0003779684092533418, 0.00037143916598388836, 0.0003625745252711512, 0.0003742674803312811, 0.000366802473276101, 0.00036594418161652064, 0.0003688683832666011, 0.0003667349509621163, 0.0003605891365427825, 0.0003610495560765245, 0.0003513281883924099, 0.0003542103440620649, 0.00036674273428292025, 0.00036260694240109744, 0.0003571149269292941, 0.000349270462924817, 0.0003498241619475753, 0.00035596813083723397, 0.00035519814376058903, 0.0003555236390269928, 0.0003492291391081776, 0.00035019459184954817, 0.00035239947824862986, 0.0003501550333221632], \"Total\": [23.0, 8.0, 6.0, 8.0, 8.0, 11.0, 7.0, 7.0, 6.0, 6.0, 19.0, 12.0, 14.0, 16.0, 11.0, 6.0, 8.0, 16.0, 10.0, 11.0, 8.0, 6.0, 15.0, 9.0, 5.0, 11.0, 14.0, 8.0, 8.0, 9.0, 12.003897076788537, 11.233993573155269, 11.224759418074846, 9.694272743837434, 9.673854840965655, 8.913346503004723, 8.911992908502834, 8.130074351760527, 8.134145955671253, 8.131438316945777, 7.361216198122038, 7.362490563383736, 7.361309314314241, 7.35937299867307, 19.36253525823823, 6.593728455669638, 6.587046713378808, 6.582875254363492, 6.587649677044015, 6.587559688464124, 6.590614147319924, 6.578632350142293, 6.592304811814881, 6.585123603037725, 6.583537484738631, 6.584927518685086, 5.813737522577583, 5.816525341646387, 5.813877687565824, 5.815288867593083, 16.242895896968868, 16.251349115786645, 14.676561305493932, 13.996949882960482, 13.211998610943976, 12.379761428643882, 11.6053667404475, 15.091405943411273, 23.93749786980619, 11.660200720213677, 15.186638616349802, 10.83119191219277, 10.887109918709905, 13.628245702218544, 10.040671066868903, 12.85971943519644, 14.838263712455952, 10.10447780181865, 10.113901882828419, 11.20287962547727, 9.290437014845827, 9.339692934268776, 11.817384247967885, 10.193604716203232, 10.6225558373019, 9.66702841528731, 2.5275200386301244, 1.673008832862724, 1.6738609464827199, 1.674710499815608, 1.6749627170504726, 1.6749677712854918, 1.6753542470397038, 1.6755010020455812, 1.6760987540781167, 1.6761399328162088, 1.2467513843908187, 1.2471206331858349, 1.2476857624972186, 1.247765266890604, 1.2480202660124935, 1.2476107208196727, 1.2483907152369949, 1.2480313806593324, 1.2480175824205155, 1.247855343155115, 1.247805256397665, 1.2477700364053212, 1.2478239747929074, 1.2476330107041278, 1.2481667205233529, 1.2484174947897049, 1.2478649233183592, 1.2485190904731407, 1.2481385345020828, 1.2479031025302563, 2.4758633779973183, 6.828342578418709, 6.396568095263332, 6.397429896720986, 7.938098583915757, 5.195821735910584, 11.817384247967885, 8.29022511834245, 8.305352589866812, 10.6225558373019, 4.769540950421872, 4.765560072350566, 5.539685922121299, 5.540505170425185, 5.54907408438685, 5.552645024302309, 6.327569071022728, 7.091967931164387, 7.096769901628752, 10.193604716203232, 14.838263712455952, 2.2772010932382507, 1.8979617817827823, 1.5234343628083238, 1.522442312257991, 1.524341325192126, 1.524532874427432, 1.1470964339533534, 1.1463328434524163, 1.1474944992171623, 1.1454421871253895, 1.14688639490945, 1.1462540922152404, 1.1466059987694708, 1.1464317857345148, 1.1478442585895965, 1.1476478381093584, 1.1469119951457691, 1.1474904788768645, 1.1476259785004226, 1.1461246227118376, 1.145651018395344, 1.1472273510645616, 1.1460747999321002, 1.1474628706020038, 1.1476008142814729, 1.1470739094594506, 1.1472885319639816, 1.1480602652467389, 1.1474134161475147, 1.1475030519467915, 1.1486154577293917, 8.466778973893515, 7.316930026222057, 8.09361966620352, 8.861437841173457, 23.93749786980619, 6.16416330665058, 6.934175264339196, 15.091405943411273, 8.11982484878762, 8.886013570892024, 11.20287962547727, 8.88719573480943, 9.66702841528731, 8.112827913174588, 4.243466477604386, 4.240655739902194, 4.243213013901694, 4.243314902610851, 4.238294113771071, 4.243011628406429, 8.879198543751368, 4.239215539990709, 0.3954200587894562, 0.3954200587894562, 0.3954200587894562, 0.3954200587894562, 0.3954200587894562, 0.3954200587894562, 0.3954200587894562, 0.3954200587894562, 0.3954200587894562, 0.3954200587894562, 0.3954200587894562, 0.3954200587894562, 0.3954200587894562, 0.3954200587894562, 0.3954200587894562, 0.3954200587894562, 0.3954200587894562, 0.3954200587894562, 0.3954200587894562, 0.3954200587894562, 0.3954200587894562, 0.3954200587894562, 0.3954200587894562, 0.3954200587894562, 0.3954200587894562, 0.3954200587894562, 0.3954200587894562, 0.3954200587894562, 0.3954200587894562, 0.3954200587894562, 23.93749786980619, 14.676561305493932, 16.242895896968868, 10.040671066868903, 16.251349115786645, 11.20287962547727, 19.36253525823823, 13.628245702218544, 8.879198543751368, 14.838263712455952, 12.379761428643882, 8.861437841173457, 15.091405943411273, 11.6053667404475, 11.224759418074846, 12.85971943519644, 12.003897076788537, 9.673854840965655, 10.10447780181865, 6.934175264339196, 8.505670622751557, 15.186638616349802, 13.211998610943976, 10.83119191219277, 7.731381228179593, 8.207142217027453, 11.660200720213677, 11.233993573155269, 11.817384247967885, 8.466778973893515, 9.66702841528731, 13.996949882960482, 10.887109918709905], \"Category\": [\"Default\", \"Default\", \"Default\", \"Default\", \"Default\", \"Default\", \"Default\", \"Default\", \"Default\", \"Default\", \"Default\", \"Default\", \"Default\", \"Default\", \"Default\", \"Default\", \"Default\", \"Default\", \"Default\", \"Default\", \"Default\", \"Default\", \"Default\", \"Default\", \"Default\", \"Default\", \"Default\", \"Default\", \"Default\", \"Default\", \"Topic1\", \"Topic1\", \"Topic1\", \"Topic1\", \"Topic1\", \"Topic1\", \"Topic1\", \"Topic1\", \"Topic1\", \"Topic1\", \"Topic1\", \"Topic1\", \"Topic1\", \"Topic1\", \"Topic1\", \"Topic1\", \"Topic1\", \"Topic1\", \"Topic1\", \"Topic1\", \"Topic1\", \"Topic1\", \"Topic1\", \"Topic1\", \"Topic1\", \"Topic1\", \"Topic1\", \"Topic1\", \"Topic1\", \"Topic1\", \"Topic1\", \"Topic1\", \"Topic1\", \"Topic1\", \"Topic1\", \"Topic1\", \"Topic1\", \"Topic1\", \"Topic1\", \"Topic1\", \"Topic1\", \"Topic1\", \"Topic1\", \"Topic1\", \"Topic1\", \"Topic1\", \"Topic1\", \"Topic1\", \"Topic1\", \"Topic1\", \"Topic1\", \"Topic1\", \"Topic1\", \"Topic1\", \"Topic1\", \"Topic1\", \"Topic2\", \"Topic2\", \"Topic2\", \"Topic2\", \"Topic2\", \"Topic2\", \"Topic2\", \"Topic2\", \"Topic2\", \"Topic2\", \"Topic2\", \"Topic2\", \"Topic2\", \"Topic2\", \"Topic2\", \"Topic2\", \"Topic2\", \"Topic2\", \"Topic2\", \"Topic2\", \"Topic2\", \"Topic2\", \"Topic2\", \"Topic2\", \"Topic2\", \"Topic2\", \"Topic2\", \"Topic2\", \"Topic2\", \"Topic2\", \"Topic2\", \"Topic2\", \"Topic2\", \"Topic2\", \"Topic2\", \"Topic2\", \"Topic2\", \"Topic2\", \"Topic2\", \"Topic2\", \"Topic2\", \"Topic2\", \"Topic2\", \"Topic2\", \"Topic2\", \"Topic2\", \"Topic2\", \"Topic2\", \"Topic2\", \"Topic2\", \"Topic2\", \"Topic3\", \"Topic3\", \"Topic3\", \"Topic3\", \"Topic3\", \"Topic3\", \"Topic3\", \"Topic3\", \"Topic3\", \"Topic3\", \"Topic3\", \"Topic3\", \"Topic3\", \"Topic3\", \"Topic3\", \"Topic3\", \"Topic3\", \"Topic3\", \"Topic3\", \"Topic3\", \"Topic3\", \"Topic3\", \"Topic3\", \"Topic3\", \"Topic3\", \"Topic3\", \"Topic3\", \"Topic3\", \"Topic3\", \"Topic3\", \"Topic3\", \"Topic3\", \"Topic3\", \"Topic3\", \"Topic3\", \"Topic3\", \"Topic3\", \"Topic3\", \"Topic3\", \"Topic3\", \"Topic3\", \"Topic3\", \"Topic3\", \"Topic3\", \"Topic3\", \"Topic3\", \"Topic3\", \"Topic3\", \"Topic3\", \"Topic3\", \"Topic3\", \"Topic3\", \"Topic3\", \"Topic4\", \"Topic4\", \"Topic4\", \"Topic4\", \"Topic4\", \"Topic4\", \"Topic4\", \"Topic4\", \"Topic4\", \"Topic4\", \"Topic4\", \"Topic4\", \"Topic4\", \"Topic4\", \"Topic4\", \"Topic4\", \"Topic4\", \"Topic4\", \"Topic4\", \"Topic4\", \"Topic4\", \"Topic4\", \"Topic4\", \"Topic4\", \"Topic4\", \"Topic4\", \"Topic4\", \"Topic4\", \"Topic4\", \"Topic4\", \"Topic4\", \"Topic4\", \"Topic4\", \"Topic4\", \"Topic4\", \"Topic4\", \"Topic4\", \"Topic4\", \"Topic4\", \"Topic4\", \"Topic4\", \"Topic4\", \"Topic4\", \"Topic4\", \"Topic4\", \"Topic4\", \"Topic4\", \"Topic4\", \"Topic4\", \"Topic4\", \"Topic4\", \"Topic4\", \"Topic4\", \"Topic4\", \"Topic4\", \"Topic4\", \"Topic4\", \"Topic4\", \"Topic4\", \"Topic4\", \"Topic4\", \"Topic4\", \"Topic4\"], \"logprob\": [30.0, 29.0, 28.0, 27.0, 26.0, 25.0, 24.0, 23.0, 22.0, 21.0, 20.0, 19.0, 18.0, 17.0, 16.0, 15.0, 14.0, 13.0, 12.0, 11.0, 10.0, 9.0, 8.0, 7.0, 6.0, 5.0, 4.0, 3.0, 2.0, 1.0, -5.8269, -5.8944, -5.8954, -6.0447, -6.0471, -6.1301, -6.1307, -6.2246, -6.2244, -6.2248, -6.3268, -6.3267, -6.3269, -6.3272, -5.3623, -6.4398, -6.4409, -6.4416, -6.4409, -6.441, -6.4405, -6.4424, -6.4403, -6.4415, -6.4418, -6.4418, -6.5697, -6.5695, -6.57, -6.5698, -5.5436, -5.5432, -5.6489, -5.7019, -5.7625, -5.8268, -5.8947, -5.646, -5.2106, -5.8941, -5.6466, -5.9678, -5.9667, -5.763, -6.0474, -5.8259, -5.7019, -6.0458, -6.0452, -5.9675, -6.1301, -6.1302, -6.0438, -6.1287, -6.1286, -6.1296, -5.9727, -6.4516, -6.4515, -6.4517, -6.4517, -6.4526, -6.453, -6.4533, -6.4529, -6.4543, -6.8178, -6.8186, -6.8187, -6.8187, -6.8186, -6.8191, -6.8186, -6.819, -6.819, -6.8193, -6.8193, -6.8195, -6.8194, -6.8196, -6.8192, -6.8191, -6.8196, -6.8191, -6.8194, -6.8197, -6.1789, -5.7988, -5.9699, -5.9714, -5.9696, -6.181, -5.9677, -6.1777, -6.1778, -6.1805, -6.4483, -6.4486, -6.4464, -6.4489, -6.4493, -6.4499, -6.4498, -6.4492, -6.4509, -6.4468, -6.4446, -5.8887, -6.1017, -6.3661, -6.3668, -6.3686, -6.3702, -6.7295, -6.7307, -6.7306, -6.7327, -6.7318, -6.7327, -6.7325, -6.7327, -6.7317, -6.7319, -6.7329, -6.7325, -6.7324, -6.7339, -6.7346, -6.7333, -6.7344, -6.7333, -6.7332, -6.7339, -6.7341, -6.7334, -6.7343, -6.7342, -6.7337, -5.8857, -6.0939, -6.0984, -6.0964, -5.8756, -6.3626, -6.3606, -6.7211, -6.7236, -6.7238, -6.7255, -6.7255, -6.7262, -6.7264, -6.7275, -6.7288, -6.7289, -6.7291, -6.7295, -6.7298, -6.7301, -6.7306, -8.4626, -8.4626, -8.4626, -8.4626, -8.4626, -8.4626, -8.4626, -8.4626, -8.4626, -8.4626, -8.4626, -8.4626, -8.4626, -8.4626, -8.4626, -8.4626, -8.4626, -8.4626, -8.4626, -8.4626, -8.4626, -8.4626, -8.4626, -8.4626, -8.4626, -8.4626, -8.4626, -8.4626, -8.4626, -8.4626, -8.0037, -8.08, -8.1292, -8.1814, -8.1652, -8.2027, -8.173, -8.2011, -8.2367, -8.2017, -8.2191, -8.2433, -8.2116, -8.2317, -8.234, -8.2261, -8.2319, -8.2488, -8.2475, -8.2748, -8.2666, -8.2319, -8.2432, -8.2585, -8.2807, -8.2791, -8.2617, -8.2638, -8.2629, -8.2808, -8.278, -8.2718, -8.2781], \"loglift\": [30.0, 29.0, 28.0, 27.0, 26.0, 25.0, 24.0, 23.0, 22.0, 21.0, 20.0, 19.0, 18.0, 17.0, 16.0, 15.0, 14.0, 13.0, 12.0, 11.0, 10.0, 9.0, 8.0, 7.0, 6.0, 5.0, 4.0, 3.0, 2.0, 1.0, 0.3125, 0.3113, 0.3111, 0.3084, 0.3081, 0.3069, 0.3065, 0.3044, 0.3041, 0.3041, 0.3016, 0.3015, 0.3015, 0.3014, 0.299, 0.2987, 0.2986, 0.2985, 0.2985, 0.2984, 0.2984, 0.2984, 0.2984, 0.2983, 0.2983, 0.298, 0.2947, 0.2944, 0.2944, 0.2943, 0.2933, 0.2932, 0.2894, 0.2839, 0.281, 0.2818, 0.2785, 0.2645, 0.2385, 0.2743, 0.2576, 0.2743, 0.2703, 0.2495, 0.2706, 0.2446, 0.2255, 0.2658, 0.2655, 0.241, 0.2656, 0.2601, 0.1113, 0.1741, 0.133, 0.2263, 1.7247, 1.6583, 1.6579, 1.6573, 1.6571, 1.6562, 1.6556, 1.6552, 1.6552, 1.6539, 1.5862, 1.5852, 1.5846, 1.5845, 1.5845, 1.5843, 1.5841, 1.5841, 1.5841, 1.5839, 1.5839, 1.5838, 1.5838, 1.5837, 1.5837, 1.5836, 1.5836, 1.5835, 1.5835, 1.5835, 1.5391, 0.9047, 0.799, 0.7973, 0.5834, 0.7957, 0.1873, 0.3319, 0.3299, 0.0811, 0.614, 0.6146, 0.4663, 0.4636, 0.4616, 0.4605, 0.3299, 0.2164, 0.2141, -0.144, -0.5172, 1.913, 1.8821, 1.8376, 1.8375, 1.8344, 1.8327, 1.7579, 1.7573, 1.7564, 1.7561, 1.7558, 1.7554, 1.7553, 1.7553, 1.7551, 1.755, 1.7546, 1.7545, 1.7545, 1.7543, 1.754, 1.7539, 1.7539, 1.7538, 1.7537, 1.7535, 1.7531, 1.7531, 1.7528, 1.7528, 1.7524, 0.6027, 0.5406, 0.4351, 0.3466, -0.4264, 0.4433, 0.3275, -0.8106, -0.1933, -0.2837, -0.517, -0.2855, -0.3703, -0.1952, 0.4518, 0.4511, 0.4503, 0.4502, 0.4509, 0.4495, -0.2892, 0.4496, 1.0898, 1.0898, 1.0898, 1.0898, 1.0898, 1.0898, 1.0898, 1.0898, 1.0898, 1.0898, 1.0898, 1.0898, 1.0898, 1.0898, 1.0898, 1.0898, 1.0898, 1.0898, 1.0898, 1.0898, 1.0898, 1.0898, 1.0898, 1.0898, 1.0898, 1.0898, 1.0898, 1.0898, 1.0898, 1.0898, -2.5545, -2.1416, -2.2923, -1.8634, -2.3288, -1.9942, -2.5118, -2.1887, -1.7958, -2.2743, -2.1106, -1.8004, -2.3011, -2.0586, -2.0276, -2.1556, -2.0925, -1.8936, -1.9359, -1.5867, -1.7828, -2.3277, -2.1997, -2.0163, -1.7014, -1.7595, -2.0932, -2.0582, -2.1079, -1.7923, -1.9221, -2.286, -2.0411]}, \"token.table\": {\"Topic\": [1, 1, 1, 3, 3, 3, 1, 2, 1, 3, 3, 1, 2, 3, 1, 2, 2, 1, 3, 1, 1, 3, 1, 1, 1, 3, 1, 1, 2, 1, 3, 2, 1, 3, 2, 1, 1, 2, 1, 3, 1, 2, 1, 3, 2, 2, 1, 1, 1, 2, 2, 3, 2, 2, 1, 3, 1, 1, 2, 1, 2, 1, 1, 1, 2, 2, 1, 1, 1, 3, 3, 1, 2, 3, 1, 1, 2, 2, 1, 1, 2, 3, 1, 3, 1, 3, 3, 1, 2, 1, 1, 2, 1, 2, 1, 2, 3, 1, 3, 3, 2, 1, 1, 1, 3, 1, 2, 2, 2, 3, 1, 2, 2, 1, 1, 2, 1, 3, 3, 1, 3, 1, 1, 3, 2, 1, 3, 1, 2, 1, 3, 3, 1, 3, 2, 2, 1, 3, 2, 1, 2, 3, 1, 1, 3, 3, 2, 1, 2, 2, 1, 1, 2, 1, 2, 1, 2, 2, 2, 2, 3, 2, 2, 1, 2, 1, 3, 1, 3, 1, 2, 1, 1, 2, 1, 2, 1, 3, 3, 3, 3, 1, 3, 2, 1, 1, 2, 3, 1, 2, 1, 1, 3, 3, 3, 2, 1, 2, 1, 2, 1, 1, 2, 1, 1, 3, 1, 3], \"Freq\": [1.0320134551217404, 0.9108786169397477, 0.968738067500838, 0.8713474349826735, 0.8730252921010424, 0.6559386266928284, 0.7203774025699763, 0.18009435064249407, 0.9232594234382377, 0.872271697665207, 0.8725054677159861, 0.72374391700471, 0.24124797233490333, 0.8782711399263988, 0.953901205192076, 0.07337701578400585, 0.8018470494273258, 0.7086520173138349, 0.23621733910461162, 0.9283832049929917, 0.7074377605736022, 0.23581258685786738, 0.9845336461609526, 0.9791709358180141, 0.9509177920819513, 0.8716668052518596, 1.00987513033288, 0.8906942225535038, 0.0989660247281671, 0.7899395251045445, 0.22569700717272698, 0.8014071064958781, 0.9309996426375989, 0.10344440473751099, 0.5966235566770153, 0.9838357850330289, 0.7224256809181677, 0.2408085603060559, 0.9113641433513008, 1.0537619983693094, 0.5857936906449575, 0.4393452679837181, 0.7070114062554351, 0.23567046875181172, 0.7912894732514042, 0.5970282143121078, 0.9303426760021148, 0.9111717605052868, 0.7219558283875829, 0.18048895709689572, 0.8012690396407307, 0.8710344136725975, 0.8010312699339163, 0.8014838592038749, 0.7076781002757353, 0.23589270009191177, 0.9996753490334341, 0.720840979805009, 0.18021024495125226, 0.8472537247952915, 0.18827860551006476, 0.9840008410584388, 0.9835082925236024, 0.9331463303279052, 0.07776219419399209, 0.5968364082021572, 0.9812764571682844, 0.9850460226729524, 0.9509298207795894, 0.871906479514065, 0.8716203222986582, 0.9107952447605405, 0.8012619037445213, 0.8713831391154183, 0.979976460100078, 0.7558485116520537, 0.25194950388401793, 0.8077990157993953, 1.031543687610184, 0.9539019194339022, 0.8012707625965587, 0.8717834062420982, 0.7069944297921757, 0.23566480993072522, 0.9002912201491179, 0.11253640251863974, 0.8714669257898989, 0.7615898587327088, 0.16924219082949085, 0.9511679869008044, 0.9636291110789745, 0.10706990123099717, 0.7901928756333351, 0.15803857512666702, 0.8454550567608178, 0.14090917612680295, 0.6560210521576991, 0.9001714645110769, 0.11252143306388461, 0.8725433977426653, 0.8013442694167469, 0.9101520896373999, 0.9507652253998763, 0.7413246788768894, 0.24710822629229642, 0.5773870145054623, 0.3849246763369748, 0.5970264127724245, 0.597421190870901, 0.8714878935257931, 0.8761132873711616, 0.06739332979778166, 0.5966088990671709, 0.9405490001694923, 0.9287737763372188, 0.07144413664132453, 1.0320383362164303, 0.6568393376540242, 0.8721391664383343, 0.7070449630435555, 0.23568165434785185, 0.9120436711849724, 0.7069691762225551, 0.235656392074185, 0.8013950847241599, 0.8620875610445191, 0.12315536586350273, 0.9111446286645544, 0.8011931146721047, 0.8628310713496777, 0.12326158162138254, 0.8711983289690721, 0.707831953014397, 0.23594398433813235, 0.5971181288408378, 0.5977254754171721, 0.9054009617953088, 0.8713640321271551, 0.8013687870484977, 0.8898642783237176, 0.09887380870263529, 0.8728661555249608, 0.9099555798117348, 0.82001604204188, 0.27333868068062667, 0.871457377218696, 0.8009489062926851, 0.910807686571245, 0.80151774714235, 0.8010140871731771, 0.910385567396614, 0.6295167733601308, 0.20983892445337693, 0.882906513501947, 0.09810072372243855, 0.6252510874797091, 0.31262554373985457, 0.8014297272924443, 0.8014327907138912, 0.8011750221802924, 0.8717662878208067, 0.8020845314630349, 0.5968886889247258, 0.9218629845400893, 0.0658473560385778, 0.9190601340063168, 0.08355092127330152, 1.031763019277728, 0.8723469851812804, 0.9433799866695967, 0.08576181696996334, 0.9693240107385913, 0.8529156452872254, 0.12184509218388935, 0.9839540846781221, 0.07568877574447093, 0.9009822182239529, 0.11262277727799411, 0.872406918144483, 0.8714638725346525, 0.8719259417834081, 0.9276803004634723, 0.06626287860453373, 0.8013749393992816, 1.0097217691431681, 0.6289913497303438, 0.20966378324344792, 0.8706133922111949, 0.6253353267609245, 0.31266766338046226, 0.8963544309002618, 0.8926276398845066, 0.08926276398845066, 0.6564116081486987, 0.8715254553651107, 0.8015320671042375, 0.9185174095482058, 0.09185174095482058, 0.7220625963697757, 0.18051564909244391, 0.9478373450846967, 0.8460275142579355, 0.14100458570965593, 0.9114558256322525, 0.8111400933530505, 0.1622280186706101, 0.8652795424506451, 0.14421325707510751], \"Term\": [\"act\", \"air\", \"american\", \"answers\", \"artist\", \"ave\", \"bad\", \"bad\", \"beat\", \"beware\", \"bling\", \"block\", \"block\", \"bob_boss\", \"born\", \"born\", \"boroughs\", \"brother\", \"brother\", \"building\", \"care\", \"care\", \"cats\", \"check\", \"cmon\", \"cocaine\", \"comin\", \"cops\", \"cops\", \"country\", \"country\", \"crime\", \"cuz\", \"cuz\", \"dad\", \"days\", \"dead\", \"dead\", \"deal\", \"dear\", \"death\", \"death\", \"def\", \"def\", \"dick\", \"dirty_bastard\", \"dog\", \"doin\", \"doubt\", \"doubt\", \"drops\", \"eatin\", \"executioner_style\", \"father\", \"favorite\", \"favorite\", \"goin\", \"gold\", \"gold\", \"gun\", \"gun\", \"hands\", \"hate\", \"head\", \"head\", \"hes\", \"hit\", \"hold\", \"hood\", \"hope\", \"hummer\", \"inside\", \"jackie\", \"jackson\", \"kids\", \"kill\", \"kill\", \"killer\", \"kinda\", \"king\", \"kings\", \"knowledge\", \"la\", \"la\", \"left\", \"left\", \"lenox\", \"life\", \"life\", \"light\", \"listen\", \"listen\", \"livin\", \"livin\", \"matter\", \"matter\", \"mcs\", \"men\", \"men\", \"merrier\", \"met\", \"mic\", \"million\", \"mind\", \"mind\", \"morning\", \"morning\", \"motherfucker\", \"motherfucking\", \"motto\", \"music\", \"music\", \"na_chill\", \"neck\", \"night\", \"night\", \"orleans\", \"paper\", \"paris\", \"parties\", \"parties\", \"philly\", \"planet\", \"planet\", \"poison\", \"police\", \"police\", \"poppin\", \"pork\", \"pretty\", \"pretty\", \"projects\", \"proof\", \"proof\", \"puff_thug\", \"rampant\", \"rapper\", \"reach\", \"religion\", \"represent\", \"represent\", \"rest\", \"rhyme\", \"rich\", \"rich\", \"ride\", \"rippin\", \"roll\", \"runs\", \"salt\", \"scared\", \"scene\", \"scene\", \"set\", \"set\", \"shaolin\", \"shaolin\", \"shouts\", \"sick\", \"sin\", \"sitting\", \"smilin\", \"smoke_grass\", \"sound\", \"sound\", \"south\", \"south\", \"speak\", \"speakin\", \"started\", \"started\", \"state\", \"stick\", \"stick\", \"stop\", \"stop\", \"strong\", \"strong\", \"suv\", \"taking\", \"taste\", \"thing\", \"thing\", \"thinkin\", \"thought\", \"til\", \"til\", \"tired\", \"told\", \"told\", \"tonight\", \"town\", \"town\", \"understand\", \"verse\", \"wasnt\", \"watch\", \"watch\", \"weed\", \"weed\", \"whats\", \"wit\", \"wit\", \"wu_tang\", \"year\", \"year\", \"young\", \"young\"]}, \"R\": 30, \"lambda.step\": 0.01, \"plot.opts\": {\"xlab\": \"PC1\", \"ylab\": \"PC2\"}, \"topic.order\": [1, 2, 3, 4]};\n",
       "\n",
       "function LDAvis_load_lib(url, callback){\n",
       "  var s = document.createElement('script');\n",
       "  s.src = url;\n",
       "  s.async = true;\n",
       "  s.onreadystatechange = s.onload = callback;\n",
       "  s.onerror = function(){console.warn(\"failed to load library \" + url);};\n",
       "  document.getElementsByTagName(\"head\")[0].appendChild(s);\n",
       "}\n",
       "\n",
       "if(typeof(LDAvis) !== \"undefined\"){\n",
       "   // already loaded: just create the visualization\n",
       "   !function(LDAvis){\n",
       "       new LDAvis(\"#\" + \"ldavis_el424091404072914242087056523035\", ldavis_el424091404072914242087056523035_data);\n",
       "   }(LDAvis);\n",
       "}else if(typeof define === \"function\" && define.amd){\n",
       "   // require.js is available: use it to load d3/LDAvis\n",
       "   require.config({paths: {d3: \"https://d3js.org/d3.v5\"}});\n",
       "   require([\"d3\"], function(d3){\n",
       "      window.d3 = d3;\n",
       "      LDAvis_load_lib(\"https://cdn.jsdelivr.net/gh/bmabey/pyLDAvis@3.3.1/pyLDAvis/js/ldavis.v3.0.0.js\", function(){\n",
       "        new LDAvis(\"#\" + \"ldavis_el424091404072914242087056523035\", ldavis_el424091404072914242087056523035_data);\n",
       "      });\n",
       "    });\n",
       "}else{\n",
       "    // require.js not available: dynamically load d3 & LDAvis\n",
       "    LDAvis_load_lib(\"https://d3js.org/d3.v5.js\", function(){\n",
       "         LDAvis_load_lib(\"https://cdn.jsdelivr.net/gh/bmabey/pyLDAvis@3.3.1/pyLDAvis/js/ldavis.v3.0.0.js\", function(){\n",
       "                 new LDAvis(\"#\" + \"ldavis_el424091404072914242087056523035\", ldavis_el424091404072914242087056523035_data);\n",
       "            })\n",
       "         });\n",
       "}\n",
       "</script>"
      ],
      "text/plain": [
       "PreparedData(topic_coordinates=              x         y  topics  cluster       Freq\n",
       "topic                                                \n",
       "0     -0.134528 -0.089530       1        1  71.791636\n",
       "1      0.007939  0.096184       2        1  15.636979\n",
       "2      0.089558 -0.026939       3        1  12.546623\n",
       "3      0.037031  0.020285       4        1   0.024762, topic_info=         Term       Freq      Total Category  logprob  loglift\n",
       "3249    south  23.000000  23.000000  Default  30.0000  30.0000\n",
       "439   brother   8.000000   8.000000  Default  29.0000  29.0000\n",
       "907     death   6.000000   6.000000  Default  28.0000  28.0000\n",
       "784   country   8.000000   8.000000  Default  27.0000  27.0000\n",
       "2242     mind   8.000000   8.000000  Default  26.0000  26.0000\n",
       "...       ...        ...        ...      ...      ...      ...\n",
       "2013     life   0.000356  11.817384   Topic4  -8.2629  -2.1079\n",
       "439   brother   0.000349   8.466779   Topic4  -8.2808  -1.7923\n",
       "859       cuz   0.000350   9.667028   Topic4  -8.2780  -1.9221\n",
       "2375    night   0.000352  13.996950   Topic4  -8.2718  -2.2860\n",
       "3807    watch   0.000350  10.887110   Topic4  -8.2781  -2.0411\n",
       "\n",
       "[253 rows x 6 columns], token_table=      Topic      Freq      Term\n",
       "term                           \n",
       "13        1  1.032013       act\n",
       "42        1  0.910879       air\n",
       "71        1  0.968738  american\n",
       "4344      3  0.871347   answers\n",
       "124       3  0.873025    artist\n",
       "...     ...       ...       ...\n",
       "3911      1  0.911456   wu_tang\n",
       "3922      1  0.811140      year\n",
       "3922      3  0.162228      year\n",
       "3934      1  0.865280     young\n",
       "3934      3  0.144213     young\n",
       "\n",
       "[208 rows x 3 columns], R=30, lambda_step=0.01, plot_opts={'xlab': 'PC1', 'ylab': 'PC2'}, topic_order=[1, 2, 3, 4])"
      ]
     },
     "execution_count": 33,
     "metadata": {},
     "output_type": "execute_result"
    }
   ],
   "source": [
    "pyLDAvis.enable_notebook()\n",
    "vis = pyLDAvis.gensim_models.prepare(lda_model, corpus, id2word, mds=\"mmds\", R=30)\n",
    "vis"
   ]
  },
  {
   "cell_type": "code",
   "execution_count": null,
   "metadata": {},
   "outputs": [],
   "source": []
  }
 ],
 "metadata": {
  "interpreter": {
   "hash": "2ddbd0b842a978e03471eb3a4ae18fdd24eb8ad76bdab23b363108c4c8f6a59c"
  },
  "kernelspec": {
   "display_name": "Python 3.8.11 64-bit ('ada': conda)",
   "name": "python3"
  },
  "language_info": {
   "codemirror_mode": {
    "name": "ipython",
    "version": 3
   },
   "file_extension": ".py",
   "mimetype": "text/x-python",
   "name": "python",
   "nbconvert_exporter": "python",
   "pygments_lexer": "ipython3",
   "version": "3.8.11"
  },
  "orig_nbformat": 4
 },
 "nbformat": 4,
 "nbformat_minor": 2
}
