{
 "cells": [
  {
   "cell_type": "markdown",
   "metadata": {},
   "source": [
    "## Import"
   ]
  },
  {
   "cell_type": "code",
   "execution_count": 1,
   "metadata": {},
   "outputs": [],
   "source": [
    "import pandas as pd\n",
    "import numpy as np\n",
    "import json\n",
    "import glob\n",
    "import re\n",
    "\n",
    "#Gensim\n",
    "import gensim\n",
    "import gensim.corpora as corpora\n",
    "from gensim.utils import simple_preprocess\n",
    "from gensim.models import CoherenceModel\n",
    "\n",
    "from wordcloud import WordCloud, STOPWORDS\n",
    "\n",
    "#spacy\n",
    "import spacy\n",
    "#from nltk.corpus import STOPWORDS\n",
    "\n",
    "#vis\n",
    "import pyLDAvis\n",
    "import pyLDAvis.gensim_models\n",
    "\n",
    "import warnings\n"
   ]
  },
  {
   "cell_type": "code",
   "execution_count": 2,
   "metadata": {},
   "outputs": [
    {
     "data": {
      "text/html": [
       "<div>\n",
       "<style scoped>\n",
       "    .dataframe tbody tr th:only-of-type {\n",
       "        vertical-align: middle;\n",
       "    }\n",
       "\n",
       "    .dataframe tbody tr th {\n",
       "        vertical-align: top;\n",
       "    }\n",
       "\n",
       "    .dataframe thead th {\n",
       "        text-align: right;\n",
       "    }\n",
       "</style>\n",
       "<table border=\"1\" class=\"dataframe\">\n",
       "  <thead>\n",
       "    <tr style=\"text-align: right;\">\n",
       "      <th></th>\n",
       "      <th>Unnamed: 0</th>\n",
       "      <th>Artist</th>\n",
       "      <th>Song Name</th>\n",
       "      <th>release date</th>\n",
       "      <th>GPE</th>\n",
       "      <th>Line</th>\n",
       "      <th>Line Before</th>\n",
       "      <th>Line After</th>\n",
       "      <th>polarity</th>\n",
       "      <th>pos</th>\n",
       "      <th>neg</th>\n",
       "      <th>neu</th>\n",
       "      <th>compound</th>\n",
       "    </tr>\n",
       "  </thead>\n",
       "  <tbody>\n",
       "    <tr>\n",
       "      <th>4054</th>\n",
       "      <td>4054</td>\n",
       "      <td>Immortal Technique</td>\n",
       "      <td>Harlem Streets</td>\n",
       "      <td>2011-10-27</td>\n",
       "      <td>Harlem</td>\n",
       "      <td>\"Homicide Harlem—blaow! What\\'s the problem?\"</td>\n",
       "      <td>\"Homicide Harlem—blaow! What\\'s the problem?\"</td>\n",
       "      <td>\"—blaow!\"13Embed', \"Hip hop speech LyricsYou n...</td>\n",
       "      <td>{'neg': 0.0, 'neu': 1.0, 'pos': 0.0, 'compound...</td>\n",
       "      <td>0.0</td>\n",
       "      <td>0.000</td>\n",
       "      <td>1.000</td>\n",
       "      <td>0.0000</td>\n",
       "    </tr>\n",
       "    <tr>\n",
       "      <th>658</th>\n",
       "      <td>658</td>\n",
       "      <td>De La Soul</td>\n",
       "      <td>Come on Down</td>\n",
       "      <td>1989-03-03</td>\n",
       "      <td>Jersey</td>\n",
       "      <td>Memphis (c\\'mon) Utah (c\\'mon) Jersey (c\\'mon)...</td>\n",
       "      <td>New Orleans (c\\'mon) Little Rock (c\\'mon) B-Mo...</td>\n",
       "      <td>Atlanta (c\\'mon) Brooklyn (c\\'mon) Philly (c\\'...</td>\n",
       "      <td>{'neg': 0.0, 'neu': 1.0, 'pos': 0.0, 'compound...</td>\n",
       "      <td>0.0</td>\n",
       "      <td>0.000</td>\n",
       "      <td>1.000</td>\n",
       "      <td>0.0000</td>\n",
       "    </tr>\n",
       "    <tr>\n",
       "      <th>1568</th>\n",
       "      <td>1568</td>\n",
       "      <td>Queen Latifah</td>\n",
       "      <td>Brownsville</td>\n",
       "      <td>1993-11-16</td>\n",
       "      <td>Brooklyn</td>\n",
       "      <td>Lay my head all up in Brooklyn</td>\n",
       "      <td>That\\'s where the fuck I\\'m at</td>\n",
       "      <td>But Jersey\\'s on the map</td>\n",
       "      <td>{'neg': 0.412, 'neu': 0.588, 'pos': 0.0, 'comp...</td>\n",
       "      <td>0.0</td>\n",
       "      <td>0.412</td>\n",
       "      <td>0.588</td>\n",
       "      <td>-0.5423</td>\n",
       "    </tr>\n",
       "    <tr>\n",
       "      <th>2761</th>\n",
       "      <td>2761</td>\n",
       "      <td>Ma$e</td>\n",
       "      <td>Do You Remember</td>\n",
       "      <td>NaN</td>\n",
       "      <td>Harlem</td>\n",
       "      <td>Harlem World style, pursue my dream, cuz see</td>\n",
       "      <td>I\\'m just a young cat tryin\\' to do his thing</td>\n",
       "      <td>The things that went 3 mil, I didn\\'t even lik...</td>\n",
       "      <td>{'neg': 0.0, 'neu': 1.0, 'pos': 0.0, 'compound...</td>\n",
       "      <td>0.0</td>\n",
       "      <td>0.000</td>\n",
       "      <td>1.000</td>\n",
       "      <td>0.0000</td>\n",
       "    </tr>\n",
       "    <tr>\n",
       "      <th>3602</th>\n",
       "      <td>3602</td>\n",
       "      <td>Big Pun</td>\n",
       "      <td>New York Giants</td>\n",
       "      <td>1999-11-16</td>\n",
       "      <td>South Bronx</td>\n",
       "      <td>[Pun] South Bronx, Brook-lawn pa-pa</td>\n",
       "      <td>[MOP] Form the alliance</td>\n",
       "      <td>[MOP] New York Giants</td>\n",
       "      <td>{'neg': 0.0, 'neu': 1.0, 'pos': 0.0, 'compound...</td>\n",
       "      <td>0.0</td>\n",
       "      <td>0.000</td>\n",
       "      <td>1.000</td>\n",
       "      <td>0.0000</td>\n",
       "    </tr>\n",
       "  </tbody>\n",
       "</table>\n",
       "</div>"
      ],
      "text/plain": [
       "      Unnamed: 0              Artist        Song Name release date  \\\n",
       "4054        4054  Immortal Technique   Harlem Streets   2011-10-27   \n",
       "658          658          De La Soul     Come on Down   1989-03-03   \n",
       "1568        1568       Queen Latifah      Brownsville   1993-11-16   \n",
       "2761        2761                Ma$e  Do You Remember          NaN   \n",
       "3602        3602             Big Pun  New York Giants   1999-11-16   \n",
       "\n",
       "              GPE                                               Line  \\\n",
       "4054       Harlem      \"Homicide Harlem—blaow! What\\'s the problem?\"   \n",
       "658        Jersey  Memphis (c\\'mon) Utah (c\\'mon) Jersey (c\\'mon)...   \n",
       "1568     Brooklyn                     Lay my head all up in Brooklyn   \n",
       "2761       Harlem       Harlem World style, pursue my dream, cuz see   \n",
       "3602  South Bronx                [Pun] South Bronx, Brook-lawn pa-pa   \n",
       "\n",
       "                                            Line Before  \\\n",
       "4054      \"Homicide Harlem—blaow! What\\'s the problem?\"   \n",
       "658   New Orleans (c\\'mon) Little Rock (c\\'mon) B-Mo...   \n",
       "1568                     That\\'s where the fuck I\\'m at   \n",
       "2761      I\\'m just a young cat tryin\\' to do his thing   \n",
       "3602                            [MOP] Form the alliance   \n",
       "\n",
       "                                             Line After  \\\n",
       "4054  \"—blaow!\"13Embed', \"Hip hop speech LyricsYou n...   \n",
       "658   Atlanta (c\\'mon) Brooklyn (c\\'mon) Philly (c\\'...   \n",
       "1568                           But Jersey\\'s on the map   \n",
       "2761  The things that went 3 mil, I didn\\'t even lik...   \n",
       "3602                              [MOP] New York Giants   \n",
       "\n",
       "                                               polarity  pos    neg    neu  \\\n",
       "4054  {'neg': 0.0, 'neu': 1.0, 'pos': 0.0, 'compound...  0.0  0.000  1.000   \n",
       "658   {'neg': 0.0, 'neu': 1.0, 'pos': 0.0, 'compound...  0.0  0.000  1.000   \n",
       "1568  {'neg': 0.412, 'neu': 0.588, 'pos': 0.0, 'comp...  0.0  0.412  0.588   \n",
       "2761  {'neg': 0.0, 'neu': 1.0, 'pos': 0.0, 'compound...  0.0  0.000  1.000   \n",
       "3602  {'neg': 0.0, 'neu': 1.0, 'pos': 0.0, 'compound...  0.0  0.000  1.000   \n",
       "\n",
       "      compound  \n",
       "4054    0.0000  \n",
       "658     0.0000  \n",
       "1568   -0.5423  \n",
       "2761    0.0000  \n",
       "3602    0.0000  "
      ]
     },
     "execution_count": 2,
     "metadata": {},
     "output_type": "execute_result"
    }
   ],
   "source": [
    "DATA_PATH = 'data/wordclouds/unfiltered_polarity.csv'\n",
    "data = pd.read_csv(DATA_PATH)\n",
    "data.sample(5)"
   ]
  },
  {
   "cell_type": "code",
   "execution_count": 3,
   "metadata": {},
   "outputs": [],
   "source": [
    "labels = []\n",
    "for i, row in data.iterrows():\n",
    "    #positive 1\n",
    "    if row.compound >= 0.5:\n",
    "        labels.append(1)\n",
    "    elif row.compound <= -0.5:\n",
    "        labels.append(-1)\n",
    "    else:\n",
    "        labels.append(0)\n",
    "data['labels'] = labels"
   ]
  },
  {
   "cell_type": "code",
   "execution_count": 4,
   "metadata": {},
   "outputs": [
    {
     "data": {
      "text/plain": [
       "0       0\n",
       "1       0\n",
       "2       0\n",
       "3       0\n",
       "4       0\n",
       "       ..\n",
       "4336    1\n",
       "4337    1\n",
       "4338    0\n",
       "4339    0\n",
       "4340    1\n",
       "Name: labels, Length: 4341, dtype: int64"
      ]
     },
     "execution_count": 4,
     "metadata": {},
     "output_type": "execute_result"
    }
   ],
   "source": [
    "data.labels"
   ]
  },
  {
   "cell_type": "code",
   "execution_count": 5,
   "metadata": {},
   "outputs": [],
   "source": [
    "data['GPE'] = data['GPE'].replace(['NYC'],'New York City')\n",
    "data['GPE'] = data['GPE'].replace(['New York'],'New York City')\n",
    "data['GPE'] = data['GPE'].replace(['South Bronx'],'Bronx')"
   ]
  },
  {
   "cell_type": "code",
   "execution_count": 6,
   "metadata": {},
   "outputs": [
    {
     "data": {
      "text/plain": [
       "array(['Harlem', 'New York City', 'Bronx', 'Jersey', 'East Coast',\n",
       "       'West Coast', 'Broadway', 'Brooklyn', 'America', 'Jamaica',\n",
       "       'Manhattan', 'Queens', 'Staten Island', 'Chinatown', 'Long Island',\n",
       "       'Queensbridge', 'Brownsville', 'SoHo', \"Hell's Kitchen\", 'Chelsea'],\n",
       "      dtype=object)"
      ]
     },
     "execution_count": 6,
     "metadata": {},
     "output_type": "execute_result"
    }
   ],
   "source": [
    "data.GPE.unique()"
   ]
  },
  {
   "cell_type": "code",
   "execution_count": 7,
   "metadata": {},
   "outputs": [
    {
     "data": {
      "text/plain": [
       "Index(['Unnamed: 0', 'Artist', 'Song Name', 'release date', 'GPE', 'Line',\n",
       "       'Line Before', 'Line After', 'polarity', 'pos', 'neg', 'neu',\n",
       "       'compound', 'labels'],\n",
       "      dtype='object')"
      ]
     },
     "execution_count": 7,
     "metadata": {},
     "output_type": "execute_result"
    }
   ],
   "source": [
    "data.columns"
   ]
  },
  {
   "cell_type": "code",
   "execution_count": 8,
   "metadata": {},
   "outputs": [
    {
     "data": {
      "text/html": [
       "<div>\n",
       "<style scoped>\n",
       "    .dataframe tbody tr th:only-of-type {\n",
       "        vertical-align: middle;\n",
       "    }\n",
       "\n",
       "    .dataframe tbody tr th {\n",
       "        vertical-align: top;\n",
       "    }\n",
       "\n",
       "    .dataframe thead th {\n",
       "        text-align: right;\n",
       "    }\n",
       "</style>\n",
       "<table border=\"1\" class=\"dataframe\">\n",
       "  <thead>\n",
       "    <tr style=\"text-align: right;\">\n",
       "      <th></th>\n",
       "      <th>Unnamed: 0</th>\n",
       "      <th>pos</th>\n",
       "      <th>neg</th>\n",
       "      <th>neu</th>\n",
       "      <th>compound</th>\n",
       "    </tr>\n",
       "    <tr>\n",
       "      <th>labels</th>\n",
       "      <th></th>\n",
       "      <th></th>\n",
       "      <th></th>\n",
       "      <th></th>\n",
       "      <th></th>\n",
       "    </tr>\n",
       "  </thead>\n",
       "  <tbody>\n",
       "    <tr>\n",
       "      <th>-1</th>\n",
       "      <td>960687</td>\n",
       "      <td>5.114</td>\n",
       "      <td>185.997</td>\n",
       "      <td>249.889</td>\n",
       "      <td>-285.2800</td>\n",
       "    </tr>\n",
       "    <tr>\n",
       "      <th>0</th>\n",
       "      <td>7902231</td>\n",
       "      <td>216.440</td>\n",
       "      <td>182.701</td>\n",
       "      <td>3249.864</td>\n",
       "      <td>35.4176</td>\n",
       "    </tr>\n",
       "    <tr>\n",
       "      <th>1</th>\n",
       "      <td>557052</td>\n",
       "      <td>112.446</td>\n",
       "      <td>2.191</td>\n",
       "      <td>135.364</td>\n",
       "      <td>162.2661</td>\n",
       "    </tr>\n",
       "  </tbody>\n",
       "</table>\n",
       "</div>"
      ],
      "text/plain": [
       "        Unnamed: 0      pos      neg       neu  compound\n",
       "labels                                                  \n",
       "-1          960687    5.114  185.997   249.889 -285.2800\n",
       " 0         7902231  216.440  182.701  3249.864   35.4176\n",
       " 1          557052  112.446    2.191   135.364  162.2661"
      ]
     },
     "execution_count": 8,
     "metadata": {},
     "output_type": "execute_result"
    }
   ],
   "source": [
    "data.groupby('labels').sum()"
   ]
  },
  {
   "cell_type": "markdown",
   "metadata": {},
   "source": [
    "## Dropping duplicated and NA lines"
   ]
  },
  {
   "cell_type": "code",
   "execution_count": 9,
   "metadata": {},
   "outputs": [
    {
     "data": {
      "text/html": [
       "<div>\n",
       "<style scoped>\n",
       "    .dataframe tbody tr th:only-of-type {\n",
       "        vertical-align: middle;\n",
       "    }\n",
       "\n",
       "    .dataframe tbody tr th {\n",
       "        vertical-align: top;\n",
       "    }\n",
       "\n",
       "    .dataframe thead th {\n",
       "        text-align: right;\n",
       "    }\n",
       "</style>\n",
       "<table border=\"1\" class=\"dataframe\">\n",
       "  <thead>\n",
       "    <tr style=\"text-align: right;\">\n",
       "      <th></th>\n",
       "      <th>Artist</th>\n",
       "      <th>Song Name</th>\n",
       "      <th>release date</th>\n",
       "      <th>GPE</th>\n",
       "      <th>Line</th>\n",
       "      <th>labels</th>\n",
       "    </tr>\n",
       "  </thead>\n",
       "  <tbody>\n",
       "    <tr>\n",
       "      <th>2061</th>\n",
       "      <td>Big L</td>\n",
       "      <td>American Dream</td>\n",
       "      <td>NaN</td>\n",
       "      <td>Harlem</td>\n",
       "      <td>Yea What? Harlem on the Rise</td>\n",
       "      <td>0</td>\n",
       "    </tr>\n",
       "    <tr>\n",
       "      <th>4153</th>\n",
       "      <td>Joey bada$$</td>\n",
       "      <td>Born Day (AquariUS)</td>\n",
       "      <td>2012-09-06</td>\n",
       "      <td>Brooklyn</td>\n",
       "      <td>To the world</td>\n",
       "      <td>0</td>\n",
       "    </tr>\n",
       "    <tr>\n",
       "      <th>4231</th>\n",
       "      <td>Ol' Dirty Bastard</td>\n",
       "      <td>Brooklyn Zoo II</td>\n",
       "      <td>2020-03-28</td>\n",
       "      <td>Brooklyn</td>\n",
       "      <td>Is the Brooklyn Zoo in the muthafucka house?</td>\n",
       "      <td>-1</td>\n",
       "    </tr>\n",
       "    <tr>\n",
       "      <th>3907</th>\n",
       "      <td>Action Bronson</td>\n",
       "      <td>Industry Shakedown Cypher</td>\n",
       "      <td>2015-03-23</td>\n",
       "      <td>New York City</td>\n",
       "      <td>Cock Glocks, pop shots, turn your face to a bl...</td>\n",
       "      <td>-1</td>\n",
       "    </tr>\n",
       "    <tr>\n",
       "      <th>2879</th>\n",
       "      <td>Puff Daddy</td>\n",
       "      <td>Intro</td>\n",
       "      <td>2015-11-04</td>\n",
       "      <td>West Coast</td>\n",
       "      <td>Left my East Coast girl the Bentley to twirl (...</td>\n",
       "      <td>0</td>\n",
       "    </tr>\n",
       "  </tbody>\n",
       "</table>\n",
       "</div>"
      ],
      "text/plain": [
       "                 Artist                  Song Name release date  \\\n",
       "2061              Big L             American Dream          NaN   \n",
       "4153        Joey bada$$        Born Day (AquariUS)   2012-09-06   \n",
       "4231  Ol' Dirty Bastard            Brooklyn Zoo II   2020-03-28   \n",
       "3907     Action Bronson  Industry Shakedown Cypher   2015-03-23   \n",
       "2879         Puff Daddy                      Intro   2015-11-04   \n",
       "\n",
       "                GPE                                               Line  labels  \n",
       "2061         Harlem                       Yea What? Harlem on the Rise       0  \n",
       "4153       Brooklyn                                       To the world       0  \n",
       "4231       Brooklyn       Is the Brooklyn Zoo in the muthafucka house?      -1  \n",
       "3907  New York City  Cock Glocks, pop shots, turn your face to a bl...      -1  \n",
       "2879     West Coast  Left my East Coast girl the Bentley to twirl (...       0  "
      ]
     },
     "execution_count": 9,
     "metadata": {},
     "output_type": "execute_result"
    }
   ],
   "source": [
    "df1 = data[['Artist', 'Song Name', 'release date', 'GPE', 'Line Before', 'labels']]\n",
    "df1.columns = ['Artist', 'Song Name', 'release date', 'GPE', 'Line', 'labels']\n",
    "df2 = data[['Artist', 'Song Name', 'release date', 'GPE', 'Line', 'labels']]\n",
    "df3 = data[['Artist', 'Song Name', 'release date', 'GPE', 'Line After', 'labels']]\n",
    "df3.columns = ['Artist', 'Song Name', 'release date', 'GPE', 'Line', 'labels']\n",
    "df_lines = pd.concat([df1, df2, df3])\n",
    "df_lines.sample(5)"
   ]
  },
  {
   "cell_type": "code",
   "execution_count": 10,
   "metadata": {},
   "outputs": [
    {
     "data": {
      "text/plain": [
       "((4341, 14), (13023, 6))"
      ]
     },
     "execution_count": 10,
     "metadata": {},
     "output_type": "execute_result"
    }
   ],
   "source": [
    "data.shape, df_lines.shape"
   ]
  },
  {
   "cell_type": "code",
   "execution_count": 11,
   "metadata": {},
   "outputs": [
    {
     "data": {
      "text/plain": [
       "4417"
      ]
     },
     "execution_count": 11,
     "metadata": {},
     "output_type": "execute_result"
    }
   ],
   "source": [
    "df_lines.duplicated(subset=['Line']).sum()"
   ]
  },
  {
   "cell_type": "code",
   "execution_count": 12,
   "metadata": {},
   "outputs": [
    {
     "data": {
      "text/plain": [
       "(8605, 6)"
      ]
     },
     "execution_count": 12,
     "metadata": {},
     "output_type": "execute_result"
    }
   ],
   "source": [
    "df_lines = df_lines.drop_duplicates(subset=['Line'])\n",
    "df_lines = df_lines.dropna(subset=['Line'])\n",
    "df_lines.shape"
   ]
  },
  {
   "cell_type": "code",
   "execution_count": 13,
   "metadata": {},
   "outputs": [
    {
     "data": {
      "text/plain": [
       "array(['Harlem', 'New York City', 'Bronx', 'Jersey', 'East Coast',\n",
       "       'West Coast', 'Broadway', 'Brooklyn', 'America', 'Jamaica',\n",
       "       'Manhattan', 'Queens', 'Chinatown', 'Long Island', 'Queensbridge',\n",
       "       'Brownsville', 'Staten Island', 'SoHo', \"Hell's Kitchen\",\n",
       "       'Chelsea'], dtype=object)"
      ]
     },
     "execution_count": 13,
     "metadata": {},
     "output_type": "execute_result"
    }
   ],
   "source": [
    "df_lines.GPE.unique()"
   ]
  },
  {
   "cell_type": "code",
   "execution_count": 14,
   "metadata": {},
   "outputs": [
    {
     "data": {
      "text/plain": [
       "array([ 0, -1,  1])"
      ]
     },
     "execution_count": 14,
     "metadata": {},
     "output_type": "execute_result"
    }
   ],
   "source": [
    "df_lines.labels.unique()"
   ]
  },
  {
   "cell_type": "code",
   "execution_count": 15,
   "metadata": {},
   "outputs": [
    {
     "data": {
      "text/plain": [
       "array(['Harlem', 'New York City', 'Bronx', 'Jersey', 'East Coast',\n",
       "       'West Coast', 'Broadway', 'Brooklyn', 'America', 'Jamaica',\n",
       "       'Manhattan', 'Queens', 'Chinatown', 'Long Island', 'Queensbridge',\n",
       "       'Brownsville', 'Staten Island', 'SoHo', \"Hell's Kitchen\",\n",
       "       'Chelsea'], dtype=object)"
      ]
     },
     "execution_count": 15,
     "metadata": {},
     "output_type": "execute_result"
    }
   ],
   "source": [
    "df_lines.GPE.unique()"
   ]
  },
  {
   "cell_type": "markdown",
   "metadata": {},
   "source": [
    "## Creating corpus by labels"
   ]
  },
  {
   "cell_type": "code",
   "execution_count": 16,
   "metadata": {},
   "outputs": [
    {
     "name": "stderr",
     "output_type": "stream",
     "text": [
      "<>:13: DeprecationWarning: invalid escape sequence \\(\n",
      "<>:13: DeprecationWarning: invalid escape sequence \\(\n",
      "/var/folders/z2/v95s75vx1flf254b1kb3nfdw0000gn/T/ipykernel_2584/4213801177.py:13: DeprecationWarning: invalid escape sequence \\(\n",
      "  line = re.sub(\"[\\(\\[].*?[\\)\\]]\", \"\", line)\n"
     ]
    }
   ],
   "source": [
    "corpus = []\n",
    "i = 0\n",
    "#For each neighborhood create 3 corpus (pos, neg, neutral)\n",
    "for neighborhood in df_lines.GPE.unique():\n",
    "    for label in df_lines.labels.unique():\n",
    "        temp = []\n",
    "        df_temp = df_lines[df_lines.GPE==neighborhood]\n",
    "        for j, row in df_temp[df_temp.labels==label].iterrows():\n",
    "            #Cleaning lyrics\n",
    "            line = row.Line.replace('\\\\n', ' ')\n",
    "            line = line.replace(\"\\'\", '')\n",
    "            line = line.replace(\"\\\\\", '')\n",
    "            line = re.sub(\"[\\(\\[].*?[\\)\\]]\", \"\", line)\n",
    "            line = line.lower()\n",
    "\n",
    "            # Remove words shorter than 3 character\n",
    "            line = ' '.join([w for w in line.split() if len(w)>2])\n",
    "            #appening the cleaned line in a temporary list  \n",
    "            temp.append(line)\n",
    "            i += 1\n",
    "            #if i==5: break\n",
    "\n",
    "        corpus_i = \" \".join(temp)\n",
    "        corpus.append(corpus_i)\n"
   ]
  },
  {
   "cell_type": "code",
   "execution_count": 17,
   "metadata": {},
   "outputs": [
    {
     "data": {
      "text/plain": [
       "(26674, 4677, 2288)"
      ]
     },
     "execution_count": 17,
     "metadata": {},
     "output_type": "execute_result"
    }
   ],
   "source": [
    "len(corpus[0]), len(corpus[1]), len(corpus[10])\n"
   ]
  },
  {
   "cell_type": "code",
   "execution_count": 18,
   "metadata": {},
   "outputs": [
    {
     "data": {
      "text/plain": [
       "60"
      ]
     },
     "execution_count": 18,
     "metadata": {},
     "output_type": "execute_result"
    }
   ],
   "source": [
    "len(corpus)"
   ]
  },
  {
   "cell_type": "code",
   "execution_count": 19,
   "metadata": {},
   "outputs": [
    {
     "data": {
      "text/plain": [
       "'motthaven, you know, tremont stunting the stunners, smoking out the whips its sort like all the real'"
      ]
     },
     "execution_count": 19,
     "metadata": {},
     "output_type": "execute_result"
    }
   ],
   "source": [
    "corpus[0][0:100]"
   ]
  },
  {
   "cell_type": "markdown",
   "metadata": {},
   "source": [
    "## Lematization"
   ]
  },
  {
   "cell_type": "code",
   "execution_count": 20,
   "metadata": {},
   "outputs": [
    {
     "data": {
      "text/plain": [
       "26674"
      ]
     },
     "execution_count": 20,
     "metadata": {},
     "output_type": "execute_result"
    }
   ],
   "source": [
    "def lemmatization(texts, allowed_postags=['NOUN', 'ADJ', 'VERB', 'ADV']):\n",
    "    nlp = spacy.load('en_core_web_sm', disable=['parser', 'ner'])\n",
    "    texts_out = []\n",
    "\n",
    "    for text in texts:\n",
    "        doc = nlp(text)\n",
    "        new_text = []\n",
    "\n",
    "        for token in doc:\n",
    "            if token.pos_ in allowed_postags: #pos = part of speach\n",
    "                new_text.append(token.lemma_)\n",
    "        final = \" \".join(new_text)\n",
    "        texts_out.append(final)\n",
    "        \n",
    "    return texts_out\n",
    "\n",
    "lemmatized_corpus = corpus  #Not activated in this case\n",
    "len(lemmatized_corpus[0])"
   ]
  },
  {
   "cell_type": "code",
   "execution_count": 21,
   "metadata": {},
   "outputs": [
    {
     "data": {
      "text/plain": [
       "2274"
      ]
     },
     "execution_count": 21,
     "metadata": {},
     "output_type": "execute_result"
    }
   ],
   "source": [
    "len(corpus[2])"
   ]
  },
  {
   "cell_type": "markdown",
   "metadata": {},
   "source": [
    "## Removing stop words"
   ]
  },
  {
   "cell_type": "code",
   "execution_count": 22,
   "metadata": {},
   "outputs": [],
   "source": [
    "\n",
    "def gen_words(texts):\n",
    "    final = []\n",
    "    for i,text in enumerate(texts):\n",
    "        new = gensim.utils.simple_preprocess(text, deacc=True) #remove the accent in case there are\n",
    "        final.append(new)\n",
    "    return final\n",
    "\n",
    "data_words = gen_words(lemmatized_corpus)  "
   ]
  },
  {
   "cell_type": "code",
   "execution_count": 23,
   "metadata": {},
   "outputs": [
    {
     "data": {
      "text/plain": [
       "4591"
      ]
     },
     "execution_count": 23,
     "metadata": {},
     "output_type": "execute_result"
    }
   ],
   "source": [
    "len(data_words[0])"
   ]
  },
  {
   "cell_type": "code",
   "execution_count": 24,
   "metadata": {},
   "outputs": [
    {
     "data": {
      "text/plain": [
       "1105"
      ]
     },
     "execution_count": 24,
     "metadata": {},
     "output_type": "execute_result"
    }
   ],
   "source": [
    "# Stopwords removal \n",
    "PATH_DATA = './data/wordclouds/'\n",
    "PATH_STOPWORD = PATH_DATA + 'stopword_list.csv'\n",
    "sw = pd.read_csv(PATH_STOPWORD, header=None)\n",
    "sw_list = list(sw.values.flatten())\n",
    "sw_list =  sw_list[:-2] #remove 2 NaNs at the end of the list\n",
    "\n",
    "# Wordcloud library stopwords\n",
    "stopwords =  list(STOPWORDS) + sw_list\n",
    "\n",
    "# Additionnal handpicked stopwords\n",
    "add_sw = ['//', 'yeah', 'huh', 'yo', 's', 'nt', 'lyric', 'lyrics', 'll','harlem', 'new','york', \n",
    "        'bronx', 'jersey', 'west',\n",
    "       'manhattan', 'brooklyn', 'taten', 'america', 'east', 'Coast',\n",
    "       'long', 'island', 'queensbridge', 'brownsville', 'talk', 'man', 'dont', \n",
    "       'aint', 'fuck', 'nyc', 'yall', 'rap', 'ill', 'wanna', 'gotta', 'staten', 'youre','coast', 'queens', 'nigga', 'niggas',\n",
    "       'city', 'em']\n",
    "stopwords = stopwords + add_sw\n",
    "\n",
    "# Adding default spacy stopword list\n",
    "en = spacy.load('en_core_web_sm')\n",
    "spacy_stopwords = en.Defaults.stop_words\n",
    "stopwords = stopwords + list(spacy_stopwords)\n",
    "len(stopwords)"
   ]
  },
  {
   "cell_type": "code",
   "execution_count": 25,
   "metadata": {},
   "outputs": [
    {
     "data": {
      "text/plain": [
       "[4591,\n",
       " 793,\n",
       " 385,\n",
       " 12725,\n",
       " 1483,\n",
       " 1118,\n",
       " 2535,\n",
       " 409,\n",
       " 173,\n",
       " 1742,\n",
       " 393,\n",
       " 132,\n",
       " 650,\n",
       " 78,\n",
       " 66,\n",
       " 364,\n",
       " 157,\n",
       " 93,\n",
       " 642,\n",
       " 56,\n",
       " 19,\n",
       " 8646,\n",
       " 1371,\n",
       " 741,\n",
       " 8549,\n",
       " 1572,\n",
       " 1616,\n",
       " 1452,\n",
       " 110,\n",
       " 130,\n",
       " 620,\n",
       " 116,\n",
       " 29,\n",
       " 4155,\n",
       " 476,\n",
       " 191,\n",
       " 87,\n",
       " 17,\n",
       " 0,\n",
       " 441,\n",
       " 0,\n",
       " 0,\n",
       " 504,\n",
       " 186,\n",
       " 63,\n",
       " 558,\n",
       " 94,\n",
       " 51,\n",
       " 1084,\n",
       " 33,\n",
       " 36,\n",
       " 40,\n",
       " 23,\n",
       " 0,\n",
       " 20,\n",
       " 0,\n",
       " 0,\n",
       " 14,\n",
       " 0,\n",
       " 0]"
      ]
     },
     "execution_count": 25,
     "metadata": {},
     "output_type": "execute_result"
    }
   ],
   "source": [
    "a = []\n",
    "for l in data_words:\n",
    "    a.append(len(l))\n",
    "\n",
    "a"
   ]
  },
  {
   "cell_type": "code",
   "execution_count": 26,
   "metadata": {},
   "outputs": [],
   "source": [
    "\n",
    "new_data_words= []\n",
    "\n",
    "for text in data_words:\n",
    "    tokens_without_sw = []\n",
    "    for word in text:\n",
    "        if not word in stopwords:\n",
    "            tokens_without_sw.append(word)\n",
    "    new_data_words.append(tokens_without_sw)\n",
    "    \n",
    "data_words = new_data_words"
   ]
  },
  {
   "cell_type": "code",
   "execution_count": 27,
   "metadata": {},
   "outputs": [
    {
     "data": {
      "text/plain": [
       "[2078,\n",
       " 396,\n",
       " 182,\n",
       " 6444,\n",
       " 710,\n",
       " 534,\n",
       " 1180,\n",
       " 169,\n",
       " 80,\n",
       " 825,\n",
       " 199,\n",
       " 64,\n",
       " 278,\n",
       " 35,\n",
       " 42,\n",
       " 153,\n",
       " 75,\n",
       " 41,\n",
       " 341,\n",
       " 35,\n",
       " 8,\n",
       " 4015,\n",
       " 659,\n",
       " 358,\n",
       " 4156,\n",
       " 803,\n",
       " 785,\n",
       " 856,\n",
       " 60,\n",
       " 85,\n",
       " 292,\n",
       " 57,\n",
       " 11,\n",
       " 2002,\n",
       " 236,\n",
       " 97,\n",
       " 52,\n",
       " 8,\n",
       " 0,\n",
       " 193,\n",
       " 0,\n",
       " 0,\n",
       " 249,\n",
       " 86,\n",
       " 31,\n",
       " 257,\n",
       " 38,\n",
       " 27,\n",
       " 503,\n",
       " 14,\n",
       " 16,\n",
       " 26,\n",
       " 16,\n",
       " 0,\n",
       " 12,\n",
       " 0,\n",
       " 0,\n",
       " 8,\n",
       " 0,\n",
       " 0]"
      ]
     },
     "execution_count": 27,
     "metadata": {},
     "output_type": "execute_result"
    }
   ],
   "source": [
    "a = []\n",
    "for l in new_data_words:\n",
    "    a.append(len(l))\n",
    "\n",
    "a"
   ]
  },
  {
   "cell_type": "markdown",
   "metadata": {},
   "source": [
    "## Bigrams/trigrams"
   ]
  },
  {
   "cell_type": "code",
   "execution_count": 28,
   "metadata": {},
   "outputs": [],
   "source": [
    "from gensim.models.phrases import Phraser\n",
    "from gensim.models import Phrases"
   ]
  },
  {
   "cell_type": "code",
   "execution_count": 29,
   "metadata": {},
   "outputs": [],
   "source": [
    "bigram_phrases = Phrases(data_words, min_count=2, threshold=10)\n",
    "trigram_phrases = Phrases(bigram_phrases[data_words], threshold=10)\n",
    "\n",
    "bigram = Phraser(bigram_phrases)\n",
    "trigram = Phraser(trigram_phrases)\n",
    "\n",
    "#function changing the individual words by their corresponding bigrams and trigrams\n",
    "def make_bigrams(texts):\n",
    "    b = []\n",
    "    for doc in texts:\n",
    "        b.append(bigram[doc])\n",
    "    return b\n",
    "\n",
    "def make_trigrams(texts):\n",
    "    b = []\n",
    "    for doc in texts:\n",
    "        b.append(trigram[bigram[doc]])\n",
    "    return b\n",
    "\n",
    "data_bigrams = make_bigrams(data_words)\n",
    "data_bigrams_trigrams = make_trigrams(data_bigrams)\n",
    "\n",
    "#print(data_bigrams_trigrams[1])"
   ]
  },
  {
   "cell_type": "markdown",
   "metadata": {},
   "source": [
    "## TF-IDF dictionnary"
   ]
  },
  {
   "cell_type": "code",
   "execution_count": 30,
   "metadata": {},
   "outputs": [],
   "source": [
    "from gensim.models import TfidfModel\n",
    "texts = data_bigrams_trigrams\n",
    "\n",
    "id2word = corpora.Dictionary(texts)\n",
    "\n",
    "corpus = [id2word.doc2bow(text) for text in texts]\n",
    "\n",
    "\n",
    "tfidf = TfidfModel(corpus, id2word=id2word)\n",
    "\n",
    "low_value = 0.05 #threshold filtering word wich appears more than this freq in all the docs\n",
    "words = []\n",
    "words_missing_in_tfidf = []\n",
    "#Creating new corpus by removing too frequent words\n",
    "for i in range(0, len(corpus)):\n",
    "    bow = corpus[i]\n",
    "    low_value_words = [] #reinitialize to be safe. You can skip this.\n",
    "    tfidf_ids = [id for id, value in tfidf[bow]]\n",
    "    bow_ids = [id for id, value in bow]\n",
    "    low_value_words = [id for id, value in tfidf[bow] if value < low_value]\n",
    "    drops = low_value_words + words_missing_in_tfidf\n",
    "    \n",
    "    for item in drops:\n",
    "        words.append(id2word[item])\n",
    "    words_missing_in_tfidf = [id for id in bow_ids if id not in tfidf_ids] # The words with tf-idf socre 0 will be missing\n",
    "\n",
    "    new_bow = [b for b in bow if b[0] not in low_value_words and b[0] not in words_missing_in_tfidf]  \n",
    "\n",
    "    #reassign        \n",
    "    corpus[i] = new_bow"
   ]
  },
  {
   "cell_type": "markdown",
   "metadata": {},
   "source": [
    "## Bag of word and dictionnary"
   ]
  },
  {
   "cell_type": "markdown",
   "metadata": {},
   "source": [
    "id2word = corpora.Dictionary(data_words)\n",
    "\n",
    "corpus = []\n",
    "\n",
    "for i, text in enumerate(data_words):\n",
    "    new = id2word.doc2bow(text)\n",
    "    corpus.append(new)\n",
    "\n",
    "\n",
    "id2word[[0][:1][0]]"
   ]
  },
  {
   "cell_type": "markdown",
   "metadata": {},
   "source": [
    "len(id2word)"
   ]
  },
  {
   "cell_type": "markdown",
   "metadata": {},
   "source": [
    "## Visualization"
   ]
  },
  {
   "cell_type": "code",
   "execution_count": 31,
   "metadata": {},
   "outputs": [],
   "source": [
    "lda_model = gensim.models.ldamodel.LdaModel(corpus=corpus, id2word=id2word, num_topics=10, random_state=100, \n",
    "update_every=1, chunksize=100, passes=10, alpha=\"auto\")"
   ]
  },
  {
   "cell_type": "code",
   "execution_count": 32,
   "metadata": {},
   "outputs": [
    {
     "name": "stderr",
     "output_type": "stream",
     "text": [
      "/opt/anaconda3/envs/ada/lib/python3.8/site-packages/pyLDAvis/_prepare.py:246: FutureWarning: In a future version of pandas all arguments of DataFrame.drop except for the argument 'labels' will be keyword-only\n",
      "  default_term_info = default_term_info.sort_values(\n",
      "/opt/anaconda3/envs/ada/lib/python3.8/site-packages/past/builtins/misc.py:45: DeprecationWarning: the imp module is deprecated in favour of importlib; see the module's documentation for alternative uses\n",
      "  from imp import reload\n",
      "/opt/anaconda3/envs/ada/lib/python3.8/site-packages/past/builtins/misc.py:45: DeprecationWarning: the imp module is deprecated in favour of importlib; see the module's documentation for alternative uses\n",
      "  from imp import reload\n",
      "/opt/anaconda3/envs/ada/lib/python3.8/site-packages/past/builtins/misc.py:45: DeprecationWarning: the imp module is deprecated in favour of importlib; see the module's documentation for alternative uses\n",
      "  from imp import reload\n",
      "/opt/anaconda3/envs/ada/lib/python3.8/site-packages/past/builtins/misc.py:45: DeprecationWarning: the imp module is deprecated in favour of importlib; see the module's documentation for alternative uses\n",
      "  from imp import reload\n"
     ]
    },
    {
     "data": {
      "text/html": [
       "\n",
       "<link rel=\"stylesheet\" type=\"text/css\" href=\"https://cdn.jsdelivr.net/gh/bmabey/pyLDAvis@3.3.1/pyLDAvis/js/ldavis.v1.0.0.css\">\n",
       "\n",
       "\n",
       "<div id=\"ldavis_el25841406839090252321728424104\"></div>\n",
       "<script type=\"text/javascript\">\n",
       "\n",
       "var ldavis_el25841406839090252321728424104_data = {\"mdsDat\": {\"x\": [-0.18087581017252308, -0.0032002411623729653, -0.14341994152425416, 0.06347036271877404, 0.13461969912765903, 0.12618470856079378, 0.02836006327718923, -0.02348306606613016, -0.020585234239802314, 0.018929459480666655], \"y\": [-0.09813640299965923, 0.19739965145791852, 0.08687573188282813, -0.1399358939533968, -0.04815695470211825, 0.0735812602287068, 0.05321185249174394, -0.08684700243106251, -0.01798455599286785, -0.020007685982092727], \"topics\": [1, 2, 3, 4, 5, 6, 7, 8, 9, 10], \"cluster\": [1, 1, 1, 1, 1, 1, 1, 1, 1, 1], \"Freq\": [20.111997746433754, 19.488092843797705, 15.31279769469244, 10.028113668042513, 9.597379460534913, 7.546409213699729, 6.956777902440738, 5.904630175477893, 3.3935289059696436, 1.660272388910673]}, \"tinfo\": {\"Term\": [\"american\", \"black\", \"world\", \"people\", \"walk\", \"shit\", \"broadway\", \"americas\", \"time\", \"jamaican\", \"music\", \"recording_studios\", \"king\", \"jamaica\", \"life\", \"daddys_house\", \"white\", \"real\", \"big\", \"bitch\", \"hip_hop\", \"zoo\", \"live\", \"country\", \"word\", \"embed\", \"house\", \"lookin\", \"run\", \"baby\", \"jamaican\", \"bad_boy\", \"philly\", \"sean_puffy\", \"jamaicans\", \"steve_jones_daddys_house\", \"post\", \"mixed\", \"written\", \"hottest\", \"recorded\", \"recording_studios_produced\", \"puffy_combs\", \"justin_combs\", \"engineers_rasheed\", \"publishing_adm_emi_april\", \"house_recording\", \"carlos_july_broady\", \"john_jm\", \"boy_entertainment\", \"combs_daddys_house_recording\", \"produced\", \"michael_patterson\", \"yorker\", \"state_mind\", \"diggs_family\", \"entertainment_recorded\", \"talking\", \"jamaican_rum\", \"puerto_rico\", \"walk\", \"recording_studios\", \"king\", \"daddys_house\", \"state\", \"slick\", \"jamaica\", \"yorks\", \"music\", \"live\", \"atlanta\", \"fork\", \"dog\", \"god\", \"embed\", \"streets\", \"shit\", \"wu_tang\", \"bitch\", \"world\", \"life\", \"xa_xa\", \"wont\", \"government\", \"sayin\", \"boy\", \"hard_hard\", \"fox\", \"spot\", \"men\", \"racism\", \"zoo_dirty\", \"bump\", \"freaky\", \"central\", \"shook\", \"dream\", \"don_love\", \"satin\", \"brother\", \"hand\", \"public_enemy\", \"marcy\", \"devilish\", \"couldnt_figure\", \"tooken\", \"wind\", \"spread_love\", \"makes\", \"bygones\", \"red\", \"shout\", \"muthafucka\", \"zoo\", \"style\", \"run\", \"lookin\", \"beat\", \"young\", \"house\", \"uh\", \"history\", \"clique\", \"big\", \"hold\", \"people\", \"real\", \"whats\", \"time\", \"building\", \"shit\", \"borough\", \"baby\", \"embed\", \"country\", \"uh_uh\", \"crew\", \"streets\", \"american\", \"black\", \"hip_hop\", \"kings\", \"hollis\", \"killa\", \"home\", \"comin\", \"harlems\", \"hit\", \"world_world\", \"greens\", \"reppin\", \"pump\", \"mase\", \"tonight\", \"means\", \"rest\", \"team\", \"bruh\", \"headed\", \"world_holdin\", \"stardom\", \"lady\", \"cruise\", \"miss\", \"hood\", \"dangerous_yay\", \"raise\", \"drop\", \"fiend\", \"thug_shit\", \"st\", \"word\", \"bout\", \"thing\", \"things\", \"leave\", \"beef\", \"world\", \"money\", \"problem\", \"rep\", \"head\", \"cats\", \"cat\", \"scene\", \"motherfucker\", \"baby\", \"uptown\", \"time\", \"embed\", \"real\", \"love\", \"don\", \"live\", \"jamaica\", \"rock\", \"start\", \"forever\", \"flash\", \"july\", \"called\", \"chinatown\", \"bloood\", \"cmon\", \"recorded_rich\", \"easy\", \"map\", \"good\", \"wild_wild\", \"slugs\", \"ego_trip\", \"puerto\", \"grab\", \"tale\", \"ducks\", \"fat_joe\", \"rounds\", \"fronted\", \"diana_pedraza\", \"heart\", \"bed\", \"bartender\", \"teas\", \"haha\", \"answers\", \"iced\", \"beauty\", \"south\", \"great\", \"rock\", \"respect\", \"paper\", \"jerz\", \"south_south\", \"river\", \"cut_scratched\", \"comp\", \"uptown\", \"love\", \"hold\", \"streets\", \"walk\", \"embed\", \"people\", \"house\", \"crew\", \"daddys_house\", \"king\", \"recording_studios\", \"real\", \"zoo\", \"grand\", \"broadway\", \"broadway_broadway\", \"myrtle\", \"clan\", \"rhyme\", \"islands\", \"august\", \"cuz\", \"theodore\", \"holding\", \"bail\", \"noise\", \"toys\", \"change\", \"cracked\", \"quincy\", \"knight\", \"eighty\", \"social\", \"plot\", \"hurdles\", \"rowdy\", \"bobby\", \"flame\", \"cap\", \"smoke\", \"barrel\", \"gas\", \"til_brains\", \"mushy\", \"play\", \"burn\", \"close\", \"day\", \"stand\", \"representin\", \"wu_tang\", \"gon\", \"representing\", \"night\", \"big\", \"nas\", \"head\", \"turn\", \"light\", \"money\", \"house\", \"streets\", \"black\", \"african\", \"countries\", \"american_express\", \"control\", \"resources\", \"artists\", \"americas_nightmare\", \"card\", \"everyday_american\", \"governments\", \"american\", \"white\", \"black\", \"american_dream\", \"americas\", \"americas_wanted\", \"hate\", \"americans\", \"benzes\", \"chances\", \"diminished\", \"droppin\", \"finished\", \"largest\", \"sad\", \"journey\", \"listen\", \"entrepeneur\", \"greed\", \"destroy\", \"hip_hop\", \"black_people\", \"people\", \"country\", \"world\", \"music\", \"time\", \"death\", \"nas\", \"shit\", \"survival\", \"history\", \"jerseys_finest\", \"craziest\", \"aah\", \"matter\", \"smalls_shit\", \"funk\", \"killed\", \"lot\", \"killer\", \"coolin\", \"milk\", \"jay_biggie\", \"havoc\", \"whassup\", \"ugh\", \"lotta\", \"dutch\", \"minute\", \"texas\", \"orleans\", \"bu_bu\", \"aim\", \"latifah\", \"crooks\", \"gabriel\", \"lay_tile\", \"leavin\", \"pain\", \"lease\", \"step\", \"act\", \"heard\", \"murder\", \"ass\", \"represent\", \"drawers\", \"crazy\", \"town\", \"bitch\", \"set\", \"dad\", \"detroit\", \"dogs\", \"mansion\", \"mid\", \"shit\", \"fuckin\", \"blood\", \"bought\", \"newark\", \"shot\", \"motherfucker\", \"embed\", \"rock\", \"style\", \"zoo\", \"white\", \"turn\", \"kill\", \"lookin\", \"bout\", \"stoppin\", \"stop\", \"ayy\", \"dirty_bastard\", \"thought\", \"bed_stuy\", \"ghost\", \"pimp\", \"told\", \"ready\", \"walkin\", \"bad\", \"violence\", \"brain\", \"president\", \"poor\", \"shouts\", \"owes\", \"rippin\", \"times\", \"client\", \"blowin\", \"lousy\", \"pork\", \"defiant\", \"worst\", \"executioner_style\", \"hooks\", \"pockets\", \"wu\", \"tryin\", \"giant\", \"good_morning\", \"salt\", \"damn\", \"kill\", \"livin\", \"shit\", \"bitch\", \"dick\", \"turn\", \"stop\", \"fuckin\", \"dead\", \"real\", \"die\", \"streets\", \"check\", \"big\", \"fork\", \"yorks\", \"fucked\", \"foul\", \"words\", \"dough\", \"pull\", \"tears\", \"fiends\", \"pants\", \"friends\", \"motherfucking_house\", \"clapped\", \"rugbies\", \"hearted\", \"drugs\", \"fall\", \"wit\", \"mcgriff\", \"remorse\", \"medina\", \"rocks\", \"guess_jeans\", \"cold\", \"kenneth\", \"retarded\", \"shapelle\", \"bag\", \"wear\", \"fake\", \"super\", \"weaved\", \"impulses\", \"ho\", \"ran\", \"soho\", \"cream\", \"police\", \"dime\", \"kid\", \"run\", \"god\", \"shout\", \"rep\", \"play\", \"bitch\", \"block\", \"gun\", \"souullllllll\", \"mind\", \"wingspan\", \"wide\", \"structure\", \"conquer\", \"culture\", \"babylon\", \"land\", \"jah\", \"whitecourt\", \"vacant\", \"stepped\", \"barber\", \"brownstone\", \"dancers\", \"seance\", \"scrap\", \"achmed\", \"fireworks\", \"satans\", \"jazzy\", \"pleasure\", \"everyday\", \"danza\", \"fans\", \"coke\", \"mile\", \"seekers\", \"potent\", \"pushin\", \"shakin\", \"eagle\", \"pray\", \"lover\", \"praise\", \"maker\", \"bringin\", \"lot\", \"body\", \"jamaica\", \"lookin\", \"grew\", \"test\", \"hell\", \"killer\", \"motherfucker\", \"smooth\", \"shirt\", \"crack\"], \"Freq\": [40.0, 24.0, 36.0, 30.0, 28.0, 45.0, 12.0, 13.0, 33.0, 18.0, 17.0, 19.0, 18.0, 20.0, 14.0, 15.0, 8.0, 25.0, 22.0, 13.0, 11.0, 15.0, 20.0, 10.0, 11.0, 52.0, 17.0, 13.0, 8.0, 17.0, 18.01551849314386, 7.807868092064682, 7.214811184256774, 7.211774101830278, 6.642345380576942, 6.615344616272905, 6.022398491160761, 5.424210330308128, 5.424849848597314, 4.827781788921458, 4.825651739816533, 4.825567708624007, 4.232496952979129, 4.232065152244501, 4.2306488961906945, 4.229500155169274, 3.6369084087941492, 3.6363796732007283, 3.6371051110238444, 3.636362363404515, 3.636010502456036, 3.6351125961179225, 3.63554439685255, 3.634842878020564, 3.6341589837083594, 3.633993439111848, 3.633194041250366, 6.024644358538531, 3.0525715468713113, 3.039856714743804, 25.092109381020467, 17.335437371683053, 16.750881147433656, 13.765820008858762, 6.616607287225765, 4.826904654338801, 14.945098028588205, 5.419342815612979, 12.568687091697196, 13.783131063966223, 4.8292767258671425, 5.424193335235483, 8.41090299585701, 8.406115420948007, 17.99758806205553, 10.199274348053395, 13.650765884836062, 5.422100423511524, 5.444318019036506, 5.4768736543071395, 14.130133418067341, 4.755827561844688, 4.737296645476399, 4.174115977189137, 4.1616604811432225, 7.676473198972351, 3.5700501881128135, 3.567095732130324, 3.564928988761663, 2.9993745090202624, 2.9892882500230638, 2.983998712552349, 2.9824519535986758, 2.980198296526979, 2.9795374474235463, 2.978257223825849, 2.4119838000321447, 2.412156865037312, 2.4093809633464978, 2.4099674021217172, 2.4064727088587796, 2.4029633774984887, 2.4026016945097157, 2.400990436439579, 2.4004230576869547, 2.400321353406385, 2.398965347158848, 2.3990115486536197, 2.3962467780160006, 2.3972148746836734, 5.915471662355725, 7.679286153347091, 3.5702197460738234, 12.931164678937183, 7.692497036208512, 7.082728183411241, 9.979818072293707, 5.900305373656182, 5.896196947665668, 12.36583891946693, 4.184715789435151, 3.572546288671926, 3.5624920505126876, 15.232815192489888, 7.067012356140223, 17.128813532344402, 13.553049606897988, 6.500932124735548, 14.796222960352448, 4.156524033773995, 15.24858774238815, 5.904170441278197, 8.251456443171495, 13.50460848323133, 5.794521943290568, 4.768127833066584, 5.315390790323496, 7.066414023910904, 8.089818912671184, 5.583898019997187, 4.754079224092044, 5.869735398742781, 5.348430652625956, 5.327526416653987, 4.795989286891559, 4.287069697936146, 4.266967240702366, 5.869593541894901, 3.744078586199577, 3.2317822291692764, 3.2302484020015676, 3.230104388546202, 3.2152156497181417, 3.2167926090355436, 2.700483763968486, 2.700566433922065, 2.6995233547686457, 2.6916764186241435, 2.6900613592411786, 2.6899691043654457, 2.690197704758821, 2.689779322906795, 2.6882330353402857, 2.688880017585687, 4.798500536495931, 2.1715606821005338, 2.171091260538037, 2.1706803070006804, 2.170546357713577, 2.170273427055239, 2.1693964066781395, 9.561194679300817, 7.446880184388658, 6.932560929537737, 3.7595505675407144, 3.7463593184261432, 3.7593308332003317, 22.215921066850807, 6.5982211126969785, 6.913653712096573, 5.5306266038842535, 4.82529710336213, 4.275100047150114, 3.9854336354851534, 3.230174837724035, 5.3490076649396325, 7.948219537658507, 5.5857106722577194, 10.62797926219152, 12.99713143713731, 7.985375967634957, 5.341104896623582, 3.746627456623404, 5.3579954464435255, 4.2902212203404115, 3.7664591398063307, 2.161237782005877, 2.1598547982725678, 1.741099626779642, 1.740393933162407, 1.737468372542859, 2.171875913205779, 1.314868057464631, 1.3141389819597005, 1.3151635480319543, 1.3151959531313446, 1.3142224662835538, 1.313955536142812, 1.3137320743436254, 1.3136875859868349, 1.3136165772339332, 1.3134569056182925, 1.3133557671846017, 1.312688206444616, 1.3125782801873616, 2.5839637943461473, 0.8942391179849155, 0.8906126499734665, 0.8908314040100297, 0.8904300672463922, 0.8901302612299975, 0.8902958960116277, 0.8901999361168226, 0.8907951542378302, 0.8907307363526012, 0.890144698368709, 0.8906685154232631, 4.27536466958941, 1.7387167142651412, 5.1296227211822805, 1.7380676707248068, 1.3144875133192464, 1.313651257751925, 1.3135160665019256, 1.3133143388735167, 1.313217672814318, 1.3125031129108091, 3.4321256071926682, 3.4380432648101737, 2.1688045688703292, 2.599981015119448, 2.6173595639179905, 3.0479395366427355, 2.592854874836538, 2.169351140110896, 1.7430986997149216, 1.7557236636672833, 1.7596118048178782, 1.7638103444507702, 1.742059853429377, 1.3212473896700627, 1.3150114088365108, 11.629684320027181, 1.6980692851302515, 1.697983529463424, 1.6899523836077264, 1.6892741478960045, 1.689018532931135, 1.2822525220430834, 1.2784451806950181, 1.2781740966694073, 1.2779090200460264, 1.2776495002697075, 1.277475285605049, 1.2774472009996256, 1.2741072355450234, 0.8694957043740902, 0.8697498925809302, 0.8697498174884023, 0.8696938735551392, 0.8696322976822858, 0.8696208085255217, 0.8694836144771031, 0.869444416177555, 0.8693579095854488, 0.8685351207575771, 0.8685141699423014, 0.8684670869273268, 0.8684632572084054, 0.8683054878073506, 0.868244587767248, 0.8681698707020173, 1.6970989394851153, 1.6810091639085198, 1.2811363467088235, 2.525334378588278, 1.277500666879469, 1.630267640976197, 2.515105274441825, 2.112333585296235, 1.2828645261452238, 1.2775801147739556, 3.02888414494687, 1.5062296532554593, 1.6905284934815452, 1.2835526740706247, 1.2837018078309745, 1.5401190612682503, 1.3631204162315753, 1.3304542654977867, 1.2816747601336516, 4.320525773771011, 3.962911353309776, 3.60247008607813, 3.252795588311166, 2.5366428084994124, 2.5356959600824536, 2.1781358611816835, 3.250683424331903, 1.8210602869821833, 1.8204693628766129, 32.30783405579902, 6.817694049003951, 16.694838845604767, 3.96136720390841, 9.187220355626714, 2.6331136486311006, 4.106661317862443, 3.3142951525388558, 0.39525524679099694, 0.3952180188085267, 0.3952264622684684, 0.39518049560018437, 0.39517825188355654, 0.3951956702100097, 0.3951815879359111, 0.3951559032850395, 0.3951437695016967, 0.39512395984567966, 0.39512528836210403, 0.3950891231927733, 5.394829104227709, 2.5946813807834457, 10.78608904575223, 4.058106817674046, 8.59848422803956, 4.679399982073616, 6.117529285340271, 0.7565066728608261, 0.7541247314796495, 1.1229073105012568, 0.40303810932131684, 0.4048977075670089, 1.3856013525022457, 1.0483736602522604, 1.047960414501919, 1.0479849087837492, 1.0478884557450763, 1.0476916305826376, 1.0468928992680293, 1.3856312899578158, 1.7230212976487282, 0.710256825571845, 0.710183614885042, 0.7101965152068058, 0.7100347985149902, 0.7100548838260908, 0.7099631663485717, 0.7099963152766484, 0.7099585940826302, 0.7098727552327503, 0.7100043711737836, 0.7099154841466093, 0.7098449950466762, 0.7098410759615834, 0.7098755856830951, 0.709820065310947, 0.7097536585913189, 0.7097606802854436, 0.7098746603435593, 0.7096923684550065, 0.7098341086991963, 0.7097838682055759, 1.7242998991602554, 1.7239059222449538, 1.3855788177629622, 2.3996331587210142, 1.0470953853311575, 1.0472120869761432, 1.0480296516718919, 1.7237665769972097, 3.763124666081783, 1.0483137853411202, 1.0479064182184183, 1.0480789668259765, 1.0474606222891119, 1.04722199355235, 1.0487140763379603, 6.474868100693003, 1.0492874602597324, 1.3860822024704378, 1.0481417810509361, 1.047958781549797, 1.0478236819775701, 1.728802274751038, 3.4188637401788617, 1.7265843991789356, 1.3856034209082668, 1.3880711381550357, 1.083628334521951, 1.0509745175287097, 1.0509608007308848, 1.0506619704925586, 1.0502724569797237, 1.0492754852775044, 1.049096513724933, 1.0485795210831073, 1.048100412930512, 1.5465231001877633, 1.5421929185923198, 0.9407279784578326, 0.9407831405953471, 0.9404912525008607, 0.9404554941303112, 0.9404373839478106, 0.9404641796260003, 0.6376579088646602, 0.6375138127952232, 0.6374938546349165, 0.6374515821426001, 0.6372914548656945, 0.637299077774145, 0.6372369857198573, 0.6373206991144773, 0.6371614496270297, 0.6371939740364184, 0.6369670423618194, 0.6371030535283544, 0.6370763502490551, 0.6370970937999294, 0.6371829323690266, 0.6369726786941282, 0.6356130752226756, 0.6369396460908427, 0.6369200113266521, 0.6369604820406075, 0.6368681755491887, 0.6368699311281046, 1.5463857954367641, 1.5480415835511023, 0.9406090610860048, 6.408011620348607, 3.067413085023769, 0.9403697479601044, 1.2442380053672115, 1.2447524823884524, 0.9410594132773712, 1.2442532511841125, 2.1560240642113193, 0.9405515889762326, 1.8590876639540879, 0.9372459262765358, 1.233907439835098, 0.9436094378521205, 0.6415953489768451, 0.638145451609376, 0.637605241497184, 0.6375911968658571, 0.620590453143441, 0.6177540198267238, 0.6167547656054544, 0.6166773402637628, 0.4191487517745064, 0.41872925829940844, 0.4179505972670189, 0.41799570894587146, 0.4179709360227582, 0.41792205397404275, 0.4178674632667321, 0.4179128139126886, 0.4178316447530345, 0.4177693539945954, 0.4178155277494657, 0.41779269311508477, 0.41773271237198417, 0.4176900700198728, 0.41772750819949733, 0.4176930969365233, 0.4176471090449561, 0.41765685359241866, 0.4178653922184975, 0.4179415961727687, 0.6177329376177721, 0.2201774657746831, 0.2201774657746831, 0.2201768285290725, 0.22017662938981916, 0.22017581955685567, 0.42037444060275325, 0.41793939236503197, 0.41789303274685863, 0.41798445094008363, 0.41800672798455524, 1.016324438064244, 0.4211355773808505, 0.42023132585936585, 0.41999737706456314, 0.41984892538918667, 0.4195296918901612, 0.4180405285538191, 0.4179619614804085, 0.22954039119539668, 0.22953968971237604, 0.22903916858671236, 0.22900910874023467, 0.22899783305019894, 0.22896312263110283, 0.2289564455519803, 0.22891040748114325, 0.228780840969143, 0.22904639126373985, 0.12022370646623874, 0.12022358955240198, 0.12022353759069673, 0.12022342067685997, 0.12022334273430212, 0.12022319983961272, 0.12022318684918641, 0.12022310890662856, 0.12022292704066025, 0.12022252433744468, 0.12022232948105005, 0.11998183771880216, 0.11996750927858396, 0.11996311851449172, 0.11995949418555167, 0.11994893296896292, 0.11995763655458956, 0.11994772485931623, 0.11994411352080249, 0.11994361988460277, 0.22895299009858228, 0.2286881932487113, 0.22900635476985728, 0.4469089088249137, 0.22954096277415426, 0.22885927716319326, 0.2289510675154886, 0.22884381855588626, 0.2297840136503849, 0.2297712050900448, 0.44705699968482976, 0.22906951422256885, 0.12049168597055528, 0.12046870590641566, 0.12042370706968328, 0.12035275336118666, 0.12030049287614786, 0.12026693860499318, 0.12025114224660215, 0.12023907414056162], \"Total\": [40.0, 24.0, 36.0, 30.0, 28.0, 45.0, 12.0, 13.0, 33.0, 18.0, 17.0, 19.0, 18.0, 20.0, 14.0, 15.0, 8.0, 25.0, 22.0, 13.0, 11.0, 15.0, 20.0, 10.0, 11.0, 52.0, 17.0, 13.0, 8.0, 17.0, 18.455027697395312, 8.153193675661838, 7.557232146810514, 7.555419470445412, 6.971455440616708, 6.9578635808195015, 6.361872979356519, 5.76332269949912, 5.764060152984439, 5.166391573959919, 5.1642690535654285, 5.164684112076773, 4.569017061558416, 4.569279619799313, 4.568173229827879, 4.56729293276701, 3.971552233288384, 3.9710540405168553, 3.972180489874562, 3.9717071957780914, 3.971716868218864, 3.970950537385638, 3.971584391237566, 3.97095384729402, 3.9706542946634724, 3.9704968975169566, 3.970226212664608, 6.668975888353379, 3.380176072706894, 3.3738422503668675, 28.030516596250866, 19.410050347378267, 18.819275184475824, 15.828204254878218, 7.810642396642663, 5.472067536365038, 20.43545490534129, 6.37318354040132, 17.60578964468006, 20.880641992811306, 5.696435042270648, 6.681614209570355, 11.925696671068854, 13.102196834112059, 52.25626415462856, 23.97276479493682, 45.49016595865214, 8.250724040321975, 13.388840862362056, 36.6403897307442, 14.729490740749378, 5.101719938440439, 5.09851020536097, 4.5145819230285635, 4.512706688652169, 8.38774799121022, 3.921504555945991, 3.9207335845004985, 3.919914272905204, 3.335553306470357, 3.332146105329713, 3.3322729264137343, 3.331729931705418, 3.331336082455186, 3.331072283165653, 3.330383339871584, 2.7462146396935285, 2.746436183674832, 2.7440052480517974, 2.7453438717716665, 2.743985941022579, 2.743688836563291, 2.744477307027554, 2.7438836646935068, 2.7435528512142677, 2.743677573092363, 2.743225451832283, 2.7433154679673355, 2.740662822670522, 2.7427571655133467, 6.877506966772644, 8.98115504883629, 4.122977026640293, 15.98394479929205, 9.414169994426205, 8.992001508193143, 13.425845029553678, 7.4697902754840735, 7.467648248822472, 17.31604531815322, 5.109837056985601, 4.279294606803144, 4.279001411918762, 22.801588051975035, 9.579908060057662, 30.84157236705949, 25.937682586314704, 10.114588594533126, 33.0413908424526, 5.361995487425672, 45.49016595865214, 9.906826391548794, 17.841519180818317, 52.25626415462856, 10.710755375545478, 7.505613457801168, 9.653586944422054, 23.97276479493682, 40.92312925915996, 24.779415396847533, 11.366236831351932, 6.218340352188221, 5.690428718599677, 5.683765330431738, 5.152976952092605, 4.628760492215374, 4.622395382440766, 6.41914269352891, 4.0951380681213845, 3.569620190028545, 3.56853022363268, 3.5690056161766033, 3.5622220491896104, 3.564061327606609, 3.038722410165536, 3.0389384052719426, 3.038746491575724, 3.035451430183633, 3.0343017327174633, 3.034241487804454, 3.0354350711764093, 3.035150519636356, 3.0342644808834396, 3.0352444842959505, 5.514006875720236, 2.5085590550903474, 2.508503018763067, 2.50832142566108, 2.508444921709181, 2.50816419222737, 2.5082743627942303, 11.507347433113894, 9.02597186325784, 8.475870794276853, 4.525579745751699, 4.684273929061418, 4.707790535742497, 36.6403897307442, 9.645913226215859, 10.261561884060551, 7.735148192145689, 6.818398785667236, 5.804909921432035, 5.262869962614801, 3.9951371285419963, 8.695406673857581, 17.841519180818317, 10.061334506485078, 33.0413908424526, 52.25626415462856, 25.937682586314704, 10.866747492241004, 5.284030253967345, 20.880641992811306, 20.43545490534129, 11.740431261892958, 2.516670369994292, 2.516452351401011, 2.0906204639075248, 2.0912266480090187, 2.090681211888221, 2.6260422966911356, 1.664111727265642, 1.663467928340632, 1.6650880865504334, 1.665332509644988, 1.6641260808879286, 1.663830590369615, 1.6647436740747519, 1.6647983108423343, 1.6647149323490509, 1.6648334388977823, 1.6647902593645487, 1.6646575655835678, 1.6648644314154617, 3.4720673350286373, 1.239114311712039, 1.2383337070370162, 1.2388634130338585, 1.2384460539426532, 1.2381286137879988, 1.2384211231356221, 1.2382884212232277, 1.2391465154385974, 1.2390677643942887, 1.238284531731239, 1.2390476708365996, 6.765238933579317, 2.6812612103568365, 11.740431261892958, 2.923124285146104, 2.1945361282769724, 2.194818061875177, 2.19449317295871, 2.1941453015818415, 2.1946403202553926, 2.1944817835505126, 10.061334506485078, 10.866747492241004, 9.579908060057662, 23.97276479493682, 28.030516596250866, 52.25626415462856, 30.84157236705949, 17.31604531815322, 9.653586944422054, 15.828204254878218, 18.819275184475824, 19.410050347378267, 25.937682586314704, 15.98394479929205, 2.2553687966530327, 12.590957047185404, 2.045733316232491, 2.0460146918633995, 2.046395271514146, 2.046397210379186, 2.046349497835613, 1.6317505871060745, 1.6311147899023757, 1.6313509602679033, 1.6315092449154038, 1.6314652353296712, 1.6313072719677522, 1.6315898799022892, 1.6331303410238127, 1.2160456920168246, 1.2166887570133487, 1.2166888353220917, 1.2166805811213681, 1.2166919998022077, 1.2166913633469876, 1.216687664810116, 1.216705111901671, 1.2167001464740095, 1.216946861463381, 1.2170046892790227, 1.2170081073563892, 1.2170207912853972, 1.2169401027456062, 1.2170347529780967, 1.2170577060131271, 2.4470250772491875, 2.579288175512633, 1.9713188392607421, 6.2925320582036885, 2.2216980689355528, 3.6142009752131363, 8.250724040321975, 6.167665183978325, 2.8270977082777584, 2.809043043783498, 22.801588051975035, 4.938318454986533, 6.818398785667236, 3.8774970089452125, 4.571930609629855, 9.645913226215859, 17.31604531815322, 23.97276479493682, 24.779415396847533, 4.7051946903477395, 4.346736006250533, 3.9858723471833293, 3.6262996799839606, 2.9062546671592875, 2.906744986525519, 2.5465929345513656, 3.827819175747289, 2.186779281376608, 2.187077398689468, 40.92312925915996, 8.67120873675717, 24.779415396847533, 5.941071009540198, 13.95222451233017, 4.611276895117529, 7.20840636151053, 5.944713771540297, 0.7471392070265069, 0.7471366767089426, 0.7471562392445373, 0.7471065806846856, 0.7471306145617164, 0.7471792159682925, 0.747155165247293, 0.7471231965799197, 0.7471198284845105, 0.7470946372018693, 0.7471280532320135, 0.7470597844976635, 11.366236831351932, 5.815638387153037, 30.84157236705949, 10.710755375545478, 36.6403897307442, 17.60578964468006, 33.0413908424526, 3.716506597367554, 4.938318454986533, 45.49016595865214, 2.507320123953328, 4.279294606803144, 1.7486397058338585, 1.407970323420666, 1.407608780168282, 1.4079607494396784, 1.4080615760542752, 1.4083492371280766, 1.4085603502040056, 1.9667336991880147, 2.5579143987599915, 1.067456354404175, 1.0677272626176282, 1.0678111967542971, 1.067635898120034, 1.067687240977165, 1.0677075594114545, 1.0678536239871435, 1.067840679066451, 1.067715045693134, 1.067946532343792, 1.0678589357986685, 1.0677879148569795, 1.0678238963024087, 1.0679656692386232, 1.0678863307483264, 1.0678394648387861, 1.0678556283922205, 1.0680275968378066, 1.0677588193367462, 1.0679878890299594, 1.0679265728344325, 2.686371836165362, 2.6867911772532405, 2.1631131801439953, 5.7092732186141975, 1.8231805729254493, 1.8235449186121213, 1.8340230068628467, 3.895957383330772, 13.388840862362056, 1.9385140661996072, 1.99719824987551, 1.998156588582321, 1.9976273253680326, 1.9973118922480522, 2.004881365677485, 45.49016595865214, 2.3276790777647, 4.142162218598545, 2.432106132204326, 2.5856160116898397, 2.6039918924801544, 8.695406673857581, 52.25626415462856, 11.740431261892958, 9.414169994426205, 15.98394479929205, 8.67120873675717, 3.8774970089452125, 3.500331128841511, 13.425845029553678, 9.02597186325784, 3.5287751698616634, 3.938039430563816, 3.527053325545264, 3.01829759518809, 1.9169486053602223, 1.9133883169111146, 1.3058296286430076, 1.3064039786265227, 1.3062151059966267, 1.3062844262059348, 1.3063372447083863, 1.3065355090255297, 0.9996334388687177, 0.9997788665704886, 0.9997566999344517, 0.9998172942685032, 0.9997414248692235, 0.9998025093040405, 0.9997675493715132, 0.9998993175393776, 0.9999442806973267, 1.0000232402788054, 0.9996975186724838, 0.999972708645896, 0.999932538021536, 0.9999778403560639, 1.0001520741210959, 0.9998561967358139, 0.9977976144310753, 1.0001004737715737, 1.0000699180132102, 1.0001463220737083, 1.000120521148812, 1.0001501678273828, 2.4471884537258703, 3.500331128841511, 1.8355016378835995, 45.49016595865214, 13.388840862362056, 2.080247133582163, 3.8774970089452125, 3.938039430563816, 2.3276790777647, 5.764704278417448, 25.937682586314704, 2.987068294616394, 23.97276479493682, 5.079224389931355, 22.801588051975035, 6.681614209570355, 6.37318354040132, 2.1268908661202204, 1.589466429213828, 1.4257174236702108, 0.9880562471646558, 0.990830622654483, 0.9915863201084956, 0.9918631022874332, 0.7890224381992674, 0.7894969602001147, 0.7900293678515817, 0.7901368442497385, 0.7902464393932198, 0.790195214746934, 0.7901060344080937, 0.7902044210138588, 0.7901720727866907, 0.7901376282465186, 0.7902260074128676, 0.7903193688643912, 0.7902779644557515, 0.7902285328474488, 0.7903045947500583, 0.7902989267512452, 0.790267801161024, 0.7903929039294211, 0.9002847492795221, 0.900645314649774, 1.416465380874075, 0.5876302706292914, 0.5876304993495625, 0.587630043254994, 0.5876318262772632, 0.5876310198462833, 1.3861872165111657, 1.3807596454385558, 1.3807702333131542, 1.4024634424877562, 1.7479627304860506, 8.992001508193143, 13.102196834112059, 8.98115504883629, 7.735148192145689, 2.4470250772491875, 13.388840862362056, 1.9855220375795768, 2.0870598922675874, 0.6060722872432738, 0.6060715881487422, 0.6078967643110558, 0.607972326357786, 0.6080229535327719, 0.6081595129649202, 0.6081886750455177, 0.6081970924918628, 0.6087370749576143, 0.912976415507403, 0.49675554213973794, 0.49675542522590116, 0.49675538539191255, 0.49675525975234275, 0.49675518967887305, 0.4967550442649127, 0.49675503849469593, 0.4967549561292591, 0.4967548292211366, 0.4967544501983292, 0.49675419981768937, 0.4976229645610482, 0.49760275359974443, 0.49767203604986304, 0.4976874937959849, 0.4976864637685631, 0.49774590284466175, 0.49772988884911795, 0.4977249858422504, 0.49774811679725073, 1.0234035147965865, 1.0238761792542166, 1.033419665225771, 2.5369663003981984, 1.1152725216898447, 1.1391129085621654, 1.2888220851211298, 1.7133198659172948, 1.9667336991880147, 2.6151980972441007, 20.43545490534129, 13.425845029553678, 1.0257325987748669, 3.207156714952937, 2.0881454927131524, 2.5579143987599915, 8.695406673857581, 1.1771980254955925, 0.9119826731234881, 2.8632398034366155], \"Category\": [\"Default\", \"Default\", \"Default\", \"Default\", \"Default\", \"Default\", \"Default\", \"Default\", \"Default\", \"Default\", \"Default\", \"Default\", \"Default\", \"Default\", \"Default\", \"Default\", \"Default\", \"Default\", \"Default\", \"Default\", \"Default\", \"Default\", \"Default\", \"Default\", \"Default\", \"Default\", \"Default\", \"Default\", \"Default\", \"Default\", \"Topic1\", \"Topic1\", \"Topic1\", \"Topic1\", \"Topic1\", \"Topic1\", \"Topic1\", \"Topic1\", \"Topic1\", \"Topic1\", \"Topic1\", \"Topic1\", \"Topic1\", \"Topic1\", \"Topic1\", \"Topic1\", \"Topic1\", \"Topic1\", \"Topic1\", \"Topic1\", \"Topic1\", \"Topic1\", \"Topic1\", \"Topic1\", \"Topic1\", \"Topic1\", \"Topic1\", \"Topic1\", \"Topic1\", \"Topic1\", \"Topic1\", \"Topic1\", \"Topic1\", \"Topic1\", \"Topic1\", \"Topic1\", \"Topic1\", \"Topic1\", \"Topic1\", \"Topic1\", \"Topic1\", \"Topic1\", \"Topic1\", \"Topic1\", \"Topic1\", \"Topic1\", \"Topic1\", \"Topic1\", \"Topic1\", \"Topic1\", \"Topic2\", \"Topic2\", \"Topic2\", \"Topic2\", \"Topic2\", \"Topic2\", \"Topic2\", \"Topic2\", \"Topic2\", \"Topic2\", \"Topic2\", \"Topic2\", \"Topic2\", \"Topic2\", \"Topic2\", \"Topic2\", \"Topic2\", \"Topic2\", \"Topic2\", \"Topic2\", \"Topic2\", \"Topic2\", \"Topic2\", \"Topic2\", \"Topic2\", \"Topic2\", \"Topic2\", \"Topic2\", \"Topic2\", \"Topic2\", \"Topic2\", \"Topic2\", \"Topic2\", \"Topic2\", \"Topic2\", \"Topic2\", \"Topic2\", \"Topic2\", \"Topic2\", \"Topic2\", \"Topic2\", \"Topic2\", \"Topic2\", \"Topic2\", \"Topic2\", \"Topic2\", \"Topic2\", \"Topic2\", \"Topic2\", \"Topic2\", \"Topic2\", \"Topic2\", \"Topic2\", \"Topic2\", \"Topic2\", \"Topic2\", \"Topic2\", \"Topic2\", \"Topic2\", \"Topic2\", \"Topic2\", \"Topic3\", \"Topic3\", \"Topic3\", \"Topic3\", \"Topic3\", \"Topic3\", \"Topic3\", \"Topic3\", \"Topic3\", \"Topic3\", \"Topic3\", \"Topic3\", \"Topic3\", \"Topic3\", \"Topic3\", \"Topic3\", \"Topic3\", \"Topic3\", \"Topic3\", \"Topic3\", \"Topic3\", \"Topic3\", \"Topic3\", \"Topic3\", \"Topic3\", \"Topic3\", \"Topic3\", \"Topic3\", \"Topic3\", \"Topic3\", \"Topic3\", \"Topic3\", \"Topic3\", \"Topic3\", \"Topic3\", \"Topic3\", \"Topic3\", \"Topic3\", \"Topic3\", \"Topic3\", \"Topic3\", \"Topic3\", \"Topic3\", \"Topic3\", \"Topic3\", \"Topic3\", \"Topic3\", \"Topic3\", \"Topic3\", \"Topic3\", \"Topic3\", \"Topic3\", \"Topic3\", \"Topic3\", \"Topic3\", \"Topic4\", \"Topic4\", \"Topic4\", \"Topic4\", \"Topic4\", \"Topic4\", \"Topic4\", \"Topic4\", \"Topic4\", \"Topic4\", \"Topic4\", \"Topic4\", \"Topic4\", \"Topic4\", \"Topic4\", \"Topic4\", \"Topic4\", \"Topic4\", \"Topic4\", \"Topic4\", \"Topic4\", \"Topic4\", \"Topic4\", \"Topic4\", \"Topic4\", \"Topic4\", \"Topic4\", \"Topic4\", \"Topic4\", \"Topic4\", \"Topic4\", \"Topic4\", \"Topic4\", \"Topic4\", \"Topic4\", \"Topic4\", \"Topic4\", \"Topic4\", \"Topic4\", \"Topic4\", \"Topic4\", \"Topic4\", \"Topic4\", \"Topic4\", \"Topic4\", \"Topic4\", \"Topic4\", \"Topic4\", \"Topic4\", \"Topic4\", \"Topic4\", \"Topic4\", \"Topic4\", \"Topic4\", \"Topic4\", \"Topic4\", \"Topic5\", \"Topic5\", \"Topic5\", \"Topic5\", \"Topic5\", \"Topic5\", \"Topic5\", \"Topic5\", \"Topic5\", \"Topic5\", \"Topic5\", \"Topic5\", \"Topic5\", \"Topic5\", \"Topic5\", \"Topic5\", \"Topic5\", \"Topic5\", \"Topic5\", \"Topic5\", \"Topic5\", \"Topic5\", \"Topic5\", \"Topic5\", \"Topic5\", \"Topic5\", \"Topic5\", \"Topic5\", \"Topic5\", \"Topic5\", \"Topic5\", \"Topic5\", \"Topic5\", \"Topic5\", \"Topic5\", \"Topic5\", \"Topic5\", \"Topic5\", \"Topic5\", \"Topic5\", \"Topic5\", \"Topic5\", \"Topic5\", \"Topic5\", \"Topic5\", \"Topic5\", \"Topic5\", \"Topic5\", \"Topic5\", \"Topic6\", \"Topic6\", \"Topic6\", \"Topic6\", \"Topic6\", \"Topic6\", \"Topic6\", \"Topic6\", \"Topic6\", \"Topic6\", \"Topic6\", \"Topic6\", \"Topic6\", \"Topic6\", \"Topic6\", \"Topic6\", \"Topic6\", \"Topic6\", \"Topic6\", \"Topic6\", \"Topic6\", \"Topic6\", \"Topic6\", \"Topic6\", \"Topic6\", \"Topic6\", \"Topic6\", \"Topic6\", \"Topic6\", \"Topic6\", \"Topic6\", \"Topic6\", \"Topic6\", \"Topic6\", \"Topic6\", \"Topic6\", \"Topic6\", \"Topic6\", \"Topic6\", \"Topic6\", \"Topic6\", \"Topic6\", \"Topic7\", \"Topic7\", \"Topic7\", \"Topic7\", \"Topic7\", \"Topic7\", \"Topic7\", \"Topic7\", \"Topic7\", \"Topic7\", \"Topic7\", \"Topic7\", \"Topic7\", \"Topic7\", \"Topic7\", \"Topic7\", \"Topic7\", \"Topic7\", \"Topic7\", \"Topic7\", \"Topic7\", \"Topic7\", \"Topic7\", \"Topic7\", \"Topic7\", \"Topic7\", \"Topic7\", \"Topic7\", \"Topic7\", \"Topic7\", \"Topic7\", \"Topic7\", \"Topic7\", \"Topic7\", \"Topic7\", \"Topic7\", \"Topic7\", \"Topic7\", \"Topic7\", \"Topic7\", \"Topic7\", \"Topic7\", \"Topic7\", \"Topic7\", \"Topic7\", \"Topic7\", \"Topic7\", \"Topic7\", \"Topic7\", \"Topic7\", \"Topic7\", \"Topic7\", \"Topic7\", \"Topic7\", \"Topic7\", \"Topic7\", \"Topic7\", \"Topic7\", \"Topic7\", \"Topic7\", \"Topic7\", \"Topic7\", \"Topic7\", \"Topic7\", \"Topic7\", \"Topic8\", \"Topic8\", \"Topic8\", \"Topic8\", \"Topic8\", \"Topic8\", \"Topic8\", \"Topic8\", \"Topic8\", \"Topic8\", \"Topic8\", \"Topic8\", \"Topic8\", \"Topic8\", \"Topic8\", \"Topic8\", \"Topic8\", \"Topic8\", \"Topic8\", \"Topic8\", \"Topic8\", \"Topic8\", \"Topic8\", \"Topic8\", \"Topic8\", \"Topic8\", \"Topic8\", \"Topic8\", \"Topic8\", \"Topic8\", \"Topic8\", \"Topic8\", \"Topic8\", \"Topic8\", \"Topic8\", \"Topic8\", \"Topic8\", \"Topic8\", \"Topic8\", \"Topic8\", \"Topic8\", \"Topic8\", \"Topic8\", \"Topic8\", \"Topic8\", \"Topic8\", \"Topic8\", \"Topic8\", \"Topic8\", \"Topic8\", \"Topic9\", \"Topic9\", \"Topic9\", \"Topic9\", \"Topic9\", \"Topic9\", \"Topic9\", \"Topic9\", \"Topic9\", \"Topic9\", \"Topic9\", \"Topic9\", \"Topic9\", \"Topic9\", \"Topic9\", \"Topic9\", \"Topic9\", \"Topic9\", \"Topic9\", \"Topic9\", \"Topic9\", \"Topic9\", \"Topic9\", \"Topic9\", \"Topic9\", \"Topic9\", \"Topic9\", \"Topic9\", \"Topic9\", \"Topic9\", \"Topic9\", \"Topic9\", \"Topic9\", \"Topic9\", \"Topic9\", \"Topic9\", \"Topic9\", \"Topic9\", \"Topic9\", \"Topic9\", \"Topic9\", \"Topic9\", \"Topic9\", \"Topic10\", \"Topic10\", \"Topic10\", \"Topic10\", \"Topic10\", \"Topic10\", \"Topic10\", \"Topic10\", \"Topic10\", \"Topic10\", \"Topic10\", \"Topic10\", \"Topic10\", \"Topic10\", \"Topic10\", \"Topic10\", \"Topic10\", \"Topic10\", \"Topic10\", \"Topic10\", \"Topic10\", \"Topic10\", \"Topic10\", \"Topic10\", \"Topic10\", \"Topic10\", \"Topic10\", \"Topic10\", \"Topic10\", \"Topic10\", \"Topic10\", \"Topic10\", \"Topic10\", \"Topic10\", \"Topic10\", \"Topic10\", \"Topic10\", \"Topic10\", \"Topic10\", \"Topic10\", \"Topic10\", \"Topic10\", \"Topic10\", \"Topic10\", \"Topic10\", \"Topic10\", \"Topic10\", \"Topic10\", \"Topic10\", \"Topic10\"], \"logprob\": [30.0, 29.0, 28.0, 27.0, 26.0, 25.0, 24.0, 23.0, 22.0, 21.0, 20.0, 19.0, 18.0, 17.0, 16.0, 15.0, 14.0, 13.0, 12.0, 11.0, 10.0, 9.0, 8.0, 7.0, 6.0, 5.0, 4.0, 3.0, 2.0, 1.0, -4.3179, -5.154, -5.233, -5.2334, -5.3157, -5.3197, -5.4137, -5.5183, -5.5181, -5.6348, -5.6352, -5.6352, -5.7663, -5.7664, -5.7668, -5.7671, -5.918, -5.9182, -5.918, -5.9182, -5.9183, -5.9185, -5.9184, -5.9186, -5.9188, -5.9188, -5.919, -5.4133, -6.0932, -6.0973, -3.9866, -4.3564, -4.3907, -4.5869, -5.3196, -5.6349, -4.5048, -5.5192, -4.6779, -4.5857, -5.6344, -5.5183, -5.0796, -5.0802, -4.3189, -4.8868, -4.5953, -5.5187, -5.5146, -5.5086, -4.5293, -5.6183, -5.6222, -5.7487, -5.7517, -5.1395, -5.905, -5.9059, -5.9065, -6.0792, -6.0826, -6.0844, -6.0849, -6.0856, -6.0859, -6.0863, -6.2972, -6.2971, -6.2983, -6.298, -6.2995, -6.3009, -6.3011, -6.3017, -6.302, -6.302, -6.3026, -6.3026, -6.3037, -6.3033, -5.4001, -5.1391, -5.905, -4.618, -5.1374, -5.22, -4.8771, -5.4026, -5.4033, -4.6627, -5.7462, -5.9043, -5.9072, -4.4542, -5.2222, -4.3369, -4.571, -5.3057, -4.4833, -5.7529, -4.4531, -5.402, -5.0672, -4.5746, -5.4207, -5.6157, -5.507, -5.2223, -5.087, -5.4577, -5.6186, -5.1667, -5.2597, -5.2636, -5.3687, -5.4809, -5.4856, -5.1667, -5.6163, -5.7635, -5.764, -5.764, -5.7686, -5.7681, -5.9431, -5.943, -5.9434, -5.9463, -5.9469, -5.947, -5.9469, -5.9471, -5.9476, -5.9474, -5.3682, -6.1611, -6.1613, -6.1615, -6.1615, -6.1617, -6.1621, -4.6788, -4.9287, -5.0003, -5.6122, -5.6157, -5.6123, -3.8357, -5.0497, -5.003, -5.2262, -5.3626, -5.4837, -5.5539, -5.764, -5.2596, -4.8636, -5.2163, -4.573, -4.3718, -4.8589, -5.2611, -5.6157, -5.2579, -5.4802, -5.6104, -5.7425, -5.7432, -5.9587, -5.9591, -5.9608, -5.7376, -6.2395, -6.24, -6.2393, -6.2392, -6.24, -6.2402, -6.2403, -6.2404, -6.2404, -6.2406, -6.2406, -6.2411, -6.2412, -5.5639, -6.625, -6.6291, -6.6288, -6.6293, -6.6296, -6.6294, -6.6295, -6.6289, -6.6289, -6.6296, -6.629, -5.0603, -5.9601, -4.8782, -5.9604, -6.2398, -6.2404, -6.2405, -6.2407, -6.2407, -6.2413, -5.28, -5.2783, -5.739, -5.5577, -5.551, -5.3987, -5.5605, -5.7388, -5.9576, -5.9503, -5.9481, -5.9457, -5.9581, -6.2346, -6.2394, -4.0158, -5.9398, -5.9399, -5.9446, -5.945, -5.9452, -6.2207, -6.2237, -6.2239, -6.2241, -6.2243, -6.2244, -6.2244, -6.2271, -6.6092, -6.6089, -6.6089, -6.6089, -6.609, -6.609, -6.6092, -6.6092, -6.6093, -6.6103, -6.6103, -6.6103, -6.6103, -6.6105, -6.6106, -6.6107, -5.9404, -5.9499, -6.2216, -5.5429, -6.2244, -5.9806, -5.547, -5.7215, -6.2202, -6.2243, -5.3611, -6.0597, -5.9443, -6.2197, -6.2196, -6.0375, -6.1595, -6.1838, -6.2211, -4.7655, -4.8519, -4.9473, -5.0494, -5.2981, -5.2984, -5.4504, -5.05, -5.6295, -5.6298, -2.7536, -4.3094, -3.4138, -4.8523, -4.0111, -5.2607, -4.8163, -5.0306, -7.1571, -7.1572, -7.1572, -7.1573, -7.1573, -7.1573, -7.1573, -7.1574, -7.1574, -7.1574, -7.1574, -7.1575, -4.5435, -5.2754, -3.8506, -4.8282, -4.0773, -4.6857, -4.4177, -6.5079, -6.5111, -6.113, -7.1376, -7.133, -5.8214, -6.1003, -6.1007, -6.1007, -6.1008, -6.1009, -6.1017, -5.8214, -5.6035, -6.4897, -6.4898, -6.4898, -6.49, -6.49, -6.4901, -6.49, -6.4901, -6.4902, -6.49, -6.4901, -6.4902, -6.4903, -6.4902, -6.4903, -6.4904, -6.4904, -6.4902, -6.4905, -6.4903, -6.4903, -5.6027, -5.6029, -5.8214, -5.2722, -6.1015, -6.1014, -6.1006, -5.603, -4.8223, -6.1004, -6.1007, -6.1006, -6.1012, -6.1014, -6.1, -4.2796, -6.0994, -5.8211, -6.1005, -6.1007, -6.1008, -5.6001, -4.9182, -5.6014, -5.8214, -5.8196, -6.0672, -6.0978, -6.0978, -6.0981, -6.0985, -6.0994, -6.0996, -6.1001, -6.1006, -5.5475, -5.5504, -6.0447, -6.0446, -6.0449, -6.0449, -6.045, -6.0449, -6.4335, -6.4337, -6.4338, -6.4338, -6.4341, -6.4341, -6.4342, -6.434, -6.4343, -6.4342, -6.4346, -6.4344, -6.4344, -6.4344, -6.4343, -6.4346, -6.4367, -6.4346, -6.4347, -6.4346, -6.4348, -6.4347, -5.5476, -5.5466, -6.0448, -4.126, -4.8627, -6.045, -5.765, -5.7646, -6.0443, -5.765, -5.2153, -6.0448, -5.3635, -6.0484, -5.7734, -6.0416, -6.4274, -6.4327, -6.4336, -6.4336, -5.9068, -5.9114, -5.913, -5.9131, -6.2992, -6.3002, -6.3021, -6.302, -6.302, -6.3022, -6.3023, -6.3022, -6.3024, -6.3025, -6.3024, -6.3025, -6.3026, -6.3027, -6.3026, -6.3027, -6.3028, -6.3028, -6.3023, -6.3021, -5.9114, -6.943, -6.943, -6.943, -6.943, -6.943, -6.2963, -6.3021, -6.3022, -6.302, -6.302, -5.4135, -6.2945, -6.2966, -6.2972, -6.2976, -6.2983, -6.3019, -6.3021, -6.1865, -6.1865, -6.1887, -6.1888, -6.1888, -6.189, -6.189, -6.1892, -6.1898, -6.1886, -6.8332, -6.8332, -6.8332, -6.8332, -6.8332, -6.8332, -6.8332, -6.8332, -6.8332, -6.8332, -6.8332, -6.8352, -6.8353, -6.8354, -6.8354, -6.8355, -6.8354, -6.8355, -6.8355, -6.8355, -6.189, -6.1902, -6.1888, -5.5202, -6.1865, -6.1895, -6.1891, -6.1895, -6.1854, -6.1855, -5.5199, -6.1885, -6.831, -6.8312, -6.8315, -6.8321, -6.8326, -6.8328, -6.833, -6.8331], \"loglift\": [30.0, 29.0, 28.0, 27.0, 26.0, 25.0, 24.0, 23.0, 22.0, 21.0, 20.0, 19.0, 18.0, 17.0, 16.0, 15.0, 14.0, 13.0, 12.0, 11.0, 10.0, 9.0, 8.0, 7.0, 6.0, 5.0, 4.0, 3.0, 2.0, 1.0, 1.5798, 1.5606, 1.5575, 1.5573, 1.5555, 1.5534, 1.549, 1.5432, 1.5432, 1.5361, 1.536, 1.5359, 1.5273, 1.5272, 1.5271, 1.527, 1.5158, 1.5158, 1.5157, 1.5156, 1.5155, 1.5155, 1.5154, 1.5154, 1.5153, 1.5153, 1.5151, 1.5022, 1.5019, 1.4996, 1.4931, 1.4908, 1.4874, 1.4642, 1.4379, 1.4784, 1.291, 1.4417, 1.2668, 1.1885, 1.4387, 1.3954, 1.2547, 1.16, 0.5379, 0.7493, 0.4002, 1.184, 0.704, -0.2968, 1.5938, 1.5652, 1.5619, 1.557, 1.5544, 1.5468, 1.5415, 1.5408, 1.5404, 1.5291, 1.5268, 1.525, 1.5246, 1.524, 1.5238, 1.5236, 1.5056, 1.5056, 1.5053, 1.5051, 1.5041, 1.5028, 1.5023, 1.5019, 1.5018, 1.5017, 1.5013, 1.5013, 1.5011, 1.5007, 1.4847, 1.4788, 1.4914, 1.4234, 1.4334, 1.3967, 1.3387, 1.3995, 1.3991, 1.2987, 1.4356, 1.4549, 1.4521, 1.232, 1.3311, 1.0473, 0.9863, 1.1933, 0.832, 1.3807, 0.5424, 1.1178, 0.8642, 0.2822, 1.021, 1.1817, 1.0386, 0.4138, 0.0143, 0.1452, 0.7637, 1.8188, 1.8145, 1.8118, 1.8047, 1.7998, 1.7965, 1.787, 1.7869, 1.7771, 1.7769, 1.7767, 1.774, 1.774, 1.7585, 1.7584, 1.7581, 1.7563, 1.7561, 1.756, 1.7557, 1.7557, 1.7554, 1.7553, 1.7375, 1.7322, 1.732, 1.7319, 1.7318, 1.7318, 1.7313, 1.6912, 1.6842, 1.6755, 1.691, 1.6531, 1.6515, 1.3761, 1.4967, 1.4816, 1.541, 1.5307, 1.5706, 1.5985, 1.6639, 1.3906, 1.0679, 1.288, 0.7422, 0.4851, 0.6984, 1.1662, 1.5326, 0.5162, 0.3155, 0.7396, 2.1475, 2.147, 2.1168, 2.1161, 2.1147, 2.1099, 2.0642, 2.0641, 2.0639, 2.0637, 2.0637, 2.0637, 2.063, 2.0629, 2.0629, 2.0627, 2.0627, 2.0622, 2.062, 2.0044, 1.9736, 1.9702, 1.97, 1.9699, 1.9698, 1.9697, 1.9697, 1.9697, 1.9697, 1.9697, 1.9697, 1.8408, 1.8666, 1.4718, 1.7799, 1.7873, 1.7865, 1.7865, 1.7865, 1.7862, 1.7858, 1.2243, 1.149, 0.8143, 0.0784, -0.0714, -0.5419, -0.1763, 0.2226, 0.5881, 0.1009, -0.07, -0.0985, -0.4009, -0.1932, 1.7603, 2.2643, 2.1574, 2.1572, 2.1523, 2.1519, 2.1518, 2.1026, 2.1001, 2.0997, 2.0994, 2.0992, 2.0992, 2.099, 2.0954, 2.0082, 2.008, 2.008, 2.0079, 2.0079, 2.0078, 2.0077, 2.0076, 2.0075, 2.0064, 2.0063, 2.0063, 2.0062, 2.0061, 2.006, 2.0059, 1.9777, 1.9156, 1.9127, 1.4307, 1.7903, 1.5476, 1.1557, 1.2722, 1.5535, 1.5558, 0.325, 1.1563, 0.9491, 1.2381, 1.0735, 0.509, -0.1982, -0.5477, -0.6182, 2.4988, 2.4917, 2.483, 2.4754, 2.4481, 2.4475, 2.4278, 2.4207, 2.4011, 2.4006, 2.3477, 2.3436, 2.1892, 2.1788, 2.1663, 2.0238, 2.0215, 1.9998, 1.9474, 1.9473, 1.9473, 1.9472, 1.9472, 1.9472, 1.9472, 1.9471, 1.9471, 1.9471, 1.9471, 1.9471, 1.8389, 1.777, 1.5335, 1.6136, 1.1345, 1.259, 0.8975, 0.9923, 0.7049, -1.1175, 0.7562, 0.2262, 2.4327, 2.3705, 2.3704, 2.3702, 2.37, 2.3696, 2.3687, 2.3152, 2.2703, 2.258, 2.2577, 2.2576, 2.2576, 2.2575, 2.2574, 2.2573, 2.2573, 2.2573, 2.2572, 2.2572, 2.2572, 2.2571, 2.257, 2.257, 2.257, 2.257, 2.257, 2.257, 2.257, 2.2569, 2.2221, 2.2217, 2.22, 1.7987, 2.1109, 2.1108, 2.1059, 1.85, 1.3963, 2.0507, 2.0205, 2.0202, 2.0199, 2.0198, 2.0174, 0.7159, 1.8687, 1.5707, 1.8237, 1.7623, 1.7551, 1.0501, -0.0614, 0.7486, 0.7494, 0.2218, 0.5858, 1.36, 1.4623, 0.1177, 0.5144, 1.4526, 1.3427, 1.4524, 1.6077, 2.6147, 2.6138, 2.5015, 2.5011, 2.5009, 2.5009, 2.5008, 2.5007, 2.3798, 2.3795, 2.3795, 2.3793, 2.3792, 2.3791, 2.3791, 2.3791, 2.3788, 2.3787, 2.3787, 2.3786, 2.3786, 2.3786, 2.3786, 2.3785, 2.3785, 2.3783, 2.3783, 2.3782, 2.3781, 2.3781, 2.3704, 2.0136, 2.1609, 0.8695, 1.3558, 2.0355, 1.6928, 1.6777, 1.9238, 1.2962, 0.342, 1.6739, 0.2726, 1.1395, -0.0872, 0.872, 0.5335, 1.6256, 1.916, 2.0247, 2.9182, 2.9108, 2.9085, 2.9081, 2.7507, 2.7491, 2.7466, 2.7466, 2.7464, 2.7463, 2.7463, 2.7463, 2.7461, 2.746, 2.746, 2.7458, 2.7458, 2.7457, 2.7457, 2.7456, 2.7456, 2.7454, 2.6157, 2.6155, 2.5534, 2.4016, 2.4016, 2.4016, 2.4016, 2.4016, 2.1901, 2.1882, 2.1881, 2.1728, 1.9526, 1.2032, -0.0543, 0.3212, 0.47, 1.6206, -0.0797, 1.8252, 1.7752, 3.1273, 3.1273, 3.1221, 3.1218, 3.1217, 3.1213, 3.1212, 3.121, 3.1196, 2.7154, 2.6794, 2.6794, 2.6794, 2.6794, 2.6794, 2.6794, 2.6794, 2.6794, 2.6794, 2.6794, 2.6794, 2.6757, 2.6756, 2.6754, 2.6754, 2.6753, 2.6752, 2.6752, 2.6752, 2.6751, 2.6008, 2.5992, 2.5913, 2.3618, 2.5174, 2.4933, 2.3702, 2.085, 1.9512, 1.6662, 0.2758, 0.0273, 1.9566, 0.8164, 1.2452, 1.0417, -0.1824, 1.817, 2.0721, 0.928]}, \"token.table\": {\"Topic\": [7, 1, 7, 6, 7, 2, 6, 2, 6, 6, 2, 6, 2, 6, 6, 2, 6, 4, 6, 2, 7, 1, 3, 5, 3, 7, 2, 3, 4, 5, 8, 1, 5, 5, 4, 1, 2, 4, 4, 8, 3, 8, 1, 2, 5, 8, 1, 7, 8, 2, 4, 5, 6, 2, 6, 1, 1, 7, 4, 8, 5, 2, 5, 2, 3, 5, 7, 1, 7, 3, 7, 2, 1, 8, 1, 1, 5, 5, 2, 3, 7, 2, 4, 2, 3, 5, 2, 4, 5, 6, 1, 1, 3, 2, 3, 2, 5, 1, 3, 8, 4, 5, 8, 2, 5, 4, 1, 3, 3, 4, 6, 7, 2, 6, 2, 3, 6, 1, 2, 5, 7, 7, 2, 2, 3, 4, 5, 7, 3, 3, 4, 5, 2, 7, 1, 4, 3, 8, 3, 2, 3, 5, 1, 2, 8, 3, 6, 7, 8, 2, 7, 2, 4, 8, 2, 3, 8, 1, 8, 1, 7, 1, 3, 2, 7, 1, 2, 3, 2, 9, 7, 2, 3, 4, 7, 4, 4, 5, 1, 2, 3, 4, 5, 7, 1, 1, 6, 8, 9, 3, 4, 3, 9, 5, 4, 4, 1, 8, 2, 8, 2, 2, 4, 1, 3, 8, 7, 8, 7, 7, 5, 8, 8, 1, 2, 3, 3, 5, 4, 8, 2, 6, 4, 2, 4, 2, 4, 3, 3, 1, 4, 2, 2, 3, 1, 2, 6, 7, 3, 5, 3, 1, 7, 4, 1, 2, 2, 3, 6, 2, 3, 2, 4, 5, 3, 3, 3, 8, 1, 1, 2, 4, 5, 1, 5, 4, 5, 1, 3, 1, 1, 1, 7, 7, 3, 4, 1, 4, 1, 1, 7, 8, 3, 7, 7, 1, 4, 3, 5, 3, 7, 7, 7, 2, 3, 7, 2, 2, 5, 1, 3, 5, 3, 8, 1, 2, 7, 7, 7, 8, 2, 3, 4, 3, 7, 2, 2, 7, 4, 2, 3, 7, 3, 2, 1, 1, 7, 7, 7, 3, 1, 1, 3, 5, 1, 3, 7, 7, 5, 1, 6, 2, 5, 3, 5, 6, 2, 7, 2, 5, 5, 7, 8, 7, 3, 4, 2, 4, 6, 1, 8, 5, 5, 8, 2, 8, 8, 1, 3, 2, 3, 8, 1, 3, 1, 2, 1, 4, 1, 1, 9, 3, 5, 2, 3, 8, 2, 3, 4, 8, 1, 4, 1, 4, 1, 1, 2, 3, 5, 3, 7, 3, 5, 7, 1, 5, 6, 4, 5, 3, 5, 8, 3, 4, 3, 4, 5, 7, 4, 5, 2, 3, 9, 8, 2, 2, 3, 1, 3, 7, 1, 2, 3, 6, 7, 8, 2, 1, 7, 2, 3, 8, 1, 4, 7, 5, 7, 5, 1, 3, 4, 3, 4, 2, 2, 3, 2, 5, 3, 4, 1, 4, 1, 7, 1, 3, 7, 8, 3, 7, 1, 2, 3, 4, 5, 8, 2, 7, 2, 4, 1, 3, 9, 4, 2, 4, 7, 7, 5, 1, 3, 3, 8, 3, 5, 1, 2, 3, 6, 8, 8, 3, 2, 3, 4, 7, 5, 8, 5, 7, 8, 7, 1, 2, 1, 2, 3, 7, 3, 4, 8, 1, 4, 8, 7, 1, 2, 3, 6, 7, 4, 2, 2, 3, 5, 8, 1, 3, 6, 3, 3, 8, 1, 8, 1, 5, 2, 1, 1, 8, 1, 2, 2, 4, 7, 2], \"Freq\": [0.7104246677691569, 0.3722492867656926, 0.7444985735313852, 0.8501242272090506, 0.9364840058952933, 0.19548847179640677, 0.7819538871856271, 0.16831981950631386, 0.6732792780252554, 1.0035444318297484, 0.3364333552230544, 0.5046500328345815, 0.2866926343154119, 0.6450584272096769, 0.7853630522823786, 0.4337193461788474, 0.6505790192682711, 0.8070583617263616, 1.0320822823834817, 0.5254609273591894, 0.3503072849061262, 0.8777419496399554, 0.17554838992799107, 0.6128387560586142, 0.5670455803757405, 0.28352279018787024, 0.44839231003382934, 0.44839231003382934, 0.05604903875422867, 0.05604903875422867, 0.7653829483332167, 0.981210592835647, 0.6129459447524969, 0.8216786493382883, 0.8074797670343741, 0.13387256711637674, 0.8032354026982605, 0.8070714497407548, 0.8076705350832213, 1.0452661293702825, 0.8496554741828872, 0.2124138685457218, 0.13156978334849556, 0.6578489167424777, 0.13156978334849556, 0.043856594449498514, 0.3734453229671072, 0.29875625837368575, 0.22406719378026432, 0.2421364630241974, 0.04035607717069956, 0.04035607717069956, 0.6860533119018926, 0.5158505051873776, 0.5158505051873776, 0.5036458830842473, 0.48283961236957007, 0.24141980618478504, 0.6009211903356595, 0.9999767602612926, 0.8218951915950653, 0.382380210911671, 0.382380210911671, 0.6056429943214119, 0.2018809981071373, 0.10094049905356865, 0.10094049905356865, 0.4111662672770187, 0.4111662672770187, 0.7755397541726232, 0.1107913934532319, 0.9537720981106546, 1.0071235876229707, 1.0002211823403209, 0.5836621753431953, 0.0794220801685239, 0.9530649620222867, 0.9776445366218528, 0.7285061884467428, 0.9883208705528561, 0.9365155627687928, 0.7459909299402312, 0.1864977324850578, 0.9004331267823936, 0.3877038670955215, 0.775407734191043, 0.7291932458138966, 0.9566259976066263, 0.8216895208451658, 0.783736081110551, 1.0072892383704195, 0.19001039491828156, 0.7600415796731262, 0.17226796169703634, 0.6890718467881454, 0.9006108979265315, 0.612320997828684, 0.1968804532405222, 0.5906413597215666, 0.1968804532405222, 0.7616023559559718, 0.9773282942157028, 1.000055722407487, 0.934797541514796, 0.5072746123478467, 0.6011537601434465, 1.0071211349448028, 0.8641622323572757, 0.45568844886106663, 0.45568844886106663, 0.8272895967641785, 0.9368064519679333, 0.728981765055053, 0.9202307189229038, 0.5601845798569022, 0.09336409664281703, 0.3734563865712681, 0.34925471446706835, 0.6985094289341367, 0.8223375211678843, 0.7102422425854108, 0.5452494304913498, 0.7242390109702118, 0.5179421937965819, 0.10358843875931636, 0.20717687751863273, 0.10358843875931636, 0.9364292539443269, 0.9887074837743006, 0.455655530781294, 0.455655530781294, 0.6130776363445587, 0.500701420133095, 0.500701420133095, 0.8844970518803629, 0.1263567216971947, 0.40863219932142514, 0.8172643986428503, 0.7972704473277663, 0.31783707758668683, 0.15891853879334342, 0.4767556163800303, 0.3469388720402929, 0.3469388720402929, 0.17346943602014644, 0.538139768517194, 0.269069884258597, 0.269069884258597, 1.0000674665298896, 0.5004612780170014, 0.5004612780170014, 0.7288938761269972, 0.8071914865506402, 0.48071211533314834, 0.33477640996769453, 0.33477640996769453, 0.33477640996769453, 1.0074305819257772, 0.7130310635592415, 0.33131259210299424, 0.33131259210299424, 0.6708203487522537, 0.25155763078209514, 0.5005938731919204, 0.5005938731919204, 0.18924948418854753, 0.18924948418854753, 0.7569979367541901, 0.7282164471500397, 1.012088130478015, 0.5483824334643143, 0.7282751941862765, 0.797345977887539, 0.600649507029112, 0.9364692876040647, 0.6004806813104115, 0.6007034481206444, 0.8219084084323415, 0.3444563114335387, 0.26791046444830785, 0.24877400270200017, 0.05740938523892312, 0.019136461746307704, 0.05740938523892312, 0.8756235367525047, 1.007499267230773, 0.9145870445328951, 0.9998479490019261, 0.7059826618444555, 0.2880128475364813, 0.864038542609444, 0.7973067228589013, 1.008203649973269, 0.8217285665189178, 0.956653794664313, 0.7947696680553156, 0.7483221633536237, 0.14966443267072474, 0.6291419445043667, 0.6291419445043667, 1.0202172409298247, 0.900539581040712, 0.8075367684149682, 0.47016986904652774, 0.47016986904652774, 0.47016986904652774, 0.4296124880584109, 0.4296124880584109, 0.7100511532489004, 0.93647035245225, 0.8217331302862355, 0.7657966843953298, 0.9998536993333086, 0.6105846295311105, 0.15264615738277762, 0.15264615738277762, 0.6485436353436881, 0.32427181767184404, 0.6010227277873603, 0.9998794933747849, 0.8860178125456717, 0.9144623785140993, 0.6006762680012919, 0.4433864658782191, 0.4433864658782191, 0.37295881361253674, 0.7459176272250735, 0.8404255467795329, 0.9749129560612563, 0.4791429338970726, 0.8070070710290855, 0.7288667081343267, 1.0200166652707288, 0.8653521970870172, 0.138726918246386, 0.277453836492772, 0.554907672985544, 0.9366489097649002, 0.7333099980174758, 0.2933239992069903, 0.9886953455064789, 0.3721911879368011, 0.7443823758736022, 0.807463511887701, 0.4788938335425507, 0.4788938335425507, 0.4398993329268229, 0.08797986658536458, 0.4398993329268229, 0.9347334940765409, 0.934704256699038, 0.7306959478228925, 0.2087702708065407, 0.6129294106769536, 0.8786684180151578, 0.9703128980558545, 0.9067816041391684, 1.000143823946539, 0.9677934644368461, 0.05774990661127765, 0.6929988793353319, 0.1154998132225553, 0.05774990661127765, 1.0071628836889455, 0.8219036231916319, 0.8075688376740888, 0.9773501555405683, 0.7340184042626521, 0.1957382411367072, 0.9753439710383348, 0.8875277309437779, 1.0040944906879827, 0.9364951435605704, 0.5718730946482419, 0.4556186307058337, 0.4556186307058337, 1.0070035866185718, 0.9563764893222491, 0.8754115162196363, 0.572094577624051, 0.2856872573455545, 0.571374514691109, 0.87969852893631, 0.709944731764718, 0.7818869939391039, 0.9033291576512703, 0.10627401854720826, 0.9648876806636376, 0.8219028324816278, 0.9884188545480876, 0.9363596872106595, 0.9364561776067193, 0.9363402059814442, 0.21348025652299302, 0.8539210260919721, 0.9363053941309932, 0.9504741369821272, 0.6561779379768148, 0.21872597932560492, 0.6704774692665033, 0.23945623902375118, 0.04789124780475024, 0.5448101921352881, 0.5448101921352881, 0.14896641482137582, 0.7448320741068791, 0.07448320741068791, 0.5084572458451593, 0.9364579353733968, 1.0003025728501536, 0.18404771081945406, 0.4601192770486352, 0.2760715662291811, 0.8966418346654991, 0.775902284376214, 0.7297504762191744, 0.5006729313940353, 0.5006729313940353, 0.6009160071972609, 0.7287362132231033, 0.8421709704150775, 0.7102470721559296, 0.9872570097103978, 0.8994010061780617, 1.0071547286833755, 0.49878262979519605, 0.49878262979519605, 0.936568761528493, 0.9365794778613661, 0.9883882552201966, 0.8675550998444944, 0.1036708475960762, 0.7256959331725334, 0.2073416951921524, 0.11500324682989962, 0.5750162341494982, 0.23000649365979925, 0.46229666074774295, 0.8216537269016019, 0.7383934638755729, 0.28399748610598957, 0.9701727596720314, 0.977510087270443, 0.404996157746869, 0.404996157746869, 0.2024980788734345, 0.3867550307079225, 0.3867550307079225, 0.3559931209359828, 0.3559931209359828, 0.6130052977657345, 0.9364532771850471, 1.0001975297062387, 0.9365410820218413, 0.4556771643514223, 0.4556771643514223, 0.5512040630638191, 0.0972713052465563, 0.35666145257070647, 0.9262650483688409, 0.7654600080530541, 0.8173189635834428, 0.8219011247430138, 1.0022072467773742, 0.7242334574381017, 1.0001827391189813, 1.0000272920989424, 0.9431184840485259, 0.8778761020821374, 0.3941715740737437, 0.3941715740737437, 1.0002433592748758, 0.2923531557764075, 0.6821573634782842, 1.007315493441902, 0.7289456345586091, 0.8757923038618575, 0.600660688712535, 0.8891939152382669, 0.8754618216802339, 1.0092542328990113, 0.8405702659593552, 0.8219028853810874, 0.9003206657719929, 0.7972882571957965, 0.7655300636971314, 0.5397552365525018, 0.30843156374428676, 0.07710789093607169, 0.07710789093607169, 0.9681912286401855, 0.6005688276058129, 0.8758349255027155, 0.10303940300031947, 0.9681134202009207, 0.1454015248303358, 0.8724091489820148, 0.7756800323609097, 0.12928000539348494, 0.8406822450689714, 0.5484920225951149, 0.27668632897234724, 0.5533726579446945, 0.27668632897234724, 0.3537196457950478, 0.3537196457950478, 1.0322564068111566, 0.6841994403601063, 0.34209972018005314, 0.9871868395870109, 0.9773273682431434, 1.0002325046743443, 0.45575833071723304, 0.45575833071723304, 0.3407029870344868, 0.4258787337931085, 0.0851757467586217, 0.1703514935172434, 0.8070280445864083, 0.8218918374042434, 0.7784696203200019, 0.11120994576000026, 0.11120994576000026, 0.9998498547196077, 0.7288615797728412, 0.886385993146543, 0.7509128982250564, 0.9264872754427401, 0.5158590373091627, 0.5158590373091627, 0.3077588244616467, 0.32974159763747857, 0.04396554635166381, 0.021982773175831905, 0.13189663905499144, 0.13189663905499144, 0.9007972037584349, 0.3840257732321727, 0.3840257732321727, 0.8907540240090365, 0.11134425300112956, 1.000258642009168, 0.9137314126282475, 0.6006733629457085, 0.7101962137211633, 0.821687213055812, 0.8494747513520562, 0.82190069480408, 0.7214032766200632, 0.29562887868941096, 0.5912577573788219, 0.45568608384037806, 0.45568608384037806, 1.020430479219496, 0.729044844952485, 0.7973609385266729, 0.4501061660818359, 0.4501061660818359, 0.9883261969551284, 0.7947008173360964, 0.8962130954822473, 0.1280304422117496, 1.0073906472734149, 0.9363939669989244, 1.006055942128077, 0.253933465530798, 0.253933465530798, 0.253933465530798, 0.5667688939441288, 0.2833844469720644, 0.4171400372689618, 0.29199802608827324, 0.04171400372689618, 0.12514201118068854, 0.04171400372689618, 0.08342800745379236, 0.8497828278793048, 0.1062228534849131, 0.7976643990902011, 0.6007241493234297, 0.8996883630181254, 0.9872491859116448, 1.0084850705590451, 0.8075663010820714, 0.31180266163409925, 0.31180266163409925, 0.31180266163409925, 0.9363764661563424, 0.61298888121277, 0.11798197781344523, 0.8258738446941166, 0.8838646592748527, 1.0433247894114361, 0.7973959624325488, 0.8216692231285833, 0.030265069795886713, 0.4539760469383007, 0.33291576775475384, 0.18159041877532028, 1.0001006925986011, 0.7655706900105185, 0.8417363575543758, 0.7289486270596389, 0.2566763189655503, 0.2566763189655503, 0.5133526379311006, 0.6128991190236402, 0.9999300868749765, 0.25789832917808697, 0.25789832917808697, 0.25789832917808697, 0.9365860447323455, 0.19570095657608322, 0.7828038263043329, 0.1332336131646404, 0.6661680658232021, 0.1332336131646404, 0.1332336131646404, 0.5963423635435908, 0.2981711817717954, 1.0003666955476171, 0.8918850965216887, 0.10702621158260264, 0.765499111390053, 0.9366038682683737, 0.09886709584416453, 0.6920696709091517, 0.2966012875324936, 0.8072692299894785, 0.11532417571278264, 0.6006930770022539, 0.729068767812773, 0.9806786293656157, 0.8690100006213156, 0.08690100006213156, 0.7014012618473228, 0.13646143058911306, 0.6004302945920974, 0.2456305750604035, 0.9887149760682922, 0.9767680438269012, 1.0000221601349968, 0.8674441049008078, 0.9998995363223908, 0.6060074213565481, 0.36360445281392884, 0.980061638100908, 1.0073146538144162, 0.7845372674902047, 0.15690745349804092, 0.13391096723894086, 0.8034658034336452, 0.8133161220987066, 0.06256277862297743, 0.06256277862297743, 0.9002864009787657], \"Term\": [\"aah\", \"act\", \"act\", \"african\", \"aim\", \"american\", \"american\", \"american_dream\", \"american_dream\", \"american_express\", \"americans\", \"americans\", \"americas\", \"americas\", \"americas_nightmare\", \"americas_wanted\", \"americas_wanted\", \"answers\", \"artists\", \"ass\", \"ass\", \"atlanta\", \"atlanta\", \"august\", \"ayy\", \"ayy\", \"baby\", \"baby\", \"baby\", \"baby\", \"bad\", \"bad_boy\", \"bail\", \"barrel\", \"bartender\", \"beat\", \"beat\", \"beauty\", \"bed\", \"bed_stuy\", \"beef\", \"beef\", \"big\", \"big\", \"big\", \"big\", \"bitch\", \"bitch\", \"bitch\", \"black\", \"black\", \"black\", \"black\", \"black_people\", \"black_people\", \"block\", \"blood\", \"blood\", \"bloood\", \"blowin\", \"bobby\", \"body\", \"body\", \"borough\", \"borough\", \"borough\", \"borough\", \"bought\", \"bought\", \"bout\", \"bout\", \"boy\", \"boy_entertainment\", \"brain\", \"bringin\", \"broadway\", \"broadway\", \"broadway_broadway\", \"brother\", \"bruh\", \"bu_bu\", \"building\", \"building\", \"bump\", \"burn\", \"burn\", \"bygones\", \"called\", \"cap\", \"card\", \"carlos_july_broady\", \"cat\", \"cat\", \"cats\", \"cats\", \"central\", \"change\", \"check\", \"check\", \"check\", \"chinatown\", \"clan\", \"client\", \"clique\", \"close\", \"cmon\", \"combs_daddys_house_recording\", \"comin\", \"comp\", \"comp\", \"control\", \"coolin\", \"couldnt_figure\", \"countries\", \"country\", \"country\", \"country\", \"crack\", \"crack\", \"cracked\", \"craziest\", \"crazy\", \"cream\", \"crew\", \"crew\", \"crew\", \"crew\", \"crooks\", \"cruise\", \"cut_scratched\", \"cut_scratched\", \"cuz\", \"dad\", \"dad\", \"daddys_house\", \"daddys_house\", \"damn\", \"damn\", \"dangerous_yay\", \"day\", \"day\", \"day\", \"dead\", \"dead\", \"dead\", \"death\", \"death\", \"death\", \"defiant\", \"detroit\", \"detroit\", \"devilish\", \"diana_pedraza\", \"dick\", \"die\", \"die\", \"die\", \"diggs_family\", \"dime\", \"dirty_bastard\", \"dirty_bastard\", \"dog\", \"dog\", \"dogs\", \"dogs\", \"don\", \"don\", \"don\", \"don_love\", \"dough\", \"drawers\", \"dream\", \"drop\", \"ducks\", \"dutch\", \"easy\", \"ego_trip\", \"eighty\", \"embed\", \"embed\", \"embed\", \"embed\", \"embed\", \"embed\", \"engineers_rasheed\", \"entertainment_recorded\", \"everyday_american\", \"executioner_style\", \"fake\", \"fat_joe\", \"fat_joe\", \"fiend\", \"fiends\", \"flame\", \"flash\", \"forever\", \"fork\", \"fork\", \"foul\", \"foul\", \"fox\", \"freaky\", \"fronted\", \"fucked\", \"fucked\", \"fucked\", \"fuckin\", \"fuckin\", \"funk\", \"gabriel\", \"gas\", \"ghost\", \"giant\", \"god\", \"god\", \"god\", \"gon\", \"gon\", \"good\", \"good_morning\", \"government\", \"governments\", \"grab\", \"grand\", \"grand\", \"great\", \"great\", \"greens\", \"grew\", \"gun\", \"haha\", \"hand\", \"hard_hard\", \"harlems\", \"hate\", \"hate\", \"hate\", \"havoc\", \"head\", \"head\", \"headed\", \"heard\", \"heard\", \"heart\", \"hell\", \"hell\", \"hip_hop\", \"hip_hop\", \"hip_hop\", \"history\", \"hit\", \"hold\", \"hold\", \"holding\", \"hollis\", \"home\", \"hood\", \"hooks\", \"hottest\", \"house\", \"house\", \"house\", \"house\", \"house_recording\", \"hurdles\", \"iced\", \"islands\", \"jamaica\", \"jamaica\", \"jamaican\", \"jamaican_rum\", \"jamaicans\", \"jay_biggie\", \"jerseys_finest\", \"jerz\", \"jerz\", \"john_jm\", \"july\", \"justin_combs\", \"kid\", \"kill\", \"kill\", \"killa\", \"killed\", \"killer\", \"king\", \"king\", \"kings\", \"knight\", \"lady\", \"latifah\", \"lay_tile\", \"lease\", \"leave\", \"leave\", \"leavin\", \"life\", \"light\", \"light\", \"live\", \"live\", \"live\", \"livin\", \"livin\", \"lookin\", \"lookin\", \"lookin\", \"lot\", \"lotta\", \"lousy\", \"love\", \"love\", \"love\", \"lover\", \"maker\", \"makes\", \"mansion\", \"mansion\", \"map\", \"marcy\", \"mase\", \"matter\", \"means\", \"men\", \"michael_patterson\", \"mid\", \"mid\", \"milk\", \"minute\", \"miss\", \"mixed\", \"money\", \"money\", \"money\", \"motherfucker\", \"motherfucker\", \"motherfucker\", \"murder\", \"mushy\", \"music\", \"music\", \"muthafucka\", \"myrtle\", \"nas\", \"nas\", \"nas\", \"newark\", \"newark\", \"night\", \"night\", \"noise\", \"orleans\", \"owes\", \"pain\", \"paper\", \"paper\", \"people\", \"people\", \"people\", \"philly\", \"pimp\", \"play\", \"plot\", \"pockets\", \"police\", \"poor\", \"pork\", \"post\", \"praise\", \"pray\", \"pray\", \"president\", \"problem\", \"problem\", \"produced\", \"public_enemy\", \"publishing_adm_emi_april\", \"puerto\", \"puerto_rico\", \"puffy_combs\", \"pull\", \"pump\", \"quincy\", \"racism\", \"raise\", \"ready\", \"real\", \"real\", \"real\", \"real\", \"recorded\", \"recorded_rich\", \"recording_studios\", \"recording_studios\", \"recording_studios_produced\", \"red\", \"red\", \"rep\", \"rep\", \"reppin\", \"represent\", \"representin\", \"representin\", \"representin\", \"representing\", \"representing\", \"resources\", \"respect\", \"respect\", \"rest\", \"rhyme\", \"rippin\", \"river\", \"river\", \"rock\", \"rock\", \"rock\", \"rock\", \"rounds\", \"rowdy\", \"run\", \"run\", \"run\", \"salt\", \"satin\", \"sayin\", \"scene\", \"sean_puffy\", \"set\", \"set\", \"shit\", \"shit\", \"shit\", \"shit\", \"shit\", \"shit\", \"shook\", \"shot\", \"shot\", \"shout\", \"shout\", \"shouts\", \"slick\", \"slugs\", \"smalls_shit\", \"smoke\", \"smooth\", \"social\", \"soho\", \"south\", \"south\", \"south_south\", \"south_south\", \"spot\", \"spread_love\", \"st\", \"stand\", \"stand\", \"stardom\", \"start\", \"state\", \"state\", \"state_mind\", \"step\", \"steve_jones_daddys_house\", \"stop\", \"stop\", \"stop\", \"stoppin\", \"stoppin\", \"streets\", \"streets\", \"streets\", \"streets\", \"streets\", \"streets\", \"style\", \"style\", \"survival\", \"tale\", \"talking\", \"team\", \"tears\", \"teas\", \"test\", \"test\", \"test\", \"texas\", \"theodore\", \"thing\", \"thing\", \"things\", \"thought\", \"thug_shit\", \"til_brains\", \"time\", \"time\", \"time\", \"time\", \"times\", \"told\", \"tonight\", \"tooken\", \"town\", \"town\", \"town\", \"toys\", \"tryin\", \"turn\", \"turn\", \"turn\", \"ugh\", \"uh\", \"uh\", \"uh_uh\", \"uh_uh\", \"uh_uh\", \"uh_uh\", \"uptown\", \"uptown\", \"violence\", \"walk\", \"walk\", \"walkin\", \"whassup\", \"whats\", \"whats\", \"whats\", \"white\", \"white\", \"wild_wild\", \"wind\", \"wont\", \"word\", \"word\", \"words\", \"world\", \"world\", \"world\", \"world_holdin\", \"world_world\", \"worst\", \"written\", \"wu\", \"wu_tang\", \"wu_tang\", \"xa_xa\", \"yorker\", \"yorks\", \"yorks\", \"young\", \"young\", \"zoo\", \"zoo\", \"zoo\", \"zoo_dirty\"]}, \"R\": 30, \"lambda.step\": 0.01, \"plot.opts\": {\"xlab\": \"PC1\", \"ylab\": \"PC2\"}, \"topic.order\": [7, 4, 5, 2, 10, 9, 3, 1, 6, 8]};\n",
       "\n",
       "function LDAvis_load_lib(url, callback){\n",
       "  var s = document.createElement('script');\n",
       "  s.src = url;\n",
       "  s.async = true;\n",
       "  s.onreadystatechange = s.onload = callback;\n",
       "  s.onerror = function(){console.warn(\"failed to load library \" + url);};\n",
       "  document.getElementsByTagName(\"head\")[0].appendChild(s);\n",
       "}\n",
       "\n",
       "if(typeof(LDAvis) !== \"undefined\"){\n",
       "   // already loaded: just create the visualization\n",
       "   !function(LDAvis){\n",
       "       new LDAvis(\"#\" + \"ldavis_el25841406839090252321728424104\", ldavis_el25841406839090252321728424104_data);\n",
       "   }(LDAvis);\n",
       "}else if(typeof define === \"function\" && define.amd){\n",
       "   // require.js is available: use it to load d3/LDAvis\n",
       "   require.config({paths: {d3: \"https://d3js.org/d3.v5\"}});\n",
       "   require([\"d3\"], function(d3){\n",
       "      window.d3 = d3;\n",
       "      LDAvis_load_lib(\"https://cdn.jsdelivr.net/gh/bmabey/pyLDAvis@3.3.1/pyLDAvis/js/ldavis.v3.0.0.js\", function(){\n",
       "        new LDAvis(\"#\" + \"ldavis_el25841406839090252321728424104\", ldavis_el25841406839090252321728424104_data);\n",
       "      });\n",
       "    });\n",
       "}else{\n",
       "    // require.js not available: dynamically load d3 & LDAvis\n",
       "    LDAvis_load_lib(\"https://d3js.org/d3.v5.js\", function(){\n",
       "         LDAvis_load_lib(\"https://cdn.jsdelivr.net/gh/bmabey/pyLDAvis@3.3.1/pyLDAvis/js/ldavis.v3.0.0.js\", function(){\n",
       "                 new LDAvis(\"#\" + \"ldavis_el25841406839090252321728424104\", ldavis_el25841406839090252321728424104_data);\n",
       "            })\n",
       "         });\n",
       "}\n",
       "</script>"
      ],
      "text/plain": [
       "PreparedData(topic_coordinates=              x         y  topics  cluster       Freq\n",
       "topic                                                \n",
       "6     -0.180876 -0.098136       1        1  20.111998\n",
       "3     -0.003200  0.197400       2        1  19.488093\n",
       "4     -0.143420  0.086876       3        1  15.312798\n",
       "1      0.063470 -0.139936       4        1  10.028114\n",
       "9      0.134620 -0.048157       5        1   9.597379\n",
       "8      0.126185  0.073581       6        1   7.546409\n",
       "2      0.028360  0.053212       7        1   6.956778\n",
       "0     -0.023483 -0.086847       8        1   5.904630\n",
       "5     -0.020585 -0.017985       9        1   3.393529\n",
       "7      0.018929 -0.020008      10        1   1.660272, topic_info=              Term       Freq      Total Category  logprob  loglift\n",
       "1536      american  40.000000  40.000000  Default  30.0000  30.0000\n",
       "74           black  24.000000  24.000000  Default  29.0000  29.0000\n",
       "1218         world  36.000000  36.000000  Default  28.0000  28.0000\n",
       "783         people  30.000000  30.000000  Default  27.0000  27.0000\n",
       "1176          walk  28.000000  28.000000  Default  26.0000  26.0000\n",
       "...            ...        ...        ...      ...      ...      ...\n",
       "1318        killer   0.120353   2.557914  Topic10  -6.8321   1.0417\n",
       "703   motherfucker   0.120300   8.695407  Topic10  -6.8326  -0.1824\n",
       "1000        smooth   0.120267   1.177198  Topic10  -6.8328   1.8170\n",
       "6176         shirt   0.120251   0.911983  Topic10  -6.8330   2.0721\n",
       "2015         crack   0.120239   2.863240  Topic10  -6.8331   0.9280\n",
       "\n",
       "[551 rows x 6 columns], token_table=      Topic      Freq       Term\n",
       "term                            \n",
       "4782      7  0.710425        aah\n",
       "1         1  0.372249        act\n",
       "1         7  0.744499        act\n",
       "4318      6  0.850124    african\n",
       "3964      7  0.936484        aim\n",
       "...     ...       ...        ...\n",
       "1236      2  0.803466      young\n",
       "3961      2  0.813316        zoo\n",
       "3961      4  0.062563        zoo\n",
       "3961      7  0.062563        zoo\n",
       "6368      2  0.900286  zoo_dirty\n",
       "\n",
       "[556 rows x 3 columns], R=30, lambda_step=0.01, plot_opts={'xlab': 'PC1', 'ylab': 'PC2'}, topic_order=[7, 4, 5, 2, 10, 9, 3, 1, 6, 8])"
      ]
     },
     "execution_count": 32,
     "metadata": {},
     "output_type": "execute_result"
    }
   ],
   "source": [
    "pyLDAvis.enable_notebook()\n",
    "vis = pyLDAvis.gensim_models.prepare(lda_model, corpus, id2word, mds=\"mmds\", R=30)\n",
    "vis"
   ]
  },
  {
   "cell_type": "code",
   "execution_count": 41,
   "metadata": {},
   "outputs": [
    {
     "data": {
      "text/plain": [
       "'ayy'"
      ]
     },
     "execution_count": 41,
     "metadata": {},
     "output_type": "execute_result"
    }
   ],
   "source": [
    "id2word[26]"
   ]
  },
  {
   "cell_type": "code",
   "execution_count": 46,
   "metadata": {},
   "outputs": [
    {
     "data": {
      "text/plain": [
       "26"
      ]
     },
     "execution_count": 46,
     "metadata": {},
     "output_type": "execute_result"
    }
   ],
   "source": [
    "tfidf[corpus[0]][0][0]"
   ]
  },
  {
   "cell_type": "code",
   "execution_count": 52,
   "metadata": {},
   "outputs": [
    {
     "data": {
      "text/html": [
       "<div>\n",
       "<style scoped>\n",
       "    .dataframe tbody tr th:only-of-type {\n",
       "        vertical-align: middle;\n",
       "    }\n",
       "\n",
       "    .dataframe tbody tr th {\n",
       "        vertical-align: top;\n",
       "    }\n",
       "\n",
       "    .dataframe thead th {\n",
       "        text-align: right;\n",
       "    }\n",
       "</style>\n",
       "<table border=\"1\" class=\"dataframe\">\n",
       "  <thead>\n",
       "    <tr style=\"text-align: right;\">\n",
       "      <th></th>\n",
       "      <th>0</th>\n",
       "      <th>1</th>\n",
       "    </tr>\n",
       "  </thead>\n",
       "  <tbody>\n",
       "    <tr>\n",
       "      <th>0</th>\n",
       "      <td>ayy</td>\n",
       "      <td>0.107507</td>\n",
       "    </tr>\n",
       "    <tr>\n",
       "      <th>1</th>\n",
       "      <td>baby</td>\n",
       "      <td>0.096049</td>\n",
       "    </tr>\n",
       "    <tr>\n",
       "      <th>2</th>\n",
       "      <td>bout</td>\n",
       "      <td>0.115515</td>\n",
       "    </tr>\n",
       "    <tr>\n",
       "      <th>3</th>\n",
       "      <td>bruh</td>\n",
       "      <td>0.097183</td>\n",
       "    </tr>\n",
       "    <tr>\n",
       "      <th>4</th>\n",
       "      <td>cam</td>\n",
       "      <td>0.107507</td>\n",
       "    </tr>\n",
       "    <tr>\n",
       "      <th>5</th>\n",
       "      <td>check</td>\n",
       "      <td>0.091320</td>\n",
       "    </tr>\n",
       "    <tr>\n",
       "      <th>6</th>\n",
       "      <td>coming_coming</td>\n",
       "      <td>0.146933</td>\n",
       "    </tr>\n",
       "    <tr>\n",
       "      <th>7</th>\n",
       "      <td>cruise</td>\n",
       "      <td>0.107507</td>\n",
       "    </tr>\n",
       "    <tr>\n",
       "      <th>8</th>\n",
       "      <td>danger_zone</td>\n",
       "      <td>0.122058</td>\n",
       "    </tr>\n",
       "    <tr>\n",
       "      <th>9</th>\n",
       "      <td>dimes_sprint</td>\n",
       "      <td>0.091543</td>\n",
       "    </tr>\n",
       "    <tr>\n",
       "      <th>10</th>\n",
       "      <td>dog</td>\n",
       "      <td>0.108462</td>\n",
       "    </tr>\n",
       "    <tr>\n",
       "      <th>11</th>\n",
       "      <td>don</td>\n",
       "      <td>0.086636</td>\n",
       "    </tr>\n",
       "    <tr>\n",
       "      <th>12</th>\n",
       "      <td>eat</td>\n",
       "      <td>0.082632</td>\n",
       "    </tr>\n",
       "    <tr>\n",
       "      <th>13</th>\n",
       "      <td>embed</td>\n",
       "      <td>0.108016</td>\n",
       "    </tr>\n",
       "    <tr>\n",
       "      <th>14</th>\n",
       "      <td>gang_gang</td>\n",
       "      <td>0.110200</td>\n",
       "    </tr>\n",
       "    <tr>\n",
       "      <th>15</th>\n",
       "      <td>gon</td>\n",
       "      <td>0.091395</td>\n",
       "    </tr>\n",
       "    <tr>\n",
       "      <th>16</th>\n",
       "      <td>gon_ride</td>\n",
       "      <td>0.146933</td>\n",
       "    </tr>\n",
       "    <tr>\n",
       "      <th>17</th>\n",
       "      <td>harlems</td>\n",
       "      <td>0.183087</td>\n",
       "    </tr>\n",
       "    <tr>\n",
       "      <th>18</th>\n",
       "      <td>headed</td>\n",
       "      <td>0.134384</td>\n",
       "    </tr>\n",
       "    <tr>\n",
       "      <th>19</th>\n",
       "      <td>herb_mcgruff</td>\n",
       "      <td>0.146933</td>\n",
       "    </tr>\n",
       "    <tr>\n",
       "      <th>20</th>\n",
       "      <td>home</td>\n",
       "      <td>0.087062</td>\n",
       "    </tr>\n",
       "    <tr>\n",
       "      <th>21</th>\n",
       "      <td>hood</td>\n",
       "      <td>0.123491</td>\n",
       "    </tr>\n",
       "    <tr>\n",
       "      <th>22</th>\n",
       "      <td>killa</td>\n",
       "      <td>0.206581</td>\n",
       "    </tr>\n",
       "    <tr>\n",
       "      <th>23</th>\n",
       "      <td>lace</td>\n",
       "      <td>0.080630</td>\n",
       "    </tr>\n",
       "    <tr>\n",
       "      <th>24</th>\n",
       "      <td>lady</td>\n",
       "      <td>0.111469</td>\n",
       "    </tr>\n",
       "    <tr>\n",
       "      <th>25</th>\n",
       "      <td>leave</td>\n",
       "      <td>0.091320</td>\n",
       "    </tr>\n",
       "    <tr>\n",
       "      <th>26</th>\n",
       "      <td>mase</td>\n",
       "      <td>0.161261</td>\n",
       "    </tr>\n",
       "    <tr>\n",
       "      <th>27</th>\n",
       "      <td>miss</td>\n",
       "      <td>0.090385</td>\n",
       "    </tr>\n",
       "    <tr>\n",
       "      <th>28</th>\n",
       "      <td>nervous</td>\n",
       "      <td>0.122058</td>\n",
       "    </tr>\n",
       "    <tr>\n",
       "      <th>29</th>\n",
       "      <td>nights</td>\n",
       "      <td>0.097183</td>\n",
       "    </tr>\n",
       "    <tr>\n",
       "      <th>30</th>\n",
       "      <td>number_dial</td>\n",
       "      <td>0.091543</td>\n",
       "    </tr>\n",
       "    <tr>\n",
       "      <th>31</th>\n",
       "      <td>pal</td>\n",
       "      <td>0.110200</td>\n",
       "    </tr>\n",
       "    <tr>\n",
       "      <th>32</th>\n",
       "      <td>pimp_baby</td>\n",
       "      <td>0.122058</td>\n",
       "    </tr>\n",
       "    <tr>\n",
       "      <th>33</th>\n",
       "      <td>problem</td>\n",
       "      <td>0.187224</td>\n",
       "    </tr>\n",
       "    <tr>\n",
       "      <th>34</th>\n",
       "      <td>rakim</td>\n",
       "      <td>0.080630</td>\n",
       "    </tr>\n",
       "    <tr>\n",
       "      <th>35</th>\n",
       "      <td>real</td>\n",
       "      <td>0.094628</td>\n",
       "    </tr>\n",
       "    <tr>\n",
       "      <th>36</th>\n",
       "      <td>renaissance</td>\n",
       "      <td>0.183087</td>\n",
       "    </tr>\n",
       "    <tr>\n",
       "      <th>37</th>\n",
       "      <td>rule</td>\n",
       "      <td>0.097183</td>\n",
       "    </tr>\n",
       "    <tr>\n",
       "      <th>38</th>\n",
       "      <td>shake</td>\n",
       "      <td>0.133763</td>\n",
       "    </tr>\n",
       "    <tr>\n",
       "      <th>39</th>\n",
       "      <td>shaking</td>\n",
       "      <td>0.080630</td>\n",
       "    </tr>\n",
       "    <tr>\n",
       "      <th>40</th>\n",
       "      <td>shouldve</td>\n",
       "      <td>0.091543</td>\n",
       "    </tr>\n",
       "    <tr>\n",
       "      <th>41</th>\n",
       "      <td>stardom</td>\n",
       "      <td>0.183666</td>\n",
       "    </tr>\n",
       "    <tr>\n",
       "      <th>42</th>\n",
       "      <td>stuck_gomorrah</td>\n",
       "      <td>0.110200</td>\n",
       "    </tr>\n",
       "    <tr>\n",
       "      <th>43</th>\n",
       "      <td>thinkin_chick</td>\n",
       "      <td>0.110200</td>\n",
       "    </tr>\n",
       "    <tr>\n",
       "      <th>44</th>\n",
       "      <td>time</td>\n",
       "      <td>0.106725</td>\n",
       "    </tr>\n",
       "    <tr>\n",
       "      <th>45</th>\n",
       "      <td>tonight</td>\n",
       "      <td>0.133763</td>\n",
       "    </tr>\n",
       "    <tr>\n",
       "      <th>46</th>\n",
       "      <td>uptown</td>\n",
       "      <td>0.091395</td>\n",
       "    </tr>\n",
       "    <tr>\n",
       "      <th>47</th>\n",
       "      <td>whats</td>\n",
       "      <td>0.080376</td>\n",
       "    </tr>\n",
       "    <tr>\n",
       "      <th>48</th>\n",
       "      <td>word</td>\n",
       "      <td>0.164655</td>\n",
       "    </tr>\n",
       "    <tr>\n",
       "      <th>49</th>\n",
       "      <td>world</td>\n",
       "      <td>0.412664</td>\n",
       "    </tr>\n",
       "    <tr>\n",
       "      <th>50</th>\n",
       "      <td>world_holdin</td>\n",
       "      <td>0.183666</td>\n",
       "    </tr>\n",
       "    <tr>\n",
       "      <th>51</th>\n",
       "      <td>world_world</td>\n",
       "      <td>0.257132</td>\n",
       "    </tr>\n",
       "    <tr>\n",
       "      <th>52</th>\n",
       "      <td>yea</td>\n",
       "      <td>0.121479</td>\n",
       "    </tr>\n",
       "  </tbody>\n",
       "</table>\n",
       "</div>"
      ],
      "text/plain": [
       "                 0         1\n",
       "0              ayy  0.107507\n",
       "1             baby  0.096049\n",
       "2             bout  0.115515\n",
       "3             bruh  0.097183\n",
       "4              cam  0.107507\n",
       "5            check  0.091320\n",
       "6    coming_coming  0.146933\n",
       "7           cruise  0.107507\n",
       "8      danger_zone  0.122058\n",
       "9     dimes_sprint  0.091543\n",
       "10             dog  0.108462\n",
       "11             don  0.086636\n",
       "12             eat  0.082632\n",
       "13           embed  0.108016\n",
       "14       gang_gang  0.110200\n",
       "15             gon  0.091395\n",
       "16        gon_ride  0.146933\n",
       "17         harlems  0.183087\n",
       "18          headed  0.134384\n",
       "19    herb_mcgruff  0.146933\n",
       "20            home  0.087062\n",
       "21            hood  0.123491\n",
       "22           killa  0.206581\n",
       "23            lace  0.080630\n",
       "24            lady  0.111469\n",
       "25           leave  0.091320\n",
       "26            mase  0.161261\n",
       "27            miss  0.090385\n",
       "28         nervous  0.122058\n",
       "29          nights  0.097183\n",
       "30     number_dial  0.091543\n",
       "31             pal  0.110200\n",
       "32       pimp_baby  0.122058\n",
       "33         problem  0.187224\n",
       "34           rakim  0.080630\n",
       "35            real  0.094628\n",
       "36     renaissance  0.183087\n",
       "37            rule  0.097183\n",
       "38           shake  0.133763\n",
       "39         shaking  0.080630\n",
       "40        shouldve  0.091543\n",
       "41         stardom  0.183666\n",
       "42  stuck_gomorrah  0.110200\n",
       "43   thinkin_chick  0.110200\n",
       "44            time  0.106725\n",
       "45         tonight  0.133763\n",
       "46          uptown  0.091395\n",
       "47           whats  0.080376\n",
       "48            word  0.164655\n",
       "49           world  0.412664\n",
       "50    world_holdin  0.183666\n",
       "51     world_world  0.257132\n",
       "52             yea  0.121479"
      ]
     },
     "execution_count": 52,
     "metadata": {},
     "output_type": "execute_result"
    }
   ],
   "source": [
    "word_list = []\n",
    "df_list = []\n",
    "for i in range(len(corpus)):\n",
    "    for j in range(len(corpus[i])):\n",
    "        word_id = tfidf[corpus[i]][j][0]\n",
    "        freq = tfidf[corpus[i]][j][1]\n",
    "        word_list.append([id2word[word_id], freq])\n",
    "    \n",
    "    df_temp = pd.DataFrame(word_list)\n",
    "    df_list.append(df_temp)\n",
    "\n",
    "df_list[0]"
   ]
  },
  {
   "cell_type": "code",
   "execution_count": 55,
   "metadata": {},
   "outputs": [
    {
     "data": {
      "text/html": [
       "<div>\n",
       "<style scoped>\n",
       "    .dataframe tbody tr th:only-of-type {\n",
       "        vertical-align: middle;\n",
       "    }\n",
       "\n",
       "    .dataframe tbody tr th {\n",
       "        vertical-align: top;\n",
       "    }\n",
       "\n",
       "    .dataframe thead th {\n",
       "        text-align: right;\n",
       "    }\n",
       "</style>\n",
       "<table border=\"1\" class=\"dataframe\">\n",
       "  <thead>\n",
       "    <tr style=\"text-align: right;\">\n",
       "      <th></th>\n",
       "      <th>0</th>\n",
       "      <th>1</th>\n",
       "    </tr>\n",
       "  </thead>\n",
       "  <tbody>\n",
       "    <tr>\n",
       "      <th>1413</th>\n",
       "      <td>broadway</td>\n",
       "      <td>0.898954</td>\n",
       "    </tr>\n",
       "    <tr>\n",
       "      <th>1413</th>\n",
       "      <td>broadway</td>\n",
       "      <td>0.898954</td>\n",
       "    </tr>\n",
       "    <tr>\n",
       "      <th>1413</th>\n",
       "      <td>broadway</td>\n",
       "      <td>0.898954</td>\n",
       "    </tr>\n",
       "    <tr>\n",
       "      <th>1413</th>\n",
       "      <td>broadway</td>\n",
       "      <td>0.898954</td>\n",
       "    </tr>\n",
       "    <tr>\n",
       "      <th>1413</th>\n",
       "      <td>broadway</td>\n",
       "      <td>0.898954</td>\n",
       "    </tr>\n",
       "    <tr>\n",
       "      <th>...</th>\n",
       "      <td>...</td>\n",
       "      <td>...</td>\n",
       "    </tr>\n",
       "    <tr>\n",
       "      <th>2898</th>\n",
       "      <td>gun</td>\n",
       "      <td>0.050489</td>\n",
       "    </tr>\n",
       "    <tr>\n",
       "      <th>2898</th>\n",
       "      <td>gun</td>\n",
       "      <td>0.050489</td>\n",
       "    </tr>\n",
       "    <tr>\n",
       "      <th>2898</th>\n",
       "      <td>gun</td>\n",
       "      <td>0.050489</td>\n",
       "    </tr>\n",
       "    <tr>\n",
       "      <th>2898</th>\n",
       "      <td>gun</td>\n",
       "      <td>0.050489</td>\n",
       "    </tr>\n",
       "    <tr>\n",
       "      <th>2898</th>\n",
       "      <td>gun</td>\n",
       "      <td>0.050489</td>\n",
       "    </tr>\n",
       "  </tbody>\n",
       "</table>\n",
       "<p>124796 rows × 2 columns</p>\n",
       "</div>"
      ],
      "text/plain": [
       "             0         1\n",
       "1413  broadway  0.898954\n",
       "1413  broadway  0.898954\n",
       "1413  broadway  0.898954\n",
       "1413  broadway  0.898954\n",
       "1413  broadway  0.898954\n",
       "...        ...       ...\n",
       "2898       gun  0.050489\n",
       "2898       gun  0.050489\n",
       "2898       gun  0.050489\n",
       "2898       gun  0.050489\n",
       "2898       gun  0.050489\n",
       "\n",
       "[124796 rows x 2 columns]"
      ]
     },
     "execution_count": 55,
     "metadata": {},
     "output_type": "execute_result"
    }
   ],
   "source": [
    "df.sort_values(by=1, ascending=False)"
   ]
  },
  {
   "cell_type": "code",
   "execution_count": null,
   "metadata": {},
   "outputs": [],
   "source": []
  }
 ],
 "metadata": {
  "interpreter": {
   "hash": "2ddbd0b842a978e03471eb3a4ae18fdd24eb8ad76bdab23b363108c4c8f6a59c"
  },
  "kernelspec": {
   "display_name": "Python 3.8.11 64-bit ('ada': conda)",
   "name": "python3"
  },
  "language_info": {
   "codemirror_mode": {
    "name": "ipython",
    "version": 3
   },
   "file_extension": ".py",
   "mimetype": "text/x-python",
   "name": "python",
   "nbconvert_exporter": "python",
   "pygments_lexer": "ipython3",
   "version": "3.8.11"
  },
  "orig_nbformat": 4
 },
 "nbformat": 4,
 "nbformat_minor": 2
}
