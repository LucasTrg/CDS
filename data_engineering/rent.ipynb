{
 "cells": [
  {
   "cell_type": "code",
   "execution_count": 18,
   "metadata": {},
   "outputs": [],
   "source": [
    "import pandas as pd\n",
    "import seaborn as sns"
   ]
  },
  {
   "cell_type": "code",
   "execution_count": 19,
   "metadata": {},
   "outputs": [],
   "source": [
    "df_building= pd.read_csv(\"data/rent_kaggle/housing-new-york-units-by-building.csv\")\n",
    "df_project = pd.read_csv(\"data/rent_kaggle/housing-new-york-units-by-project.csv\")"
   ]
  },
  {
   "cell_type": "code",
   "execution_count": 20,
   "metadata": {},
   "outputs": [
    {
     "data": {
      "text/plain": [
       "Project ID                            [68797, 68866, 69305, 69330, 70165, 64886, 677...\n",
       "Project Name                          [445 GERARD AVENUE, MAXWELL DEVELOPMENT LP.YR1...\n",
       "Program Group                         [Multifamily Incentives Program, Multifamily F...\n",
       "Project Start Date                    [2020-12-31T00:00:00.000, 2020-12-30T00:00:00....\n",
       "Project Completion Date               [nan, 2020-12-31T00:00:00.000, 2020-12-16T00:0...\n",
       "Building ID                           [991233.0, 41403.0, 41405.0, 41431.0, 41436.0,...\n",
       "Number                                [445, 143, 151, 227, 233, 226, 228, 230, 3415,...\n",
       "Street                                [GERARD AVENUE, WEST 140 STREET, WEST 141 STRE...\n",
       "Borough                               [Bronx, Manhattan, Queens, Brooklyn, Staten Is...\n",
       "Postcode                              [10451.0, 10030.0, 10467.0, 10454.0, 11691.0, ...\n",
       "BBL                                   [2023510012.0, 1020090018.0, 1020090012.0, 102...\n",
       "BIN                                   [nan, 1060064.0, 1060063.0, 1060404.0, 1060401...\n",
       "Community Board                       [BX-01, MN-10, BX-07, QN-14, MN-09, BX-06, BX-...\n",
       "Council District                      [8.0, 9.0, 11.0, 17.0, 31.0, 7.0, 15.0, 14.0, ...\n",
       "Census Tract                          [63, 230, 421, 25, 103202, 225, 363, 37504, 38...\n",
       "NTA - Neighborhood Tabulation Area    [BX63, MN03, BX43, BX39, QN15, MN04, BX17, BX4...\n",
       "Latitude                              [40.817398, 40.817879, 40.817947, 40.818904, 4...\n",
       "Longitude                             [-73.929872, -73.939944, -73.940113, -73.94238...\n",
       "Latitude (Internal)                   [40.81754, 40.81794, 40.81811, 40.81937, 40.81...\n",
       "Longitude (Internal)                  [-73.930096, -73.939572, -73.939969, -73.94295...\n",
       "Building Completion Date              [nan, 2020-12-31T00:00:00.000, 2020-12-16T00:0...\n",
       "Reporting Construction Type                            [New Construction, Preservation]\n",
       "Extended Affordability Only                                                   [No, Yes]\n",
       "Prevailing Wage Status                           [Non Prevailing Wage, Prevailing Wage]\n",
       "Extremely Low Income Units            [0, 27, 4, 3, 12, 2, 1, 14, 36, 13, 17, 89, 16...\n",
       "Very Low Income Units                 [0, 22, 48, 16, 6, 7, 10, 2, 1, 3, 5, 88, 13, ...\n",
       "Low Income Units                      [71, 5, 2, 0, 4, 22, 43, 1, 176, 6, 7, 9, 3, 1...\n",
       "Moderate Income Units                 [0, 1, 108, 25, 20, 4, 3, 2, 5, 7, 6, 10, 15, ...\n",
       "Middle Income Units                   [0, 3, 14, 6, 18, 2, 32, 5, 10, 9, 8, 4, 7, 48...\n",
       "Other Income Units                                                         [0, 1, 2, 3]\n",
       "Studio Units                          [2, 0, 4, 42, 1, 135, 53, 41, 8, 31, 38, 25, 6...\n",
       "1-BR Units                            [49, 14, 21, 3, 6, 5, 1, 24, 27, 23, 2, 102, 0...\n",
       "2-BR Units                            [20, 27, 13, 17, 10, 8, 0, 16, 12, 19, 163, 5,...\n",
       "3-BR Units                            [0, 7, 4, 8, 2, 1, 47, 9, 11, 5, 16, 93, 10, 3...\n",
       "4-BR Units                            [0, 7, 1, 8, 3, 2, 6, 5, 44, 9, 4, 12, 18, 14,...\n",
       "5-BR Units                                                    [0, 1, 13, 7, 2, 5, 4, 6]\n",
       "6-BR+ Units                                                            [0, 1, 28, 3, 4]\n",
       "Unknown-BR Units                      [0, 2, 1, 3, 28, 37, 4, 107, 24, 269, 42, 207,...\n",
       "Counted Rental Units                  [71, 55, 20, 31, 13, 25, 43, 16, 40, 19, 354, ...\n",
       "Counted Homeownership Units           [0, 4, 25, 20, 1, 327, 312, 313, 5, 8, 27, 2, ...\n",
       "All Counted Units                     [71, 55, 20, 31, 13, 25, 43, 16, 40, 19, 354, ...\n",
       "Total Units                           [338, 55, 20, 31, 13, 25, 206, 16, 40, 19, 354...\n",
       "dtype: object"
      ]
     },
     "execution_count": 20,
     "metadata": {},
     "output_type": "execute_result"
    }
   ],
   "source": [
    "df_building.apply(lambda col: col.unique())"
   ]
  },
  {
   "cell_type": "code",
   "execution_count": 21,
   "metadata": {},
   "outputs": [],
   "source": [
    "###Alternate between looking at the completion or start date\n",
    "df_income_unit=df_building.loc[:,[\"Project Start Date\", \"Extremely Low Income Units\",\"Very Low Income Units\",\"Low Income Units\",\"Moderate Income Units\",\"Middle Income Units\",\"Other Income Units\",\"Borough\"]].dropna()"
   ]
  },
  {
   "cell_type": "code",
   "execution_count": 22,
   "metadata": {},
   "outputs": [],
   "source": [
    "from datetime import datetime\n",
    "\n",
    "date_time_str = '18/09/19 01:55:19'\n",
    "\n",
    "date_time_obj = datetime.strptime(date_time_str, '%d/%m/%y %H:%M:%S')\n",
    "\n"
   ]
  },
  {
   "cell_type": "code",
   "execution_count": 23,
   "metadata": {},
   "outputs": [],
   "source": [
    "df_income_unit[\"Project Start Date\"]=df_income_unit[\"Project Start Date\"].apply(lambda date : datetime.strptime(date,\"%Y-%m-%dT%H:%M:%S.%f\"))"
   ]
  },
  {
   "cell_type": "code",
   "execution_count": 24,
   "metadata": {},
   "outputs": [
    {
     "data": {
      "text/html": [
       "<div>\n",
       "<style scoped>\n",
       "    .dataframe tbody tr th:only-of-type {\n",
       "        vertical-align: middle;\n",
       "    }\n",
       "\n",
       "    .dataframe tbody tr th {\n",
       "        vertical-align: top;\n",
       "    }\n",
       "\n",
       "    .dataframe thead th {\n",
       "        text-align: right;\n",
       "    }\n",
       "</style>\n",
       "<table border=\"1\" class=\"dataframe\">\n",
       "  <thead>\n",
       "    <tr style=\"text-align: right;\">\n",
       "      <th></th>\n",
       "      <th>Project Start Date</th>\n",
       "      <th>Extremely Low Income Units</th>\n",
       "      <th>Very Low Income Units</th>\n",
       "      <th>Low Income Units</th>\n",
       "      <th>Moderate Income Units</th>\n",
       "      <th>Middle Income Units</th>\n",
       "      <th>Other Income Units</th>\n",
       "      <th>Borough</th>\n",
       "    </tr>\n",
       "  </thead>\n",
       "  <tbody>\n",
       "    <tr>\n",
       "      <th>0</th>\n",
       "      <td>2020-12-31</td>\n",
       "      <td>0</td>\n",
       "      <td>0</td>\n",
       "      <td>71</td>\n",
       "      <td>0</td>\n",
       "      <td>0</td>\n",
       "      <td>0</td>\n",
       "      <td>Bronx</td>\n",
       "    </tr>\n",
       "    <tr>\n",
       "      <th>1</th>\n",
       "      <td>2020-12-31</td>\n",
       "      <td>27</td>\n",
       "      <td>22</td>\n",
       "      <td>5</td>\n",
       "      <td>0</td>\n",
       "      <td>0</td>\n",
       "      <td>1</td>\n",
       "      <td>Manhattan</td>\n",
       "    </tr>\n",
       "    <tr>\n",
       "      <th>2</th>\n",
       "      <td>2020-12-31</td>\n",
       "      <td>4</td>\n",
       "      <td>48</td>\n",
       "      <td>2</td>\n",
       "      <td>0</td>\n",
       "      <td>0</td>\n",
       "      <td>1</td>\n",
       "      <td>Manhattan</td>\n",
       "    </tr>\n",
       "    <tr>\n",
       "      <th>3</th>\n",
       "      <td>2020-12-31</td>\n",
       "      <td>3</td>\n",
       "      <td>16</td>\n",
       "      <td>0</td>\n",
       "      <td>0</td>\n",
       "      <td>0</td>\n",
       "      <td>1</td>\n",
       "      <td>Manhattan</td>\n",
       "    </tr>\n",
       "    <tr>\n",
       "      <th>4</th>\n",
       "      <td>2020-12-31</td>\n",
       "      <td>12</td>\n",
       "      <td>16</td>\n",
       "      <td>2</td>\n",
       "      <td>0</td>\n",
       "      <td>0</td>\n",
       "      <td>1</td>\n",
       "      <td>Manhattan</td>\n",
       "    </tr>\n",
       "    <tr>\n",
       "      <th>...</th>\n",
       "      <td>...</td>\n",
       "      <td>...</td>\n",
       "      <td>...</td>\n",
       "      <td>...</td>\n",
       "      <td>...</td>\n",
       "      <td>...</td>\n",
       "      <td>...</td>\n",
       "      <td>...</td>\n",
       "    </tr>\n",
       "    <tr>\n",
       "      <th>4954</th>\n",
       "      <td>2014-01-14</td>\n",
       "      <td>0</td>\n",
       "      <td>0</td>\n",
       "      <td>0</td>\n",
       "      <td>0</td>\n",
       "      <td>1</td>\n",
       "      <td>0</td>\n",
       "      <td>Brooklyn</td>\n",
       "    </tr>\n",
       "    <tr>\n",
       "      <th>4955</th>\n",
       "      <td>2014-01-10</td>\n",
       "      <td>0</td>\n",
       "      <td>0</td>\n",
       "      <td>0</td>\n",
       "      <td>0</td>\n",
       "      <td>1</td>\n",
       "      <td>0</td>\n",
       "      <td>Staten Island</td>\n",
       "    </tr>\n",
       "    <tr>\n",
       "      <th>4956</th>\n",
       "      <td>2014-01-10</td>\n",
       "      <td>0</td>\n",
       "      <td>0</td>\n",
       "      <td>1</td>\n",
       "      <td>0</td>\n",
       "      <td>0</td>\n",
       "      <td>0</td>\n",
       "      <td>Staten Island</td>\n",
       "    </tr>\n",
       "    <tr>\n",
       "      <th>4957</th>\n",
       "      <td>2014-01-07</td>\n",
       "      <td>0</td>\n",
       "      <td>0</td>\n",
       "      <td>0</td>\n",
       "      <td>0</td>\n",
       "      <td>1</td>\n",
       "      <td>0</td>\n",
       "      <td>Brooklyn</td>\n",
       "    </tr>\n",
       "    <tr>\n",
       "      <th>4958</th>\n",
       "      <td>2014-01-03</td>\n",
       "      <td>0</td>\n",
       "      <td>0</td>\n",
       "      <td>0</td>\n",
       "      <td>0</td>\n",
       "      <td>1</td>\n",
       "      <td>0</td>\n",
       "      <td>Queens</td>\n",
       "    </tr>\n",
       "  </tbody>\n",
       "</table>\n",
       "<p>4959 rows × 8 columns</p>\n",
       "</div>"
      ],
      "text/plain": [
       "     Project Start Date  Extremely Low Income Units  Very Low Income Units  \\\n",
       "0            2020-12-31                           0                      0   \n",
       "1            2020-12-31                          27                     22   \n",
       "2            2020-12-31                           4                     48   \n",
       "3            2020-12-31                           3                     16   \n",
       "4            2020-12-31                          12                     16   \n",
       "...                 ...                         ...                    ...   \n",
       "4954         2014-01-14                           0                      0   \n",
       "4955         2014-01-10                           0                      0   \n",
       "4956         2014-01-10                           0                      0   \n",
       "4957         2014-01-07                           0                      0   \n",
       "4958         2014-01-03                           0                      0   \n",
       "\n",
       "      Low Income Units  Moderate Income Units  Middle Income Units  \\\n",
       "0                   71                      0                    0   \n",
       "1                    5                      0                    0   \n",
       "2                    2                      0                    0   \n",
       "3                    0                      0                    0   \n",
       "4                    2                      0                    0   \n",
       "...                ...                    ...                  ...   \n",
       "4954                 0                      0                    1   \n",
       "4955                 0                      0                    1   \n",
       "4956                 1                      0                    0   \n",
       "4957                 0                      0                    1   \n",
       "4958                 0                      0                    1   \n",
       "\n",
       "      Other Income Units        Borough  \n",
       "0                      0          Bronx  \n",
       "1                      1      Manhattan  \n",
       "2                      1      Manhattan  \n",
       "3                      1      Manhattan  \n",
       "4                      1      Manhattan  \n",
       "...                  ...            ...  \n",
       "4954                   0       Brooklyn  \n",
       "4955                   0  Staten Island  \n",
       "4956                   0  Staten Island  \n",
       "4957                   0       Brooklyn  \n",
       "4958                   0         Queens  \n",
       "\n",
       "[4959 rows x 8 columns]"
      ]
     },
     "execution_count": 24,
     "metadata": {},
     "output_type": "execute_result"
    }
   ],
   "source": [
    "df_income_unit"
   ]
  },
  {
   "cell_type": "code",
   "execution_count": 25,
   "metadata": {},
   "outputs": [],
   "source": [
    "df_income_unit[\"year\"]=df_income_unit[\"Project Start Date\"].apply(lambda date : date.year)"
   ]
  },
  {
   "cell_type": "code",
   "execution_count": 26,
   "metadata": {},
   "outputs": [
    {
     "data": {
      "text/html": [
       "<div>\n",
       "<style scoped>\n",
       "    .dataframe tbody tr th:only-of-type {\n",
       "        vertical-align: middle;\n",
       "    }\n",
       "\n",
       "    .dataframe tbody tr th {\n",
       "        vertical-align: top;\n",
       "    }\n",
       "\n",
       "    .dataframe thead th {\n",
       "        text-align: right;\n",
       "    }\n",
       "</style>\n",
       "<table border=\"1\" class=\"dataframe\">\n",
       "  <thead>\n",
       "    <tr style=\"text-align: right;\">\n",
       "      <th></th>\n",
       "      <th>year</th>\n",
       "      <th>Borough</th>\n",
       "      <th>low</th>\n",
       "      <th>high</th>\n",
       "    </tr>\n",
       "  </thead>\n",
       "  <tbody>\n",
       "    <tr>\n",
       "      <th>0</th>\n",
       "      <td>2014</td>\n",
       "      <td>Bronx</td>\n",
       "      <td>1605</td>\n",
       "      <td>50</td>\n",
       "    </tr>\n",
       "    <tr>\n",
       "      <th>1</th>\n",
       "      <td>2014</td>\n",
       "      <td>Brooklyn</td>\n",
       "      <td>495</td>\n",
       "      <td>462</td>\n",
       "    </tr>\n",
       "    <tr>\n",
       "      <th>2</th>\n",
       "      <td>2014</td>\n",
       "      <td>Manhattan</td>\n",
       "      <td>1399</td>\n",
       "      <td>389</td>\n",
       "    </tr>\n",
       "    <tr>\n",
       "      <th>3</th>\n",
       "      <td>2014</td>\n",
       "      <td>Queens</td>\n",
       "      <td>208</td>\n",
       "      <td>28</td>\n",
       "    </tr>\n",
       "    <tr>\n",
       "      <th>4</th>\n",
       "      <td>2014</td>\n",
       "      <td>Staten Island</td>\n",
       "      <td>44</td>\n",
       "      <td>28</td>\n",
       "    </tr>\n",
       "    <tr>\n",
       "      <th>5</th>\n",
       "      <td>2015</td>\n",
       "      <td>Bronx</td>\n",
       "      <td>1343</td>\n",
       "      <td>75</td>\n",
       "    </tr>\n",
       "    <tr>\n",
       "      <th>6</th>\n",
       "      <td>2015</td>\n",
       "      <td>Brooklyn</td>\n",
       "      <td>158</td>\n",
       "      <td>22</td>\n",
       "    </tr>\n",
       "    <tr>\n",
       "      <th>7</th>\n",
       "      <td>2015</td>\n",
       "      <td>Manhattan</td>\n",
       "      <td>1006</td>\n",
       "      <td>4668</td>\n",
       "    </tr>\n",
       "    <tr>\n",
       "      <th>8</th>\n",
       "      <td>2015</td>\n",
       "      <td>Queens</td>\n",
       "      <td>33</td>\n",
       "      <td>0</td>\n",
       "    </tr>\n",
       "    <tr>\n",
       "      <th>9</th>\n",
       "      <td>2015</td>\n",
       "      <td>Staten Island</td>\n",
       "      <td>32</td>\n",
       "      <td>1</td>\n",
       "    </tr>\n",
       "    <tr>\n",
       "      <th>10</th>\n",
       "      <td>2016</td>\n",
       "      <td>Bronx</td>\n",
       "      <td>2761</td>\n",
       "      <td>65</td>\n",
       "    </tr>\n",
       "    <tr>\n",
       "      <th>11</th>\n",
       "      <td>2016</td>\n",
       "      <td>Brooklyn</td>\n",
       "      <td>3835</td>\n",
       "      <td>940</td>\n",
       "    </tr>\n",
       "    <tr>\n",
       "      <th>12</th>\n",
       "      <td>2016</td>\n",
       "      <td>Manhattan</td>\n",
       "      <td>2641</td>\n",
       "      <td>924</td>\n",
       "    </tr>\n",
       "    <tr>\n",
       "      <th>13</th>\n",
       "      <td>2016</td>\n",
       "      <td>Queens</td>\n",
       "      <td>1287</td>\n",
       "      <td>6</td>\n",
       "    </tr>\n",
       "    <tr>\n",
       "      <th>14</th>\n",
       "      <td>2016</td>\n",
       "      <td>Staten Island</td>\n",
       "      <td>743</td>\n",
       "      <td>1</td>\n",
       "    </tr>\n",
       "    <tr>\n",
       "      <th>15</th>\n",
       "      <td>2017</td>\n",
       "      <td>Bronx</td>\n",
       "      <td>5674</td>\n",
       "      <td>484</td>\n",
       "    </tr>\n",
       "    <tr>\n",
       "      <th>16</th>\n",
       "      <td>2017</td>\n",
       "      <td>Brooklyn</td>\n",
       "      <td>4749</td>\n",
       "      <td>846</td>\n",
       "    </tr>\n",
       "    <tr>\n",
       "      <th>17</th>\n",
       "      <td>2017</td>\n",
       "      <td>Manhattan</td>\n",
       "      <td>3662</td>\n",
       "      <td>1228</td>\n",
       "    </tr>\n",
       "    <tr>\n",
       "      <th>18</th>\n",
       "      <td>2017</td>\n",
       "      <td>Queens</td>\n",
       "      <td>2439</td>\n",
       "      <td>645</td>\n",
       "    </tr>\n",
       "    <tr>\n",
       "      <th>19</th>\n",
       "      <td>2017</td>\n",
       "      <td>Staten Island</td>\n",
       "      <td>206</td>\n",
       "      <td>12</td>\n",
       "    </tr>\n",
       "    <tr>\n",
       "      <th>20</th>\n",
       "      <td>2018</td>\n",
       "      <td>Bronx</td>\n",
       "      <td>6255</td>\n",
       "      <td>439</td>\n",
       "    </tr>\n",
       "    <tr>\n",
       "      <th>21</th>\n",
       "      <td>2018</td>\n",
       "      <td>Brooklyn</td>\n",
       "      <td>9185</td>\n",
       "      <td>623</td>\n",
       "    </tr>\n",
       "    <tr>\n",
       "      <th>22</th>\n",
       "      <td>2018</td>\n",
       "      <td>Manhattan</td>\n",
       "      <td>5842</td>\n",
       "      <td>1232</td>\n",
       "    </tr>\n",
       "    <tr>\n",
       "      <th>23</th>\n",
       "      <td>2018</td>\n",
       "      <td>Queens</td>\n",
       "      <td>592</td>\n",
       "      <td>304</td>\n",
       "    </tr>\n",
       "    <tr>\n",
       "      <th>24</th>\n",
       "      <td>2018</td>\n",
       "      <td>Staten Island</td>\n",
       "      <td>1055</td>\n",
       "      <td>15</td>\n",
       "    </tr>\n",
       "    <tr>\n",
       "      <th>25</th>\n",
       "      <td>2019</td>\n",
       "      <td>Bronx</td>\n",
       "      <td>6407</td>\n",
       "      <td>874</td>\n",
       "    </tr>\n",
       "    <tr>\n",
       "      <th>26</th>\n",
       "      <td>2019</td>\n",
       "      <td>Brooklyn</td>\n",
       "      <td>2622</td>\n",
       "      <td>1149</td>\n",
       "    </tr>\n",
       "    <tr>\n",
       "      <th>27</th>\n",
       "      <td>2019</td>\n",
       "      <td>Manhattan</td>\n",
       "      <td>4601</td>\n",
       "      <td>2560</td>\n",
       "    </tr>\n",
       "    <tr>\n",
       "      <th>28</th>\n",
       "      <td>2019</td>\n",
       "      <td>Queens</td>\n",
       "      <td>354</td>\n",
       "      <td>474</td>\n",
       "    </tr>\n",
       "    <tr>\n",
       "      <th>29</th>\n",
       "      <td>2019</td>\n",
       "      <td>Staten Island</td>\n",
       "      <td>8</td>\n",
       "      <td>0</td>\n",
       "    </tr>\n",
       "    <tr>\n",
       "      <th>30</th>\n",
       "      <td>2020</td>\n",
       "      <td>Bronx</td>\n",
       "      <td>2107</td>\n",
       "      <td>223</td>\n",
       "    </tr>\n",
       "    <tr>\n",
       "      <th>31</th>\n",
       "      <td>2020</td>\n",
       "      <td>Brooklyn</td>\n",
       "      <td>3023</td>\n",
       "      <td>805</td>\n",
       "    </tr>\n",
       "    <tr>\n",
       "      <th>32</th>\n",
       "      <td>2020</td>\n",
       "      <td>Manhattan</td>\n",
       "      <td>2528</td>\n",
       "      <td>224</td>\n",
       "    </tr>\n",
       "    <tr>\n",
       "      <th>33</th>\n",
       "      <td>2020</td>\n",
       "      <td>Queens</td>\n",
       "      <td>345</td>\n",
       "      <td>161</td>\n",
       "    </tr>\n",
       "    <tr>\n",
       "      <th>34</th>\n",
       "      <td>2020</td>\n",
       "      <td>Staten Island</td>\n",
       "      <td>105</td>\n",
       "      <td>31</td>\n",
       "    </tr>\n",
       "    <tr>\n",
       "      <th>35</th>\n",
       "      <td>2021</td>\n",
       "      <td>Bronx</td>\n",
       "      <td>117</td>\n",
       "      <td>2</td>\n",
       "    </tr>\n",
       "  </tbody>\n",
       "</table>\n",
       "</div>"
      ],
      "text/plain": [
       "    year        Borough   low  high\n",
       "0   2014          Bronx  1605    50\n",
       "1   2014       Brooklyn   495   462\n",
       "2   2014      Manhattan  1399   389\n",
       "3   2014         Queens   208    28\n",
       "4   2014  Staten Island    44    28\n",
       "5   2015          Bronx  1343    75\n",
       "6   2015       Brooklyn   158    22\n",
       "7   2015      Manhattan  1006  4668\n",
       "8   2015         Queens    33     0\n",
       "9   2015  Staten Island    32     1\n",
       "10  2016          Bronx  2761    65\n",
       "11  2016       Brooklyn  3835   940\n",
       "12  2016      Manhattan  2641   924\n",
       "13  2016         Queens  1287     6\n",
       "14  2016  Staten Island   743     1\n",
       "15  2017          Bronx  5674   484\n",
       "16  2017       Brooklyn  4749   846\n",
       "17  2017      Manhattan  3662  1228\n",
       "18  2017         Queens  2439   645\n",
       "19  2017  Staten Island   206    12\n",
       "20  2018          Bronx  6255   439\n",
       "21  2018       Brooklyn  9185   623\n",
       "22  2018      Manhattan  5842  1232\n",
       "23  2018         Queens   592   304\n",
       "24  2018  Staten Island  1055    15\n",
       "25  2019          Bronx  6407   874\n",
       "26  2019       Brooklyn  2622  1149\n",
       "27  2019      Manhattan  4601  2560\n",
       "28  2019         Queens   354   474\n",
       "29  2019  Staten Island     8     0\n",
       "30  2020          Bronx  2107   223\n",
       "31  2020       Brooklyn  3023   805\n",
       "32  2020      Manhattan  2528   224\n",
       "33  2020         Queens   345   161\n",
       "34  2020  Staten Island   105    31\n",
       "35  2021          Bronx   117     2"
      ]
     },
     "execution_count": 26,
     "metadata": {},
     "output_type": "execute_result"
    }
   ],
   "source": [
    "df_yearly_income_unit"
   ]
  },
  {
   "cell_type": "code",
   "execution_count": 27,
   "metadata": {},
   "outputs": [],
   "source": [
    "df_yearly_income_unit=df_income_unit.groupby([\"year\",\"Borough\"]).sum()\n",
    "df_yearly_income_unit=df_yearly_income_unit.reset_index()\n",
    "df_yearly_income_unit[\"Borough\"]=df_yearly_income_unit[\"Borough\"].astype(\"category\")"
   ]
  },
  {
   "cell_type": "code",
   "execution_count": 28,
   "metadata": {},
   "outputs": [],
   "source": [
    "df_yearly_income_unit[\"low\"]=df_yearly_income_unit[\"Extremely Low Income Units\"]+df_yearly_income_unit[\"Very Low Income Units\"]+df_yearly_income_unit[\"Low Income Units\"]\n",
    "df_yearly_income_unit[\"high\"]=df_yearly_income_unit[\"Moderate Income Units\"]+df_yearly_income_unit[\"Middle Income Units\"]+df_yearly_income_unit[\"Other Income Units\"]"
   ]
  },
  {
   "cell_type": "code",
   "execution_count": null,
   "metadata": {},
   "outputs": [],
   "source": []
  },
  {
   "cell_type": "code",
   "execution_count": 29,
   "metadata": {},
   "outputs": [
    {
     "data": {
      "text/plain": [
       "<AxesSubplot:>"
      ]
     },
     "execution_count": 29,
     "metadata": {},
     "output_type": "execute_result"
    },
    {
     "data": {
      "image/png": "[encoded data removed]",
      "text/plain": [
       "<Figure size 1440x720 with 1 Axes>"
      ]
     },
     "metadata": {
      "needs_background": "light"
     },
     "output_type": "display_data"
    }
   ],
   "source": [
    "df_yearly_income_unit[\"high\"].plot.bar(\"C1\", label=\"high\")\n",
    "df_yearly_income_unit[\"low\"].plot.bar(\"C2\", figsize=(20,10), label=\"low\")\n"
   ]
  },
  {
   "cell_type": "code",
   "execution_count": null,
   "metadata": {},
   "outputs": [],
   "source": []
  },
  {
   "cell_type": "code",
   "execution_count": null,
   "metadata": {},
   "outputs": [],
   "source": []
  },
  {
   "cell_type": "code",
   "execution_count": 30,
   "metadata": {},
   "outputs": [
    {
     "data": {
      "image/png": "[encoded data removed]",
      "text/plain": [
       "<Figure size 1440x720 with 1 Axes>"
      ]
     },
     "metadata": {
      "needs_background": "light"
     },
     "output_type": "display_data"
    },
    {
     "data": {
      "image/png": "[encoded data removed]",
      "text/plain": [
       "<Figure size 1440x720 with 1 Axes>"
      ]
     },
     "metadata": {
      "needs_background": "light"
     },
     "output_type": "display_data"
    },
    {
     "data": {
      "image/png": "[encoded data removed]",
      "text/plain": [
       "<Figure size 1440x720 with 1 Axes>"
      ]
     },
     "metadata": {
      "needs_background": "light"
     },
     "output_type": "display_data"
    },
    {
     "data": {
      "image/png": "[encoded data removed]",
      "text/plain": [
       "<Figure size 1440x720 with 1 Axes>"
      ]
     },
     "metadata": {
      "needs_background": "light"
     },
     "output_type": "display_data"
    },
    {
     "data": {
      "image/png": "[encoded data removed]",
      "text/plain": [
       "<Figure size 1440x720 with 1 Axes>"
      ]
     },
     "metadata": {
      "needs_background": "light"
     },
     "output_type": "display_data"
    }
   ],
   "source": [
    "for borough in df_yearly_income_unit[\"Borough\"].unique():\n",
    "    df_yearly_income_unit[df_yearly_income_unit[\"Borough\"]==borough].plot(kind=\"bar\", figsize=(20,10),x=\"year\", y=[\"low\",\"high\"], title=borough)\n",
    "\n"
   ]
  },
  {
   "cell_type": "code",
   "execution_count": 31,
   "metadata": {},
   "outputs": [
    {
     "data": {
      "text/plain": [
       "<AxesSubplot:xlabel='year'>"
      ]
     },
     "execution_count": 31,
     "metadata": {},
     "output_type": "execute_result"
    },
    {
     "data": {
      "image/png": "[encoded data removed]",
      "text/plain": [
       "<Figure size 1440x720 with 1 Axes>"
      ]
     },
     "metadata": {
      "needs_background": "light"
     },
     "output_type": "display_data"
    }
   ],
   "source": [
    "df_yearly_income_unit[\"Borough\"]=df_yearly_income_unit[\"Borough\"].astype(\"category\")\n",
    "df_yearly_income_unit=df_yearly_income_unit.reset_index().loc[:,[\"year\",\"Borough\", \"low\", \"high\"]]\n",
    "df_yearly_income_unit.plot(kind=\"bar\", figsize=(20,10),x=\"year\", y=[\"low\",\"high\"])\n"
   ]
  },
  {
   "cell_type": "code",
   "execution_count": 32,
   "metadata": {},
   "outputs": [
    {
     "ename": "NameError",
     "evalue": "name 'df_income_units' is not defined",
     "output_type": "error",
     "traceback": [
      "\u001b[0;31m---------------------------------------------------------------------------\u001b[0m",
      "\u001b[0;31mNameError\u001b[0m                                 Traceback (most recent call last)",
      "\u001b[0;32m/tmp/ipykernel_5947/1407286465.py\u001b[0m in \u001b[0;36m<module>\u001b[0;34m\u001b[0m\n\u001b[0;32m----> 1\u001b[0;31m \u001b[0mdf_income_units\u001b[0m\u001b[0;34m[\u001b[0m\u001b[0;34m\"Low\"\u001b[0m\u001b[0;34m]\u001b[0m\u001b[0;34m=\u001b[0m\u001b[0mdf_income_units\u001b[0m\u001b[0;34m[\u001b[0m\u001b[0;34m\"Extremely Low Income Units\"\u001b[0m\u001b[0;34m,\u001b[0m\u001b[0;34m\"Very Low Income Units\"\u001b[0m\u001b[0;34m,\u001b[0m\u001b[0;34m\"Low Income Units\"\u001b[0m\u001b[0;34m]\u001b[0m\u001b[0;34m\u001b[0m\u001b[0;34m\u001b[0m\u001b[0m\n\u001b[0m",
      "\u001b[0;31mNameError\u001b[0m: name 'df_income_units' is not defined"
     ]
    }
   ],
   "source": [
    "df_income_units[\"Low\"]=df_income_units[\"Extremely Low Income Units\",\"Very Low Income Units\",\"Low Income Units\"]"
   ]
  },
  {
   "cell_type": "code",
   "execution_count": 35,
   "metadata": {},
   "outputs": [],
   "source": [
    "import json\n",
    "with open('data/rent_kaggle/socrata_metadata_housing-new-york-units-by-building.json') as json_data:\n",
    "    data = json.load(json_data)\n",
    "\n"
   ]
  },
  {
   "cell_type": "code",
   "execution_count": 41,
   "metadata": {},
   "outputs": [
    {
     "name": "stdout",
     "output_type": "stream",
     "text": [
      "hg8x-zxpr\n",
      "Housing New York Units by Building\n",
      "dataset\n",
      "Department of Housing Preservation and Development (HPD)\n",
      "0\n",
      "Housing & Development\n",
      "1481654647\n",
      "The Department of Housing Preservation and Development (HPD) reports on buildings, units, and projects that began after January 1, 2014 and are counted towards the Housing New York plan. The Housing New York Units by Building file presents this data by building, and includes building-level data, such as house number, street name, BBL, and BIN for each building in a project.  The unit counts are provided by building. For additional documentation, including a data dictionary, review the attachments in the “About this Dataset” section of the Primer landing page.\n",
      "table\n",
      "17685\n",
      "False\n",
      "False\n",
      "True\n",
      "0\n",
      "33474419\n",
      "official\n",
      "False\n",
      "1581692045\n",
      "13948280\n",
      "published\n",
      "1615262621\n",
      "d5dp-fses\n",
      "16887903\n",
      "0\n",
      "34030\n",
      "1615262618\n",
      "tabular\n",
      "[{'reviewedAt': 1525366174, 'reviewedAutomatically': True, 'state': 'approved', 'submissionId': 1862181, 'submissionObject': 'public_audience_request', 'submissionOutcome': 'change_audience', 'submittedAt': 1525366174, 'workflowId': 2285, 'submissionDetails': {'permissionType': 'READ'}, 'submissionOutcomeApplication': {'failureCount': 0, 'status': 'success'}, 'submitter': {'id': '5fuc-pqz2', 'displayName': 'NYC OpenData'}}]\n",
      "[{'id': 451399375, 'name': 'Project ID', 'dataTypeName': 'text', 'description': 'The Project ID is a unique numeric identifier assigned to each project by HPD.', 'fieldName': 'project_id', 'position': 1, 'renderTypeName': 'text', 'tableColumnId': 41431859, 'width': 220, 'cachedContents': {'non_null': '4959', 'largest': '70569', 'null': '0', 'top': [{'item': '53017', 'count': '83'}, {'item': '66670', 'count': '79'}, {'item': '68530', 'count': '79'}, {'item': '53157', 'count': '75'}, {'item': '59857', 'count': '56'}, {'item': '52756', 'count': '56'}, {'item': '69490', 'count': '48'}, {'item': '58513', 'count': '48'}, {'item': '67403', 'count': '46'}, {'item': '58860', 'count': '43'}, {'item': '64268', 'count': '41'}, {'item': '67483', 'count': '40'}, {'item': '58891', 'count': '40'}, {'item': '63840', 'count': '35'}, {'item': '65227', 'count': '33'}, {'item': '52758', 'count': '32'}, {'item': '66985', 'count': '31'}, {'item': '67484', 'count': '30'}, {'item': '52674', 'count': '28'}, {'item': '60426', 'count': '27'}], 'smallest': '44218', 'cardinality': '2583'}, 'format': {'displayStyle': 'plain', 'align': 'left'}}, {'id': 451399376, 'name': 'Project Name', 'dataTypeName': 'text', 'description': 'The Project Name is the name assigned to the project by HPD.', 'fieldName': 'project_name', 'position': 2, 'renderTypeName': 'text', 'tableColumnId': 41431860, 'width': 342, 'cachedContents': {'non_null': '4959', 'largest': 'ZEVRONE REALTY HDFC.HPO.FY18', 'null': '0', 'top': [{'item': 'CONFIDENTIAL', 'count': '993'}, {'item': 'Nehemiah Spring Creek Homes at Gateway Estates 4A', 'count': '83'}, {'item': 'JOE CENTRAL BROOKLYN LLC.YR15.FY19', 'count': '79'}, {'item': 'COOP CITY.HRP.FY20', 'count': '79'}, {'item': 'MHANY 75', 'count': '75'}, {'item': 'Stuy Town Peter Cooper Village', 'count': '56'}, {'item': 'PACC ABCCD RESYNDICATION', 'count': '56'}, {'item': 'HP MORNINGSIDE HEIGHTS PORTFOLIO HDFC.YR15.FY21', 'count': '48'}, {'item': 'Marcus Garvey Apartments (20140295)', 'count': '48'}, {'item': 'STARRETT CITY', 'count': '46'}, {'item': 'BEC CONTINUUM HDFC.YR15.FY2017', 'count': '43'}, {'item': 'SUNSET PARK APARTMENTS HDFC.HUDMF.FY17', 'count': '41'}, {'item': 'HOPE EAST OF FIFTH HDFC INC.YR15.FY17', 'count': '40'}, {'item': \"STAGG 1 - AMANDA'S COVE.HPO.FY19\", 'count': '40'}, {'item': 'FULTON PARK', 'count': '35'}, {'item': 'DIEGO BEEKMAN MHA.GHPP.FY18', 'count': '33'}, {'item': 'CSH', 'count': '32'}, {'item': 'RED HOOK GARDENS-ARTICLE XI', 'count': '31'}, {'item': \"STAGG 2 - JUSTIN'S CORNER.HPO.FY19\", 'count': '30'}, {'item': 'Genesis Year 15 Resyndication', 'count': '28'}], 'smallest': '1007 ATLANTIC AVENUE', 'cardinality': '1591'}, 'format': {'displayStyle': 'plain', 'align': 'left'}}, {'id': 451399416, 'name': 'Program Group', 'dataTypeName': 'text', 'description': 'The broadened program category for a project, which is based on the project’s primary program. See table below labeled “Program Group Definitions” for more information.', 'fieldName': 'program_group', 'position': 3, 'renderTypeName': 'text', 'tableColumnId': 94666614, 'cachedContents': {'non_null': '4959', 'largest': 'Small Homes Program', 'null': '0', 'top': [{'item': 'Multifamily Finance Program', 'count': '2527'}, {'item': 'Multifamily Incentives Program', 'count': '1198'}, {'item': 'Homeowner Assistance Program', 'count': '989'}, {'item': 'Small Homes Program', 'count': '243'}, {'item': '#N/A', 'count': '2'}], 'smallest': 'Homeowner Assistance Program', 'cardinality': '5'}, 'format': {}}, {'id': 451399377, 'name': 'Project Start Date', 'dataTypeName': 'calendar_date', 'description': 'The Project Start Date is the date of the project loan or agreement closing.', 'fieldName': 'project_start_date', 'position': 4, 'renderTypeName': 'calendar_date', 'tableColumnId': 41431861, 'width': 238, 'cachedContents': {'non_null': '4959', 'largest': '2020-12-31T00:00:00.000', 'null': '0', 'top': [{'item': '2019-06-20T00:00:00.000', 'count': '108'}, {'item': '2019-06-27T00:00:00.000', 'count': '97'}, {'item': '2015-06-25T00:00:00.000', 'count': '90'}, {'item': '2016-06-27T00:00:00.000', 'count': '87'}, {'item': '2020-03-30T00:00:00.000', 'count': '79'}, {'item': '2017-06-26T00:00:00.000', 'count': '79'}, {'item': '2015-10-27T00:00:00.000', 'count': '76'}, {'item': '2018-06-29T00:00:00.000', 'count': '70'}, {'item': '2017-06-30T00:00:00.000', 'count': '66'}, {'item': '2017-06-29T00:00:00.000', 'count': '64'}, {'item': '2016-06-30T00:00:00.000', 'count': '56'}, {'item': '2015-12-18T00:00:00.000', 'count': '56'}, {'item': '2018-05-25T00:00:00.000', 'count': '54'}, {'item': '2016-12-28T00:00:00.000', 'count': '52'}, {'item': '2017-11-01T00:00:00.000', 'count': '52'}, {'item': '2020-10-16T00:00:00.000', 'count': '49'}, {'item': '2014-12-16T00:00:00.000', 'count': '49'}, {'item': '2015-12-30T00:00:00.000', 'count': '49'}, {'item': '2019-06-28T00:00:00.000', 'count': '48'}, {'item': '2018-07-02T00:00:00.000', 'count': '43'}], 'smallest': '2014-01-03T00:00:00.000', 'cardinality': '1178'}, 'format': {'view': 'date', 'align': 'left'}}, {'id': 451399378, 'name': 'Project Completion Date', 'dataTypeName': 'calendar_date', 'description': 'The Project Completion Date is the date that the last building in the project was completed. If the project has not yet completed, then the field is blank.', 'fieldName': 'project_completion_date', 'position': 5, 'renderTypeName': 'calendar_date', 'tableColumnId': 41431862, 'width': 235, 'cachedContents': {'non_null': '3570', 'largest': '2021-01-13T00:00:00.000', 'null': '1389', 'top': [{'item': '2019-06-20T00:00:00.000', 'count': '103'}, {'item': '2019-05-28T00:00:00.000', 'count': '84'}, {'item': '2018-08-03T00:00:00.000', 'count': '76'}, {'item': '2017-06-26T00:00:00.000', 'count': '70'}, {'item': '2016-12-21T00:00:00.000', 'count': '59'}, {'item': '2017-06-23T00:00:00.000', 'count': '58'}, {'item': '2015-12-18T00:00:00.000', 'count': '57'}, {'item': '2018-05-25T00:00:00.000', 'count': '54'}, {'item': '2017-10-31T00:00:00.000', 'count': '43'}, {'item': '2018-12-31T00:00:00.000', 'count': '42'}, {'item': '2017-06-13T00:00:00.000', 'count': '42'}, {'item': '2018-07-02T00:00:00.000', 'count': '39'}, {'item': '2016-06-24T00:00:00.000', 'count': '36'}, {'item': '2017-06-29T00:00:00.000', 'count': '32'}, {'item': '2018-07-30T00:00:00.000', 'count': '29'}, {'item': '2019-06-13T00:00:00.000', 'count': '28'}, {'item': '2017-11-01T00:00:00.000', 'count': '27'}, {'item': '2016-07-01T00:00:00.000', 'count': '27'}, {'item': '2019-11-21T00:00:00.000', 'count': '23'}, {'item': '2019-06-26T00:00:00.000', 'count': '22'}], 'smallest': '2014-01-03T00:00:00.000', 'cardinality': '1063'}, 'format': {'view': 'date', 'align': 'left'}}, {'id': 451399379, 'name': 'Building ID', 'dataTypeName': 'number', 'description': 'The Building ID is a unique numeric identifier assigned to each building by HPD.', 'fieldName': 'building_id', 'position': 6, 'renderTypeName': 'number', 'tableColumnId': 41431863, 'width': 232, 'cachedContents': {'non_null': '3966', 'largest': '997082', 'null': '993', 'top': [{'item': '967819', 'count': '3'}, {'item': '809836', 'count': '2'}, {'item': '13694', 'count': '2'}, {'item': '950310', 'count': '2'}, {'item': '927213', 'count': '2'}, {'item': '66001', 'count': '2'}, {'item': '956798', 'count': '2'}, {'item': '299448', 'count': '2'}, {'item': '948192', 'count': '2'}, {'item': '990327', 'count': '2'}, {'item': '966857', 'count': '2'}, {'item': '956113', 'count': '2'}, {'item': '946595', 'count': '2'}, {'item': '805961', 'count': '2'}, {'item': '974040', 'count': '2'}, {'item': '953668', 'count': '2'}, {'item': '927022', 'count': '2'}, {'item': '122023', 'count': '1'}, {'item': '311471', 'count': '1'}, {'item': '5831', 'count': '1'}], 'smallest': '375', 'cardinality': '3948'}, 'format': {'precisionStyle': 'standard', 'noCommas': 'true', 'align': 'right'}}, {'id': 451399380, 'name': 'Number', 'dataTypeName': 'text', 'description': 'The House Number is the street number in the building’s address. E.g., the house number is ‘100’ in ‘100 Gold Street.’', 'fieldName': 'house_number', 'position': 7, 'renderTypeName': 'text', 'tableColumnId': 41431864, 'width': 244, 'cachedContents': {'non_null': '4959', 'largest': 'Oct-44', 'null': '0', 'top': [{'item': '----', 'count': '993'}, {'item': '120', 'count': '19'}, {'item': '140', 'count': '17'}, {'item': '100', 'count': '17'}, {'item': '1', 'count': '13'}, {'item': '15', 'count': '13'}, {'item': '12', 'count': '12'}, {'item': '30', 'count': '12'}, {'item': '212', 'count': '11'}, {'item': '211', 'count': '11'}, {'item': '165', 'count': '11'}, {'item': '111', 'count': '11'}, {'item': '20', 'count': '10'}, {'item': '10', 'count': '10'}, {'item': '305', 'count': '9'}, {'item': '233', 'count': '9'}, {'item': '510', 'count': '9'}, {'item': '50', 'count': '9'}, {'item': '330', 'count': '9'}, {'item': '340', 'count': '9'}], 'smallest': '----', 'cardinality': '1932'}, 'format': {'displayStyle': 'plain', 'align': 'left'}}, {'id': 451399381, 'name': 'Street', 'dataTypeName': 'text', 'description': 'The Street Name is the name of the street in the building’s address. E.g., the street name is ‘Gold Street’ in ‘100 Gold Street.’', 'fieldName': 'street_name', 'position': 8, 'renderTypeName': 'text', 'tableColumnId': 41431865, 'width': 232, 'cachedContents': {'non_null': '4959', 'largest': 'YORK AVENUE', 'null': '0', 'top': [{'item': '----', 'count': '993'}, {'item': 'SCHROEDERS AVENUE', 'count': '74'}, {'item': 'FULTON STREET', 'count': '39'}, {'item': 'ADAM C POWELL BOULEVARD', 'count': '38'}, {'item': 'BRISTOL STREET', 'count': '30'}, {'item': 'BEDFORD AVENUE', 'count': '26'}, {'item': 'LAFAYETTE AVENUE', 'count': '25'}, {'item': 'WEST 109 STREET', 'count': '25'}, {'item': '1 AVENUE', 'count': '24'}, {'item': 'WEST 135 STREET', 'count': '24'}, {'item': 'VANDALIA AVENUE', 'count': '24'}, {'item': '3 AVENUE', 'count': '23'}, {'item': 'AMSTERDAM AVENUE', 'count': '23'}, {'item': 'ADLER PLACE', 'count': '23'}, {'item': 'GATES AVENUE', 'count': '22'}, {'item': 'WEST 140 STREET', 'count': '22'}, {'item': 'BROADWAY', 'count': '22'}, {'item': 'FREDERICK DOUGLASS BOULEVARD', 'count': '21'}, {'item': 'ST NICHOLAS AVENUE', 'count': '21'}, {'item': '2 AVENUE', 'count': '20'}], 'smallest': '----', 'cardinality': '1080'}, 'format': {'displayStyle': 'plain', 'align': 'left'}}, {'id': 451399382, 'name': 'Borough', 'dataTypeName': 'text', 'description': 'The Borough is the borough where the building is located.', 'fieldName': 'borough', 'position': 9, 'renderTypeName': 'text', 'tableColumnId': 41431866, 'width': 184, 'cachedContents': {'non_null': '4959', 'largest': 'Staten Island', 'null': '0', 'top': [{'item': 'Brooklyn', 'count': '2052'}, {'item': 'Bronx', 'count': '1193'}, {'item': 'Manhattan', 'count': '935'}, {'item': 'Queens', 'count': '547'}, {'item': 'Staten Island', 'count': '232'}], 'smallest': 'Bronx', 'cardinality': '5'}, 'format': {'displayStyle': 'plain', 'align': 'left'}}, {'id': 451399383, 'name': 'Postcode', 'dataTypeName': 'number', 'description': 'Zip code', 'fieldName': 'postcode', 'position': 10, 'renderTypeName': 'number', 'tableColumnId': 52878294, 'width': 100, 'cachedContents': {'non_null': '3906', 'largest': '11694', 'null': '1053', 'top': [{'item': '11233', 'count': '163'}, {'item': '11221', 'count': '163'}, {'item': '11239', 'count': '160'}, {'item': '11207', 'count': '144'}, {'item': '11216', 'count': '141'}, {'item': '11212', 'count': '141'}, {'item': '11206', 'count': '117'}, {'item': '10030', 'count': '108'}, {'item': '10029', 'count': '99'}, {'item': '10009', 'count': '87'}, {'item': '10475', 'count': '87'}, {'item': '10453', 'count': '84'}, {'item': '11238', 'count': '83'}, {'item': '10457', 'count': '82'}, {'item': '10459', 'count': '81'}, {'item': '10035', 'count': '77'}, {'item': '10456', 'count': '76'}, {'item': '10027', 'count': '68'}, {'item': '11208', 'count': '66'}, {'item': '11211', 'count': '63'}], 'smallest': '10001', 'cardinality': '137'}, 'format': {'precisionStyle': 'standard', 'noCommas': 'true', 'align': 'right'}}, {'id': 451399384, 'name': 'BBL', 'dataTypeName': 'number', 'description': 'The BBL (Borough, Block, and Lot) is a unique identifier for each tax lot in the City.', 'fieldName': 'bbl', 'position': 11, 'renderTypeName': 'number', 'tableColumnId': 41431867, 'width': 136, 'cachedContents': {'non_null': '3847', 'largest': '5031570001', 'null': '1112', 'top': [{'item': '2051410120', 'count': '77'}, {'item': '1009720001', 'count': '35'}, {'item': '1009780001', 'count': '21'}, {'item': '3017080001', 'count': '18'}, {'item': '3017020001', 'count': '17'}, {'item': '3035730001', 'count': '15'}, {'item': '3042130001', 'count': '13'}, {'item': '4124580421', 'count': '13'}, {'item': '3035870001', 'count': '13'}, {'item': '1002530001', 'count': '12'}, {'item': '3044520085', 'count': '12'}, {'item': '4159260001', 'count': '11'}, {'item': '3044520400', 'count': '11'}, {'item': '3044520020', 'count': '11'}, {'item': '3044520200', 'count': '10'}, {'item': '3040430001', 'count': '10'}, {'item': '0', 'count': '10'}, {'item': '3035740001', 'count': '9'}, {'item': '3040440001', 'count': '9'}, {'item': '2029420001', 'count': '8'}], 'smallest': '0', 'cardinality': '3260'}, 'format': {'precisionStyle': 'standard', 'noCommas': 'true', 'align': 'right'}}, {'id': 451399385, 'name': 'BIN', 'dataTypeName': 'number', 'description': 'The BIN (Building Identification Number) is a unique identifier for each building in the City.', 'fieldName': 'bin', 'position': 12, 'renderTypeName': 'number', 'tableColumnId': 41431868, 'width': 136, 'cachedContents': {'non_null': '2591', 'largest': '5164699', 'null': '2368', 'top': [{'item': '3253907', 'count': '6'}, {'item': '1077585', 'count': '6'}, {'item': '2000000', 'count': '6'}, {'item': '1077591', 'count': '6'}, {'item': '1051514', 'count': '4'}, {'item': '3346323', 'count': '3'}, {'item': '1083034', 'count': '3'}, {'item': '3323749', 'count': '3'}, {'item': '3322225', 'count': '2'}, {'item': '2011977', 'count': '2'}, {'item': '3323751', 'count': '2'}, {'item': '1083931', 'count': '2'}, {'item': '3324435', 'count': '2'}, {'item': '2021304', 'count': '2'}, {'item': '2091165', 'count': '2'}, {'item': '1082666', 'count': '2'}, {'item': '2003660', 'count': '2'}, {'item': '3051165', 'count': '2'}, {'item': '1086089', 'count': '2'}, {'item': '1075465', 'count': '1'}], 'smallest': '1000000', 'cardinality': '2551'}, 'format': {'precisionStyle': 'standard', 'noCommas': 'true', 'align': 'right'}}, {'id': 451399386, 'name': 'Community Board', 'dataTypeName': 'text', 'description': 'The Community Board field indicates the New York City Community District where the building is located.', 'fieldName': 'community_board', 'position': 13, 'renderTypeName': 'text', 'tableColumnId': 60408652, 'width': 100, 'cachedContents': {'non_null': '4959', 'largest': 'SI-03', 'null': '0', 'top': [{'item': 'BK-05', 'count': '406'}, {'item': 'BK-03', 'count': '382'}, {'item': 'MN-10', 'count': '273'}, {'item': 'BK-16', 'count': '239'}, {'item': 'MN-11', 'count': '191'}, {'item': 'BK-01', 'count': '176'}, {'item': 'BK-04', 'count': '162'}, {'item': 'BX-12', 'count': '156'}, {'item': 'QN-12', 'count': '152'}, {'item': 'BK-08', 'count': '131'}, {'item': 'SI-01', 'count': '131'}, {'item': 'BX-03', 'count': '127'}, {'item': 'MN-03', 'count': '125'}, {'item': 'BX-09', 'count': '125'}, {'item': 'BX-05', 'count': '121'}, {'item': 'BX-04', 'count': '118'}, {'item': 'BX-01', 'count': '117'}, {'item': 'BX-10', 'count': '109'}, {'item': 'BK-17', 'count': '106'}, {'item': 'BX-06', 'count': '99'}], 'smallest': 'BK-01', 'cardinality': '63'}, 'format': {}}, {'id': 451399387, 'name': 'Council District', 'dataTypeName': 'number', 'description': 'The Council District indicates the New York City Council District where the building is located.', 'fieldName': 'council_district', 'position': 14, 'renderTypeName': 'number', 'tableColumnId': 41431870, 'width': 292, 'cachedContents': {'non_null': '4951', 'largest': '51', 'null': '8', 'top': [{'item': '42', 'count': '449'}, {'item': '36', 'count': '366'}, {'item': '9', 'count': '361'}, {'item': '17', 'count': '253'}, {'item': '8', 'count': '234'}, {'item': '12', 'count': '229'}, {'item': '34', 'count': '228'}, {'item': '41', 'count': '197'}, {'item': '37', 'count': '144'}, {'item': '14', 'count': '137'}, {'item': '35', 'count': '132'}, {'item': '27', 'count': '129'}, {'item': '49', 'count': '128'}, {'item': '16', 'count': '127'}, {'item': '15', 'count': '127'}, {'item': '18', 'count': '109'}, {'item': '7', 'count': '103'}, {'item': '33', 'count': '99'}, {'item': '2', 'count': '98'}, {'item': '38', 'count': '96'}], 'smallest': '1', 'cardinality': '51'}, 'format': {'precisionStyle': 'standard', 'noCommas': 'false', 'align': 'right'}}, {'id': 451399388, 'name': 'Census Tract', 'dataTypeName': 'text', 'description': 'The Census Tract indicates the 2010 U.S. Census Tract where the building is located.', 'fieldName': 'census_tract', 'position': 15, 'renderTypeName': 'text', 'tableColumnId': 41437072, 'width': 100, 'cachedContents': {'non_null': '3912', 'largest': 'Not Found', 'null': '1047', 'top': [{'item': '1070', 'count': '116'}, {'item': '46201', 'count': '78'}, {'item': '916', 'count': '50'}, {'item': '230', 'count': '42'}, {'item': '299', 'count': '41'}, {'item': '227', 'count': '36'}, {'item': '228', 'count': '36'}, {'item': '44', 'count': '35'}, {'item': '208', 'count': '35'}, {'item': '226', 'count': '31'}, {'item': '59', 'count': '30'}, {'item': '28', 'count': '29'}, {'item': '1160', 'count': '29'}, {'item': '924', 'count': '29'}, {'item': '363', 'count': '28'}, {'item': '33', 'count': '27'}, {'item': '373', 'count': '27'}, {'item': '105801', 'count': '27'}, {'item': '245', 'count': '26'}, {'item': '265', 'count': '26'}], 'smallest': '1', 'cardinality': '610'}, 'format': {}}, {'id': 451399389, 'name': 'NTA - Neighborhood Tabulation Area', 'dataTypeName': 'text', 'description': 'The Neighborhood Tabulation Area indicates the New York City Neighborhood Tabulation Area where the building is located.', 'fieldName': 'neighborhood_tabulation_area', 'position': 16, 'renderTypeName': 'text', 'tableColumnId': 41437095, 'width': 100, 'cachedContents': {'non_null': '3912', 'largest': 'SI37', 'null': '1047', 'top': [{'item': 'BK82', 'count': '244'}, {'item': 'MN03', 'count': '203'}, {'item': 'BK61', 'count': '172'}, {'item': 'BK75', 'count': '147'}, {'item': 'BK78', 'count': '136'}, {'item': 'BK81', 'count': '130'}, {'item': 'MN34', 'count': '109'}, {'item': 'BK35', 'count': '97'}, {'item': 'BX13', 'count': '95'}, {'item': 'BK79', 'count': '94'}, {'item': 'MN33', 'count': '75'}, {'item': 'BX39', 'count': '75'}, {'item': 'BX35', 'count': '71'}, {'item': 'MN11', 'count': '69'}, {'item': 'BX17', 'count': '65'}, {'item': 'MN28', 'count': '62'}, {'item': 'BK85', 'count': '59'}, {'item': 'BX44', 'count': '59'}, {'item': 'BK73', 'count': '58'}, {'item': 'BK69', 'count': '57'}], 'smallest': 'BK09', 'cardinality': '152'}, 'format': {'displayStyle': 'plain', 'align': 'left'}}, {'id': 451399390, 'name': 'Latitude', 'dataTypeName': 'number', 'description': 'The Latitude and Longitude specify the location of the property on the earth’s surface. The coordinates provided are an estimate of the location based on the street segment and address range.', 'fieldName': 'latitude', 'position': 17, 'renderTypeName': 'number', 'tableColumnId': 41431871, 'width': 196, 'cachedContents': {'non_null': '3906', 'largest': '40.904339', 'null': '1053', 'top': [{'item': '40.837941', 'count': '8'}, {'item': '40.871873', 'count': '5'}, {'item': '40.828165', 'count': '3'}, {'item': '40.856665', 'count': '3'}, {'item': '40.671483', 'count': '2'}, {'item': '40.811296', 'count': '2'}, {'item': '40.653228', 'count': '2'}, {'item': '40.655238', 'count': '2'}, {'item': '40.717567', 'count': '2'}, {'item': '40.731458', 'count': '2'}, {'item': '40.684396', 'count': '2'}, {'item': '40.80338', 'count': '2'}, {'item': '40.717891', 'count': '2'}, {'item': '40.751836', 'count': '2'}, {'item': '40.684985', 'count': '2'}, {'item': '40.678497', 'count': '2'}, {'item': '40.81182', 'count': '2'}, {'item': '40.846919', 'count': '2'}, {'item': '40.658568', 'count': '2'}, {'item': '40.871538', 'count': '2'}], 'smallest': '40.573144', 'cardinality': '3796'}, 'format': {'precisionStyle': 'standard', 'noCommas': 'false', 'align': 'right'}}, {'id': 451399391, 'name': 'Longitude', 'dataTypeName': 'number', 'description': 'The Latitude and Longitude specify the location of the property on the earth’s surface. The coordinates provided are an estimate of the location based on the street segment and address range.', 'fieldName': 'longitude', 'position': 18, 'renderTypeName': 'number', 'tableColumnId': 41431872, 'width': 208, 'cachedContents': {'non_null': '3906', 'largest': '-73.730624', 'null': '1053', 'top': [{'item': '-73.895254', 'count': '8'}, {'item': '-73.827965', 'count': '5'}, {'item': '-73.828139', 'count': '3'}, {'item': '-73.857542', 'count': '3'}, {'item': '-73.949199', 'count': '3'}, {'item': '-73.868258', 'count': '3'}, {'item': '-73.803578', 'count': '2'}, {'item': '-73.915752', 'count': '2'}, {'item': '-73.95295', 'count': '2'}, {'item': '-73.892562', 'count': '2'}, {'item': '-73.91464', 'count': '2'}, {'item': '-73.928317', 'count': '2'}, {'item': '-73.9402', 'count': '2'}, {'item': '-73.84182', 'count': '2'}, {'item': '-73.95011', 'count': '2'}, {'item': '-73.828052', 'count': '2'}, {'item': '-73.933899', 'count': '2'}, {'item': '-73.886771', 'count': '2'}, {'item': '-73.91178', 'count': '2'}, {'item': '-73.94528', 'count': '2'}], 'smallest': '-74.171232', 'cardinality': '3792'}, 'format': {'precisionStyle': 'standard', 'noCommas': 'false', 'align': 'right'}}, {'id': 451399392, 'name': 'Latitude (Internal)', 'dataTypeName': 'number', 'description': 'The Latitude (Internal) and Longitude (Internal) specify the location of the property on the earth’s surface. The coordinates provided are of the internal centroid derived from the tax lot.', 'fieldName': 'latitude_internal', 'position': 19, 'renderTypeName': 'number', 'tableColumnId': 41431873, 'width': 328, 'cachedContents': {'non_null': '3841', 'largest': '40.90416', 'null': '1118', 'top': [{'item': '40.87501', 'count': '77'}, {'item': '40.73172', 'count': '35'}, {'item': '40.73487', 'count': '21'}, {'item': '40.67796', 'count': '18'}, {'item': '40.67887', 'count': '17'}, {'item': '40.66291', 'count': '15'}, {'item': '40.68584', 'count': '13'}, {'item': '40.66144', 'count': '13'}, {'item': '40.67574', 'count': '13'}, {'item': '40.71093', 'count': '12'}, {'item': '40.65023', 'count': '12'}, {'item': '40.59071', 'count': '11'}, {'item': '40.64424', 'count': '11'}, {'item': '40.65559', 'count': '11'}, {'item': '40.64838', 'count': '10'}, {'item': '40.66962', 'count': '10'}, {'item': '40.65877', 'count': '9'}, {'item': '40.66975', 'count': '9'}, {'item': '40.66311', 'count': '9'}, {'item': '40.8203', 'count': '8'}], 'smallest': '40.57371', 'cardinality': '2995'}, 'format': {'precisionStyle': 'standard', 'noCommas': 'false', 'align': 'right'}}, {'id': 451399393, 'name': 'Longitude (Internal)', 'dataTypeName': 'number', 'description': 'The Latitude (Internal) and Longitude (Internal) specify the location of the property on the earth’s surface. The coordinates provided are of the internal centroid derived from the tax lot.', 'fieldName': 'longitude_internal', 'position': 20, 'renderTypeName': 'number', 'tableColumnId': 41431874, 'width': 340, 'cachedContents': {'non_null': '3841', 'largest': '-73.729709', 'null': '1118', 'top': [{'item': '-73.828362', 'count': '77'}, {'item': '-73.977896', 'count': '35'}, {'item': '-73.976982', 'count': '21'}, {'item': '-73.929283', 'count': '18'}, {'item': '-73.928799', 'count': '17'}, {'item': '-73.91128', 'count': '15'}, {'item': '-73.8724', 'count': '13'}, {'item': '-73.761844', 'count': '13'}, {'item': '-73.910943', 'count': '13'}, {'item': '-73.881472', 'count': '12'}, {'item': '-73.995426', 'count': '12'}, {'item': '-73.880096', 'count': '11'}, {'item': '-73.873263', 'count': '11'}, {'item': '-73.787495', 'count': '11'}, {'item': '-73.888132', 'count': '10'}, {'item': '-73.879065', 'count': '10'}, {'item': '-73.910509', 'count': '9'}, {'item': '-73.88722', 'count': '9'}, {'item': '-73.940777', 'count': '8'}, {'item': '-73.859917', 'count': '8'}], 'smallest': '-74.170235', 'cardinality': '3223'}, 'format': {'precisionStyle': 'standard', 'noCommas': 'false', 'align': 'right'}}, {'id': 451399394, 'name': 'Building Completion Date', 'dataTypeName': 'calendar_date', 'description': 'The Building Completion Date is the date the building was completed. The field is blank if the building has not completed.', 'fieldName': 'building_completion_date', 'position': 21, 'renderTypeName': 'calendar_date', 'tableColumnId': 41431875, 'width': 388, 'cachedContents': {'non_null': '3745', 'largest': '2021-01-13T00:00:00.000', 'null': '1214', 'top': [{'item': '2019-06-20T00:00:00.000', 'count': '103'}, {'item': '2017-12-31T00:00:00.000', 'count': '73'}, {'item': '2017-06-26T00:00:00.000', 'count': '70'}, {'item': '2016-12-21T00:00:00.000', 'count': '59'}, {'item': '2015-12-18T00:00:00.000', 'count': '57'}, {'item': '2018-05-25T00:00:00.000', 'count': '54'}, {'item': '2017-10-31T00:00:00.000', 'count': '43'}, {'item': '2017-06-13T00:00:00.000', 'count': '42'}, {'item': '2018-07-02T00:00:00.000', 'count': '39'}, {'item': '2016-06-24T00:00:00.000', 'count': '36'}, {'item': '2017-06-29T00:00:00.000', 'count': '32'}, {'item': '2019-06-13T00:00:00.000', 'count': '28'}, {'item': '2016-07-01T00:00:00.000', 'count': '27'}, {'item': '2017-11-01T00:00:00.000', 'count': '27'}, {'item': '2017-03-29T00:00:00.000', 'count': '27'}, {'item': '2019-11-21T00:00:00.000', 'count': '25'}, {'item': '2019-06-26T00:00:00.000', 'count': '23'}, {'item': '2015-12-17T00:00:00.000', 'count': '20'}, {'item': '2018-11-15T00:00:00.000', 'count': '20'}, {'item': '2014-09-10T00:00:00.000', 'count': '19'}], 'smallest': '2014-01-03T00:00:00.000', 'cardinality': '1150'}, 'format': {'view': 'date', 'align': 'left'}}, {'id': 451399395, 'name': 'Reporting Construction Type', 'dataTypeName': 'text', 'description': 'The Reporting Construction Type field indicates whether the building is categorized as ‘new construction’ or ‘preservation’ in Housing New York statistics. Note that some preservation projects included here may not actually involve construction, because they extend the project’s regulatory restrictions but do not require rehabilitation.', 'fieldName': 'reporting_construction_type', 'position': 22, 'renderTypeName': 'text', 'tableColumnId': 41431876, 'width': 424, 'cachedContents': {'non_null': '4959', 'largest': 'Preservation', 'null': '0', 'top': [{'item': 'Preservation', 'count': '2984'}, {'item': 'New Construction', 'count': '1975'}], 'smallest': 'New Construction', 'cardinality': '2'}, 'format': {'displayStyle': 'plain', 'align': 'left'}}, {'id': 451399396, 'name': 'Extended Affordability Only', 'dataTypeName': 'text', 'description': 'The Extended Affordability Only field indicates whether the project is considered to be Extended Affordability. An extended affordability project involves no construction, but secures an extended or new regulatory agreement. All extended affordability projects have a ‘reporting construction type’ of ‘preservation.’', 'fieldName': 'extended_affordability_status', 'position': 23, 'renderTypeName': 'text', 'tableColumnId': 41431877, 'width': 448, 'cachedContents': {'non_null': '4959', 'largest': 'Yes', 'null': '0', 'top': [{'item': 'No', 'count': '4040'}, {'item': 'Yes', 'count': '919'}], 'smallest': 'No', 'cardinality': '2'}, 'format': {'displayStyle': 'plain', 'align': 'left'}}, {'id': 451399397, 'name': 'Prevailing Wage Status', 'dataTypeName': 'text', 'description': 'The Prevailing Wage Status field indicates whether the project is subject to prevailing wage requirements, such as Davis Bacon.', 'fieldName': 'prevailing_wage_status', 'position': 24, 'renderTypeName': 'text', 'tableColumnId': 41431878, 'width': 364, 'cachedContents': {'non_null': '4959', 'largest': 'Prevailing Wage', 'null': '0', 'top': [{'item': 'Non Prevailing Wage', 'count': '4861'}, {'item': 'Prevailing Wage', 'count': '98'}], 'smallest': 'Non Prevailing Wage', 'cardinality': '2'}, 'format': {'displayStyle': 'plain', 'align': 'left'}}, {'id': 451399398, 'name': 'Extremely Low Income Units', 'dataTypeName': 'number', 'description': 'Extremely Low Income Units are units with rents that are affordable to households earning 0 to 30% of the area median income (AMI).', 'fieldName': 'extremely_low_income_units', 'position': 25, 'renderTypeName': 'number', 'tableColumnId': 41431879, 'width': 412, 'cachedContents': {'non_null': '4959', 'largest': '429', 'null': '0', 'top': [{'item': '0', 'count': '3856'}, {'item': '1', 'count': '185'}, {'item': '2', 'count': '124'}, {'item': '3', 'count': '75'}, {'item': '4', 'count': '47'}, {'item': '6', 'count': '45'}, {'item': '7', 'count': '40'}, {'item': '5', 'count': '33'}, {'item': '8', 'count': '29'}, {'item': '10', 'count': '20'}, {'item': '15', 'count': '18'}, {'item': '16', 'count': '18'}, {'item': '9', 'count': '16'}, {'item': '13', 'count': '16'}, {'item': '12', 'count': '15'}, {'item': '11', 'count': '14'}, {'item': '14', 'count': '13'}, {'item': '17', 'count': '12'}, {'item': '20', 'count': '12'}, {'item': '50', 'count': '12'}], 'smallest': '0', 'cardinality': '140'}, 'format': {'precisionStyle': 'standard', 'noCommas': 'false', 'align': 'right'}}, {'id': 451399399, 'name': 'Very Low Income Units', 'dataTypeName': 'number', 'description': 'Very Low Income Units are units with rents that are affordable to households earning 31 to 50% of the area median income (AMI).', 'fieldName': 'very_low_income_units', 'position': 26, 'renderTypeName': 'number', 'tableColumnId': 41431880, 'width': 280, 'cachedContents': {'non_null': '4959', 'largest': '352', 'null': '0', 'top': [{'item': '0', 'count': '3103'}, {'item': '1', 'count': '223'}, {'item': '2', 'count': '201'}, {'item': '3', 'count': '159'}, {'item': '4', 'count': '131'}, {'item': '6', 'count': '124'}, {'item': '5', 'count': '86'}, {'item': '7', 'count': '63'}, {'item': '8', 'count': '58'}, {'item': '12', 'count': '50'}, {'item': '10', 'count': '41'}, {'item': '11', 'count': '40'}, {'item': '9', 'count': '37'}, {'item': '14', 'count': '31'}, {'item': '16', 'count': '29'}, {'item': '15', 'count': '24'}, {'item': '80', 'count': '21'}, {'item': '17', 'count': '21'}, {'item': '13', 'count': '20'}, {'item': '24', 'count': '17'}], 'smallest': '0', 'cardinality': '166'}, 'format': {'precisionStyle': 'standard', 'noCommas': 'false', 'align': 'right'}}, {'id': 451399400, 'name': 'Low Income Units', 'dataTypeName': 'number', 'description': 'Low Income Units are units with rents that are affordable to households earning 51 to 80% of the area median income (AMI).', 'fieldName': 'low_income_units', 'position': 27, 'renderTypeName': 'number', 'tableColumnId': 41431881, 'width': 292, 'cachedContents': {'non_null': '4959', 'largest': '536', 'null': '0', 'top': [{'item': '0', 'count': '1718'}, {'item': '1', 'count': '855'}, {'item': '2', 'count': '262'}, {'item': '3', 'count': '214'}, {'item': '4', 'count': '178'}, {'item': '8', 'count': '115'}, {'item': '6', 'count': '113'}, {'item': '5', 'count': '91'}, {'item': '7', 'count': '87'}, {'item': '10', 'count': '69'}, {'item': '12', 'count': '67'}, {'item': '9', 'count': '63'}, {'item': '11', 'count': '47'}, {'item': '14', 'count': '41'}, {'item': '24', 'count': '40'}, {'item': '16', 'count': '38'}, {'item': '18', 'count': '37'}, {'item': '15', 'count': '36'}, {'item': '13', 'count': '33'}, {'item': '17', 'count': '31'}], 'smallest': '0', 'cardinality': '199'}, 'format': {'precisionStyle': 'standard', 'noCommas': 'false', 'align': 'right'}}, {'id': 451399401, 'name': 'Moderate Income Units', 'dataTypeName': 'number', 'description': 'Moderate Income Units are units with rents that are affordable to households earning 81 to 120% of the area median income (AMI).', 'fieldName': 'moderate_income_units', 'position': 28, 'renderTypeName': 'number', 'tableColumnId': 41431882, 'width': 280, 'cachedContents': {'non_null': '4959', 'largest': '454', 'null': '0', 'top': [{'item': '0', 'count': '4126'}, {'item': '1', 'count': '270'}, {'item': '2', 'count': '115'}, {'item': '3', 'count': '82'}, {'item': '4', 'count': '58'}, {'item': '6', 'count': '32'}, {'item': '5', 'count': '25'}, {'item': '8', 'count': '25'}, {'item': '7', 'count': '13'}, {'item': '9', 'count': '11'}, {'item': '15', 'count': '11'}, {'item': '11', 'count': '10'}, {'item': '10', 'count': '10'}, {'item': '25', 'count': '9'}, {'item': '12', 'count': '9'}, {'item': '20', 'count': '8'}, {'item': '18', 'count': '6'}, {'item': '13', 'count': '6'}, {'item': '24', 'count': '6'}, {'item': '27', 'count': '5'}], 'smallest': '0', 'cardinality': '88'}, 'format': {'precisionStyle': 'standard', 'noCommas': 'false', 'align': 'right'}}, {'id': 451399402, 'name': 'Middle Income Units', 'dataTypeName': 'number', 'description': 'Middle Income Units are units with rents that are affordable to households earning 121 to 165% of the area median income (AMI).', 'fieldName': 'middle_income_units', 'position': 29, 'renderTypeName': 'number', 'tableColumnId': 41431883, 'width': 256, 'cachedContents': {'non_null': '4959', 'largest': '448', 'null': '0', 'top': [{'item': '0', 'count': '3983'}, {'item': '3', 'count': '261'}, {'item': '1', 'count': '143'}, {'item': '2', 'count': '96'}, {'item': '5', 'count': '48'}, {'item': '4', 'count': '46'}, {'item': '6', 'count': '45'}, {'item': '8', 'count': '31'}, {'item': '7', 'count': '28'}, {'item': '9', 'count': '26'}, {'item': '47', 'count': '20'}, {'item': '10', 'count': '18'}, {'item': '12', 'count': '12'}, {'item': '13', 'count': '11'}, {'item': '11', 'count': '10'}, {'item': '14', 'count': '7'}, {'item': '126', 'count': '6'}, {'item': '27', 'count': '6'}, {'item': '20', 'count': '6'}, {'item': '28', 'count': '6'}], 'smallest': '0', 'cardinality': '105'}, 'format': {'precisionStyle': 'standard', 'noCommas': 'false', 'align': 'right'}}, {'id': 451399403, 'name': 'Other Income Units', 'dataTypeName': 'number', 'description': 'Other Units are units reserved for building superintendents.', 'fieldName': 'other_income_units', 'position': 30, 'renderTypeName': 'number', 'tableColumnId': 41431885, 'width': 160, 'cachedContents': {'non_null': '4959', 'largest': '3', 'null': '0', 'top': [{'item': '0', 'count': '4176'}, {'item': '1', 'count': '768'}, {'item': '2', 'count': '14'}, {'item': '3', 'count': '1'}], 'smallest': '0', 'cardinality': '4'}, 'format': {'precisionStyle': 'standard', 'noCommas': 'false', 'align': 'right'}}, {'id': 451399404, 'name': 'Studio Units', 'dataTypeName': 'number', 'description': 'Studio Units are units with 0-bedrooms.', 'fieldName': 'studio_units', 'position': 31, 'renderTypeName': 'number', 'tableColumnId': 60408404, 'width': 100, 'cachedContents': {'non_null': '4959', 'largest': '569', 'null': '0', 'top': [{'item': '0', 'count': '3559'}, {'item': '1', 'count': '376'}, {'item': '2', 'count': '125'}, {'item': '4', 'count': '70'}, {'item': '3', 'count': '64'}, {'item': '5', 'count': '56'}, {'item': '6', 'count': '52'}, {'item': '8', 'count': '41'}, {'item': '7', 'count': '40'}, {'item': '12', 'count': '38'}, {'item': '23', 'count': '34'}, {'item': '11', 'count': '21'}, {'item': '15', 'count': '17'}, {'item': '10', 'count': '16'}, {'item': '18', 'count': '16'}, {'item': '14', 'count': '16'}, {'item': '16', 'count': '14'}, {'item': '19', 'count': '13'}, {'item': '20', 'count': '13'}, {'item': '22', 'count': '12'}], 'smallest': '0', 'cardinality': '121'}, 'format': {'displayStyle': 'plain', 'align': 'left'}}, {'id': 451399405, 'name': '1-BR Units', 'dataTypeName': 'number', 'description': '1-BR Units are units with 1-bedroom.', 'fieldName': '_1_br_units', 'position': 32, 'renderTypeName': 'number', 'tableColumnId': 60408429, 'width': 100, 'cachedContents': {'non_null': '4959', 'largest': '312', 'null': '0', 'top': [{'item': '0', 'count': '1998'}, {'item': '1', 'count': '553'}, {'item': '3', 'count': '267'}, {'item': '2', 'count': '217'}, {'item': '4', 'count': '174'}, {'item': '6', 'count': '154'}, {'item': '5', 'count': '135'}, {'item': '8', 'count': '88'}, {'item': '7', 'count': '74'}, {'item': '10', 'count': '66'}, {'item': '9', 'count': '60'}, {'item': '12', 'count': '58'}, {'item': '19', 'count': '40'}, {'item': '11', 'count': '37'}, {'item': '13', 'count': '32'}, {'item': '18', 'count': '31'}, {'item': '50', 'count': '30'}, {'item': '14', 'count': '30'}, {'item': '51', 'count': '29'}, {'item': '46', 'count': '29'}], 'smallest': '0', 'cardinality': '159'}, 'format': {}}, {'id': 451399406, 'name': '2-BR Units', 'dataTypeName': 'number', 'description': '2-BR Units are units with 2-bedrooms.', 'fieldName': '_2_br_units', 'position': 33, 'renderTypeName': 'number', 'tableColumnId': 60408431, 'width': 100, 'cachedContents': {'non_null': '4959', 'largest': '305', 'null': '0', 'top': [{'item': '0', 'count': '1833'}, {'item': '1', 'count': '516'}, {'item': '2', 'count': '272'}, {'item': '3', 'count': '230'}, {'item': '4', 'count': '184'}, {'item': '6', 'count': '149'}, {'item': '5', 'count': '129'}, {'item': '7', 'count': '115'}, {'item': '8', 'count': '106'}, {'item': '10', 'count': '104'}, {'item': '12', 'count': '95'}, {'item': '9', 'count': '82'}, {'item': '11', 'count': '55'}, {'item': '13', 'count': '55'}, {'item': '15', 'count': '50'}, {'item': '16', 'count': '48'}, {'item': '18', 'count': '47'}, {'item': '14', 'count': '40'}, {'item': '17', 'count': '38'}, {'item': '19', 'count': '31'}], 'smallest': '0', 'cardinality': '151'}, 'format': {}}, {'id': 451399407, 'name': '3-BR Units', 'dataTypeName': 'number', 'description': '3-BR Units are units with 3-bedrooms.', 'fieldName': '_3_br_units', 'position': 34, 'renderTypeName': 'number', 'tableColumnId': 60408432, 'width': 100, 'cachedContents': {'non_null': '4959', 'largest': '193', 'null': '0', 'top': [{'item': '0', 'count': '2830'}, {'item': '1', 'count': '599'}, {'item': '2', 'count': '200'}, {'item': '3', 'count': '161'}, {'item': '4', 'count': '143'}, {'item': '6', 'count': '131'}, {'item': '5', 'count': '110'}, {'item': '7', 'count': '61'}, {'item': '12', 'count': '53'}, {'item': '8', 'count': '53'}, {'item': '10', 'count': '53'}, {'item': '23', 'count': '44'}, {'item': '9', 'count': '43'}, {'item': '50', 'count': '36'}, {'item': '11', 'count': '35'}, {'item': '16', 'count': '24'}, {'item': '13', 'count': '23'}, {'item': '14', 'count': '23'}, {'item': '20', 'count': '20'}, {'item': '24', 'count': '17'}], 'smallest': '0', 'cardinality': '78'}, 'format': {}}, {'id': 451399408, 'name': '4-BR Units', 'dataTypeName': 'number', 'description': '4-BR Units are units with 4-bedrooms.', 'fieldName': '_4_br_units', 'position': 35, 'renderTypeName': 'number', 'tableColumnId': 60408433, 'width': 100, 'cachedContents': {'non_null': '4959', 'largest': '52', 'null': '0', 'top': [{'item': '0', 'count': '4568'}, {'item': '1', 'count': '138'}, {'item': '2', 'count': '68'}, {'item': '4', 'count': '44'}, {'item': '5', 'count': '33'}, {'item': '6', 'count': '18'}, {'item': '3', 'count': '13'}, {'item': '7', 'count': '11'}, {'item': '10', 'count': '10'}, {'item': '11', 'count': '8'}, {'item': '8', 'count': '8'}, {'item': '9', 'count': '7'}, {'item': '12', 'count': '5'}, {'item': '13', 'count': '4'}, {'item': '19', 'count': '4'}, {'item': '21', 'count': '3'}, {'item': '14', 'count': '2'}, {'item': '32', 'count': '2'}, {'item': '15', 'count': '2'}, {'item': '16', 'count': '2'}], 'smallest': '0', 'cardinality': '29'}, 'format': {'precisionStyle': 'standard', 'noCommas': 'false', 'align': 'right'}}, {'id': 451399409, 'name': '5-BR Units', 'dataTypeName': 'number', 'description': '5-BR Units are units with 5-bedrooms.', 'fieldName': '_5_br_units', 'position': 36, 'renderTypeName': 'number', 'tableColumnId': 60408434, 'width': 100, 'cachedContents': {'non_null': '4959', 'largest': '13', 'null': '0', 'top': [{'item': '0', 'count': '4916'}, {'item': '1', 'count': '29'}, {'item': '2', 'count': '5'}, {'item': '5', 'count': '4'}, {'item': '4', 'count': '2'}, {'item': '7', 'count': '1'}, {'item': '13', 'count': '1'}, {'item': '6', 'count': '1'}], 'smallest': '0', 'cardinality': '8'}, 'format': {}}, {'id': 451399410, 'name': '6-BR+ Units', 'dataTypeName': 'number', 'description': '6-BR+ Units are units with 6-bedrooms or more.', 'fieldName': '_6_br_units', 'position': 37, 'renderTypeName': 'number', 'tableColumnId': 60408435, 'width': 100, 'cachedContents': {'non_null': '4959', 'largest': '28', 'null': '0', 'top': [{'item': '0', 'count': '4943'}, {'item': '1', 'count': '13'}, {'item': '28', 'count': '1'}, {'item': '4', 'count': '1'}, {'item': '3', 'count': '1'}], 'smallest': '0', 'cardinality': '5'}, 'format': {}}, {'id': 451399411, 'name': 'Unknown-BR Units', 'dataTypeName': 'number', 'description': 'Unknown-BR Units are units with an unknown number of bedrooms.', 'fieldName': 'unknown_br_units', 'position': 38, 'renderTypeName': 'number', 'tableColumnId': 60408456, 'width': 100, 'cachedContents': {'non_null': '4959', 'largest': '536', 'null': '0', 'top': [{'item': '0', 'count': '4589'}, {'item': '1', 'count': '265'}, {'item': '2', 'count': '71'}, {'item': '3', 'count': '16'}, {'item': '4', 'count': '3'}, {'item': '422', 'count': '1'}, {'item': '343', 'count': '1'}, {'item': '147', 'count': '1'}, {'item': '24', 'count': '1'}, {'item': '32', 'count': '1'}, {'item': '37', 'count': '1'}, {'item': '80', 'count': '1'}, {'item': '269', 'count': '1'}, {'item': '92', 'count': '1'}, {'item': '28', 'count': '1'}, {'item': '107', 'count': '1'}, {'item': '252', 'count': '1'}, {'item': '536', 'count': '1'}, {'item': '207', 'count': '1'}, {'item': '42', 'count': '1'}], 'smallest': '0', 'cardinality': '20'}, 'format': {}}, {'id': 451399412, 'name': 'Counted Rental Units', 'dataTypeName': 'number', 'description': 'Counted Rental Units are the units in the building, counted toward the Housing New York plan, where assistance has been provided to landlords in exchange for a requirement for affordable units.', 'fieldName': 'counted_rental_units', 'position': 39, 'renderTypeName': 'number', 'tableColumnId': 41431887, 'width': 340, 'cachedContents': {'non_null': '4959', 'largest': '917', 'null': '0', 'top': [{'item': '0', 'count': '1449'}, {'item': '3', 'count': '415'}, {'item': '8', 'count': '223'}, {'item': '6', 'count': '208'}, {'item': '2', 'count': '201'}, {'item': '4', 'count': '168'}, {'item': '9', 'count': '100'}, {'item': '10', 'count': '95'}, {'item': '16', 'count': '90'}, {'item': '7', 'count': '88'}, {'item': '5', 'count': '81'}, {'item': '12', 'count': '81'}, {'item': '1', 'count': '78'}, {'item': '18', 'count': '56'}, {'item': '15', 'count': '54'}, {'item': '20', 'count': '54'}, {'item': '24', 'count': '52'}, {'item': '11', 'count': '49'}, {'item': '13', 'count': '43'}, {'item': '25', 'count': '38'}], 'smallest': '0', 'cardinality': '266'}, 'format': {'precisionStyle': 'standard', 'noCommas': 'false', 'align': 'right'}}, {'id': 451399413, 'name': 'Counted Homeownership Units', 'dataTypeName': 'number', 'description': 'Counted Homeownership Units are the units in the building, counted toward the Housing New York Plan, where assistance has been provided directly to homeowners.', 'fieldName': 'counted_homeownership_units', 'position': 40, 'renderTypeName': 'number', 'tableColumnId': 41431888, 'width': 424, 'cachedContents': {'non_null': '4959', 'largest': '489', 'null': '0', 'top': [{'item': '0', 'count': '3415'}, {'item': '1', 'count': '1036'}, {'item': '2', 'count': '114'}, {'item': '3', 'count': '51'}, {'item': '4', 'count': '31'}, {'item': '175', 'count': '21'}, {'item': '207', 'count': '21'}, {'item': '8', 'count': '17'}, {'item': '384', 'count': '15'}, {'item': '10', 'count': '11'}, {'item': '15', 'count': '10'}, {'item': '312', 'count': '10'}, {'item': '150', 'count': '10'}, {'item': '118', 'count': '8'}, {'item': '20', 'count': '7'}, {'item': '387', 'count': '7'}, {'item': '9', 'count': '6'}, {'item': '11', 'count': '6'}, {'item': '12', 'count': '6'}, {'item': '135', 'count': '5'}], 'smallest': '0', 'cardinality': '111'}, 'format': {'precisionStyle': 'standard', 'noCommas': 'false', 'align': 'right'}}, {'id': 451399414, 'name': 'All Counted Units', 'dataTypeName': 'number', 'description': 'The Counted Units field indicates the total number of affordable units, counted towards the Housing New York plan, that are in the building.', 'fieldName': 'all_counted_units', 'position': 41, 'renderTypeName': 'number', 'tableColumnId': 41431890, 'width': 304, 'cachedContents': {'non_null': '4959', 'largest': '917', 'null': '0', 'top': [{'item': '1', 'count': '977'}, {'item': '3', 'count': '487'}, {'item': '2', 'count': '327'}, {'item': '8', 'count': '239'}, {'item': '6', 'count': '211'}, {'item': '4', 'count': '198'}, {'item': '9', 'count': '105'}, {'item': '10', 'count': '104'}, {'item': '16', 'count': '97'}, {'item': '7', 'count': '90'}, {'item': '12', 'count': '84'}, {'item': '5', 'count': '80'}, {'item': '15', 'count': '63'}, {'item': '18', 'count': '61'}, {'item': '20', 'count': '60'}, {'item': '11', 'count': '54'}, {'item': '24', 'count': '53'}, {'item': '13', 'count': '47'}, {'item': '25', 'count': '40'}, {'item': '17', 'count': '39'}], 'smallest': '0', 'cardinality': '290'}, 'format': {'precisionStyle': 'standard', 'noCommas': 'false', 'align': 'right'}}, {'id': 451399415, 'name': 'Total Units', 'dataTypeName': 'number', 'description': 'The Total Units field indicates the total number of units, affordable and market rate, in each building.', 'fieldName': 'total_units', 'position': 42, 'renderTypeName': 'number', 'tableColumnId': 41431892, 'width': 232, 'cachedContents': {'non_null': '4959', 'largest': '1175', 'null': '0', 'top': [{'item': '1', 'count': '971'}, {'item': '8', 'count': '323'}, {'item': '3', 'count': '261'}, {'item': '2', 'count': '257'}, {'item': '6', 'count': '186'}, {'item': '4', 'count': '164'}, {'item': '10', 'count': '154'}, {'item': '16', 'count': '109'}, {'item': '9', 'count': '94'}, {'item': '20', 'count': '93'}, {'item': '12', 'count': '87'}, {'item': '7', 'count': '87'}, {'item': '18', 'count': '71'}, {'item': '15', 'count': '66'}, {'item': '24', 'count': '60'}, {'item': '25', 'count': '50'}, {'item': '13', 'count': '47'}, {'item': '5', 'count': '47'}, {'item': '17', 'count': '45'}, {'item': '11', 'count': '42'}], 'smallest': '1', 'cardinality': '346'}, 'format': {'precisionStyle': 'standard', 'noCommas': 'false', 'align': 'right'}}]\n",
      "[{'inherited': False, 'type': 'viewer', 'flags': ['public']}]\n",
      "{'rdfSubject': '0', 'attachments': [{'filename': '2020_02_04_housing_production_open_data_documentation.docx', 'assetId': 'de293b66-75df-4be1-bffd-94c12bb42b25', 'name': '2020_02_04_housing_production_open_data_documentation.docx'}], 'custom_fields': {'Update': {'Automation': 'No', 'Date Made Public': '12/20/2016', 'Update Frequency': 'Quarterly'}, 'Dataset Information': {'Agency': 'Department of Housing Preservation and Development (HPD)'}}, 'rowLabel': 'HPD Building', 'availableDisplayTypes': ['table', 'fatrow', 'page'], 'renderTypeConfig': {'visible': {'table': True}}}\n",
      "{'id': '5fuc-pqz2', 'displayName': 'NYC OpenData', 'profileImageUrlLarge': '/api/users/5fuc-pqz2/profile_images/LARGE', 'profileImageUrlMedium': '/api/users/5fuc-pqz2/profile_images/THUMB', 'profileImageUrlSmall': '/api/users/5fuc-pqz2/profile_images/TINY', 'screenName': 'NYC OpenData', 'type': 'interactive', 'flags': ['acceptedEula', 'mayBeStoriesCoOwner']}\n",
      "{}\n",
      "['read']\n",
      "{'id': '5fuc-pqz2', 'displayName': 'NYC OpenData', 'profileImageUrlLarge': '/api/users/5fuc-pqz2/profile_images/LARGE', 'profileImageUrlMedium': '/api/users/5fuc-pqz2/profile_images/THUMB', 'profileImageUrlSmall': '/api/users/5fuc-pqz2/profile_images/TINY', 'screenName': 'NYC OpenData', 'type': 'interactive', 'flags': ['acceptedEula', 'mayBeStoriesCoOwner']}\n",
      "['housing', 'hpd', 'development', 'building']\n",
      "['default', 'ownerMayBeContacted', 'restorable', 'restorePossibleForType']\n"
     ]
    }
   ],
   "source": [
    "for row in data.values():\n",
    "    print(row)"
   ]
  },
  {
   "cell_type": "code",
   "execution_count": null,
   "metadata": {},
   "outputs": [],
   "source": []
  }
 ],
 "metadata": {
  "interpreter": {
   "hash": "16c878f8f13b382b54a3696be256db7c20e389a4ebe8d593f781112d4549af7d"
  },
  "kernelspec": {
   "display_name": "Python 3.9.7 ('adaenv': venv)",
   "language": "python",
   "name": "python3"
  },
  "language_info": {
   "codemirror_mode": {
    "name": "ipython",
    "version": 3
   },
   "file_extension": ".py",
   "mimetype": "text/x-python",
   "name": "python",
   "nbconvert_exporter": "python",
   "pygments_lexer": "ipython3",
   "version": "3.9.7"
  },
  "orig_nbformat": 4
 },
 "nbformat": 4,
 "nbformat_minor": 2
}
