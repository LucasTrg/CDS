{
 "cells": [
  {
   "cell_type": "markdown",
   "metadata": {},
   "source": [
    "## Import"
   ]
  },
  {
   "cell_type": "code",
   "execution_count": 1,
   "metadata": {},
   "outputs": [],
   "source": [
    "import pandas as pd\n",
    "import numpy as np\n",
    "import json\n",
    "import glob\n",
    "import re\n",
    "\n",
    "#Gensim\n",
    "import gensim\n",
    "import gensim.corpora as corpora\n",
    "from gensim.utils import simple_preprocess\n",
    "from gensim.models import CoherenceModel\n",
    "\n",
    "from wordcloud import WordCloud, STOPWORDS\n",
    "\n",
    "#spacy\n",
    "import spacy\n",
    "#from nltk.corpus import STOPWORDS\n",
    "\n",
    "#vis\n",
    "import pyLDAvis\n",
    "import pyLDAvis.gensim_models\n",
    "\n",
    "import warnings\n"
   ]
  },
  {
   "cell_type": "code",
   "execution_count": 2,
   "metadata": {},
   "outputs": [
    {
     "data": {
      "text/html": [
       "<div>\n",
       "<style scoped>\n",
       "    .dataframe tbody tr th:only-of-type {\n",
       "        vertical-align: middle;\n",
       "    }\n",
       "\n",
       "    .dataframe tbody tr th {\n",
       "        vertical-align: top;\n",
       "    }\n",
       "\n",
       "    .dataframe thead th {\n",
       "        text-align: right;\n",
       "    }\n",
       "</style>\n",
       "<table border=\"1\" class=\"dataframe\">\n",
       "  <thead>\n",
       "    <tr style=\"text-align: right;\">\n",
       "      <th></th>\n",
       "      <th>Unnamed: 0</th>\n",
       "      <th>Artist</th>\n",
       "      <th>Song Name</th>\n",
       "      <th>release date</th>\n",
       "      <th>GPE</th>\n",
       "      <th>Line</th>\n",
       "      <th>Line Before</th>\n",
       "      <th>Line After</th>\n",
       "      <th>polarity</th>\n",
       "      <th>pos</th>\n",
       "      <th>neg</th>\n",
       "      <th>neu</th>\n",
       "      <th>compound</th>\n",
       "    </tr>\n",
       "  </thead>\n",
       "  <tbody>\n",
       "    <tr>\n",
       "      <th>4125</th>\n",
       "      <td>4125</td>\n",
       "      <td>Immortal Technique</td>\n",
       "      <td>The Rebel</td>\n",
       "      <td>2001-09-14</td>\n",
       "      <td>America</td>\n",
       "      <td>They used to call us communists for fighting A...</td>\n",
       "      <td>I'm coming in here to take your head off4Embed...</td>\n",
       "      <td>Now they call us terrorists to spread hysteria</td>\n",
       "      <td>{'neg': 0.0, 'neu': 0.812, 'pos': 0.188, 'comp...</td>\n",
       "      <td>0.188</td>\n",
       "      <td>0.000</td>\n",
       "      <td>0.812</td>\n",
       "      <td>0.4019</td>\n",
       "    </tr>\n",
       "    <tr>\n",
       "      <th>1753</th>\n",
       "      <td>1753</td>\n",
       "      <td>Masta Ace</td>\n",
       "      <td>Nana</td>\n",
       "      <td>2009-01-01</td>\n",
       "      <td>Jamaica</td>\n",
       "      <td>On Red, who run the spot, this old Jamaican</td>\n",
       "      <td>In a tall can, he go the the door and start br...</td>\n",
       "      <td>Like forty-nine or fifty years old, he\\'s maki...</td>\n",
       "      <td>{'neg': 0.0, 'neu': 1.0, 'pos': 0.0, 'compound...</td>\n",
       "      <td>0.000</td>\n",
       "      <td>0.000</td>\n",
       "      <td>1.000</td>\n",
       "      <td>0.0000</td>\n",
       "    </tr>\n",
       "    <tr>\n",
       "      <th>977</th>\n",
       "      <td>977</td>\n",
       "      <td>Public Enemy</td>\n",
       "      <td>Get It In</td>\n",
       "      <td>1988-06-28</td>\n",
       "      <td>Bronx</td>\n",
       "      <td>In the Bronx, we rock the block, you gotta (Ge...</td>\n",
       "      <td>Riding on the block, you gotta (Get it in)</td>\n",
       "      <td>Nassau county on the rock, you gotta (Get it in)</td>\n",
       "      <td>{'neg': 0.266, 'neu': 0.734, 'pos': 0.0, 'comp...</td>\n",
       "      <td>0.000</td>\n",
       "      <td>0.266</td>\n",
       "      <td>0.734</td>\n",
       "      <td>-0.4404</td>\n",
       "    </tr>\n",
       "    <tr>\n",
       "      <th>2470</th>\n",
       "      <td>2470</td>\n",
       "      <td>Inspectah Deck</td>\n",
       "      <td>Crazy</td>\n",
       "      <td>2019-07-12</td>\n",
       "      <td>America</td>\n",
       "      <td>Trying to live that American dream, a three ca...</td>\n",
       "      <td>He was good til he caught the charge</td>\n",
       "      <td>Man, it\\'s hard and it\\'s ways to go</td>\n",
       "      <td>{'neg': 0.0, 'neu': 0.707, 'pos': 0.293, 'comp...</td>\n",
       "      <td>0.293</td>\n",
       "      <td>0.000</td>\n",
       "      <td>0.707</td>\n",
       "      <td>0.4404</td>\n",
       "    </tr>\n",
       "    <tr>\n",
       "      <th>3368</th>\n",
       "      <td>3368</td>\n",
       "      <td>Nas</td>\n",
       "      <td>American Way</td>\n",
       "      <td>1996-07-02</td>\n",
       "      <td>America</td>\n",
       "      <td>Yeah I think about this every day, that\\'s the...</td>\n",
       "      <td>Yeah I think about this every day, that\\'s the...</td>\n",
       "      <td>NaN</td>\n",
       "      <td>{'neg': 0.243, 'neu': 0.608, 'pos': 0.149, 'co...</td>\n",
       "      <td>0.149</td>\n",
       "      <td>0.243</td>\n",
       "      <td>0.608</td>\n",
       "      <td>-0.3400</td>\n",
       "    </tr>\n",
       "  </tbody>\n",
       "</table>\n",
       "</div>"
      ],
      "text/plain": [
       "      Unnamed: 0              Artist     Song Name release date      GPE  \\\n",
       "4125        4125  Immortal Technique     The Rebel   2001-09-14  America   \n",
       "1753        1753           Masta Ace          Nana   2009-01-01  Jamaica   \n",
       "977          977        Public Enemy     Get It In   1988-06-28    Bronx   \n",
       "2470        2470      Inspectah Deck         Crazy   2019-07-12  America   \n",
       "3368        3368                 Nas  American Way   1996-07-02  America   \n",
       "\n",
       "                                                   Line  \\\n",
       "4125  They used to call us communists for fighting A...   \n",
       "1753        On Red, who run the spot, this old Jamaican   \n",
       "977   In the Bronx, we rock the block, you gotta (Ge...   \n",
       "2470  Trying to live that American dream, a three ca...   \n",
       "3368  Yeah I think about this every day, that\\'s the...   \n",
       "\n",
       "                                            Line Before  \\\n",
       "4125  I'm coming in here to take your head off4Embed...   \n",
       "1753  In a tall can, he go the the door and start br...   \n",
       "977          Riding on the block, you gotta (Get it in)   \n",
       "2470               He was good til he caught the charge   \n",
       "3368  Yeah I think about this every day, that\\'s the...   \n",
       "\n",
       "                                             Line After  \\\n",
       "4125     Now they call us terrorists to spread hysteria   \n",
       "1753  Like forty-nine or fifty years old, he\\'s maki...   \n",
       "977    Nassau county on the rock, you gotta (Get it in)   \n",
       "2470               Man, it\\'s hard and it\\'s ways to go   \n",
       "3368                                                NaN   \n",
       "\n",
       "                                               polarity    pos    neg    neu  \\\n",
       "4125  {'neg': 0.0, 'neu': 0.812, 'pos': 0.188, 'comp...  0.188  0.000  0.812   \n",
       "1753  {'neg': 0.0, 'neu': 1.0, 'pos': 0.0, 'compound...  0.000  0.000  1.000   \n",
       "977   {'neg': 0.266, 'neu': 0.734, 'pos': 0.0, 'comp...  0.000  0.266  0.734   \n",
       "2470  {'neg': 0.0, 'neu': 0.707, 'pos': 0.293, 'comp...  0.293  0.000  0.707   \n",
       "3368  {'neg': 0.243, 'neu': 0.608, 'pos': 0.149, 'co...  0.149  0.243  0.608   \n",
       "\n",
       "      compound  \n",
       "4125    0.4019  \n",
       "1753    0.0000  \n",
       "977    -0.4404  \n",
       "2470    0.4404  \n",
       "3368   -0.3400  "
      ]
     },
     "execution_count": 2,
     "metadata": {},
     "output_type": "execute_result"
    }
   ],
   "source": [
    "DATA_PATH = 'data/wordclouds/unfiltered_polarity.csv'\n",
    "data = pd.read_csv(DATA_PATH)\n",
    "data.sample(5)"
   ]
  },
  {
   "cell_type": "code",
   "execution_count": 3,
   "metadata": {},
   "outputs": [],
   "source": [
    "labels = []\n",
    "for i, row in data.iterrows():\n",
    "    #positive 1\n",
    "    if row.compound >= 0.3:\n",
    "        labels.append(1)\n",
    "    elif row.compound <= -0.3:\n",
    "        labels.append(-1)\n",
    "    else:\n",
    "        labels.append(0)\n",
    "data['labels'] = labels"
   ]
  },
  {
   "cell_type": "code",
   "execution_count": 4,
   "metadata": {},
   "outputs": [
    {
     "data": {
      "text/plain": [
       "array(['Harlem', 'New York', 'Bronx', 'South Bronx', 'Jersey',\n",
       "       'East Coast', 'West Coast', 'Broadway', 'Brooklyn', 'NYC',\n",
       "       'America', 'Jamaica', 'Manhattan', 'Queens', 'Staten Island',\n",
       "       'Chinatown', 'New York City', 'Long Island', 'Queensbridge',\n",
       "       'Brownsville', 'SoHo', \"Hell's Kitchen\", 'Chelsea'], dtype=object)"
      ]
     },
     "execution_count": 4,
     "metadata": {},
     "output_type": "execute_result"
    }
   ],
   "source": [
    "data.GPE.unique()"
   ]
  },
  {
   "cell_type": "markdown",
   "metadata": {},
   "source": [
    "## Agregating Neighborhood"
   ]
  },
  {
   "cell_type": "code",
   "execution_count": 5,
   "metadata": {},
   "outputs": [
    {
     "data": {
      "text/html": [
       "<div>\n",
       "<style scoped>\n",
       "    .dataframe tbody tr th:only-of-type {\n",
       "        vertical-align: middle;\n",
       "    }\n",
       "\n",
       "    .dataframe tbody tr th {\n",
       "        vertical-align: top;\n",
       "    }\n",
       "\n",
       "    .dataframe thead th {\n",
       "        text-align: right;\n",
       "    }\n",
       "</style>\n",
       "<table border=\"1\" class=\"dataframe\">\n",
       "  <thead>\n",
       "    <tr style=\"text-align: right;\">\n",
       "      <th></th>\n",
       "      <th>Unnamed: 0</th>\n",
       "      <th>Artist</th>\n",
       "      <th>Song Name</th>\n",
       "      <th>release date</th>\n",
       "      <th>Line</th>\n",
       "      <th>Line Before</th>\n",
       "      <th>Line After</th>\n",
       "      <th>polarity</th>\n",
       "      <th>pos</th>\n",
       "      <th>neg</th>\n",
       "      <th>neu</th>\n",
       "      <th>compound</th>\n",
       "      <th>labels</th>\n",
       "    </tr>\n",
       "    <tr>\n",
       "      <th>GPE</th>\n",
       "      <th></th>\n",
       "      <th></th>\n",
       "      <th></th>\n",
       "      <th></th>\n",
       "      <th></th>\n",
       "      <th></th>\n",
       "      <th></th>\n",
       "      <th></th>\n",
       "      <th></th>\n",
       "      <th></th>\n",
       "      <th></th>\n",
       "      <th></th>\n",
       "      <th></th>\n",
       "    </tr>\n",
       "  </thead>\n",
       "  <tbody>\n",
       "    <tr>\n",
       "      <th>America</th>\n",
       "      <td>556</td>\n",
       "      <td>556</td>\n",
       "      <td>556</td>\n",
       "      <td>435</td>\n",
       "      <td>556</td>\n",
       "      <td>523</td>\n",
       "      <td>485</td>\n",
       "      <td>556</td>\n",
       "      <td>556</td>\n",
       "      <td>556</td>\n",
       "      <td>556</td>\n",
       "      <td>556</td>\n",
       "      <td>556</td>\n",
       "    </tr>\n",
       "    <tr>\n",
       "      <th>Broadway</th>\n",
       "      <td>46</td>\n",
       "      <td>46</td>\n",
       "      <td>46</td>\n",
       "      <td>28</td>\n",
       "      <td>46</td>\n",
       "      <td>46</td>\n",
       "      <td>45</td>\n",
       "      <td>46</td>\n",
       "      <td>46</td>\n",
       "      <td>46</td>\n",
       "      <td>46</td>\n",
       "      <td>46</td>\n",
       "      <td>46</td>\n",
       "    </tr>\n",
       "    <tr>\n",
       "      <th>Bronx</th>\n",
       "      <td>242</td>\n",
       "      <td>242</td>\n",
       "      <td>242</td>\n",
       "      <td>186</td>\n",
       "      <td>242</td>\n",
       "      <td>238</td>\n",
       "      <td>221</td>\n",
       "      <td>242</td>\n",
       "      <td>242</td>\n",
       "      <td>242</td>\n",
       "      <td>242</td>\n",
       "      <td>242</td>\n",
       "      <td>242</td>\n",
       "    </tr>\n",
       "    <tr>\n",
       "      <th>Brooklyn</th>\n",
       "      <td>835</td>\n",
       "      <td>835</td>\n",
       "      <td>835</td>\n",
       "      <td>712</td>\n",
       "      <td>835</td>\n",
       "      <td>807</td>\n",
       "      <td>749</td>\n",
       "      <td>835</td>\n",
       "      <td>835</td>\n",
       "      <td>835</td>\n",
       "      <td>835</td>\n",
       "      <td>835</td>\n",
       "      <td>835</td>\n",
       "    </tr>\n",
       "    <tr>\n",
       "      <th>Brownsville</th>\n",
       "      <td>52</td>\n",
       "      <td>52</td>\n",
       "      <td>52</td>\n",
       "      <td>47</td>\n",
       "      <td>52</td>\n",
       "      <td>52</td>\n",
       "      <td>50</td>\n",
       "      <td>52</td>\n",
       "      <td>52</td>\n",
       "      <td>52</td>\n",
       "      <td>52</td>\n",
       "      <td>52</td>\n",
       "      <td>52</td>\n",
       "    </tr>\n",
       "    <tr>\n",
       "      <th>Chelsea</th>\n",
       "      <td>1</td>\n",
       "      <td>1</td>\n",
       "      <td>1</td>\n",
       "      <td>1</td>\n",
       "      <td>1</td>\n",
       "      <td>1</td>\n",
       "      <td>1</td>\n",
       "      <td>1</td>\n",
       "      <td>1</td>\n",
       "      <td>1</td>\n",
       "      <td>1</td>\n",
       "      <td>1</td>\n",
       "      <td>1</td>\n",
       "    </tr>\n",
       "    <tr>\n",
       "      <th>Chinatown</th>\n",
       "      <td>7</td>\n",
       "      <td>7</td>\n",
       "      <td>7</td>\n",
       "      <td>6</td>\n",
       "      <td>7</td>\n",
       "      <td>7</td>\n",
       "      <td>6</td>\n",
       "      <td>7</td>\n",
       "      <td>7</td>\n",
       "      <td>7</td>\n",
       "      <td>7</td>\n",
       "      <td>7</td>\n",
       "      <td>7</td>\n",
       "    </tr>\n",
       "    <tr>\n",
       "      <th>East Coast</th>\n",
       "      <td>75</td>\n",
       "      <td>75</td>\n",
       "      <td>75</td>\n",
       "      <td>61</td>\n",
       "      <td>75</td>\n",
       "      <td>73</td>\n",
       "      <td>69</td>\n",
       "      <td>75</td>\n",
       "      <td>75</td>\n",
       "      <td>75</td>\n",
       "      <td>75</td>\n",
       "      <td>75</td>\n",
       "      <td>75</td>\n",
       "    </tr>\n",
       "    <tr>\n",
       "      <th>Harlem</th>\n",
       "      <td>434</td>\n",
       "      <td>434</td>\n",
       "      <td>434</td>\n",
       "      <td>344</td>\n",
       "      <td>434</td>\n",
       "      <td>428</td>\n",
       "      <td>414</td>\n",
       "      <td>434</td>\n",
       "      <td>434</td>\n",
       "      <td>434</td>\n",
       "      <td>434</td>\n",
       "      <td>434</td>\n",
       "      <td>434</td>\n",
       "    </tr>\n",
       "    <tr>\n",
       "      <th>Hell's Kitchen</th>\n",
       "      <td>1</td>\n",
       "      <td>1</td>\n",
       "      <td>1</td>\n",
       "      <td>1</td>\n",
       "      <td>1</td>\n",
       "      <td>1</td>\n",
       "      <td>1</td>\n",
       "      <td>1</td>\n",
       "      <td>1</td>\n",
       "      <td>1</td>\n",
       "      <td>1</td>\n",
       "      <td>1</td>\n",
       "      <td>1</td>\n",
       "    </tr>\n",
       "    <tr>\n",
       "      <th>Jamaica</th>\n",
       "      <td>116</td>\n",
       "      <td>116</td>\n",
       "      <td>116</td>\n",
       "      <td>96</td>\n",
       "      <td>116</td>\n",
       "      <td>116</td>\n",
       "      <td>110</td>\n",
       "      <td>116</td>\n",
       "      <td>116</td>\n",
       "      <td>116</td>\n",
       "      <td>116</td>\n",
       "      <td>116</td>\n",
       "      <td>116</td>\n",
       "    </tr>\n",
       "    <tr>\n",
       "      <th>Jersey</th>\n",
       "      <td>162</td>\n",
       "      <td>162</td>\n",
       "      <td>162</td>\n",
       "      <td>126</td>\n",
       "      <td>162</td>\n",
       "      <td>156</td>\n",
       "      <td>153</td>\n",
       "      <td>162</td>\n",
       "      <td>162</td>\n",
       "      <td>162</td>\n",
       "      <td>162</td>\n",
       "      <td>162</td>\n",
       "      <td>162</td>\n",
       "    </tr>\n",
       "    <tr>\n",
       "      <th>Long Island</th>\n",
       "      <td>33</td>\n",
       "      <td>33</td>\n",
       "      <td>33</td>\n",
       "      <td>22</td>\n",
       "      <td>33</td>\n",
       "      <td>32</td>\n",
       "      <td>32</td>\n",
       "      <td>33</td>\n",
       "      <td>33</td>\n",
       "      <td>33</td>\n",
       "      <td>33</td>\n",
       "      <td>33</td>\n",
       "      <td>33</td>\n",
       "    </tr>\n",
       "    <tr>\n",
       "      <th>Manhattan</th>\n",
       "      <td>67</td>\n",
       "      <td>67</td>\n",
       "      <td>67</td>\n",
       "      <td>52</td>\n",
       "      <td>67</td>\n",
       "      <td>67</td>\n",
       "      <td>65</td>\n",
       "      <td>67</td>\n",
       "      <td>67</td>\n",
       "      <td>67</td>\n",
       "      <td>67</td>\n",
       "      <td>67</td>\n",
       "      <td>67</td>\n",
       "    </tr>\n",
       "    <tr>\n",
       "      <th>NYC</th>\n",
       "      <td>141</td>\n",
       "      <td>141</td>\n",
       "      <td>141</td>\n",
       "      <td>132</td>\n",
       "      <td>141</td>\n",
       "      <td>137</td>\n",
       "      <td>121</td>\n",
       "      <td>141</td>\n",
       "      <td>141</td>\n",
       "      <td>141</td>\n",
       "      <td>141</td>\n",
       "      <td>141</td>\n",
       "      <td>141</td>\n",
       "    </tr>\n",
       "    <tr>\n",
       "      <th>New York</th>\n",
       "      <td>834</td>\n",
       "      <td>834</td>\n",
       "      <td>834</td>\n",
       "      <td>654</td>\n",
       "      <td>834</td>\n",
       "      <td>821</td>\n",
       "      <td>780</td>\n",
       "      <td>834</td>\n",
       "      <td>834</td>\n",
       "      <td>834</td>\n",
       "      <td>834</td>\n",
       "      <td>834</td>\n",
       "      <td>834</td>\n",
       "    </tr>\n",
       "    <tr>\n",
       "      <th>New York City</th>\n",
       "      <td>80</td>\n",
       "      <td>80</td>\n",
       "      <td>80</td>\n",
       "      <td>59</td>\n",
       "      <td>80</td>\n",
       "      <td>77</td>\n",
       "      <td>70</td>\n",
       "      <td>80</td>\n",
       "      <td>80</td>\n",
       "      <td>80</td>\n",
       "      <td>80</td>\n",
       "      <td>80</td>\n",
       "      <td>80</td>\n",
       "    </tr>\n",
       "    <tr>\n",
       "      <th>Queens</th>\n",
       "      <td>431</td>\n",
       "      <td>431</td>\n",
       "      <td>431</td>\n",
       "      <td>356</td>\n",
       "      <td>431</td>\n",
       "      <td>426</td>\n",
       "      <td>404</td>\n",
       "      <td>431</td>\n",
       "      <td>431</td>\n",
       "      <td>431</td>\n",
       "      <td>431</td>\n",
       "      <td>431</td>\n",
       "      <td>431</td>\n",
       "    </tr>\n",
       "    <tr>\n",
       "      <th>Queensbridge</th>\n",
       "      <td>61</td>\n",
       "      <td>61</td>\n",
       "      <td>61</td>\n",
       "      <td>54</td>\n",
       "      <td>61</td>\n",
       "      <td>61</td>\n",
       "      <td>61</td>\n",
       "      <td>61</td>\n",
       "      <td>61</td>\n",
       "      <td>61</td>\n",
       "      <td>61</td>\n",
       "      <td>61</td>\n",
       "      <td>61</td>\n",
       "    </tr>\n",
       "    <tr>\n",
       "      <th>SoHo</th>\n",
       "      <td>3</td>\n",
       "      <td>3</td>\n",
       "      <td>3</td>\n",
       "      <td>2</td>\n",
       "      <td>3</td>\n",
       "      <td>3</td>\n",
       "      <td>3</td>\n",
       "      <td>3</td>\n",
       "      <td>3</td>\n",
       "      <td>3</td>\n",
       "      <td>3</td>\n",
       "      <td>3</td>\n",
       "      <td>3</td>\n",
       "    </tr>\n",
       "    <tr>\n",
       "      <th>South Bronx</th>\n",
       "      <td>24</td>\n",
       "      <td>24</td>\n",
       "      <td>24</td>\n",
       "      <td>17</td>\n",
       "      <td>24</td>\n",
       "      <td>23</td>\n",
       "      <td>24</td>\n",
       "      <td>24</td>\n",
       "      <td>24</td>\n",
       "      <td>24</td>\n",
       "      <td>24</td>\n",
       "      <td>24</td>\n",
       "      <td>24</td>\n",
       "    </tr>\n",
       "    <tr>\n",
       "      <th>Staten Island</th>\n",
       "      <td>79</td>\n",
       "      <td>79</td>\n",
       "      <td>79</td>\n",
       "      <td>70</td>\n",
       "      <td>79</td>\n",
       "      <td>78</td>\n",
       "      <td>69</td>\n",
       "      <td>79</td>\n",
       "      <td>79</td>\n",
       "      <td>79</td>\n",
       "      <td>79</td>\n",
       "      <td>79</td>\n",
       "      <td>79</td>\n",
       "    </tr>\n",
       "    <tr>\n",
       "      <th>West Coast</th>\n",
       "      <td>61</td>\n",
       "      <td>61</td>\n",
       "      <td>61</td>\n",
       "      <td>43</td>\n",
       "      <td>61</td>\n",
       "      <td>61</td>\n",
       "      <td>58</td>\n",
       "      <td>61</td>\n",
       "      <td>61</td>\n",
       "      <td>61</td>\n",
       "      <td>61</td>\n",
       "      <td>61</td>\n",
       "      <td>61</td>\n",
       "    </tr>\n",
       "  </tbody>\n",
       "</table>\n",
       "</div>"
      ],
      "text/plain": [
       "                Unnamed: 0  Artist  Song Name  release date  Line  \\\n",
       "GPE                                                                 \n",
       "America                556     556        556           435   556   \n",
       "Broadway                46      46         46            28    46   \n",
       "Bronx                  242     242        242           186   242   \n",
       "Brooklyn               835     835        835           712   835   \n",
       "Brownsville             52      52         52            47    52   \n",
       "Chelsea                  1       1          1             1     1   \n",
       "Chinatown                7       7          7             6     7   \n",
       "East Coast              75      75         75            61    75   \n",
       "Harlem                 434     434        434           344   434   \n",
       "Hell's Kitchen           1       1          1             1     1   \n",
       "Jamaica                116     116        116            96   116   \n",
       "Jersey                 162     162        162           126   162   \n",
       "Long Island             33      33         33            22    33   \n",
       "Manhattan               67      67         67            52    67   \n",
       "NYC                    141     141        141           132   141   \n",
       "New York               834     834        834           654   834   \n",
       "New York City           80      80         80            59    80   \n",
       "Queens                 431     431        431           356   431   \n",
       "Queensbridge            61      61         61            54    61   \n",
       "SoHo                     3       3          3             2     3   \n",
       "South Bronx             24      24         24            17    24   \n",
       "Staten Island           79      79         79            70    79   \n",
       "West Coast              61      61         61            43    61   \n",
       "\n",
       "                Line Before  Line After  polarity  pos  neg  neu  compound  \\\n",
       "GPE                                                                          \n",
       "America                 523         485       556  556  556  556       556   \n",
       "Broadway                 46          45        46   46   46   46        46   \n",
       "Bronx                   238         221       242  242  242  242       242   \n",
       "Brooklyn                807         749       835  835  835  835       835   \n",
       "Brownsville              52          50        52   52   52   52        52   \n",
       "Chelsea                   1           1         1    1    1    1         1   \n",
       "Chinatown                 7           6         7    7    7    7         7   \n",
       "East Coast               73          69        75   75   75   75        75   \n",
       "Harlem                  428         414       434  434  434  434       434   \n",
       "Hell's Kitchen            1           1         1    1    1    1         1   \n",
       "Jamaica                 116         110       116  116  116  116       116   \n",
       "Jersey                  156         153       162  162  162  162       162   \n",
       "Long Island              32          32        33   33   33   33        33   \n",
       "Manhattan                67          65        67   67   67   67        67   \n",
       "NYC                     137         121       141  141  141  141       141   \n",
       "New York                821         780       834  834  834  834       834   \n",
       "New York City            77          70        80   80   80   80        80   \n",
       "Queens                  426         404       431  431  431  431       431   \n",
       "Queensbridge             61          61        61   61   61   61        61   \n",
       "SoHo                      3           3         3    3    3    3         3   \n",
       "South Bronx              23          24        24   24   24   24        24   \n",
       "Staten Island            78          69        79   79   79   79        79   \n",
       "West Coast               61          58        61   61   61   61        61   \n",
       "\n",
       "                labels  \n",
       "GPE                     \n",
       "America            556  \n",
       "Broadway            46  \n",
       "Bronx              242  \n",
       "Brooklyn           835  \n",
       "Brownsville         52  \n",
       "Chelsea              1  \n",
       "Chinatown            7  \n",
       "East Coast          75  \n",
       "Harlem             434  \n",
       "Hell's Kitchen       1  \n",
       "Jamaica            116  \n",
       "Jersey             162  \n",
       "Long Island         33  \n",
       "Manhattan           67  \n",
       "NYC                141  \n",
       "New York           834  \n",
       "New York City       80  \n",
       "Queens             431  \n",
       "Queensbridge        61  \n",
       "SoHo                 3  \n",
       "South Bronx         24  \n",
       "Staten Island       79  \n",
       "West Coast          61  "
      ]
     },
     "execution_count": 5,
     "metadata": {},
     "output_type": "execute_result"
    }
   ],
   "source": [
    "data.groupby('GPE').count()"
   ]
  },
  {
   "cell_type": "code",
   "execution_count": 6,
   "metadata": {},
   "outputs": [],
   "source": [
    "data['GPE'] = data['GPE'].replace(['NYC'],'New York City')\n",
    "data['GPE'] = data['GPE'].replace(['New York'],'New York City')\n",
    "data['GPE'] = data['GPE'].replace(['SoHo'],'New York City')\n",
    "data['GPE'] = data['GPE'].replace(['Broadway'],'New York City')\n",
    "data['GPE'] = data['GPE'].replace(['Manhattan'],'New York City')\n",
    "data['GPE'] = data['GPE'].replace(['Chinatown'],'New York City')\n",
    "\n",
    "data['GPE'] = data['GPE'].replace(['Jersey'],'Harlem')\n",
    "data['GPE'] = data['GPE'].replace(['Long Island'],'Harlem')\n",
    "data['GPE'] = data['GPE'].replace(['Staten Island'],'Harlem')\n",
    "\n",
    "data['GPE'] = data['GPE'].replace(['South Bronx'],'Bronx')\n",
    "data['GPE'] = data['GPE'].replace(['Brooklyn'],'Bronx')\n",
    "data['GPE'] = data['GPE'].replace(['Queensbridge'],'Bronx')\n",
    "data['GPE'] = data['GPE'].replace(['Queens'],'Bronx')\n",
    "data['GPE'] = data['GPE'].replace(['Brownsville'],'Bronx')\n",
    "\n",
    "data['GPE'] = data['GPE'].replace(['East Coast'],'America')\n",
    "data['GPE'] = data['GPE'].replace(['West Coast'],'America')\n"
   ]
  },
  {
   "cell_type": "markdown",
   "metadata": {},
   "source": [
    "## Dropping unwanted location"
   ]
  },
  {
   "cell_type": "code",
   "execution_count": 7,
   "metadata": {},
   "outputs": [],
   "source": [
    "data.set_index('GPE', inplace=True)"
   ]
  },
  {
   "cell_type": "code",
   "execution_count": 8,
   "metadata": {},
   "outputs": [],
   "source": [
    "data.drop(['Chelsea', 'Jamaica', \"Hell's Kitchen\", 'America'], inplace=True)\n",
    "data.reset_index(inplace=True)"
   ]
  },
  {
   "cell_type": "code",
   "execution_count": 9,
   "metadata": {},
   "outputs": [
    {
     "data": {
      "text/html": [
       "<div>\n",
       "<style scoped>\n",
       "    .dataframe tbody tr th:only-of-type {\n",
       "        vertical-align: middle;\n",
       "    }\n",
       "\n",
       "    .dataframe tbody tr th {\n",
       "        vertical-align: top;\n",
       "    }\n",
       "\n",
       "    .dataframe thead th {\n",
       "        text-align: right;\n",
       "    }\n",
       "</style>\n",
       "<table border=\"1\" class=\"dataframe\">\n",
       "  <thead>\n",
       "    <tr style=\"text-align: right;\">\n",
       "      <th></th>\n",
       "      <th>Unnamed: 0</th>\n",
       "      <th>Artist</th>\n",
       "      <th>Song Name</th>\n",
       "      <th>release date</th>\n",
       "      <th>Line</th>\n",
       "      <th>Line Before</th>\n",
       "      <th>Line After</th>\n",
       "      <th>polarity</th>\n",
       "      <th>pos</th>\n",
       "      <th>neg</th>\n",
       "      <th>neu</th>\n",
       "      <th>compound</th>\n",
       "      <th>labels</th>\n",
       "    </tr>\n",
       "    <tr>\n",
       "      <th>GPE</th>\n",
       "      <th></th>\n",
       "      <th></th>\n",
       "      <th></th>\n",
       "      <th></th>\n",
       "      <th></th>\n",
       "      <th></th>\n",
       "      <th></th>\n",
       "      <th></th>\n",
       "      <th></th>\n",
       "      <th></th>\n",
       "      <th></th>\n",
       "      <th></th>\n",
       "      <th></th>\n",
       "    </tr>\n",
       "  </thead>\n",
       "  <tbody>\n",
       "    <tr>\n",
       "      <th>Bronx</th>\n",
       "      <td>1645</td>\n",
       "      <td>1645</td>\n",
       "      <td>1645</td>\n",
       "      <td>1372</td>\n",
       "      <td>1645</td>\n",
       "      <td>1607</td>\n",
       "      <td>1509</td>\n",
       "      <td>1645</td>\n",
       "      <td>1645</td>\n",
       "      <td>1645</td>\n",
       "      <td>1645</td>\n",
       "      <td>1645</td>\n",
       "      <td>1645</td>\n",
       "    </tr>\n",
       "    <tr>\n",
       "      <th>Harlem</th>\n",
       "      <td>708</td>\n",
       "      <td>708</td>\n",
       "      <td>708</td>\n",
       "      <td>562</td>\n",
       "      <td>708</td>\n",
       "      <td>694</td>\n",
       "      <td>668</td>\n",
       "      <td>708</td>\n",
       "      <td>708</td>\n",
       "      <td>708</td>\n",
       "      <td>708</td>\n",
       "      <td>708</td>\n",
       "      <td>708</td>\n",
       "    </tr>\n",
       "    <tr>\n",
       "      <th>New York City</th>\n",
       "      <td>1178</td>\n",
       "      <td>1178</td>\n",
       "      <td>1178</td>\n",
       "      <td>933</td>\n",
       "      <td>1178</td>\n",
       "      <td>1158</td>\n",
       "      <td>1090</td>\n",
       "      <td>1178</td>\n",
       "      <td>1178</td>\n",
       "      <td>1178</td>\n",
       "      <td>1178</td>\n",
       "      <td>1178</td>\n",
       "      <td>1178</td>\n",
       "    </tr>\n",
       "  </tbody>\n",
       "</table>\n",
       "</div>"
      ],
      "text/plain": [
       "               Unnamed: 0  Artist  Song Name  release date  Line  Line Before  \\\n",
       "GPE                                                                             \n",
       "Bronx                1645    1645       1645          1372  1645         1607   \n",
       "Harlem                708     708        708           562   708          694   \n",
       "New York City        1178    1178       1178           933  1178         1158   \n",
       "\n",
       "               Line After  polarity   pos   neg   neu  compound  labels  \n",
       "GPE                                                                      \n",
       "Bronx                1509      1645  1645  1645  1645      1645    1645  \n",
       "Harlem                668       708   708   708   708       708     708  \n",
       "New York City        1090      1178  1178  1178  1178      1178    1178  "
      ]
     },
     "execution_count": 9,
     "metadata": {},
     "output_type": "execute_result"
    }
   ],
   "source": [
    "data.groupby('GPE').count()"
   ]
  },
  {
   "cell_type": "code",
   "execution_count": 10,
   "metadata": {},
   "outputs": [
    {
     "data": {
      "text/plain": [
       "Index(['GPE', 'Unnamed: 0', 'Artist', 'Song Name', 'release date', 'Line',\n",
       "       'Line Before', 'Line After', 'polarity', 'pos', 'neg', 'neu',\n",
       "       'compound', 'labels'],\n",
       "      dtype='object')"
      ]
     },
     "execution_count": 10,
     "metadata": {},
     "output_type": "execute_result"
    }
   ],
   "source": [
    "data.columns"
   ]
  },
  {
   "cell_type": "markdown",
   "metadata": {},
   "source": [
    "## Dropping duplicated and NA lines"
   ]
  },
  {
   "cell_type": "code",
   "execution_count": 11,
   "metadata": {},
   "outputs": [
    {
     "data": {
      "text/html": [
       "<div>\n",
       "<style scoped>\n",
       "    .dataframe tbody tr th:only-of-type {\n",
       "        vertical-align: middle;\n",
       "    }\n",
       "\n",
       "    .dataframe tbody tr th {\n",
       "        vertical-align: top;\n",
       "    }\n",
       "\n",
       "    .dataframe thead th {\n",
       "        text-align: right;\n",
       "    }\n",
       "</style>\n",
       "<table border=\"1\" class=\"dataframe\">\n",
       "  <thead>\n",
       "    <tr style=\"text-align: right;\">\n",
       "      <th></th>\n",
       "      <th>Artist</th>\n",
       "      <th>Song Name</th>\n",
       "      <th>release date</th>\n",
       "      <th>GPE</th>\n",
       "      <th>Line</th>\n",
       "      <th>labels</th>\n",
       "    </tr>\n",
       "  </thead>\n",
       "  <tbody>\n",
       "    <tr>\n",
       "      <th>2192</th>\n",
       "      <td>Young M.A</td>\n",
       "      <td>Body Bag</td>\n",
       "      <td>2019-09-27</td>\n",
       "      <td>Bronx</td>\n",
       "      <td>I'm 'bout to talk my shit</td>\n",
       "      <td>-1</td>\n",
       "    </tr>\n",
       "    <tr>\n",
       "      <th>1164</th>\n",
       "      <td>U-God</td>\n",
       "      <td>Climate</td>\n",
       "      <td>2008-01-01</td>\n",
       "      <td>New York City</td>\n",
       "      <td>So we sat at the table with the top heads and ...</td>\n",
       "      <td>0</td>\n",
       "    </tr>\n",
       "    <tr>\n",
       "      <th>2626</th>\n",
       "      <td>Keith Murray</td>\n",
       "      <td>Some Shit</td>\n",
       "      <td>2003-07-15</td>\n",
       "      <td>Harlem</td>\n",
       "      <td>And feed it to the jigga-boos wit fried chicke...</td>\n",
       "      <td>0</td>\n",
       "    </tr>\n",
       "    <tr>\n",
       "      <th>1401</th>\n",
       "      <td>Masta Ace</td>\n",
       "      <td>Me &amp; AG</td>\n",
       "      <td>2012-07-17</td>\n",
       "      <td>New York City</td>\n",
       "      <td>I'm so underground, my Queen named Harriet</td>\n",
       "      <td>0</td>\n",
       "    </tr>\n",
       "    <tr>\n",
       "      <th>2630</th>\n",
       "      <td>Keith Murray</td>\n",
       "      <td>World Be Free</td>\n",
       "      <td>1994-11-08</td>\n",
       "      <td>Harlem</td>\n",
       "      <td>Like Philly, D.C., Cincinnati, and M.D</td>\n",
       "      <td>1</td>\n",
       "    </tr>\n",
       "  </tbody>\n",
       "</table>\n",
       "</div>"
      ],
      "text/plain": [
       "            Artist      Song Name release date            GPE  \\\n",
       "2192     Young M.A       Body Bag   2019-09-27          Bronx   \n",
       "1164         U-God        Climate   2008-01-01  New York City   \n",
       "2626  Keith Murray      Some Shit   2003-07-15         Harlem   \n",
       "1401     Masta Ace        Me & AG   2012-07-17  New York City   \n",
       "2630  Keith Murray  World Be Free   1994-11-08         Harlem   \n",
       "\n",
       "                                                   Line  labels  \n",
       "2192                          I'm 'bout to talk my shit      -1  \n",
       "1164  So we sat at the table with the top heads and ...       0  \n",
       "2626  And feed it to the jigga-boos wit fried chicke...       0  \n",
       "1401         I'm so underground, my Queen named Harriet       0  \n",
       "2630             Like Philly, D.C., Cincinnati, and M.D       1  "
      ]
     },
     "execution_count": 11,
     "metadata": {},
     "output_type": "execute_result"
    }
   ],
   "source": [
    "df1 = data[['Artist', 'Song Name', 'release date', 'GPE', 'Line Before', 'labels']]\n",
    "df1.columns = ['Artist', 'Song Name', 'release date', 'GPE', 'Line', 'labels']\n",
    "df2 = data[['Artist', 'Song Name', 'release date', 'GPE', 'Line', 'labels']]\n",
    "df3 = data[['Artist', 'Song Name', 'release date', 'GPE', 'Line After', 'labels']]\n",
    "df3.columns = ['Artist', 'Song Name', 'release date', 'GPE', 'Line', 'labels']\n",
    "df_lines = pd.concat([df1, df2, df3])\n",
    "df_lines.sample(5)"
   ]
  },
  {
   "cell_type": "code",
   "execution_count": 12,
   "metadata": {},
   "outputs": [
    {
     "data": {
      "text/plain": [
       "((3531, 14), (10593, 6))"
      ]
     },
     "execution_count": 12,
     "metadata": {},
     "output_type": "execute_result"
    }
   ],
   "source": [
    "data.shape, df_lines.shape"
   ]
  },
  {
   "cell_type": "code",
   "execution_count": 13,
   "metadata": {},
   "outputs": [
    {
     "data": {
      "text/plain": [
       "3576"
      ]
     },
     "execution_count": 13,
     "metadata": {},
     "output_type": "execute_result"
    }
   ],
   "source": [
    "df_lines.duplicated(subset=['Line']).sum()"
   ]
  },
  {
   "cell_type": "code",
   "execution_count": 14,
   "metadata": {},
   "outputs": [
    {
     "data": {
      "text/plain": [
       "(7016, 6)"
      ]
     },
     "execution_count": 14,
     "metadata": {},
     "output_type": "execute_result"
    }
   ],
   "source": [
    "df_lines = df_lines.drop_duplicates(subset=['Line'])\n",
    "df_lines = df_lines.dropna(subset=['Line'])\n",
    "df_lines.shape"
   ]
  },
  {
   "cell_type": "code",
   "execution_count": 15,
   "metadata": {},
   "outputs": [
    {
     "data": {
      "text/plain": [
       "array(['Harlem', 'New York City', 'Bronx'], dtype=object)"
      ]
     },
     "execution_count": 15,
     "metadata": {},
     "output_type": "execute_result"
    }
   ],
   "source": [
    "df_lines.GPE.unique()"
   ]
  },
  {
   "cell_type": "code",
   "execution_count": 16,
   "metadata": {},
   "outputs": [
    {
     "data": {
      "text/plain": [
       "array([ 0,  1, -1])"
      ]
     },
     "execution_count": 16,
     "metadata": {},
     "output_type": "execute_result"
    }
   ],
   "source": [
    "df_lines.labels.unique()"
   ]
  },
  {
   "cell_type": "markdown",
   "metadata": {},
   "source": [
    "## Creating corpus by labels"
   ]
  },
  {
   "cell_type": "code",
   "execution_count": 17,
   "metadata": {},
   "outputs": [
    {
     "name": "stderr",
     "output_type": "stream",
     "text": [
      "<>:12: DeprecationWarning: invalid escape sequence \\(\n",
      "<>:12: DeprecationWarning: invalid escape sequence \\(\n",
      "/var/folders/z2/v95s75vx1flf254b1kb3nfdw0000gn/T/ipykernel_2536/81792709.py:12: DeprecationWarning: invalid escape sequence \\(\n",
      "  line = re.sub(\"[\\(\\[].*?[\\)\\]]\", \"\", line)\n"
     ]
    }
   ],
   "source": [
    "corpus = []\n",
    "i = 0\n",
    "\n",
    "#For each label, creating a corpus of sentences describing it\n",
    "for neighborhood in df_lines.GPE.unique():\n",
    "    temp = []\n",
    "    for j, row in df_lines[df_lines.GPE==neighborhood].iterrows():\n",
    "        #Cleaning lyrics\n",
    "        line = row.Line.replace('\\\\n', ' ')\n",
    "        line = line.replace(\"\\'\", '')\n",
    "        line = line.replace(\"\\\\\", '')\n",
    "        line = re.sub(\"[\\(\\[].*?[\\)\\]]\", \"\", line)\n",
    "        line = line.lower()\n",
    "\n",
    "        # Remove words shorter than 3 character\n",
    "        line = ' '.join([w for w in line.split() if len(w)>2])\n",
    "        #appening the cleaned line in a temporary list  \n",
    "        temp.append(line)\n",
    "        i += 1\n",
    "        #if i==5: break\n",
    "\n",
    "    corpus_i = \" \".join(temp)\n",
    "    corpus.append(corpus_i)\n"
   ]
  },
  {
   "cell_type": "code",
   "execution_count": 18,
   "metadata": {},
   "outputs": [
    {
     "data": {
      "text/plain": [
       "3"
      ]
     },
     "execution_count": 18,
     "metadata": {},
     "output_type": "execute_result"
    }
   ],
   "source": [
    "len(corpus)"
   ]
  },
  {
   "cell_type": "code",
   "execution_count": 19,
   "metadata": {},
   "outputs": [],
   "source": [
    "#len(corpus[0]),len(corpus[1]),len(corpus[2])#, len(corpus[3])\n"
   ]
  },
  {
   "cell_type": "code",
   "execution_count": 20,
   "metadata": {},
   "outputs": [
    {
     "data": {
      "text/plain": [
       "'motthaven, you know, tremont shawty sucked out the condom, kissed hubby the mouth, stunting the stun'"
      ]
     },
     "execution_count": 20,
     "metadata": {},
     "output_type": "execute_result"
    }
   ],
   "source": [
    "corpus[0][0:100]"
   ]
  },
  {
   "cell_type": "markdown",
   "metadata": {},
   "source": [
    "## Lematization"
   ]
  },
  {
   "cell_type": "code",
   "execution_count": 21,
   "metadata": {},
   "outputs": [
    {
     "data": {
      "text/plain": [
       "56696"
      ]
     },
     "execution_count": 21,
     "metadata": {},
     "output_type": "execute_result"
    }
   ],
   "source": [
    "def lemmatization(texts, allowed_postags=['NOUN', 'ADJ', 'VERB', 'ADV']):\n",
    "    nlp = spacy.load('en_core_web_sm', disable=['parser', 'ner'])\n",
    "    texts_out = []\n",
    "\n",
    "    for text in texts:\n",
    "        doc = nlp(text)\n",
    "        new_text = []\n",
    "\n",
    "        for token in doc:\n",
    "            if token.pos_ in allowed_postags: #pos = part of speach\n",
    "                new_text.append(token.lemma_)\n",
    "        final = \" \".join(new_text)\n",
    "        texts_out.append(final)\n",
    "        \n",
    "    return texts_out\n",
    "\n",
    "lemmatized_corpus = corpus  #Not activated in this case\n",
    "len(lemmatized_corpus[0])"
   ]
  },
  {
   "cell_type": "code",
   "execution_count": 22,
   "metadata": {},
   "outputs": [
    {
     "data": {
      "text/plain": [
       "56696"
      ]
     },
     "execution_count": 22,
     "metadata": {},
     "output_type": "execute_result"
    }
   ],
   "source": [
    "len(corpus[0])"
   ]
  },
  {
   "cell_type": "markdown",
   "metadata": {},
   "source": [
    "## Removing stop words"
   ]
  },
  {
   "cell_type": "code",
   "execution_count": 23,
   "metadata": {},
   "outputs": [],
   "source": [
    "\n",
    "def gen_words(texts):\n",
    "    final = []\n",
    "    for i,text in enumerate(texts):\n",
    "        new = gensim.utils.simple_preprocess(text, deacc=True) #remove the accent in case there are\n",
    "        final.append(new)\n",
    "    return final\n",
    "\n",
    "data_words = gen_words(lemmatized_corpus)  "
   ]
  },
  {
   "cell_type": "code",
   "execution_count": 24,
   "metadata": {},
   "outputs": [
    {
     "data": {
      "text/plain": [
       "9677"
      ]
     },
     "execution_count": 24,
     "metadata": {},
     "output_type": "execute_result"
    }
   ],
   "source": [
    "len(data_words[0])"
   ]
  },
  {
   "cell_type": "code",
   "execution_count": 25,
   "metadata": {},
   "outputs": [
    {
     "data": {
      "text/plain": [
       "1105"
      ]
     },
     "execution_count": 25,
     "metadata": {},
     "output_type": "execute_result"
    }
   ],
   "source": [
    "# Stopwords removal \n",
    "PATH_DATA = './data/wordclouds/'\n",
    "PATH_STOPWORD = PATH_DATA + 'stopword_list.csv'\n",
    "sw = pd.read_csv(PATH_STOPWORD, header=None)\n",
    "sw_list = list(sw.values.flatten())\n",
    "sw_list =  sw_list[:-2] #remove 2 NaNs at the end of the list\n",
    "\n",
    "# Wordcloud library stopwords\n",
    "stopwords =  list(STOPWORDS) + sw_list\n",
    "\n",
    "# Additionnal handpicked stopwords\n",
    "add_sw = ['//', 'yeah', 'huh', 'yo', 's', 'nt', 'lyric', 'lyrics', 'll','harlem', 'new','york', \n",
    "        'bronx', 'jersey', 'west',\n",
    "       'manhattan', 'brooklyn', 'taten', 'america', 'east', 'Coast',\n",
    "       'long', 'island', 'queensbridge', 'brownsville', 'talk', 'man', 'dont', \n",
    "       'aint', 'fuck', 'nyc', 'yall', 'rap', 'ill', 'wanna', 'gotta', 'staten', 'youre','coast', 'queens', 'nigga', 'niggas',\n",
    "       'city', 'em']\n",
    "stopwords = stopwords + add_sw\n",
    "\n",
    "# Adding default spacy stopword list\n",
    "en = spacy.load('en_core_web_sm')\n",
    "spacy_stopwords = en.Defaults.stop_words\n",
    "stopwords = stopwords + list(spacy_stopwords)\n",
    "len(stopwords)"
   ]
  },
  {
   "cell_type": "code",
   "execution_count": 26,
   "metadata": {},
   "outputs": [
    {
     "data": {
      "text/plain": [
       "[9677, 17035, 20249]"
      ]
     },
     "execution_count": 26,
     "metadata": {},
     "output_type": "execute_result"
    }
   ],
   "source": [
    "a = []\n",
    "for l in data_words:\n",
    "    a.append(len(l))\n",
    "\n",
    "a"
   ]
  },
  {
   "cell_type": "code",
   "execution_count": 27,
   "metadata": {},
   "outputs": [],
   "source": [
    "\n",
    "new_data_words= []\n",
    "\n",
    "for text in data_words:\n",
    "    tokens_without_sw = []\n",
    "    for word in text:\n",
    "        if not word in stopwords:\n",
    "            tokens_without_sw.append(word)\n",
    "    new_data_words.append(tokens_without_sw)\n",
    "    \n",
    "data_words = new_data_words"
   ]
  },
  {
   "cell_type": "code",
   "execution_count": 28,
   "metadata": {},
   "outputs": [
    {
     "data": {
      "text/plain": [
       "[4497, 8560, 9531]"
      ]
     },
     "execution_count": 28,
     "metadata": {},
     "output_type": "execute_result"
    }
   ],
   "source": [
    "a = []\n",
    "for l in new_data_words:\n",
    "    a.append(len(l))\n",
    "\n",
    "a"
   ]
  },
  {
   "cell_type": "markdown",
   "metadata": {},
   "source": [
    "## Bigrams/trigrams"
   ]
  },
  {
   "cell_type": "code",
   "execution_count": 29,
   "metadata": {},
   "outputs": [],
   "source": [
    "from gensim.models.phrases import Phraser\n",
    "from gensim.models import Phrases"
   ]
  },
  {
   "cell_type": "code",
   "execution_count": 30,
   "metadata": {},
   "outputs": [],
   "source": [
    "bigram_phrases = Phrases(data_words, min_count=10, threshold=50)\n",
    "trigram_phrases = Phrases(bigram_phrases[data_words], min_count=100, threshold=100)\n",
    "\n",
    "bigram = Phraser(bigram_phrases)\n",
    "trigram = Phraser(trigram_phrases)\n",
    "\n",
    "#function changing the individual words by their corresponding bigrams and trigrams\n",
    "def make_bigrams(texts):\n",
    "    b = []\n",
    "    for doc in texts:\n",
    "        b.append(bigram[doc])\n",
    "    return b\n",
    "\n",
    "def make_trigrams(texts):\n",
    "    b = []\n",
    "    for doc in texts:\n",
    "        b.append(trigram[bigram[doc]])\n",
    "    return b\n",
    "\n",
    "data_bigrams = make_bigrams(data_words)\n",
    "data_bigrams_trigrams = make_trigrams(data_bigrams)\n",
    "\n",
    "#print(data_bigrams_trigrams[1])"
   ]
  },
  {
   "cell_type": "markdown",
   "metadata": {},
   "source": [
    "## TF-IDF dictionnary"
   ]
  },
  {
   "cell_type": "code",
   "execution_count": 31,
   "metadata": {},
   "outputs": [
    {
     "data": {
      "text/plain": [
       "0"
      ]
     },
     "execution_count": 31,
     "metadata": {},
     "output_type": "execute_result"
    }
   ],
   "source": [
    "from gensim.models import TfidfModel\n",
    "texts = data_bigrams_trigrams\n",
    "\n",
    "id2word = corpora.Dictionary(texts)\n",
    "\n",
    "corpus = [id2word.doc2bow(text) for text in texts]\n",
    "\n",
    "\n",
    "tfidf = TfidfModel(corpus, id2word=id2word)\n",
    "\n",
    "low_value = 0.001 #threshold filtering word wich appears more than this freq in all the docs\n",
    "words = []\n",
    "words_missing_in_tfidf = []\n",
    "#Creating new corpus by removing too frequent words\n",
    "for i in range(0, len(corpus)):\n",
    "    bow = corpus[i]\n",
    "    low_value_words = [] #reinitialize to be safe. You can skip this.\n",
    "    tfidf_ids = [id for id, value in tfidf[bow]]\n",
    "    bow_ids = [id for id, value in bow]\n",
    "    low_value_words = [id for id, value in tfidf[bow] if value < low_value]\n",
    "    drops = low_value_words + words_missing_in_tfidf\n",
    "    \n",
    "    for item in drops:\n",
    "        words.append(id2word[item])\n",
    "    words_missing_in_tfidf = [id for id in bow_ids if id not in tfidf_ids] # The words with tf-idf socre 0 will be missing\n",
    "\n",
    "    new_bow = [b for b in bow if b[0] not in low_value_words and b[0] not in words_missing_in_tfidf]  \n",
    "\n",
    "    #reassign        \n",
    "    corpus[i] = new_bow\n",
    "len(low_value_words)"
   ]
  },
  {
   "cell_type": "markdown",
   "metadata": {},
   "source": [
    "## Bag of word and dictionnary"
   ]
  },
  {
   "cell_type": "markdown",
   "metadata": {},
   "source": [
    "id2word = corpora.Dictionary(data_words)\n",
    "\n",
    "corpus = []\n",
    "\n",
    "for i, text in enumerate(data_words):\n",
    "    new = id2word.doc2bow(text)\n",
    "    corpus.append(new)\n",
    "\n",
    "\n",
    "id2word[[0][:1][0]]"
   ]
  },
  {
   "cell_type": "markdown",
   "metadata": {},
   "source": [
    "len(id2word)"
   ]
  },
  {
   "cell_type": "markdown",
   "metadata": {},
   "source": [
    "## Visualization"
   ]
  },
  {
   "cell_type": "code",
   "execution_count": 32,
   "metadata": {},
   "outputs": [],
   "source": [
    "lda_model = gensim.models.ldamodel.LdaModel(corpus=corpus, id2word=id2word, num_topics=4, random_state=100, \n",
    "update_every=1, chunksize=100, passes=10, alpha=\"auto\")"
   ]
  },
  {
   "cell_type": "code",
   "execution_count": 33,
   "metadata": {},
   "outputs": [
    {
     "name": "stderr",
     "output_type": "stream",
     "text": [
      "/opt/anaconda3/envs/ada/lib/python3.8/site-packages/pyLDAvis/_prepare.py:246: FutureWarning: In a future version of pandas all arguments of DataFrame.drop except for the argument 'labels' will be keyword-only\n",
      "  default_term_info = default_term_info.sort_values(\n",
      "/opt/anaconda3/envs/ada/lib/python3.8/site-packages/past/builtins/misc.py:45: DeprecationWarning: the imp module is deprecated in favour of importlib; see the module's documentation for alternative uses\n",
      "  from imp import reload\n",
      "/opt/anaconda3/envs/ada/lib/python3.8/site-packages/past/builtins/misc.py:45: DeprecationWarning: the imp module is deprecated in favour of importlib; see the module's documentation for alternative uses\n",
      "  from imp import reload\n",
      "/opt/anaconda3/envs/ada/lib/python3.8/site-packages/past/builtins/misc.py:45: DeprecationWarning: the imp module is deprecated in favour of importlib; see the module's documentation for alternative uses\n",
      "  from imp import reload\n",
      "/opt/anaconda3/envs/ada/lib/python3.8/site-packages/past/builtins/misc.py:45: DeprecationWarning: the imp module is deprecated in favour of importlib; see the module's documentation for alternative uses\n",
      "  from imp import reload\n"
     ]
    },
    {
     "data": {
      "text/html": [
       "\n",
       "<link rel=\"stylesheet\" type=\"text/css\" href=\"https://cdn.jsdelivr.net/gh/bmabey/pyLDAvis@3.3.1/pyLDAvis/js/ldavis.v1.0.0.css\">\n",
       "\n",
       "\n",
       "<div id=\"ldavis_el25361405487149561604161394525\"></div>\n",
       "<script type=\"text/javascript\">\n",
       "\n",
       "var ldavis_el25361405487149561604161394525_data = {\"mdsDat\": {\"x\": [-0.10607783864805848, 0.10134682914020225, 0.002323255029317878, 0.002407754478538327], \"y\": [-0.008633044540999642, 0.04592204164838905, -0.018708623005423797, -0.01858037410196561], \"topics\": [1, 2, 3, 4], \"cluster\": [1, 1, 1, 1], \"Freq\": [57.92204244617866, 42.05463277091792, 0.01170496104505537, 0.011619821858362404]}, \"tinfo\": {\"Term\": [\"recording_studios\", \"daddys_house\", \"broadway\", \"combs\", \"recorded\", \"produced\", \"entertainment\", \"brooklyns\", \"sean_puffy\", \"mixed\", \"steve_jones\", \"july\", \"jamaica\", \"yorks\", \"kings\", \"engineers\", \"doug_wilson\", \"god\", \"fork\", \"publishing\", \"post\", \"rasheed_goodlowe\", \"april\", \"hollis\", \"deep\", \"pimp\", \"chi\", \"pick\", \"lane\", \"biggie\", \"recording_studios\", \"daddys_house\", \"combs\", \"entertainment\", \"produced\", \"sean_puffy\", \"steve_jones\", \"july\", \"yorks\", \"engineers\", \"doug_wilson\", \"fork\", \"pimp\", \"rasheed_goodlowe\", \"april\", \"chi\", \"slick\", \"pick\", \"danger\", \"craven\", \"productions\", \"craziest\", \"lynn\", \"montrose\", \"emi\", \"carlos\", \"jm\", \"chalk\", \"running\", \"patterson\", \"recorded\", \"broadway\", \"mixed\", \"post\", \"publishing\", \"lane\", \"michael\", \"ah\", \"john\", \"god\", \"act\", \"hollis\", \"muthafucka\", \"bu\", \"rings\", \"flushing\", \"mos\", \"crooks\", \"za\", \"freaky\", \"county\", \"krs\", \"greens\", \"mans\", \"shut\", \"central\", \"recognize\", \"tooken\", \"legendary\", \"swing\", \"goldieblox\", \"sold\", \"looked\", \"joint\", \"clack\", \"dude\", \"castle\", \"zu\", \"southside\", \"brooklyns\", \"corona\", \"jamaica\", \"uh_uh\", \"fox\", \"kings\", \"flatbush\", \"deep\", \"step\", \"killers\", \"killed\", \"bed_stuy\", \"brown\", \"joe\", \"biggie\", \"nas\", \"doubt\", \"god\", \"damn\", \"piece\", \"cookin\", \"legend\", \"dollars\", \"wife\", \"forever\", \"fiends\", \"pound\", \"bag\", \"crack\", \"jam\", \"actin\", \"aight\", \"aim\", \"air\", \"aiyo\", \"album\", \"americas\", \"apocalypse\", \"apple\", \"art\", \"artist\", \"ass\", \"atlanta\", \"attack\", \"avenue\", \"average\", \"ayo\", \"baby\", \"bad\", \"bad_boy\", \"baddest\", \"bahamas\", \"bail\", \"ball\", \"bands\", \"bar\", \"bars\", \"bastards\", \"battle\", \"bay\", \"recording_studios\", \"god\", \"daddys_house\", \"broadway\", \"produced\", \"entertainment\", \"july\", \"recorded\", \"sean_puffy\", \"combs\", \"mixed\", \"steve_jones\", \"kings\", \"change\", \"brooklyns\", \"ah\", \"biggie\", \"damn\", \"publishing\", \"native\", \"paper\", \"nas\", \"jay\", \"crack\", \"yorks\", \"rapper\", \"joe\", \"lane\", \"piece\", \"mr\", \"deep\", \"actin\", \"aight\", \"aim\", \"air\", \"aiyo\", \"album\", \"americas\", \"apocalypse\", \"apple\", \"art\", \"artist\", \"ass\", \"atlanta\", \"attack\", \"avenue\", \"average\", \"ayo\", \"baby\", \"bad\", \"bad_boy\", \"baddest\", \"bahamas\", \"bail\", \"ball\", \"bands\", \"bar\", \"bars\", \"bastards\", \"battle\", \"bay\", \"recording_studios\", \"daddys_house\", \"broadway\", \"recorded\", \"combs\", \"god\", \"kings\", \"produced\", \"publishing\", \"sean_puffy\", \"july\", \"brooklyns\", \"damn\", \"biggie\", \"entertainment\", \"john\", \"doug_wilson\", \"joe\", \"fork\", \"post\", \"mixed\", \"change\", \"sky\", \"yorker\", \"deep\", \"emi\", \"april\", \"knicks\", \"pick\", \"piece\", \"native\", \"engineers\", \"steve_jones\", \"crack\"], \"Freq\": [46.0, 40.0, 31.0, 21.0, 26.0, 19.0, 19.0, 18.0, 16.0, 20.0, 14.0, 13.0, 14.0, 11.0, 18.0, 11.0, 10.0, 24.0, 9.0, 15.0, 13.0, 9.0, 9.0, 9.0, 15.0, 9.0, 9.0, 8.0, 10.0, 14.0, 46.082935011988006, 40.54337413442486, 21.558807401907792, 19.173203160502318, 19.140399773996254, 15.997173594830452, 14.42117708530708, 12.801877651074317, 11.271003157276342, 11.275024858275325, 10.486027031974443, 9.687779535598402, 9.736555074114483, 8.89188563456708, 8.903474366636628, 8.930066360694351, 8.130109580838116, 8.115375185831, 8.153836082656252, 7.317972238590664, 7.323326163369676, 7.328505687944757, 7.317851934746285, 7.3157171470648334, 7.317189859898028, 7.311472601360827, 6.534901193294205, 6.530210958180152, 6.5290523271957035, 6.541400023115691, 25.52909263706572, 29.471189631854944, 19.19958442098029, 12.887641373582454, 13.645217289066746, 9.680135800734444, 8.89647898067895, 8.877409610232455, 8.115803919665664, 11.245656186896682, 7.368510349538139, 9.002458815110922, 6.79339577867566, 6.0554682047648996, 6.066126920212725, 5.329126751859024, 5.321359876874521, 4.59096908522946, 4.592908605637509, 4.59145653005923, 4.595781686949235, 4.587046663875297, 4.587205823552125, 4.587943878922756, 4.58364715387189, 3.851218942496387, 3.8576999362612887, 3.8579587539309736, 3.850013373894558, 3.854421188296285, 3.862385913707785, 3.8591109761954496, 3.8568396532935356, 3.856934621498494, 3.857630761889776, 3.855646395384942, 3.853570871127818, 3.8534228496972505, 3.850471800661701, 17.046901827544215, 3.117153408920588, 13.412139166198536, 8.268540423630458, 6.796148684172469, 14.13758017982777, 6.789998027342715, 11.937547916215838, 8.261978237912553, 6.050859315706996, 6.062946071570117, 7.525654571463306, 7.52573019429318, 10.47415705218332, 10.459685539173474, 8.260679166664485, 6.7939063793331815, 13.38760571325103, 9.723858990241538, 8.274345794826138, 6.056144706669354, 5.33031619931495, 5.329457968129403, 5.3327408196588175, 5.32331375975801, 6.802746043299619, 6.790753669417969, 6.063001176577933, 6.798096118597598, 5.331625822585791, 0.00018734213555294545, 0.00018734213555294545, 0.00018734213555294545, 0.00018734213555294545, 0.00018734213555294545, 0.00018734213555294545, 0.00018734213555294545, 0.00018734213555294545, 0.00018734213555294545, 0.00018734213555294545, 0.00018734213555294545, 0.00018734213555294545, 0.00018734213555294545, 0.00018734213555294545, 0.00018734213555294545, 0.00018734213555294545, 0.00018734213555294545, 0.00018734213555294545, 0.00018734213555294545, 0.00018734213555294545, 0.00018734213555294545, 0.00018734213555294545, 0.00018734213555294545, 0.00018734213555294545, 0.00018734213555294545, 0.00018734213555294545, 0.00018734213555294545, 0.00018734213555294545, 0.00018734213555294545, 0.00018734213555294545, 0.0005082053822883948, 0.00042766884486267453, 0.00046381916677821144, 0.00041331159797189956, 0.00036441305242250515, 0.00034707540464723165, 0.00032203630080487167, 0.00035507646715913024, 0.00032360934681409343, 0.0003348715918255844, 0.00032996438905812233, 0.0003130808622563129, 0.00031808384118884214, 0.00028521938004370925, 0.0003080535313772141, 0.0002832860312806378, 0.00029529502852972925, 0.0002948444767276636, 0.0002940997640165765, 0.0002776502280615442, 0.0002694984241450434, 0.0002740820152406311, 0.0002699098374333177, 0.00027523958930381705, 0.0002734676078784824, 0.0002721727328904173, 0.00028021379051724283, 0.00026956226132491146, 0.0002718965606052437, 0.00025421863822648177, 0.000271164125843767, 0.0001908895718453453, 0.0001908895718453453, 0.0001908895718453453, 0.0001908895718453453, 0.0001908895718453453, 0.0001908895718453453, 0.0001908895718453453, 0.0001908895718453453, 0.0001908895718453453, 0.0001908895718453453, 0.0001908895718453453, 0.0001908895718453453, 0.0001908895718453453, 0.0001908895718453453, 0.0001908895718453453, 0.0001908895718453453, 0.0001908895718453453, 0.0001908895718453453, 0.0001908895718453453, 0.0001908895718453453, 0.0001908895718453453, 0.0001908895718453453, 0.0001908895718453453, 0.0001908895718453453, 0.0001908895718453453, 0.0001908895718453453, 0.0001908895718453453, 0.0001908895718453453, 0.0001908895718453453, 0.0001908895718453453, 0.0003245423509535348, 0.00030177627465578023, 0.0002727779955505282, 0.00024981414739018426, 0.00024488120934458514, 0.0002455676809867937, 0.00023699989533644235, 0.00023755686771236074, 0.00022957211221712035, 0.00022996611717678348, 0.00022619466363868866, 0.00022885573588193024, 0.00022641061723066021, 0.00022377475239619463, 0.0002241276966128877, 0.00021743196094071778, 0.00021819243505607987, 0.0002200846914551114, 0.0002170135179550365, 0.00021914725930545048, 0.00022160879820452557, 0.00021566979096850202, 0.00021617274457605553, 0.00021454653263591265, 0.00021850774025838373, 0.00021385817803063893, 0.00021485151191172997, 0.00021391152865081941, 0.00021396020223370896, 0.00021666269966438479, 0.00021551482108354513, 0.00021561318059505814, 0.00021652554706434585, 0.000215020877353024], \"Total\": [46.0, 40.0, 31.0, 21.0, 26.0, 19.0, 19.0, 18.0, 16.0, 20.0, 14.0, 13.0, 14.0, 11.0, 18.0, 11.0, 10.0, 24.0, 9.0, 15.0, 13.0, 9.0, 9.0, 9.0, 15.0, 9.0, 9.0, 8.0, 10.0, 14.0, 46.32244123322334, 40.790185678182254, 21.77946955787992, 19.387428038497433, 19.354856493466425, 16.20519670034183, 14.629624151466606, 13.00919216373508, 11.4725753120194, 11.480649728524726, 10.685642164901756, 9.885138520684722, 9.937355742364026, 9.090319022877193, 9.10374461824717, 9.132360010106115, 8.32774489610488, 8.315736264660998, 8.359140175419547, 7.511850262627633, 7.518485059825206, 7.524121722261351, 7.513848437231718, 7.511785221768283, 7.513900202221098, 7.509127295017619, 6.728355754037095, 6.723844855073776, 6.722656822645772, 6.73697574920167, 26.495263595763806, 31.154565903989685, 20.14953614352886, 13.82516992138917, 15.319389672082226, 10.618475022029193, 9.829055905166323, 9.80444061114483, 9.778416857309345, 24.633935136673564, 11.978811679606547, 9.222816614951036, 7.011731243525318, 6.266812040025744, 6.280405302584741, 5.5423093232529625, 5.534647057190787, 4.79924601985898, 4.802134029281576, 4.800923912721173, 4.806565843127571, 4.798302537736935, 4.79850140881077, 4.801074387558823, 4.797398564409487, 4.057138284156338, 4.064966719972538, 4.065379021961496, 4.057021345801323, 4.062093498283322, 4.071037787475861, 4.067903159727438, 4.065944133832937, 4.066671214704878, 4.067520095771169, 4.065453918991046, 4.063321561657364, 4.063479312869721, 4.06071425896753, 18.084799913715738, 3.322742211868508, 14.431553082836968, 9.281319120230945, 7.800562997138501, 18.29689221540376, 7.798758838394793, 15.339655836059467, 10.071514285568192, 7.05071722367208, 7.072893127907643, 9.322696348293698, 9.335699199096217, 14.644247704061444, 14.625465235065455, 10.83332872677763, 8.600863304363793, 24.633935136673564, 15.482124255804042, 13.230863453013257, 7.846710288251826, 6.327170774123255, 6.3305055830011945, 6.339512509911444, 6.322543774569451, 10.17632903399866, 10.162649231025277, 8.645596959697, 11.745538189599, 7.122198639978689, 0.3858496779466566, 0.3858496779466566, 0.3858496779466566, 0.3858496779466566, 0.3858496779466566, 0.3858496779466566, 0.3858496779466566, 0.3858496779466566, 0.3858496779466566, 0.3858496779466566, 0.3858496779466566, 0.3858496779466566, 0.3858496779466566, 0.3858496779466566, 0.3858496779466566, 0.3858496779466566, 0.3858496779466566, 0.3858496779466566, 0.3858496779466566, 0.3858496779466566, 0.3858496779466566, 0.3858496779466566, 0.3858496779466566, 0.3858496779466566, 0.3858496779466566, 0.3858496779466566, 0.3858496779466566, 0.3858496779466566, 0.3858496779466566, 0.3858496779466566, 46.32244123322334, 24.633935136673564, 40.790185678182254, 31.154565903989685, 19.354856493466425, 19.387428038497433, 13.00919216373508, 26.495263595763806, 16.20519670034183, 21.77946955787992, 20.14953614352886, 14.629624151466606, 18.29689221540376, 9.567238314626193, 18.084799913715738, 9.80444061114483, 14.625465235065455, 15.482124255804042, 15.319389672082226, 11.175563220237196, 8.904241420154804, 10.83332872677763, 9.476245076736706, 11.745538189599, 11.4725753120194, 11.070903540515507, 14.644247704061444, 10.618475022029193, 13.230863453013257, 7.208109531558115, 15.339655836059467, 0.3858496779466566, 0.3858496779466566, 0.3858496779466566, 0.3858496779466566, 0.3858496779466566, 0.3858496779466566, 0.3858496779466566, 0.3858496779466566, 0.3858496779466566, 0.3858496779466566, 0.3858496779466566, 0.3858496779466566, 0.3858496779466566, 0.3858496779466566, 0.3858496779466566, 0.3858496779466566, 0.3858496779466566, 0.3858496779466566, 0.3858496779466566, 0.3858496779466566, 0.3858496779466566, 0.3858496779466566, 0.3858496779466566, 0.3858496779466566, 0.3858496779466566, 0.3858496779466566, 0.3858496779466566, 0.3858496779466566, 0.3858496779466566, 0.3858496779466566, 46.32244123322334, 40.790185678182254, 31.154565903989685, 26.495263595763806, 21.77946955787992, 24.633935136673564, 18.29689221540376, 19.354856493466425, 15.319389672082226, 16.20519670034183, 13.00919216373508, 18.084799913715738, 15.482124255804042, 14.625465235065455, 19.387428038497433, 9.778416857309345, 10.685642164901756, 14.644247704061444, 9.885138520684722, 13.82516992138917, 20.14953614352886, 9.567238314626193, 10.467000078906345, 8.24220452315892, 15.339655836059467, 7.513900202221098, 9.10374461824717, 8.127739532458907, 8.315736264660998, 13.230863453013257, 11.175563220237196, 11.480649728524726, 14.629624151466606, 11.745538189599], \"Category\": [\"Default\", \"Default\", \"Default\", \"Default\", \"Default\", \"Default\", \"Default\", \"Default\", \"Default\", \"Default\", \"Default\", \"Default\", \"Default\", \"Default\", \"Default\", \"Default\", \"Default\", \"Default\", \"Default\", \"Default\", \"Default\", \"Default\", \"Default\", \"Default\", \"Default\", \"Default\", \"Default\", \"Default\", \"Default\", \"Default\", \"Topic1\", \"Topic1\", \"Topic1\", \"Topic1\", \"Topic1\", \"Topic1\", \"Topic1\", \"Topic1\", \"Topic1\", \"Topic1\", \"Topic1\", \"Topic1\", \"Topic1\", \"Topic1\", \"Topic1\", \"Topic1\", \"Topic1\", \"Topic1\", \"Topic1\", \"Topic1\", \"Topic1\", \"Topic1\", \"Topic1\", \"Topic1\", \"Topic1\", \"Topic1\", \"Topic1\", \"Topic1\", \"Topic1\", \"Topic1\", \"Topic1\", \"Topic1\", \"Topic1\", \"Topic1\", \"Topic1\", \"Topic1\", \"Topic1\", \"Topic1\", \"Topic1\", \"Topic1\", \"Topic1\", \"Topic2\", \"Topic2\", \"Topic2\", \"Topic2\", \"Topic2\", \"Topic2\", \"Topic2\", \"Topic2\", \"Topic2\", \"Topic2\", \"Topic2\", \"Topic2\", \"Topic2\", \"Topic2\", \"Topic2\", \"Topic2\", \"Topic2\", \"Topic2\", \"Topic2\", \"Topic2\", \"Topic2\", \"Topic2\", \"Topic2\", \"Topic2\", \"Topic2\", \"Topic2\", \"Topic2\", \"Topic2\", \"Topic2\", \"Topic2\", \"Topic2\", \"Topic2\", \"Topic2\", \"Topic2\", \"Topic2\", \"Topic2\", \"Topic2\", \"Topic2\", \"Topic2\", \"Topic2\", \"Topic2\", \"Topic2\", \"Topic2\", \"Topic2\", \"Topic2\", \"Topic2\", \"Topic2\", \"Topic2\", \"Topic2\", \"Topic2\", \"Topic2\", \"Topic2\", \"Topic2\", \"Topic2\", \"Topic2\", \"Topic2\", \"Topic2\", \"Topic2\", \"Topic3\", \"Topic3\", \"Topic3\", \"Topic3\", \"Topic3\", \"Topic3\", \"Topic3\", \"Topic3\", \"Topic3\", \"Topic3\", \"Topic3\", \"Topic3\", \"Topic3\", \"Topic3\", \"Topic3\", \"Topic3\", \"Topic3\", \"Topic3\", \"Topic3\", \"Topic3\", \"Topic3\", \"Topic3\", \"Topic3\", \"Topic3\", \"Topic3\", \"Topic3\", \"Topic3\", \"Topic3\", \"Topic3\", \"Topic3\", \"Topic3\", \"Topic3\", \"Topic3\", \"Topic3\", \"Topic3\", \"Topic3\", \"Topic3\", \"Topic3\", \"Topic3\", \"Topic3\", \"Topic3\", \"Topic3\", \"Topic3\", \"Topic3\", \"Topic3\", \"Topic3\", \"Topic3\", \"Topic3\", \"Topic3\", \"Topic3\", \"Topic3\", \"Topic3\", \"Topic3\", \"Topic3\", \"Topic3\", \"Topic3\", \"Topic3\", \"Topic3\", \"Topic3\", \"Topic3\", \"Topic3\", \"Topic4\", \"Topic4\", \"Topic4\", \"Topic4\", \"Topic4\", \"Topic4\", \"Topic4\", \"Topic4\", \"Topic4\", \"Topic4\", \"Topic4\", \"Topic4\", \"Topic4\", \"Topic4\", \"Topic4\", \"Topic4\", \"Topic4\", \"Topic4\", \"Topic4\", \"Topic4\", \"Topic4\", \"Topic4\", \"Topic4\", \"Topic4\", \"Topic4\", \"Topic4\", \"Topic4\", \"Topic4\", \"Topic4\", \"Topic4\", \"Topic4\", \"Topic4\", \"Topic4\", \"Topic4\", \"Topic4\", \"Topic4\", \"Topic4\", \"Topic4\", \"Topic4\", \"Topic4\", \"Topic4\", \"Topic4\", \"Topic4\", \"Topic4\", \"Topic4\", \"Topic4\", \"Topic4\", \"Topic4\", \"Topic4\", \"Topic4\", \"Topic4\", \"Topic4\", \"Topic4\", \"Topic4\", \"Topic4\", \"Topic4\", \"Topic4\", \"Topic4\", \"Topic4\", \"Topic4\", \"Topic4\", \"Topic4\", \"Topic4\", \"Topic4\"], \"logprob\": [30.0, 29.0, 28.0, 27.0, 26.0, 25.0, 24.0, 23.0, 22.0, 21.0, 20.0, 19.0, 18.0, 17.0, 16.0, 15.0, 14.0, 13.0, 12.0, 11.0, 10.0, 9.0, 8.0, 7.0, 6.0, 5.0, 4.0, 3.0, 2.0, 1.0, -5.014, -5.142, -5.7736, -5.8909, -5.8926, -6.072, -6.1757, -6.2948, -6.4222, -6.4218, -6.4944, -6.5736, -6.5685, -6.6593, -6.658, -6.655, -6.7488, -6.7507, -6.7459, -6.8541, -6.8534, -6.8526, -6.8541, -6.8544, -6.8542, -6.855, -6.9673, -6.968, -6.9682, -6.9663, -5.6046, -5.461, -5.8895, -6.2882, -6.231, -6.5743, -6.6588, -6.6609, -6.7506, -6.4244, -6.8472, -6.3268, -6.6083, -6.7233, -6.7216, -6.8511, -6.8526, -7.0002, -6.9998, -7.0001, -6.9992, -7.0011, -7.001, -7.0009, -7.0018, -7.1759, -7.1742, -7.1742, -7.1762, -7.1751, -7.173, -7.1739, -7.1744, -7.1744, -7.1742, -7.1748, -7.1753, -7.1753, -7.1761, -5.6883, -7.3874, -5.9281, -6.4118, -6.6079, -5.8755, -6.6088, -6.0446, -6.4126, -6.7241, -6.7221, -6.506, -6.506, -6.1754, -6.1768, -6.4128, -6.6083, -5.93, -6.2497, -6.4111, -6.7232, -6.8509, -6.851, -6.8504, -6.8522, -6.607, -6.6087, -6.7221, -6.6076, -6.8506, -8.9202, -8.9202, -8.9202, -8.9202, -8.9202, -8.9202, -8.9202, -8.9202, -8.9202, -8.9202, -8.9202, -8.9202, -8.9202, -8.9202, -8.9202, -8.9202, -8.9202, -8.9202, -8.9202, -8.9202, -8.9202, -8.9202, -8.9202, -8.9202, -8.9202, -8.9202, -8.9202, -8.9202, -8.9202, -8.9202, -7.9222, -8.0947, -8.0136, -8.1289, -8.2548, -8.3035, -8.3784, -8.2808, -8.3736, -8.3393, -8.3541, -8.4066, -8.3908, -8.4998, -8.4228, -8.5066, -8.4651, -8.4666, -8.4692, -8.5267, -8.5565, -8.5397, -8.555, -8.5354, -8.5419, -8.5467, -8.5175, -8.5563, -8.5477, -8.6149, -8.5504, -8.8941, -8.8941, -8.8941, -8.8941, -8.8941, -8.8941, -8.8941, -8.8941, -8.8941, -8.8941, -8.8941, -8.8941, -8.8941, -8.8941, -8.8941, -8.8941, -8.8941, -8.8941, -8.8941, -8.8941, -8.8941, -8.8941, -8.8941, -8.8941, -8.8941, -8.8941, -8.8941, -8.8941, -8.8941, -8.8941, -8.3634, -8.4361, -8.5371, -8.6251, -8.645, -8.6422, -8.6777, -8.6754, -8.7096, -8.7079, -8.7244, -8.7127, -8.7234, -8.7352, -8.7336, -8.7639, -8.7604, -8.7518, -8.7658, -8.756, -8.7449, -8.772, -8.7697, -8.7773, -8.759, -8.7805, -8.7758, -8.7802, -8.78, -8.7674, -8.7728, -8.7723, -8.7681, -8.7751], \"loglift\": [30.0, 29.0, 28.0, 27.0, 26.0, 25.0, 24.0, 23.0, 22.0, 21.0, 20.0, 19.0, 18.0, 17.0, 16.0, 15.0, 14.0, 13.0, 12.0, 11.0, 10.0, 9.0, 8.0, 7.0, 6.0, 5.0, 4.0, 3.0, 2.0, 1.0, 0.5409, 0.54, 0.5359, 0.535, 0.5349, 0.5332, 0.5317, 0.53, 0.5283, 0.528, 0.5272, 0.5259, 0.5257, 0.524, 0.5238, 0.5237, 0.5221, 0.5217, 0.5212, 0.5199, 0.5198, 0.5197, 0.5196, 0.5196, 0.5195, 0.5194, 0.5169, 0.5169, 0.5169, 0.5166, 0.5089, 0.4905, 0.4978, 0.4759, 0.4303, 0.4536, 0.4464, 0.4467, 0.3597, -0.2381, 0.0601, 0.842, 0.8346, 0.8319, 0.8315, 0.827, 0.8269, 0.8218, 0.8217, 0.8216, 0.8214, 0.8212, 0.8212, 0.8208, 0.8206, 0.8141, 0.8139, 0.8138, 0.8138, 0.8137, 0.8136, 0.8135, 0.8134, 0.8132, 0.8132, 0.8132, 0.8132, 0.8131, 0.813, 0.8071, 0.8023, 0.7929, 0.7507, 0.7284, 0.6083, 0.7277, 0.6154, 0.6682, 0.7133, 0.7121, 0.6521, 0.6507, 0.5311, 0.531, 0.5951, 0.6304, 0.2564, 0.4011, 0.3968, 0.6072, 0.6948, 0.6941, 0.6933, 0.6942, 0.4635, 0.463, 0.5114, 0.3194, 0.5766, 1.4226, 1.4226, 1.4226, 1.4226, 1.4226, 1.4226, 1.4226, 1.4226, 1.4226, 1.4226, 1.4226, 1.4226, 1.4226, 1.4226, 1.4226, 1.4226, 1.4226, 1.4226, 1.4226, 1.4226, 1.4226, 1.4226, 1.4226, 1.4226, 1.4226, 1.4226, 1.4226, 1.4226, 1.4226, 1.4226, -2.3673, -1.9084, -2.3315, -2.1774, -1.8273, -1.8777, -1.5536, -2.1672, -1.7684, -2.0298, -1.9668, -1.6992, -1.907, -1.3677, -1.9274, -1.399, -1.7574, -1.8158, -1.8078, -1.55, -1.3526, -1.5318, -1.4133, -1.6084, -1.5914, -1.5605, -1.8111, -1.5284, -1.7397, -1.1996, -1.8903, 1.4487, 1.4487, 1.4487, 1.4487, 1.4487, 1.4487, 1.4487, 1.4487, 1.4487, 1.4487, 1.4487, 1.4487, 1.4487, 1.4487, 1.4487, 1.4487, 1.4487, 1.4487, 1.4487, 1.4487, 1.4487, 1.4487, 1.4487, 1.4487, 1.4487, 1.4487, 1.4487, 1.4487, 1.4487, 1.4487, -2.8085, -2.7541, -2.5856, -2.5115, -2.3355, -2.4558, -2.194, -2.2478, -2.0482, -2.1027, -1.8996, -2.2173, -2.0726, -2.0274, -2.3077, -1.6536, -1.7388, -2.0453, -1.6664, -1.992, -2.3576, -1.6399, -1.7274, -1.496, -2.0989, -1.4067, -1.594, -1.485, -1.5077, -1.9595, -1.796, -1.8225, -2.0606, -1.848]}, \"token.table\": {\"Topic\": [1, 2, 1, 2, 1, 1, 2, 1, 2, 1, 2, 1, 2, 1, 2, 1, 2, 2, 1, 2, 2, 1, 1, 2, 1, 2, 1, 1, 2, 2, 2, 1, 2, 1, 1, 2, 1, 1, 2, 1, 1, 2, 1, 2, 1, 2, 1, 2, 1, 1, 1, 1, 2, 1, 2, 2, 1, 2, 1, 1, 2, 2, 1, 2, 2, 2, 2, 1, 2, 1, 2, 1, 2, 1, 1, 2, 1, 2, 2, 1, 1, 2, 1, 2, 1, 2, 1, 2, 2, 1, 2, 1, 2, 2, 2, 1, 2, 1, 2, 1, 2, 1, 2, 1, 2, 2, 1, 2, 1, 2, 1, 2, 1, 1, 1, 2, 1, 1, 2, 1, 2, 1, 1, 1, 2, 1, 2, 1, 2, 1, 2, 1, 2, 1, 1, 2, 1, 2, 1, 2, 2, 1, 2, 1, 2, 2, 1, 2, 1, 2, 1, 2, 1, 2, 2], \"Freq\": [0.5843651429897027, 0.4174036735640733, 0.9179514015077604, 0.10199460016752894, 0.9886041818397203, 0.3469974385788555, 0.693994877157711, 0.21453020942444975, 0.858120837697799, 0.2734955733517285, 0.6837389333793213, 0.9308426921874149, 0.0641960477370631, 0.055295054674151384, 0.9400159294605736, 0.21423140970454776, 0.8569256388181911, 0.9574245982930982, 0.932198872783069, 0.984416305552855, 0.9859166042282881, 1.0410710167885326, 0.627140226122237, 0.41809348408149133, 0.9855064835420809, 0.9834001813927443, 1.0101256112566934, 0.2548838846509244, 0.7646516539527731, 0.9028687176767115, 1.0402437339226303, 0.4256935628907698, 0.5959709880470777, 0.9318609603849333, 0.9303411425800501, 1.041830316535204, 1.0051437452006984, 0.38754371821752304, 0.645906197029205, 0.9570362300568166, 0.195571532507776, 0.782286130031104, 0.15796526626328564, 0.7898263313164282, 0.23253479670875205, 0.8138717884806321, 0.9358351932133917, 0.9838999727225318, 0.9316067304075731, 0.9581339262245316, 0.9800165324803207, 0.2948017885405566, 0.6878708399279655, 0.12822553187268815, 0.8975787231088171, 0.9021510183530025, 0.15816418765216023, 0.7908209382608011, 1.0116196125198378, 0.1281958751396319, 0.8973711259774233, 1.0414662033595925, 0.446538481934372, 0.5277272968315305, 0.9825504475309953, 1.0419919833344735, 0.9758407193535834, 0.28081216224067357, 0.7020304056016838, 0.0692926114230402, 0.9008039484995226, 0.42210812063310027, 0.5276351507913754, 1.0403730503994109, 0.27314479246964923, 0.682861981174123, 0.8181283449805086, 0.20453208624512714, 0.9836054573421626, 0.9992934101042259, 0.14138485933772726, 0.8483091560263636, 0.14182954276518137, 0.8509772565910881, 0.218616361342091, 0.7651572646973185, 0.7382126329268335, 0.2460708776422778, 1.042035169870342, 0.9417548168879148, 0.09417548168879149, 0.15804852369241895, 0.7902426184620948, 0.9859450219900037, 0.9837813477848325, 0.9316131485051578, 1.0414335618203832, 0.9156525394539107, 0.10173917105043452, 0.9429497465678365, 0.049628934029886135, 0.9318690289113714, 0.9033999726330956, 0.4161978930627481, 0.5549305240836642, 0.998326911982522, 0.27692319467650356, 0.7384618524706762, 0.6263666413988063, 0.35792379508503214, 0.7861422068089324, 0.2246120590882664, 1.0390418877238052, 0.962031472065466, 0.37790428551821215, 0.6046468568291394, 1.0063039161785177, 0.9403139400035485, 0.07233184153873451, 0.2951986171914092, 0.6887967734466215, 0.981665764683597, 0.9310386260397436, 0.9138745276199445, 0.13055350394570636, 0.5419611848339358, 0.4516343206949466, 0.9900642625797961, 0.9840178962220442, 0.9813074667487742, 0.03774259487495286, 0.9930392003392068, 0.9553523556084289, 1.0412549955577053, 0.9873375989112492, 1.0422315204522623, 0.668768505515422, 0.2866150737923237, 0.9606442199906753, 0.9833075771321981, 0.9850483793993998, 0.1985798702451196, 0.7943194809804784, 0.9569623836574443, 0.9847139170209737, 0.9839180992452824, 0.10774330534764731, 0.8619464427811785, 0.15774083550376478, 0.7887041775188238, 0.8492873454342734, 0.12132676363346763, 0.958808262385142, 1.0412037584773588, 0.984378088829277], \"Term\": [\"act\", \"act\", \"ah\", \"ah\", \"april\", \"bag\", \"bag\", \"bed_stuy\", \"bed_stuy\", \"biggie\", \"biggie\", \"broadway\", \"broadway\", \"brooklyns\", \"brooklyns\", \"brown\", \"brown\", \"bu\", \"carlos\", \"castle\", \"central\", \"chalk\", \"change\", \"change\", \"chi\", \"clack\", \"combs\", \"cookin\", \"cookin\", \"corona\", \"county\", \"crack\", \"crack\", \"craven\", \"craziest\", \"crooks\", \"daddys_house\", \"damn\", \"damn\", \"danger\", \"deep\", \"deep\", \"dollars\", \"dollars\", \"doubt\", \"doubt\", \"doug_wilson\", \"dude\", \"emi\", \"engineers\", \"entertainment\", \"fiends\", \"fiends\", \"flatbush\", \"flatbush\", \"flushing\", \"forever\", \"forever\", \"fork\", \"fox\", \"fox\", \"freaky\", \"god\", \"god\", \"goldieblox\", \"greens\", \"hollis\", \"jam\", \"jam\", \"jamaica\", \"jamaica\", \"jay\", \"jay\", \"jm\", \"joe\", \"joe\", \"john\", \"john\", \"joint\", \"july\", \"killed\", \"killed\", \"killers\", \"killers\", \"kings\", \"kings\", \"knicks\", \"knicks\", \"krs\", \"lane\", \"lane\", \"legend\", \"legend\", \"legendary\", \"looked\", \"lynn\", \"mans\", \"michael\", \"michael\", \"mixed\", \"mixed\", \"montrose\", \"mos\", \"mr\", \"mr\", \"muthafucka\", \"nas\", \"nas\", \"native\", \"native\", \"paper\", \"paper\", \"patterson\", \"pick\", \"piece\", \"piece\", \"pimp\", \"post\", \"post\", \"pound\", \"pound\", \"produced\", \"productions\", \"publishing\", \"publishing\", \"rapper\", \"rapper\", \"rasheed_goodlowe\", \"recognize\", \"recorded\", \"recorded\", \"recording_studios\", \"rings\", \"running\", \"sean_puffy\", \"shut\", \"sky\", \"sky\", \"slick\", \"sold\", \"southside\", \"step\", \"step\", \"steve_jones\", \"swing\", \"tooken\", \"uh_uh\", \"uh_uh\", \"wife\", \"wife\", \"yorker\", \"yorker\", \"yorks\", \"za\", \"zu\"]}, \"R\": 30, \"lambda.step\": 0.01, \"plot.opts\": {\"xlab\": \"PC1\", \"ylab\": \"PC2\"}, \"topic.order\": [4, 1, 2, 3]};\n",
       "\n",
       "function LDAvis_load_lib(url, callback){\n",
       "  var s = document.createElement('script');\n",
       "  s.src = url;\n",
       "  s.async = true;\n",
       "  s.onreadystatechange = s.onload = callback;\n",
       "  s.onerror = function(){console.warn(\"failed to load library \" + url);};\n",
       "  document.getElementsByTagName(\"head\")[0].appendChild(s);\n",
       "}\n",
       "\n",
       "if(typeof(LDAvis) !== \"undefined\"){\n",
       "   // already loaded: just create the visualization\n",
       "   !function(LDAvis){\n",
       "       new LDAvis(\"#\" + \"ldavis_el25361405487149561604161394525\", ldavis_el25361405487149561604161394525_data);\n",
       "   }(LDAvis);\n",
       "}else if(typeof define === \"function\" && define.amd){\n",
       "   // require.js is available: use it to load d3/LDAvis\n",
       "   require.config({paths: {d3: \"https://d3js.org/d3.v5\"}});\n",
       "   require([\"d3\"], function(d3){\n",
       "      window.d3 = d3;\n",
       "      LDAvis_load_lib(\"https://cdn.jsdelivr.net/gh/bmabey/pyLDAvis@3.3.1/pyLDAvis/js/ldavis.v3.0.0.js\", function(){\n",
       "        new LDAvis(\"#\" + \"ldavis_el25361405487149561604161394525\", ldavis_el25361405487149561604161394525_data);\n",
       "      });\n",
       "    });\n",
       "}else{\n",
       "    // require.js not available: dynamically load d3 & LDAvis\n",
       "    LDAvis_load_lib(\"https://d3js.org/d3.v5.js\", function(){\n",
       "         LDAvis_load_lib(\"https://cdn.jsdelivr.net/gh/bmabey/pyLDAvis@3.3.1/pyLDAvis/js/ldavis.v3.0.0.js\", function(){\n",
       "                 new LDAvis(\"#\" + \"ldavis_el25361405487149561604161394525\", ldavis_el25361405487149561604161394525_data);\n",
       "            })\n",
       "         });\n",
       "}\n",
       "</script>"
      ],
      "text/plain": [
       "PreparedData(topic_coordinates=              x         y  topics  cluster       Freq\n",
       "topic                                                \n",
       "3     -0.106078 -0.008633       1        1  57.922042\n",
       "0      0.101347  0.045922       2        1  42.054633\n",
       "1      0.002323 -0.018709       3        1   0.011705\n",
       "2      0.002408 -0.018580       4        1   0.011620, topic_info=                   Term       Freq      Total Category  logprob  loglift\n",
       "4287  recording_studios  46.000000  46.000000  Default  30.0000  30.0000\n",
       "2953       daddys_house  40.000000  40.000000  Default  29.0000  29.0000\n",
       "2644           broadway  31.000000  31.000000  Default  28.0000  28.0000\n",
       "2841              combs  21.000000  21.000000  Default  27.0000  27.0000\n",
       "4286           recorded  26.000000  26.000000  Default  26.0000  26.0000\n",
       "...                 ...        ...        ...      ...      ...      ...\n",
       "4125              piece   0.000217  13.230863   Topic4  -8.7674  -1.9595\n",
       "3973             native   0.000216  11.175563   Topic4  -8.7728  -1.7960\n",
       "3134          engineers   0.000216  11.480650   Topic4  -8.7723  -1.8225\n",
       "4641        steve_jones   0.000217  14.629624   Topic4  -8.7681  -2.0606\n",
       "2910              crack   0.000215  11.745538   Topic4  -8.7751  -1.8480\n",
       "\n",
       "[254 rows x 6 columns], token_table=      Topic      Freq    Term\n",
       "term                         \n",
       "5         1  0.584365     act\n",
       "5         2  0.417404     act\n",
       "2360      1  0.917951      ah\n",
       "2360      2  0.101995      ah\n",
       "2417      1  0.988604   april\n",
       "...     ...       ...     ...\n",
       "5024      1  0.849287  yorker\n",
       "5024      2  0.121327  yorker\n",
       "5027      1  0.958808   yorks\n",
       "7174      2  1.041204      za\n",
       "7178      2  0.984378      zu\n",
       "\n",
       "[155 rows x 3 columns], R=30, lambda_step=0.01, plot_opts={'xlab': 'PC1', 'ylab': 'PC2'}, topic_order=[4, 1, 2, 3])"
      ]
     },
     "execution_count": 33,
     "metadata": {},
     "output_type": "execute_result"
    }
   ],
   "source": [
    "pyLDAvis.enable_notebook()\n",
    "vis = pyLDAvis.gensim_models.prepare(lda_model, corpus, id2word, mds=\"mmds\", R=30)\n",
    "vis"
   ]
  },
  {
   "cell_type": "code",
   "execution_count": null,
   "metadata": {},
   "outputs": [],
   "source": []
  }
 ],
 "metadata": {
  "interpreter": {
   "hash": "2ddbd0b842a978e03471eb3a4ae18fdd24eb8ad76bdab23b363108c4c8f6a59c"
  },
  "kernelspec": {
   "display_name": "Python 3.8.11 64-bit ('ada': conda)",
   "name": "python3"
  },
  "language_info": {
   "codemirror_mode": {
    "name": "ipython",
    "version": 3
   },
   "file_extension": ".py",
   "mimetype": "text/x-python",
   "name": "python",
   "nbconvert_exporter": "python",
   "pygments_lexer": "ipython3",
   "version": "3.8.11"
  },
  "orig_nbformat": 4
 },
 "nbformat": 4,
 "nbformat_minor": 2
}
