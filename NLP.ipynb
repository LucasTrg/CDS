{
 "cells": [
  {
   "cell_type": "code",
   "execution_count": 2,
   "metadata": {},
   "outputs": [],
   "source": [
    "import pandas as pd\n",
    "import spacy\n",
    "from spacy import displacy\n",
    "import nltk\n",
    "import matplotlib.pyplot as plt\n",
    "import seaborn as sns"
   ]
  },
  {
   "cell_type": "code",
   "execution_count": 3,
   "metadata": {},
   "outputs": [],
   "source": [
    "plt.rcParams['figure.figsize'] = 15,8\n",
    "sns.set(rc={'figure.figsize':(15,8)})"
   ]
  },
  {
   "cell_type": "code",
   "execution_count": 4,
   "metadata": {},
   "outputs": [],
   "source": [
    "df = pd.read_csv(\"data/lyrics/genius_v5.csv\")"
   ]
  },
  {
   "cell_type": "code",
   "execution_count": 5,
   "metadata": {},
   "outputs": [],
   "source": [
    "genius=df.iloc[:,2:]"
   ]
  },
  {
   "cell_type": "code",
   "execution_count": 6,
   "metadata": {},
   "outputs": [],
   "source": [
    "nlp = spacy.load(\"en_core_web_lg\")\n"
   ]
  },
  {
   "cell_type": "code",
   "execution_count": 7,
   "metadata": {},
   "outputs": [],
   "source": [
    "neighborhoods=pd.read_csv(\"data/neighborhoods/cleaned_neighborhoods.csv\").iloc[:,1:].Neighborhoods.values.sum().split(\", \")"
   ]
  },
  {
   "cell_type": "code",
   "execution_count": 8,
   "metadata": {},
   "outputs": [],
   "source": [
    "import regex as re"
   ]
  },
  {
   "cell_type": "code",
   "execution_count": 8,
   "metadata": {},
   "outputs": [
    {
     "data": {
      "text/plain": [
       "'Unforgettable'"
      ]
     },
     "execution_count": 8,
     "metadata": {},
     "output_type": "execute_result"
    }
   ],
   "source": [
    "start_template=\"\\[\\\"(.*) Lyrics\\[\"\n",
    "m=re.search(start_template,'\"[\"Unforgettable Lyrics[Chorus: Swae Lee]')\n",
    "m.group(1)"
   ]
  },
  {
   "cell_type": "code",
   "execution_count": 9,
   "metadata": {},
   "outputs": [
    {
     "name": "stdout",
     "output_type": "stream",
     "text": [
      "Feelin 0 6 ORG\n",
      "Bronx 30 35 GPE\n"
     ]
    }
   ],
   "source": [
    "for ent in nlp(\"Feelin' like I'm fresh out of Bronx\").ents:\n",
    "    print(ent.text, ent.start_char, ent.end_char, ent.label_)\n"
   ]
  },
  {
   "cell_type": "code",
   "execution_count": 10,
   "metadata": {},
   "outputs": [],
   "source": [
    "LoI=[]\n",
    "for artist,songs in zip(genius.Name, genius.lyrics):\n",
    "    lines=str(songs).split(\"\\\\n\")\n",
    "    for i,line in enumerate(str(songs).split(\"\\\\n\")):\n",
    "        m=re.search(start_template,line)\n",
    "        line = str(line).replace(\"\\'\", \"'\")\n",
    "        if m :\n",
    "            song_name = m.group(1)\n",
    "        else:\n",
    "            doc = nlp(line)\n",
    "            for ent in doc.ents:\n",
    "                if ent.label_==\"GPE\" or ent.label_==\"LOC\" or ent.text in neighborhoods:\n",
    "                    LoI.append([artist, song_name, ent.text,str(line), str(lines[i-1]) if i!=0 else \"\", str(lines[i+1]) if i<(len(lines)-1) else \"\"])\n"
   ]
  },
  {
   "cell_type": "code",
   "execution_count": 11,
   "metadata": {},
   "outputs": [],
   "source": [
    "df=pd.DataFrame(LoI, columns=[\"Artist\", \"Song Name\", \"GPE\", \"Line\", \"Line Before\", \"Line After\"])\n",
    "df.to_csv(\"data/lyrics/genius_ner_v5.csv\", index=False)"
   ]
  },
  {
   "cell_type": "code",
   "execution_count": 12,
   "metadata": {},
   "outputs": [],
   "source": [
    "df=pd.read_csv(\"data/lyrics/genius_ner_v5.csv\")"
   ]
  },
  {
   "cell_type": "code",
   "execution_count": 13,
   "metadata": {},
   "outputs": [
    {
     "data": {
      "text/html": [
       "<div>\n",
       "<style scoped>\n",
       "    .dataframe tbody tr th:only-of-type {\n",
       "        vertical-align: middle;\n",
       "    }\n",
       "\n",
       "    .dataframe tbody tr th {\n",
       "        vertical-align: top;\n",
       "    }\n",
       "\n",
       "    .dataframe thead th {\n",
       "        text-align: right;\n",
       "    }\n",
       "</style>\n",
       "<table border=\"1\" class=\"dataframe\">\n",
       "  <thead>\n",
       "    <tr style=\"text-align: right;\">\n",
       "      <th></th>\n",
       "      <th>Artist</th>\n",
       "      <th>Song Name</th>\n",
       "      <th>GPE</th>\n",
       "      <th>Line</th>\n",
       "      <th>Line Before</th>\n",
       "      <th>Line After</th>\n",
       "    </tr>\n",
       "  </thead>\n",
       "  <tbody>\n",
       "    <tr>\n",
       "      <th>0</th>\n",
       "      <td>French Montana</td>\n",
       "      <td>100</td>\n",
       "      <td>Montana</td>\n",
       "      <td>[Verse 3: French Montana]</td>\n",
       "      <td>NaN</td>\n",
       "      <td>My niggas put in work, shawty held me down</td>\n",
       "    </tr>\n",
       "    <tr>\n",
       "      <th>1</th>\n",
       "      <td>French Montana</td>\n",
       "      <td>100</td>\n",
       "      <td>hittin Key West</td>\n",
       "      <td>They got keys from west, to hittin Key West</td>\n",
       "      <td>From the block to trynna get Madonna sales</td>\n",
       "      <td>Thats a motherfucker, Delonte West</td>\n",
       "    </tr>\n",
       "    <tr>\n",
       "      <th>2</th>\n",
       "      <td>French Montana</td>\n",
       "      <td>100</td>\n",
       "      <td>Frenchy</td>\n",
       "      <td>So skinny, Frenchy</td>\n",
       "      <td>I'm baaack</td>\n",
       "      <td>(woah, woah, woah) I told 'em. Go ahead</td>\n",
       "    </tr>\n",
       "    <tr>\n",
       "      <th>3</th>\n",
       "      <td>French Montana</td>\n",
       "      <td>100</td>\n",
       "      <td>Montana</td>\n",
       "      <td>[Verse: French Montana]</td>\n",
       "      <td>NaN</td>\n",
       "      <td>Them niggas sold 17,000 (Hellooo)</td>\n",
       "    </tr>\n",
       "    <tr>\n",
       "      <th>4</th>\n",
       "      <td>French Montana</td>\n",
       "      <td>100</td>\n",
       "      <td>Montana</td>\n",
       "      <td>Now rock with the new nigga, Montana! (oh!)</td>\n",
       "      <td>Homie, from weed, coke, pills, liquor</td>\n",
       "      <td>[Outro: Pillsbury dope boy]</td>\n",
       "    </tr>\n",
       "    <tr>\n",
       "      <th>...</th>\n",
       "      <td>...</td>\n",
       "      <td>...</td>\n",
       "      <td>...</td>\n",
       "      <td>...</td>\n",
       "      <td>...</td>\n",
       "      <td>...</td>\n",
       "    </tr>\n",
       "    <tr>\n",
       "      <th>13087</th>\n",
       "      <td>Ol' Dirty Bastard</td>\n",
       "      <td>All in Together Now</td>\n",
       "      <td>rah</td>\n",
       "      <td>Hip hop crowd makes me rah, rah, rah</td>\n",
       "      <td>You could never touch the stamina, while I\\'m ...</td>\n",
       "      <td>Other MC\\'s got flipped with the ease</td>\n",
       "    </tr>\n",
       "    <tr>\n",
       "      <th>13088</th>\n",
       "      <td>Ol' Dirty Bastard</td>\n",
       "      <td>All in Together Now</td>\n",
       "      <td>Niggas</td>\n",
       "      <td>Niggas better loosеn they ass, felt the glass</td>\n",
       "      <td>So you betta\\' run for cover</td>\n",
       "      <td>A forty ouncе bottle, yo, yo, yo money, yo pass</td>\n",
       "    </tr>\n",
       "    <tr>\n",
       "      <th>13089</th>\n",
       "      <td>Ol' Dirty Bastard</td>\n",
       "      <td>All in Together Now</td>\n",
       "      <td>Brownsville</td>\n",
       "      <td>Down, to the Brownsville, oops you got smoked</td>\n",
       "      <td>I get you blurry in your eye with a high note</td>\n",
       "      <td>The shit I\\'m dropping is stinking up your area</td>\n",
       "    </tr>\n",
       "    <tr>\n",
       "      <th>13090</th>\n",
       "      <td>Ol' Dirty Bastard</td>\n",
       "      <td>All in Together Now</td>\n",
       "      <td>New York</td>\n",
       "      <td>No, lea-ving, the state, of New York (stay home)</td>\n",
       "      <td>No, smo-king, Phil-ly, blunts, or Backwoods (n...</td>\n",
       "      <td>It's, all good, long as I can, still feel some...</td>\n",
       "    </tr>\n",
       "    <tr>\n",
       "      <th>13091</th>\n",
       "      <td>Ol' Dirty Bastard</td>\n",
       "      <td>All in Together Now</td>\n",
       "      <td>Fifth Ave</td>\n",
       "      <td>Shopping sprees on Fifth Ave., backrubs, bubbl...</td>\n",
       "      <td>I had bitches in the limo actin' like they fuc...</td>\n",
       "      <td>Ol' Dirty fucked, come, clean my ass</td>\n",
       "    </tr>\n",
       "  </tbody>\n",
       "</table>\n",
       "<p>13092 rows × 6 columns</p>\n",
       "</div>"
      ],
      "text/plain": [
       "                  Artist            Song Name              GPE  \\\n",
       "0         French Montana                  100          Montana   \n",
       "1         French Montana                  100  hittin Key West   \n",
       "2         French Montana                  100          Frenchy   \n",
       "3         French Montana                  100          Montana   \n",
       "4         French Montana                  100          Montana   \n",
       "...                  ...                  ...              ...   \n",
       "13087  Ol' Dirty Bastard  All in Together Now              rah   \n",
       "13088  Ol' Dirty Bastard  All in Together Now           Niggas   \n",
       "13089  Ol' Dirty Bastard  All in Together Now      Brownsville   \n",
       "13090  Ol' Dirty Bastard  All in Together Now         New York   \n",
       "13091  Ol' Dirty Bastard  All in Together Now        Fifth Ave   \n",
       "\n",
       "                                                    Line  \\\n",
       "0                              [Verse 3: French Montana]   \n",
       "1            They got keys from west, to hittin Key West   \n",
       "2                                     So skinny, Frenchy   \n",
       "3                                [Verse: French Montana]   \n",
       "4            Now rock with the new nigga, Montana! (oh!)   \n",
       "...                                                  ...   \n",
       "13087               Hip hop crowd makes me rah, rah, rah   \n",
       "13088      Niggas better loosеn they ass, felt the glass   \n",
       "13089      Down, to the Brownsville, oops you got smoked   \n",
       "13090   No, lea-ving, the state, of New York (stay home)   \n",
       "13091  Shopping sprees on Fifth Ave., backrubs, bubbl...   \n",
       "\n",
       "                                             Line Before  \\\n",
       "0                                                    NaN   \n",
       "1             From the block to trynna get Madonna sales   \n",
       "2                                             I'm baaack   \n",
       "3                                                    NaN   \n",
       "4                  Homie, from weed, coke, pills, liquor   \n",
       "...                                                  ...   \n",
       "13087  You could never touch the stamina, while I\\'m ...   \n",
       "13088                       So you betta\\' run for cover   \n",
       "13089      I get you blurry in your eye with a high note   \n",
       "13090  No, smo-king, Phil-ly, blunts, or Backwoods (n...   \n",
       "13091  I had bitches in the limo actin' like they fuc...   \n",
       "\n",
       "                                              Line After  \n",
       "0             My niggas put in work, shawty held me down  \n",
       "1                     Thats a motherfucker, Delonte West  \n",
       "2                (woah, woah, woah) I told 'em. Go ahead  \n",
       "3                      Them niggas sold 17,000 (Hellooo)  \n",
       "4                            [Outro: Pillsbury dope boy]  \n",
       "...                                                  ...  \n",
       "13087              Other MC\\'s got flipped with the ease  \n",
       "13088    A forty ouncе bottle, yo, yo, yo money, yo pass  \n",
       "13089    The shit I\\'m dropping is stinking up your area  \n",
       "13090  It's, all good, long as I can, still feel some...  \n",
       "13091               Ol' Dirty fucked, come, clean my ass  \n",
       "\n",
       "[13092 rows x 6 columns]"
      ]
     },
     "execution_count": 13,
     "metadata": {},
     "output_type": "execute_result"
    }
   ],
   "source": [
    "df"
   ]
  },
  {
   "cell_type": "code",
   "execution_count": 14,
   "metadata": {},
   "outputs": [
    {
     "data": {
      "text/plain": [
       "Brooklyn      621\n",
       "New York      569\n",
       "↗             386\n",
       "Montana       311\n",
       "Harlem        251\n",
       "             ... \n",
       "Pine Bluff      1\n",
       "Brunswick       1\n",
       "West Point      1\n",
       "La Rioja        1\n",
       "Fifth Ave       1\n",
       "Name: GPE, Length: 2798, dtype: int64"
      ]
     },
     "execution_count": 14,
     "metadata": {},
     "output_type": "execute_result"
    }
   ],
   "source": [
    "df.GPE.value_counts()"
   ]
  },
  {
   "cell_type": "code",
   "execution_count": 15,
   "metadata": {},
   "outputs": [
    {
     "data": {
      "text/plain": [
       "(13092, 6)"
      ]
     },
     "execution_count": 15,
     "metadata": {},
     "output_type": "execute_result"
    }
   ],
   "source": [
    "df.shape"
   ]
  },
  {
   "cell_type": "code",
   "execution_count": 16,
   "metadata": {},
   "outputs": [
    {
     "data": {
      "text/plain": [
       "(81, 6)"
      ]
     },
     "execution_count": 16,
     "metadata": {},
     "output_type": "execute_result"
    }
   ],
   "source": [
    "view =df[df.GPE==\"East\"]\n",
    "view.shape"
   ]
  },
  {
   "cell_type": "code",
   "execution_count": 17,
   "metadata": {},
   "outputs": [
    {
     "data": {
      "text/html": [
       "<span class=\"tex2jax_ignore\"><div class=\"entities\" style=\"line-height: 2.5; direction: ltr\">Fresh up out the streets, call me \n",
       "<mark class=\"entity\" style=\"background: #feca74; padding: 0.45em 0.6em; margin: 0 0.25em; line-height: 1; border-radius: 0.35em;\">\n",
       "    Montana\n",
       "    <span style=\"font-size: 0.8em; font-weight: bold; line-height: 1; border-radius: 0.35em; vertical-align: middle; margin-left: 0.5rem\">GPE</span>\n",
       "</mark>\n",
       " (Yeah)</br>Hottest out the \n",
       "<mark class=\"entity\" style=\"background: #ff9561; padding: 0.45em 0.6em; margin: 0 0.25em; line-height: 1; border-radius: 0.35em;\">\n",
       "    East\n",
       "    <span style=\"font-size: 0.8em; font-weight: bold; line-height: 1; border-radius: 0.35em; vertical-align: middle; margin-left: 0.5rem\">LOC</span>\n",
       "</mark>\n",
       ", Frenchy \n",
       "<mark class=\"entity\" style=\"background: #feca74; padding: 0.45em 0.6em; margin: 0 0.25em; line-height: 1; border-radius: 0.35em;\">\n",
       "    Montana\n",
       "    <span style=\"font-size: 0.8em; font-weight: bold; line-height: 1; border-radius: 0.35em; vertical-align: middle; margin-left: 0.5rem\">GPE</span>\n",
       "</mark>\n",
       " (Yeah)</br>Call me \n",
       "<mark class=\"entity\" style=\"background: #feca74; padding: 0.45em 0.6em; margin: 0 0.25em; line-height: 1; border-radius: 0.35em;\">\n",
       "    Montana\n",
       "    <span style=\"font-size: 0.8em; font-weight: bold; line-height: 1; border-radius: 0.35em; vertical-align: middle; margin-left: 0.5rem\">GPE</span>\n",
       "</mark>\n",
       " (Yeah), call me \n",
       "<mark class=\"entity\" style=\"background: #feca74; padding: 0.45em 0.6em; margin: 0 0.25em; line-height: 1; border-radius: 0.35em;\">\n",
       "    Montana\n",
       "    <span style=\"font-size: 0.8em; font-weight: bold; line-height: 1; border-radius: 0.35em; vertical-align: middle; margin-left: 0.5rem\">GPE</span>\n",
       "</mark>\n",
       " (Yeah)</div></span>"
      ],
      "text/plain": [
       "<IPython.core.display.HTML object>"
      ]
     },
     "metadata": {},
     "output_type": "display_data"
    },
    {
     "data": {
      "text/html": [
       "<span class=\"tex2jax_ignore\"><div class=\"entities\" style=\"line-height: 2.5; direction: ltr\">Fresh up out the streets, call me \n",
       "<mark class=\"entity\" style=\"background: #feca74; padding: 0.45em 0.6em; margin: 0 0.25em; line-height: 1; border-radius: 0.35em;\">\n",
       "    Montana\n",
       "    <span style=\"font-size: 0.8em; font-weight: bold; line-height: 1; border-radius: 0.35em; vertical-align: middle; margin-left: 0.5rem\">GPE</span>\n",
       "</mark>\n",
       " (Yeah)</br>Hottest out the \n",
       "<mark class=\"entity\" style=\"background: #ff9561; padding: 0.45em 0.6em; margin: 0 0.25em; line-height: 1; border-radius: 0.35em;\">\n",
       "    East\n",
       "    <span style=\"font-size: 0.8em; font-weight: bold; line-height: 1; border-radius: 0.35em; vertical-align: middle; margin-left: 0.5rem\">LOC</span>\n",
       "</mark>\n",
       ", Frenchy \n",
       "<mark class=\"entity\" style=\"background: #feca74; padding: 0.45em 0.6em; margin: 0 0.25em; line-height: 1; border-radius: 0.35em;\">\n",
       "    Montana\n",
       "    <span style=\"font-size: 0.8em; font-weight: bold; line-height: 1; border-radius: 0.35em; vertical-align: middle; margin-left: 0.5rem\">GPE</span>\n",
       "</mark>\n",
       " (Yeah)</br>Call me \n",
       "<mark class=\"entity\" style=\"background: #feca74; padding: 0.45em 0.6em; margin: 0 0.25em; line-height: 1; border-radius: 0.35em;\">\n",
       "    Montana\n",
       "    <span style=\"font-size: 0.8em; font-weight: bold; line-height: 1; border-radius: 0.35em; vertical-align: middle; margin-left: 0.5rem\">GPE</span>\n",
       "</mark>\n",
       " (Yeah), call me \n",
       "<mark class=\"entity\" style=\"background: #feca74; padding: 0.45em 0.6em; margin: 0 0.25em; line-height: 1; border-radius: 0.35em;\">\n",
       "    Montana\n",
       "    <span style=\"font-size: 0.8em; font-weight: bold; line-height: 1; border-radius: 0.35em; vertical-align: middle; margin-left: 0.5rem\">GPE</span>\n",
       "</mark>\n",
       " (Yeah)</div></span>"
      ],
      "text/plain": [
       "<IPython.core.display.HTML object>"
      ]
     },
     "metadata": {},
     "output_type": "display_data"
    },
    {
     "data": {
      "text/html": [
       "<span class=\"tex2jax_ignore\"><div class=\"entities\" style=\"line-height: 2.5; direction: ltr\">Fresh up out the streets, call me \n",
       "<mark class=\"entity\" style=\"background: #feca74; padding: 0.45em 0.6em; margin: 0 0.25em; line-height: 1; border-radius: 0.35em;\">\n",
       "    Montana\n",
       "    <span style=\"font-size: 0.8em; font-weight: bold; line-height: 1; border-radius: 0.35em; vertical-align: middle; margin-left: 0.5rem\">GPE</span>\n",
       "</mark>\n",
       " (Yeah)</br>Hottest out the \n",
       "<mark class=\"entity\" style=\"background: #ff9561; padding: 0.45em 0.6em; margin: 0 0.25em; line-height: 1; border-radius: 0.35em;\">\n",
       "    East\n",
       "    <span style=\"font-size: 0.8em; font-weight: bold; line-height: 1; border-radius: 0.35em; vertical-align: middle; margin-left: 0.5rem\">LOC</span>\n",
       "</mark>\n",
       ", Frenchy \n",
       "<mark class=\"entity\" style=\"background: #feca74; padding: 0.45em 0.6em; margin: 0 0.25em; line-height: 1; border-radius: 0.35em;\">\n",
       "    Montana\n",
       "    <span style=\"font-size: 0.8em; font-weight: bold; line-height: 1; border-radius: 0.35em; vertical-align: middle; margin-left: 0.5rem\">GPE</span>\n",
       "</mark>\n",
       " (Yeah)</br>Call me \n",
       "<mark class=\"entity\" style=\"background: #feca74; padding: 0.45em 0.6em; margin: 0 0.25em; line-height: 1; border-radius: 0.35em;\">\n",
       "    Montana\n",
       "    <span style=\"font-size: 0.8em; font-weight: bold; line-height: 1; border-radius: 0.35em; vertical-align: middle; margin-left: 0.5rem\">GPE</span>\n",
       "</mark>\n",
       " (Yeah), call me \n",
       "<mark class=\"entity\" style=\"background: #feca74; padding: 0.45em 0.6em; margin: 0 0.25em; line-height: 1; border-radius: 0.35em;\">\n",
       "    Montana\n",
       "    <span style=\"font-size: 0.8em; font-weight: bold; line-height: 1; border-radius: 0.35em; vertical-align: middle; margin-left: 0.5rem\">GPE</span>\n",
       "</mark>\n",
       " (Yeah)</div></span>"
      ],
      "text/plain": [
       "<IPython.core.display.HTML object>"
      ]
     },
     "metadata": {},
     "output_type": "display_data"
    },
    {
     "data": {
      "text/html": [
       "<span class=\"tex2jax_ignore\"><div class=\"entities\" style=\"line-height: 2.5; direction: ltr\">Yup yup yup</br>To the \n",
       "<mark class=\"entity\" style=\"background: #ff9561; padding: 0.45em 0.6em; margin: 0 0.25em; line-height: 1; border-radius: 0.35em;\">\n",
       "    North\n",
       "    <span style=\"font-size: 0.8em; font-weight: bold; line-height: 1; border-radius: 0.35em; vertical-align: middle; margin-left: 0.5rem\">LOC</span>\n",
       "</mark>\n",
       " to the \n",
       "<mark class=\"entity\" style=\"background: #ff9561; padding: 0.45em 0.6em; margin: 0 0.25em; line-height: 1; border-radius: 0.35em;\">\n",
       "    South\n",
       "    <span style=\"font-size: 0.8em; font-weight: bold; line-height: 1; border-radius: 0.35em; vertical-align: middle; margin-left: 0.5rem\">LOC</span>\n",
       "</mark>\n",
       " to the \n",
       "<mark class=\"entity\" style=\"background: #ff9561; padding: 0.45em 0.6em; margin: 0 0.25em; line-height: 1; border-radius: 0.35em;\">\n",
       "    East\n",
       "    <span style=\"font-size: 0.8em; font-weight: bold; line-height: 1; border-radius: 0.35em; vertical-align: middle; margin-left: 0.5rem\">LOC</span>\n",
       "</mark>\n",
       " to the West</br>I don\\'t discriminate boy I bring it to your chest</div></span>"
      ],
      "text/plain": [
       "<IPython.core.display.HTML object>"
      ]
     },
     "metadata": {},
     "output_type": "display_data"
    },
    {
     "data": {
      "text/html": [
       "<span class=\"tex2jax_ignore\"><div class=\"entities\" style=\"line-height: 2.5; direction: ltr\">I could never dis a whole coast, my time is too greater (True)</br>Yeah, we from the \n",
       "<mark class=\"entity\" style=\"background: #ff9561; padding: 0.45em 0.6em; margin: 0 0.25em; line-height: 1; border-radius: 0.35em;\">\n",
       "    East\n",
       "    <span style=\"font-size: 0.8em; font-weight: bold; line-height: 1; border-radius: 0.35em; vertical-align: middle; margin-left: 0.5rem\">LOC</span>\n",
       "</mark>\n",
       ", the land of originators</br>You also from the \n",
       "<mark class=\"entity\" style=\"background: #ff9561; padding: 0.45em 0.6em; margin: 0 0.25em; line-height: 1; border-radius: 0.35em;\">\n",
       "    West\n",
       "    <span style=\"font-size: 0.8em; font-weight: bold; line-height: 1; border-radius: 0.35em; vertical-align: middle; margin-left: 0.5rem\">LOC</span>\n",
       "</mark>\n",
       ", the land of innovators</div></span>"
      ],
      "text/plain": [
       "<IPython.core.display.HTML object>"
      ]
     },
     "metadata": {},
     "output_type": "display_data"
    },
    {
     "name": "stderr",
     "output_type": "stream",
     "text": [
      "/home/lucastrg/FLEP/DS-env/lib/python3.9/site-packages/spacy/displacy/__init__.py:200: UserWarning: [W006] No entities to visualize found in Doc object. If this is surprising to you, make sure the Doc was processed using a model that supports named entity recognition, and check the `doc.ents` property manually if necessary.\n",
      "  warnings.warn(Warnings.W006)\n"
     ]
    },
    {
     "data": {
      "text/html": [
       "<span class=\"tex2jax_ignore\"><div class=\"entities\" style=\"line-height: 2.5; direction: ltr\">Somewhere on a beach with clear water seem to wash away my sins</br>I pray toward East</br>I was at war with myself now I'm way more at peace</div></span>"
      ],
      "text/plain": [
       "<IPython.core.display.HTML object>"
      ]
     },
     "metadata": {},
     "output_type": "display_data"
    },
    {
     "data": {
      "text/html": [
       "<span class=\"tex2jax_ignore\"><div class=\"entities\" style=\"line-height: 2.5; direction: ltr\">Be gracious, understand patience is key</br>I once needed direction now I'm facin' the East</br>To give praise like \n",
       "<mark class=\"entity\" style=\"background: #aa9cfc; padding: 0.45em 0.6em; margin: 0 0.25em; line-height: 1; border-radius: 0.35em;\">\n",
       "    Mohammed\n",
       "    <span style=\"font-size: 0.8em; font-weight: bold; line-height: 1; border-radius: 0.35em; vertical-align: middle; margin-left: 0.5rem\">PERSON</span>\n",
       "</mark>\n",
       "</div></span>"
      ],
      "text/plain": [
       "<IPython.core.display.HTML object>"
      ]
     },
     "metadata": {},
     "output_type": "display_data"
    },
    {
     "data": {
      "text/html": [
       "<span class=\"tex2jax_ignore\"><div class=\"entities\" style=\"line-height: 2.5; direction: ltr\">Flames spit from the nozzle, pop one up in your furrow</br>(\n",
       "<mark class=\"entity\" style=\"background: #7aecec; padding: 0.45em 0.6em; margin: 0 0.25em; line-height: 1; border-radius: 0.35em;\">\n",
       "    STREET TEAM\n",
       "    <span style=\"font-size: 0.8em; font-weight: bold; line-height: 1; border-radius: 0.35em; vertical-align: middle; margin-left: 0.5rem\">ORG</span>\n",
       "</mark>\n",
       ") \n",
       "<mark class=\"entity\" style=\"background: #ff9561; padding: 0.45em 0.6em; margin: 0 0.25em; line-height: 1; border-radius: 0.35em;\">\n",
       "    East\n",
       "    <span style=\"font-size: 0.8em; font-weight: bold; line-height: 1; border-radius: 0.35em; vertical-align: middle; margin-left: 0.5rem\">LOC</span>\n",
       "</mark>\n",
       " coast up, toast up</br>We don't put posters up, we post up</div></span>"
      ],
      "text/plain": [
       "<IPython.core.display.HTML object>"
      ]
     },
     "metadata": {},
     "output_type": "display_data"
    },
    {
     "data": {
      "text/html": [
       "<span class=\"tex2jax_ignore\"><div class=\"entities\" style=\"line-height: 2.5; direction: ltr\">Allah savagely impoint, \n",
       "<mark class=\"entity\" style=\"background: #7aecec; padding: 0.45em 0.6em; margin: 0 0.25em; line-height: 1; border-radius: 0.35em;\">\n",
       "    evaporatin\n",
       "    <span style=\"font-size: 0.8em; font-weight: bold; line-height: 1; border-radius: 0.35em; vertical-align: middle; margin-left: 0.5rem\">ORG</span>\n",
       "</mark>\n",
       "' \n",
       "<mark class=\"entity\" style=\"background: #7aecec; padding: 0.45em 0.6em; margin: 0 0.25em; line-height: 1; border-radius: 0.35em;\">\n",
       "    Shieks\n",
       "    <span style=\"font-size: 0.8em; font-weight: bold; line-height: 1; border-radius: 0.35em; vertical-align: middle; margin-left: 0.5rem\">ORG</span>\n",
       "</mark>\n",
       "</br>My crane slash tarantula, \n",
       "<mark class=\"entity\" style=\"background: #7aecec; padding: 0.45em 0.6em; margin: 0 0.25em; line-height: 1; border-radius: 0.35em;\">\n",
       "    conquerin\n",
       "    <span style=\"font-size: 0.8em; font-weight: bold; line-height: 1; border-radius: 0.35em; vertical-align: middle; margin-left: 0.5rem\">ORG</span>\n",
       "</mark>\n",
       "' the East</br>You must be flippin'</div></span>"
      ],
      "text/plain": [
       "<IPython.core.display.HTML object>"
      ]
     },
     "metadata": {},
     "output_type": "display_data"
    },
    {
     "data": {
      "text/html": [
       "<span class=\"tex2jax_ignore\"><div class=\"entities\" style=\"line-height: 2.5; direction: ltr\">[Verse 2]</br>Rest in peace to my niggas in the East</br>And all the real niggas that was shot by beast</div></span>"
      ],
      "text/plain": [
       "<IPython.core.display.HTML object>"
      ]
     },
     "metadata": {},
     "output_type": "display_data"
    },
    {
     "data": {
      "text/html": [
       "<span class=\"tex2jax_ignore\"><div class=\"entities\" style=\"line-height: 2.5; direction: ltr\">You come here frontin\\', you might die in this borough</br>The \n",
       "<mark class=\"entity\" style=\"background: #ff9561; padding: 0.45em 0.6em; margin: 0 0.25em; line-height: 1; border-radius: 0.35em;\">\n",
       "    East\n",
       "    <span style=\"font-size: 0.8em; font-weight: bold; line-height: 1; border-radius: 0.35em; vertical-align: middle; margin-left: 0.5rem\">LOC</span>\n",
       "</mark>\n",
       ", the \\'Ville and \n",
       "<mark class=\"entity\" style=\"background: #7aecec; padding: 0.45em 0.6em; margin: 0 0.25em; line-height: 1; border-radius: 0.35em;\">\n",
       "    Bed-Stuy\\'s\n",
       "    <span style=\"font-size: 0.8em; font-weight: bold; line-height: 1; border-radius: 0.35em; vertical-align: middle; margin-left: 0.5rem\">ORG</span>\n",
       "</mark>\n",
       " in this borough</br>It\\'s full of projects, the wildest borough</div></span>"
      ],
      "text/plain": [
       "<IPython.core.display.HTML object>"
      ]
     },
     "metadata": {},
     "output_type": "display_data"
    },
    {
     "data": {
      "text/html": [
       "<span class=\"tex2jax_ignore\"><div class=\"entities\" style=\"line-height: 2.5; direction: ltr\">Every motherfuckin' piece - bitch, I AM the streets</br>I'm \n",
       "<mark class=\"entity\" style=\"background: #7aecec; padding: 0.45em 0.6em; margin: 0 0.25em; line-height: 1; border-radius: 0.35em;\">\n",
       "    Brownsville to Bedstuy\n",
       "    <span style=\"font-size: 0.8em; font-weight: bold; line-height: 1; border-radius: 0.35em; vertical-align: middle; margin-left: 0.5rem\">ORG</span>\n",
       "</mark>\n",
       ", \n",
       "<mark class=\"entity\" style=\"background: #7aecec; padding: 0.45em 0.6em; margin: 0 0.25em; line-height: 1; border-radius: 0.35em;\">\n",
       "    Flatbush\n",
       "    <span style=\"font-size: 0.8em; font-weight: bold; line-height: 1; border-radius: 0.35em; vertical-align: middle; margin-left: 0.5rem\">ORG</span>\n",
       "</mark>\n",
       ", and the East</br>What other rap bitch could touch \n",
       "<mark class=\"entity\" style=\"background: #feca74; padding: 0.45em 0.6em; margin: 0 0.25em; line-height: 1; border-radius: 0.35em;\">\n",
       "    Brooklyn\n",
       "    <span style=\"font-size: 0.8em; font-weight: bold; line-height: 1; border-radius: 0.35em; vertical-align: middle; margin-left: 0.5rem\">GPE</span>\n",
       "</mark>\n",
       " concrete?</div></span>"
      ],
      "text/plain": [
       "<IPython.core.display.HTML object>"
      ]
     },
     "metadata": {},
     "output_type": "display_data"
    },
    {
     "data": {
      "text/html": [
       "<span class=\"tex2jax_ignore\"><div class=\"entities\" style=\"line-height: 2.5; direction: ltr\">Slinging your ding-a-ling from \n",
       "<mark class=\"entity\" style=\"background: #7aecec; padding: 0.45em 0.6em; margin: 0 0.25em; line-height: 1; border-radius: 0.35em;\">\n",
       "    Bed-Stuy\n",
       "    <span style=\"font-size: 0.8em; font-weight: bold; line-height: 1; border-radius: 0.35em; vertical-align: middle; margin-left: 0.5rem\">ORG</span>\n",
       "</mark>\n",
       ", \n",
       "<mark class=\"entity\" style=\"background: #feca74; padding: 0.45em 0.6em; margin: 0 0.25em; line-height: 1; border-radius: 0.35em;\">\n",
       "    Brooklyn\n",
       "    <span style=\"font-size: 0.8em; font-weight: bold; line-height: 1; border-radius: 0.35em; vertical-align: middle; margin-left: 0.5rem\">GPE</span>\n",
       "</mark>\n",
       " to \n",
       "<mark class=\"entity\" style=\"background: #feca74; padding: 0.45em 0.6em; margin: 0 0.25em; line-height: 1; border-radius: 0.35em;\">\n",
       "    Beijing\n",
       "    <span style=\"font-size: 0.8em; font-weight: bold; line-height: 1; border-radius: 0.35em; vertical-align: middle; margin-left: 0.5rem\">GPE</span>\n",
       "</mark>\n",
       "</br>East coast host is hostile colossal</br>Money flaring like nostrils for drug dealing apostles, huh</div></span>"
      ],
      "text/plain": [
       "<IPython.core.display.HTML object>"
      ]
     },
     "metadata": {},
     "output_type": "display_data"
    },
    {
     "data": {
      "text/html": [
       "<span class=\"tex2jax_ignore\"><div class=\"entities\" style=\"line-height: 2.5; direction: ltr\">[Verse \n",
       "<mark class=\"entity\" style=\"background: #e4e7d2; padding: 0.45em 0.6em; margin: 0 0.25em; line-height: 1; border-radius: 0.35em;\">\n",
       "    2\n",
       "    <span style=\"font-size: 0.8em; font-weight: bold; line-height: 1; border-radius: 0.35em; vertical-align: middle; margin-left: 0.5rem\">CARDINAL</span>\n",
       "</mark>\n",
       ": The Notorious B.I.G.]</br>If I got to choose a coast, I got to choose the East</br>I live out there, so don't go there</div></span>"
      ],
      "text/plain": [
       "<IPython.core.display.HTML object>"
      ]
     },
     "metadata": {},
     "output_type": "display_data"
    },
    {
     "data": {
      "text/html": [
       "<span class=\"tex2jax_ignore\"><div class=\"entities\" style=\"line-height: 2.5; direction: ltr\">Contained by wild beasts</br>The finesse of the \n",
       "<mark class=\"entity\" style=\"background: #ff9561; padding: 0.45em 0.6em; margin: 0 0.25em; line-height: 1; border-radius: 0.35em;\">\n",
       "    West\n",
       "    <span style=\"font-size: 0.8em; font-weight: bold; line-height: 1; border-radius: 0.35em; vertical-align: middle; margin-left: 0.5rem\">LOC</span>\n",
       "</mark>\n",
       ", the masterpiece of \n",
       "<mark class=\"entity\" style=\"background: #ff9561; padding: 0.45em 0.6em; margin: 0 0.25em; line-height: 1; border-radius: 0.35em;\">\n",
       "    the East\n",
       "Hah\n",
       "    <span style=\"font-size: 0.8em; font-weight: bold; line-height: 1; border-radius: 0.35em; vertical-align: middle; margin-left: 0.5rem\">LOC</span>\n",
       "</mark>\n",
       ", the boss of course</div></span>"
      ],
      "text/plain": [
       "<IPython.core.display.HTML object>"
      ]
     },
     "metadata": {},
     "output_type": "display_data"
    },
    {
     "data": {
      "text/html": [
       "<span class=\"tex2jax_ignore\"><div class=\"entities\" style=\"line-height: 2.5; direction: ltr\">Gonna make everybody wanna rock rock rock</br>Gonna do it to the \n",
       "<mark class=\"entity\" style=\"background: #ff9561; padding: 0.45em 0.6em; margin: 0 0.25em; line-height: 1; border-radius: 0.35em;\">\n",
       "    East\n",
       "    <span style=\"font-size: 0.8em; font-weight: bold; line-height: 1; border-radius: 0.35em; vertical-align: middle; margin-left: 0.5rem\">LOC</span>\n",
       "</mark>\n",
       ", wanna do it to the West</br>Gonna make you relax right upon your chest</div></span>"
      ],
      "text/plain": [
       "<IPython.core.display.HTML object>"
      ]
     },
     "metadata": {},
     "output_type": "display_data"
    },
    {
     "data": {
      "text/html": [
       "<span class=\"tex2jax_ignore\"><div class=\"entities\" style=\"line-height: 2.5; direction: ltr\">But not with just another negotiation</br>He went to the \n",
       "<mark class=\"entity\" style=\"background: #ff9561; padding: 0.45em 0.6em; margin: 0 0.25em; line-height: 1; border-radius: 0.35em;\">\n",
       "    East\n",
       "    <span style=\"font-size: 0.8em; font-weight: bold; line-height: 1; border-radius: 0.35em; vertical-align: middle; margin-left: 0.5rem\">LOC</span>\n",
       "</mark>\n",
       " for human's rights</br>To free the lieutenant shot down in flight</div></span>"
      ],
      "text/plain": [
       "<IPython.core.display.HTML object>"
      ]
     },
     "metadata": {},
     "output_type": "display_data"
    },
    {
     "data": {
      "text/html": [
       "<span class=\"tex2jax_ignore\"><div class=\"entities\" style=\"line-height: 2.5; direction: ltr\">I got mad skills like loose change in my pocket</br>I drop it from the \n",
       "<mark class=\"entity\" style=\"background: #ff9561; padding: 0.45em 0.6em; margin: 0 0.25em; line-height: 1; border-radius: 0.35em;\">\n",
       "    East\n",
       "    <span style=\"font-size: 0.8em; font-weight: bold; line-height: 1; border-radius: 0.35em; vertical-align: middle; margin-left: 0.5rem\">LOC</span>\n",
       "</mark>\n",
       ", at least I'm gettin mine in</br>Some niggas gettin jealous cause of the way that I be rhymin</div></span>"
      ],
      "text/plain": [
       "<IPython.core.display.HTML object>"
      ]
     },
     "metadata": {},
     "output_type": "display_data"
    },
    {
     "data": {
      "text/html": [
       "<span class=\"tex2jax_ignore\"><div class=\"entities\" style=\"line-height: 2.5; direction: ltr\">Get it off, biggity blow mad spots and set it off</br>Riggity represent the \n",
       "<mark class=\"entity\" style=\"background: #ff9561; padding: 0.45em 0.6em; margin: 0 0.25em; line-height: 1; border-radius: 0.35em;\">\n",
       "    East\n",
       "    <span style=\"font-size: 0.8em; font-weight: bold; line-height: 1; border-radius: 0.35em; vertical-align: middle; margin-left: 0.5rem\">LOC</span>\n",
       "</mark>\n",
       ", no peace, it's hard times</br>Hard crimes, that's why we get down wit hard rhymes</div></span>"
      ],
      "text/plain": [
       "<IPython.core.display.HTML object>"
      ]
     },
     "metadata": {},
     "output_type": "display_data"
    },
    {
     "data": {
      "text/html": [
       "<span class=\"tex2jax_ignore\"><div class=\"entities\" style=\"line-height: 2.5; direction: ltr\">So take your, style and Go-Go like \n",
       "<mark class=\"entity\" style=\"background: #feca74; padding: 0.45em 0.6em; margin: 0 0.25em; line-height: 1; border-radius: 0.35em;\">\n",
       "    D.C.\n",
       "    <span style=\"font-size: 0.8em; font-weight: bold; line-height: 1; border-radius: 0.35em; vertical-align: middle; margin-left: 0.5rem\">GPE</span>\n",
       "</mark>\n",
       " niggas</br>\n",
       "<mark class=\"entity\" style=\"background: #f0d0ff; padding: 0.45em 0.6em; margin: 0 0.25em; line-height: 1; border-radius: 0.35em;\">\n",
       "    Y'all\n",
       "    <span style=\"font-size: 0.8em; font-weight: bold; line-height: 1; border-radius: 0.35em; vertical-align: middle; margin-left: 0.5rem\">WORK_OF_ART</span>\n",
       "</mark>\n",
       " know the haps we movin strapped on the \n",
       "<mark class=\"entity\" style=\"background: #ff9561; padding: 0.45em 0.6em; margin: 0 0.25em; line-height: 1; border-radius: 0.35em;\">\n",
       "    East\n",
       "    <span style=\"font-size: 0.8em; font-weight: bold; line-height: 1; border-radius: 0.35em; vertical-align: middle; margin-left: 0.5rem\">LOC</span>\n",
       "</mark>\n",
       " nigga</br>Yo, yo, well miggedy \n",
       "<mark class=\"entity\" style=\"background: #bfe1d9; padding: 0.45em 0.6em; margin: 0 0.25em; line-height: 1; border-radius: 0.35em;\">\n",
       "    mayday\n",
       "    <span style=\"font-size: 0.8em; font-weight: bold; line-height: 1; border-radius: 0.35em; vertical-align: middle; margin-left: 0.5rem\">DATE</span>\n",
       "</mark>\n",
       ", \n",
       "<mark class=\"entity\" style=\"background: #feca74; padding: 0.45em 0.6em; margin: 0 0.25em; line-height: 1; border-radius: 0.35em;\">\n",
       "    mayday\n",
       "    <span style=\"font-size: 0.8em; font-weight: bold; line-height: 1; border-radius: 0.35em; vertical-align: middle; margin-left: 0.5rem\">GPE</span>\n",
       "</mark>\n",
       ", it's \n",
       "<mark class=\"entity\" style=\"background: #7aecec; padding: 0.45em 0.6em; margin: 0 0.25em; line-height: 1; border-radius: 0.35em;\">\n",
       "    Krazy Drayz's\n",
       "    <span style=\"font-size: 0.8em; font-weight: bold; line-height: 1; border-radius: 0.35em; vertical-align: middle; margin-left: 0.5rem\">ORG</span>\n",
       "</mark>\n",
       " payday</div></span>"
      ],
      "text/plain": [
       "<IPython.core.display.HTML object>"
      ]
     },
     "metadata": {},
     "output_type": "display_data"
    },
    {
     "data": {
      "text/html": [
       "<span class=\"tex2jax_ignore\"><div class=\"entities\" style=\"line-height: 2.5; direction: ltr\">Right about now, you are rocking with the best</br>Yes, the \n",
       "<mark class=\"entity\" style=\"background: #ff9561; padding: 0.45em 0.6em; margin: 0 0.25em; line-height: 1; border-radius: 0.35em;\">\n",
       "    East\n",
       "    <span style=\"font-size: 0.8em; font-weight: bold; line-height: 1; border-radius: 0.35em; vertical-align: middle; margin-left: 0.5rem\">LOC</span>\n",
       "</mark>\n",
       " coast\\'s finest, {?} greatest</br>So here we have, the, the all raw material</div></span>"
      ],
      "text/plain": [
       "<IPython.core.display.HTML object>"
      ]
     },
     "metadata": {},
     "output_type": "display_data"
    },
    {
     "data": {
      "text/html": [
       "<span class=\"tex2jax_ignore\"><div class=\"entities\" style=\"line-height: 2.5; direction: ltr\">\n",
       "<mark class=\"entity\" style=\"background: #aa9cfc; padding: 0.45em 0.6em; margin: 0 0.25em; line-height: 1; border-radius: 0.35em;\">\n",
       "    Askin\n",
       "    <span style=\"font-size: 0.8em; font-weight: bold; line-height: 1; border-radius: 0.35em; vertical-align: middle; margin-left: 0.5rem\">PERSON</span>\n",
       "</mark>\n",
       " for credit? You can forget it!</br>\n",
       "<mark class=\"entity\" style=\"background: #feca74; padding: 0.45em 0.6em; margin: 0 0.25em; line-height: 1; border-radius: 0.35em;\">\n",
       "    North\n",
       "    <span style=\"font-size: 0.8em; font-weight: bold; line-height: 1; border-radius: 0.35em; vertical-align: middle; margin-left: 0.5rem\">GPE</span>\n",
       "</mark>\n",
       ", \n",
       "<mark class=\"entity\" style=\"background: #ff9561; padding: 0.45em 0.6em; margin: 0 0.25em; line-height: 1; border-radius: 0.35em;\">\n",
       "    South\n",
       "    <span style=\"font-size: 0.8em; font-weight: bold; line-height: 1; border-radius: 0.35em; vertical-align: middle; margin-left: 0.5rem\">LOC</span>\n",
       "</mark>\n",
       ", \n",
       "<mark class=\"entity\" style=\"background: #ff9561; padding: 0.45em 0.6em; margin: 0 0.25em; line-height: 1; border-radius: 0.35em;\">\n",
       "    East\n",
       "    <span style=\"font-size: 0.8em; font-weight: bold; line-height: 1; border-radius: 0.35em; vertical-align: middle; margin-left: 0.5rem\">LOC</span>\n",
       "</mark>\n",
       ", West! ... \n",
       "<mark class=\"entity\" style=\"background: #aa9cfc; padding: 0.45em 0.6em; margin: 0 0.25em; line-height: 1; border-radius: 0.35em;\">\n",
       "    Yo\n",
       "    <span style=\"font-size: 0.8em; font-weight: bold; line-height: 1; border-radius: 0.35em; vertical-align: middle; margin-left: 0.5rem\">PERSON</span>\n",
       "</mark>\n",
       ", put \\'em up, put \\'em up, put \\'em up</br>It\\'s your/it\\'s your/it\\'s your - it\\'s yours!</div></span>"
      ],
      "text/plain": [
       "<IPython.core.display.HTML object>"
      ]
     },
     "metadata": {},
     "output_type": "display_data"
    },
    {
     "data": {
      "text/html": [
       "<span class=\"tex2jax_ignore\"><div class=\"entities\" style=\"line-height: 2.5; direction: ltr\">Lost in the sauce, no cause, I\\'m the boss, gettin\\' off</br>East or \n",
       "<mark class=\"entity\" style=\"background: #ff9561; padding: 0.45em 0.6em; margin: 0 0.25em; line-height: 1; border-radius: 0.35em;\">\n",
       "    West\n",
       "    <span style=\"font-size: 0.8em; font-weight: bold; line-height: 1; border-radius: 0.35em; vertical-align: middle; margin-left: 0.5rem\">LOC</span>\n",
       "</mark>\n",
       " and \n",
       "<mark class=\"entity\" style=\"background: #ff9561; padding: 0.45em 0.6em; margin: 0 0.25em; line-height: 1; border-radius: 0.35em;\">\n",
       "    South\n",
       "    <span style=\"font-size: 0.8em; font-weight: bold; line-height: 1; border-radius: 0.35em; vertical-align: middle; margin-left: 0.5rem\">LOC</span>\n",
       "</mark>\n",
       ", break \n",
       "<mark class=\"entity\" style=\"background: #7aecec; padding: 0.45em 0.6em; margin: 0 0.25em; line-height: 1; border-radius: 0.35em;\">\n",
       "    North\n",
       "\n",
       "    <span style=\"font-size: 0.8em; font-weight: bold; line-height: 1; border-radius: 0.35em; vertical-align: middle; margin-left: 0.5rem\">ORG</span>\n",
       "</mark>\n",
       "You\\'re about as much use as a guard dog in a graveyard</div></span>"
      ],
      "text/plain": [
       "<IPython.core.display.HTML object>"
      ]
     },
     "metadata": {},
     "output_type": "display_data"
    },
    {
     "data": {
      "text/html": [
       "<span class=\"tex2jax_ignore\"><div class=\"entities\" style=\"line-height: 2.5; direction: ltr\">Time to draw, I\\'m aimin for your dome and jaw</br>Fastest nigga in the wild West or \n",
       "<mark class=\"entity\" style=\"background: #ff9561; padding: 0.45em 0.6em; margin: 0 0.25em; line-height: 1; border-radius: 0.35em;\">\n",
       "    East\n",
       "    <span style=\"font-size: 0.8em; font-weight: bold; line-height: 1; border-radius: 0.35em; vertical-align: middle; margin-left: 0.5rem\">LOC</span>\n",
       "</mark>\n",
       " you ever saw</br>An outlaw, my horse drinkin water from the resevoir</div></span>"
      ],
      "text/plain": [
       "<IPython.core.display.HTML object>"
      ]
     },
     "metadata": {},
     "output_type": "display_data"
    },
    {
     "data": {
      "text/html": [
       "<span class=\"tex2jax_ignore\"><div class=\"entities\" style=\"line-height: 2.5; direction: ltr\">Cause when the</br>\n",
       "<mark class=\"entity\" style=\"background: #ff9561; padding: 0.45em 0.6em; margin: 0 0.25em; line-height: 1; border-radius: 0.35em;\">\n",
       "    East\n",
       "    <span style=\"font-size: 0.8em; font-weight: bold; line-height: 1; border-radius: 0.35em; vertical-align: middle; margin-left: 0.5rem\">LOC</span>\n",
       "</mark>\n",
       " is in the house, &quot;Oh My God!&quot; Is right. I know girls that\\'s givin\\'</br>Niggas fair</div></span>"
      ],
      "text/plain": [
       "<IPython.core.display.HTML object>"
      ]
     },
     "metadata": {},
     "output_type": "display_data"
    },
    {
     "data": {
      "text/html": [
       "<span class=\"tex2jax_ignore\"><div class=\"entities\" style=\"line-height: 2.5; direction: ltr\">You got angels watching over you</br>East to west</br>Nevermind who’s the best</div></span>"
      ],
      "text/plain": [
       "<IPython.core.display.HTML object>"
      ]
     },
     "metadata": {},
     "output_type": "display_data"
    },
    {
     "data": {
      "text/html": [
       "<span class=\"tex2jax_ignore\"><div class=\"entities\" style=\"line-height: 2.5; direction: ltr\">[Spoken: 2Pac]</br>It\\'s not about \n",
       "<mark class=\"entity\" style=\"background: #ff9561; padding: 0.45em 0.6em; margin: 0 0.25em; line-height: 1; border-radius: 0.35em;\">\n",
       "    East\n",
       "    <span style=\"font-size: 0.8em; font-weight: bold; line-height: 1; border-radius: 0.35em; vertical-align: middle; margin-left: 0.5rem\">LOC</span>\n",
       "</mark>\n",
       " or West</br>It\\'s about niggas and bitches</div></span>"
      ],
      "text/plain": [
       "<IPython.core.display.HTML object>"
      ]
     },
     "metadata": {},
     "output_type": "display_data"
    },
    {
     "data": {
      "text/html": [
       "<span class=\"tex2jax_ignore\"><div class=\"entities\" style=\"line-height: 2.5; direction: ltr\">[Verse 2]</br>Here\\'s what the \n",
       "<mark class=\"entity\" style=\"background: #ff9561; padding: 0.45em 0.6em; margin: 0 0.25em; line-height: 1; border-radius: 0.35em;\">\n",
       "    West\n",
       "    <span style=\"font-size: 0.8em; font-weight: bold; line-height: 1; border-radius: 0.35em; vertical-align: middle; margin-left: 0.5rem\">LOC</span>\n",
       "</mark>\n",
       " and the \n",
       "<mark class=\"entity\" style=\"background: #ff9561; padding: 0.45em 0.6em; margin: 0 0.25em; line-height: 1; border-radius: 0.35em;\">\n",
       "    East\n",
       "    <span style=\"font-size: 0.8em; font-weight: bold; line-height: 1; border-radius: 0.35em; vertical-align: middle; margin-left: 0.5rem\">LOC</span>\n",
       "</mark>\n",
       " have in common</br>Both have black cops in cars profilin</div></span>"
      ],
      "text/plain": [
       "<IPython.core.display.HTML object>"
      ]
     },
     "metadata": {},
     "output_type": "display_data"
    },
    {
     "data": {
      "text/html": [
       "<span class=\"tex2jax_ignore\"><div class=\"entities\" style=\"line-height: 2.5; direction: ltr\">Hardcore kids in the \n",
       "<mark class=\"entity\" style=\"background: #ff9561; padding: 0.45em 0.6em; margin: 0 0.25em; line-height: 1; border-radius: 0.35em;\">\n",
       "    West\n",
       "    <span style=\"font-size: 0.8em; font-weight: bold; line-height: 1; border-radius: 0.35em; vertical-align: middle; margin-left: 0.5rem\">LOC</span>\n",
       "</mark>\n",
       " got stress</br>In the \n",
       "<mark class=\"entity\" style=\"background: #ff9561; padding: 0.45em 0.6em; margin: 0 0.25em; line-height: 1; border-radius: 0.35em;\">\n",
       "    East\n",
       "    <span style=\"font-size: 0.8em; font-weight: bold; line-height: 1; border-radius: 0.35em; vertical-align: middle; margin-left: 0.5rem\">LOC</span>\n",
       "</mark>\n",
       " we are chased by the same black beast</br>The black cop is the only real obstacle</div></span>"
      ],
      "text/plain": [
       "<IPython.core.display.HTML object>"
      ]
     },
     "metadata": {},
     "output_type": "display_data"
    },
    {
     "data": {
      "text/html": [
       "<span class=\"tex2jax_ignore\"><div class=\"entities\" style=\"line-height: 2.5; direction: ltr\">So take your, style and Go-Go like \n",
       "<mark class=\"entity\" style=\"background: #feca74; padding: 0.45em 0.6em; margin: 0 0.25em; line-height: 1; border-radius: 0.35em;\">\n",
       "    D.C.\n",
       "    <span style=\"font-size: 0.8em; font-weight: bold; line-height: 1; border-radius: 0.35em; vertical-align: middle; margin-left: 0.5rem\">GPE</span>\n",
       "</mark>\n",
       " niggas</br>\n",
       "<mark class=\"entity\" style=\"background: #f0d0ff; padding: 0.45em 0.6em; margin: 0 0.25em; line-height: 1; border-radius: 0.35em;\">\n",
       "    Y'all\n",
       "    <span style=\"font-size: 0.8em; font-weight: bold; line-height: 1; border-radius: 0.35em; vertical-align: middle; margin-left: 0.5rem\">WORK_OF_ART</span>\n",
       "</mark>\n",
       " know the haps we movin strapped on \n",
       "<mark class=\"entity\" style=\"background: #ff9561; padding: 0.45em 0.6em; margin: 0 0.25em; line-height: 1; border-radius: 0.35em;\">\n",
       "    the East nigga\n",
       "nan\n",
       "    <span style=\"font-size: 0.8em; font-weight: bold; line-height: 1; border-radius: 0.35em; vertical-align: middle; margin-left: 0.5rem\">LOC</span>\n",
       "</mark>\n",
       "</div></span>"
      ],
      "text/plain": [
       "<IPython.core.display.HTML object>"
      ]
     },
     "metadata": {},
     "output_type": "display_data"
    },
    {
     "data": {
      "text/plain": [
       "169     None\n",
       "183     None\n",
       "198     None\n",
       "1797    None\n",
       "1869    None\n",
       "2047    None\n",
       "2067    None\n",
       "2237    None\n",
       "2357    None\n",
       "2614    None\n",
       "2982    None\n",
       "3112    None\n",
       "3409    None\n",
       "3563    None\n",
       "3687    None\n",
       "3690    None\n",
       "3693    None\n",
       "5396    None\n",
       "5404    None\n",
       "5447    None\n",
       "5584    None\n",
       "5600    None\n",
       "5775    None\n",
       "5959    None\n",
       "6126    None\n",
       "6169    None\n",
       "6428    None\n",
       "6912    None\n",
       "6914    None\n",
       "6917    None\n",
       "dtype: object"
      ]
     },
     "execution_count": 17,
     "metadata": {},
     "output_type": "execute_result"
    }
   ],
   "source": [
    "view.iloc[:30].apply(lambda row : displacy.render(nlp(str(row[\"Line Before\"])+\"\\n\"+str(row[\"Line\"])+\"\\n\"+str(row[\"Line After\"])),style=\"ent\"),axis=1)"
   ]
  },
  {
   "cell_type": "code",
   "execution_count": 18,
   "metadata": {},
   "outputs": [],
   "source": [
    "doc = nlp(\"\"\"I\\'m more than a threat, I\\'m a problem To hell with Cotton, watch out when I come to Harlem So don\\'t whisper or make a sound or quote\"\"\")"
   ]
  },
  {
   "cell_type": "code",
   "execution_count": 19,
   "metadata": {},
   "outputs": [
    {
     "data": {
      "text/html": [
       "<span class=\"tex2jax_ignore\"><div class=\"entities\" style=\"line-height: 2.5; direction: ltr\">I'm more than a threat, I'm a problem To hell with \n",
       "<mark class=\"entity\" style=\"background: #7aecec; padding: 0.45em 0.6em; margin: 0 0.25em; line-height: 1; border-radius: 0.35em;\">\n",
       "    Cotton\n",
       "    <span style=\"font-size: 0.8em; font-weight: bold; line-height: 1; border-radius: 0.35em; vertical-align: middle; margin-left: 0.5rem\">ORG</span>\n",
       "</mark>\n",
       ", watch out when I come to \n",
       "<mark class=\"entity\" style=\"background: #ff9561; padding: 0.45em 0.6em; margin: 0 0.25em; line-height: 1; border-radius: 0.35em;\">\n",
       "    Harlem\n",
       "    <span style=\"font-size: 0.8em; font-weight: bold; line-height: 1; border-radius: 0.35em; vertical-align: middle; margin-left: 0.5rem\">LOC</span>\n",
       "</mark>\n",
       " So don't whisper or make a sound or quote</div></span>"
      ],
      "text/plain": [
       "<IPython.core.display.HTML object>"
      ]
     },
     "metadata": {},
     "output_type": "display_data"
    }
   ],
   "source": [
    "displacy.render(doc, style=\"ent\")"
   ]
  },
  {
   "cell_type": "code",
   "execution_count": 9,
   "metadata": {},
   "outputs": [],
   "source": [
    "from nltk.sentiment import SentimentIntensityAnalyzer\n",
    "from nltk.stem import WordNetLemmatizer\n",
    "sia = SentimentIntensityAnalyzer()\n",
    "lemmatizer = WordNetLemmatizer()"
   ]
  },
  {
   "cell_type": "code",
   "execution_count": 21,
   "metadata": {},
   "outputs": [
    {
     "data": {
      "text/plain": [
       "'Crooklyn better known as Brooklyn'"
      ]
     },
     "execution_count": 21,
     "metadata": {},
     "output_type": "execute_result"
    }
   ],
   "source": [
    "lemmatizer.lemmatize(\"Crooklyn better known as Brooklyn\")"
   ]
  },
  {
   "cell_type": "code",
   "execution_count": 22,
   "metadata": {},
   "outputs": [
    {
     "data": {
      "text/plain": [
       "{'neg': 0.286, 'neu': 0.408, 'pos': 0.306, 'compound': 0.0622}"
      ]
     },
     "execution_count": 22,
     "metadata": {},
     "output_type": "execute_result"
    }
   ],
   "source": [
    "sia.polarity_scores(\"Fuck, the weather is so good today\")"
   ]
  },
  {
   "cell_type": "code",
   "execution_count": 23,
   "metadata": {},
   "outputs": [
    {
     "data": {
      "text/plain": [
       "{'neg': 0.343, 'neu': 0.657, 'pos': 0.0, 'compound': -0.8996}"
      ]
     },
     "execution_count": 23,
     "metadata": {},
     "output_type": "execute_result"
    }
   ],
   "source": [
    "sia.polarity_scores(\"\"\"I\\'m more than a threat, I\\'m a problem To hell with Cotton, watch out when I come to Harlem So don\\'t whisper or make a sound or quote\"\"\")"
   ]
  },
  {
   "cell_type": "code",
   "execution_count": 24,
   "metadata": {},
   "outputs": [],
   "source": [
    "df[\"polarity\"]=df.apply(lambda row : sia.polarity_scores(str(row[\"Line Before\"]) if row[\"Line Before\"] else \"\" +\"\\n\"+row[\"Line\"]+\"\\n\" + str(row[\"Line Before\"]) if row[\"Line Before\"] else \"\"),axis=1)"
   ]
  },
  {
   "cell_type": "code",
   "execution_count": 25,
   "metadata": {},
   "outputs": [
    {
     "data": {
      "text/html": [
       "<div>\n",
       "<style scoped>\n",
       "    .dataframe tbody tr th:only-of-type {\n",
       "        vertical-align: middle;\n",
       "    }\n",
       "\n",
       "    .dataframe tbody tr th {\n",
       "        vertical-align: top;\n",
       "    }\n",
       "\n",
       "    .dataframe thead th {\n",
       "        text-align: right;\n",
       "    }\n",
       "</style>\n",
       "<table border=\"1\" class=\"dataframe\">\n",
       "  <thead>\n",
       "    <tr style=\"text-align: right;\">\n",
       "      <th></th>\n",
       "      <th>Artist</th>\n",
       "      <th>Song Name</th>\n",
       "      <th>GPE</th>\n",
       "      <th>Line</th>\n",
       "      <th>Line Before</th>\n",
       "      <th>Line After</th>\n",
       "      <th>polarity</th>\n",
       "    </tr>\n",
       "  </thead>\n",
       "  <tbody>\n",
       "    <tr>\n",
       "      <th>0</th>\n",
       "      <td>French Montana</td>\n",
       "      <td>100</td>\n",
       "      <td>Montana</td>\n",
       "      <td>[Verse 3: French Montana]</td>\n",
       "      <td>NaN</td>\n",
       "      <td>My niggas put in work, shawty held me down</td>\n",
       "      <td>{'neg': 0.0, 'neu': 1.0, 'pos': 0.0, 'compound...</td>\n",
       "    </tr>\n",
       "    <tr>\n",
       "      <th>1</th>\n",
       "      <td>French Montana</td>\n",
       "      <td>100</td>\n",
       "      <td>hittin Key West</td>\n",
       "      <td>They got keys from west, to hittin Key West</td>\n",
       "      <td>From the block to trynna get Madonna sales</td>\n",
       "      <td>Thats a motherfucker, Delonte West</td>\n",
       "      <td>{'neg': 0.293, 'neu': 0.707, 'pos': 0.0, 'comp...</td>\n",
       "    </tr>\n",
       "    <tr>\n",
       "      <th>2</th>\n",
       "      <td>French Montana</td>\n",
       "      <td>100</td>\n",
       "      <td>Frenchy</td>\n",
       "      <td>So skinny, Frenchy</td>\n",
       "      <td>I'm baaack</td>\n",
       "      <td>(woah, woah, woah) I told 'em. Go ahead</td>\n",
       "      <td>{'neg': 0.0, 'neu': 1.0, 'pos': 0.0, 'compound...</td>\n",
       "    </tr>\n",
       "    <tr>\n",
       "      <th>3</th>\n",
       "      <td>French Montana</td>\n",
       "      <td>100</td>\n",
       "      <td>Montana</td>\n",
       "      <td>[Verse: French Montana]</td>\n",
       "      <td>NaN</td>\n",
       "      <td>Them niggas sold 17,000 (Hellooo)</td>\n",
       "      <td>{'neg': 0.0, 'neu': 1.0, 'pos': 0.0, 'compound...</td>\n",
       "    </tr>\n",
       "    <tr>\n",
       "      <th>4</th>\n",
       "      <td>French Montana</td>\n",
       "      <td>100</td>\n",
       "      <td>Montana</td>\n",
       "      <td>Now rock with the new nigga, Montana! (oh!)</td>\n",
       "      <td>Homie, from weed, coke, pills, liquor</td>\n",
       "      <td>[Outro: Pillsbury dope boy]</td>\n",
       "      <td>{'neg': 0.0, 'neu': 1.0, 'pos': 0.0, 'compound...</td>\n",
       "    </tr>\n",
       "    <tr>\n",
       "      <th>...</th>\n",
       "      <td>...</td>\n",
       "      <td>...</td>\n",
       "      <td>...</td>\n",
       "      <td>...</td>\n",
       "      <td>...</td>\n",
       "      <td>...</td>\n",
       "      <td>...</td>\n",
       "    </tr>\n",
       "    <tr>\n",
       "      <th>13087</th>\n",
       "      <td>Ol' Dirty Bastard</td>\n",
       "      <td>All in Together Now</td>\n",
       "      <td>rah</td>\n",
       "      <td>Hip hop crowd makes me rah, rah, rah</td>\n",
       "      <td>You could never touch the stamina, while I\\'m ...</td>\n",
       "      <td>Other MC\\'s got flipped with the ease</td>\n",
       "      <td>{'neg': 0.173, 'neu': 0.827, 'pos': 0.0, 'comp...</td>\n",
       "    </tr>\n",
       "    <tr>\n",
       "      <th>13088</th>\n",
       "      <td>Ol' Dirty Bastard</td>\n",
       "      <td>All in Together Now</td>\n",
       "      <td>Niggas</td>\n",
       "      <td>Niggas better loosеn they ass, felt the glass</td>\n",
       "      <td>So you betta\\' run for cover</td>\n",
       "      <td>A forty ouncе bottle, yo, yo, yo money, yo pass</td>\n",
       "      <td>{'neg': 0.0, 'neu': 1.0, 'pos': 0.0, 'compound...</td>\n",
       "    </tr>\n",
       "    <tr>\n",
       "      <th>13089</th>\n",
       "      <td>Ol' Dirty Bastard</td>\n",
       "      <td>All in Together Now</td>\n",
       "      <td>Brownsville</td>\n",
       "      <td>Down, to the Brownsville, oops you got smoked</td>\n",
       "      <td>I get you blurry in your eye with a high note</td>\n",
       "      <td>The shit I\\'m dropping is stinking up your area</td>\n",
       "      <td>{'neg': 0.149, 'neu': 0.851, 'pos': 0.0, 'comp...</td>\n",
       "    </tr>\n",
       "    <tr>\n",
       "      <th>13090</th>\n",
       "      <td>Ol' Dirty Bastard</td>\n",
       "      <td>All in Together Now</td>\n",
       "      <td>New York</td>\n",
       "      <td>No, lea-ving, the state, of New York (stay home)</td>\n",
       "      <td>No, smo-king, Phil-ly, blunts, or Backwoods (n...</td>\n",
       "      <td>It's, all good, long as I can, still feel some...</td>\n",
       "      <td>{'neg': 0.239, 'neu': 0.761, 'pos': 0.0, 'comp...</td>\n",
       "    </tr>\n",
       "    <tr>\n",
       "      <th>13091</th>\n",
       "      <td>Ol' Dirty Bastard</td>\n",
       "      <td>All in Together Now</td>\n",
       "      <td>Fifth Ave</td>\n",
       "      <td>Shopping sprees on Fifth Ave., backrubs, bubbl...</td>\n",
       "      <td>I had bitches in the limo actin' like they fuc...</td>\n",
       "      <td>Ol' Dirty fucked, come, clean my ass</td>\n",
       "      <td>{'neg': 0.238, 'neu': 0.61, 'pos': 0.152, 'com...</td>\n",
       "    </tr>\n",
       "  </tbody>\n",
       "</table>\n",
       "<p>13092 rows × 7 columns</p>\n",
       "</div>"
      ],
      "text/plain": [
       "                  Artist            Song Name              GPE  \\\n",
       "0         French Montana                  100          Montana   \n",
       "1         French Montana                  100  hittin Key West   \n",
       "2         French Montana                  100          Frenchy   \n",
       "3         French Montana                  100          Montana   \n",
       "4         French Montana                  100          Montana   \n",
       "...                  ...                  ...              ...   \n",
       "13087  Ol' Dirty Bastard  All in Together Now              rah   \n",
       "13088  Ol' Dirty Bastard  All in Together Now           Niggas   \n",
       "13089  Ol' Dirty Bastard  All in Together Now      Brownsville   \n",
       "13090  Ol' Dirty Bastard  All in Together Now         New York   \n",
       "13091  Ol' Dirty Bastard  All in Together Now        Fifth Ave   \n",
       "\n",
       "                                                    Line  \\\n",
       "0                              [Verse 3: French Montana]   \n",
       "1            They got keys from west, to hittin Key West   \n",
       "2                                     So skinny, Frenchy   \n",
       "3                                [Verse: French Montana]   \n",
       "4            Now rock with the new nigga, Montana! (oh!)   \n",
       "...                                                  ...   \n",
       "13087               Hip hop crowd makes me rah, rah, rah   \n",
       "13088      Niggas better loosеn they ass, felt the glass   \n",
       "13089      Down, to the Brownsville, oops you got smoked   \n",
       "13090   No, lea-ving, the state, of New York (stay home)   \n",
       "13091  Shopping sprees on Fifth Ave., backrubs, bubbl...   \n",
       "\n",
       "                                             Line Before  \\\n",
       "0                                                    NaN   \n",
       "1             From the block to trynna get Madonna sales   \n",
       "2                                             I'm baaack   \n",
       "3                                                    NaN   \n",
       "4                  Homie, from weed, coke, pills, liquor   \n",
       "...                                                  ...   \n",
       "13087  You could never touch the stamina, while I\\'m ...   \n",
       "13088                       So you betta\\' run for cover   \n",
       "13089      I get you blurry in your eye with a high note   \n",
       "13090  No, smo-king, Phil-ly, blunts, or Backwoods (n...   \n",
       "13091  I had bitches in the limo actin' like they fuc...   \n",
       "\n",
       "                                              Line After  \\\n",
       "0             My niggas put in work, shawty held me down   \n",
       "1                     Thats a motherfucker, Delonte West   \n",
       "2                (woah, woah, woah) I told 'em. Go ahead   \n",
       "3                      Them niggas sold 17,000 (Hellooo)   \n",
       "4                            [Outro: Pillsbury dope boy]   \n",
       "...                                                  ...   \n",
       "13087              Other MC\\'s got flipped with the ease   \n",
       "13088    A forty ouncе bottle, yo, yo, yo money, yo pass   \n",
       "13089    The shit I\\'m dropping is stinking up your area   \n",
       "13090  It's, all good, long as I can, still feel some...   \n",
       "13091               Ol' Dirty fucked, come, clean my ass   \n",
       "\n",
       "                                                polarity  \n",
       "0      {'neg': 0.0, 'neu': 1.0, 'pos': 0.0, 'compound...  \n",
       "1      {'neg': 0.293, 'neu': 0.707, 'pos': 0.0, 'comp...  \n",
       "2      {'neg': 0.0, 'neu': 1.0, 'pos': 0.0, 'compound...  \n",
       "3      {'neg': 0.0, 'neu': 1.0, 'pos': 0.0, 'compound...  \n",
       "4      {'neg': 0.0, 'neu': 1.0, 'pos': 0.0, 'compound...  \n",
       "...                                                  ...  \n",
       "13087  {'neg': 0.173, 'neu': 0.827, 'pos': 0.0, 'comp...  \n",
       "13088  {'neg': 0.0, 'neu': 1.0, 'pos': 0.0, 'compound...  \n",
       "13089  {'neg': 0.149, 'neu': 0.851, 'pos': 0.0, 'comp...  \n",
       "13090  {'neg': 0.239, 'neu': 0.761, 'pos': 0.0, 'comp...  \n",
       "13091  {'neg': 0.238, 'neu': 0.61, 'pos': 0.152, 'com...  \n",
       "\n",
       "[13092 rows x 7 columns]"
      ]
     },
     "execution_count": 25,
     "metadata": {},
     "output_type": "execute_result"
    }
   ],
   "source": [
    "df"
   ]
  },
  {
   "cell_type": "code",
   "execution_count": 26,
   "metadata": {},
   "outputs": [],
   "source": [
    "df[\"pos\"]=df[\"polarity\"].apply(lambda polarity : polarity.get(\"pos\"))\n",
    "df[\"neg\"]=df[\"polarity\"].apply(lambda polarity : polarity.get(\"neg\"))\n",
    "df[\"neu\"]=df[\"polarity\"].apply(lambda polarity : polarity.get(\"neu\"))\n",
    "df[\"compound\"]=df[\"polarity\"].apply(lambda polarity : polarity.get(\"compound\"))"
   ]
  },
  {
   "cell_type": "code",
   "execution_count": 93,
   "metadata": {},
   "outputs": [
    {
     "name": "stdout",
     "output_type": "stream",
     "text": [
      "159\n",
      "18\n"
     ]
    }
   ],
   "source": [
    "places=list(df[\"GPE\"].value_counts()[(df[\"GPE\"].value_counts()>12)].index)\n",
    "print(len(places))\n",
    "less_places = list(df[\"GPE\"].value_counts()[(df[\"GPE\"].value_counts()>80)].index)\n",
    "print(len(less_places))\n"
   ]
  },
  {
   "cell_type": "code",
   "execution_count": 94,
   "metadata": {},
   "outputs": [],
   "source": [
    "incorrect_places=['↗',\"ma\", \"There\\\\\", \"Don\\\\'t\", \"Ya'll\"]"
   ]
  },
  {
   "cell_type": "code",
   "execution_count": 95,
   "metadata": {},
   "outputs": [
    {
     "data": {
      "text/plain": [
       "['Brooklyn',\n",
       " 'New York',\n",
       " '↗',\n",
       " 'Montana',\n",
       " 'Harlem',\n",
       " 'America',\n",
       " 'Earth',\n",
       " 'Bronx',\n",
       " 'Cali',\n",
       " 'ma',\n",
       " 'Queens',\n",
       " 'Miami',\n",
       " 'Jersey',\n",
       " 'Hollywood',\n",
       " 'South',\n",
       " 'NY',\n",
       " 'Bonita',\n",
       " 'East',\n",
       " 'New York City',\n",
       " 'There\\\\',\n",
       " 'Atlanta',\n",
       " 'Philly',\n",
       " 'Chino',\n",
       " 'LA',\n",
       " 'Chicago',\n",
       " 'L.A.',\n",
       " 'NYC',\n",
       " 'Manhattan',\n",
       " 'Africa',\n",
       " 'France',\n",
       " 'London',\n",
       " 'East Coast',\n",
       " 'Brownsville',\n",
       " 'Staten Island',\n",
       " 'El Segundo',\n",
       " 'Vegas',\n",
       " 'Paris',\n",
       " 'NJ',\n",
       " 'California',\n",
       " 'Detroit',\n",
       " 'PA',\n",
       " 'Bucktown',\n",
       " 'Texas',\n",
       " 'La',\n",
       " 'Berned',\n",
       " 'West Coast',\n",
       " 'Mars',\n",
       " 'North',\n",
       " 'Brick City',\n",
       " 'Roc',\n",
       " 'Jamaica',\n",
       " 'Mississippi',\n",
       " 'King Kong',\n",
       " 'Queensbridge',\n",
       " 'Iraq',\n",
       " 'Houston',\n",
       " 'Dipset',\n",
       " 'earth',\n",
       " \"Don\\\\'t\",\n",
       " 'Boston',\n",
       " 'Shaolin',\n",
       " 'Arizona',\n",
       " 'Los Angeles',\n",
       " 'Philadelphia',\n",
       " 'Long Island',\n",
       " 'New Orleans',\n",
       " 'Italy',\n",
       " 'the East Coast',\n",
       " 'New Jersey',\n",
       " 'NC',\n",
       " 'Newark',\n",
       " 'Vietnam',\n",
       " 'fort',\n",
       " 'DC',\n",
       " 'Venus',\n",
       " 'West',\n",
       " 'Japan',\n",
       " 'morena',\n",
       " 'Medina',\n",
       " \"Ya'll\",\n",
       " 'D.C.',\n",
       " 'TX',\n",
       " 'China',\n",
       " 'Canada',\n",
       " 'Florida',\n",
       " 'Yoyoyo',\n",
       " 'FL',\n",
       " 'Spain',\n",
       " 'VA',\n",
       " 'AK',\n",
       " 'Island',\n",
       " 'Georgia',\n",
       " 'L.A',\n",
       " \"don\\\\'t\",\n",
       " 'Bahamas',\n",
       " 'Santa',\n",
       " 'murda murda murda',\n",
       " 'CT',\n",
       " 'Haiti',\n",
       " 'Uptown',\n",
       " 'USA',\n",
       " 'Southside',\n",
       " 'Germany',\n",
       " 'Cuba',\n",
       " 'MD',\n",
       " 'Jerusalem',\n",
       " 'Sicily',\n",
       " 'Oakland',\n",
       " 'Staten',\n",
       " 'Mo',\n",
       " 'South Bronx',\n",
       " 'St. Louis',\n",
       " 'Aesop Rock',\n",
       " 'there\\\\',\n",
       " 'Rome',\n",
       " 'New York--',\n",
       " 'Puerto Rico',\n",
       " 'pa',\n",
       " 'GA',\n",
       " 'US',\n",
       " 'Virginia',\n",
       " 'Us',\n",
       " 'Las Vegas',\n",
       " 'Europe',\n",
       " 'Asia',\n",
       " 'Cleveland',\n",
       " 'Hollis',\n",
       " 'Ethiopia',\n",
       " 'Diego',\n",
       " 'Iran',\n",
       " 'East coast',\n",
       " 'QB',\n",
       " 'Midwest',\n",
       " 'Mexico',\n",
       " 'Dallas',\n",
       " 'Playa',\n",
       " 'Park Hill',\n",
       " 'Niggas',\n",
       " 'Brazil',\n",
       " 'South Africa',\n",
       " 'Babylon',\n",
       " 'U.S.',\n",
       " 'Seattle',\n",
       " 'Egypt',\n",
       " 'M.C.',\n",
       " 'Puerto Rican',\n",
       " 'Sapporo',\n",
       " 'Rikers Island',\n",
       " 'wa',\n",
       " 'Crown Heights',\n",
       " 'Panama',\n",
       " 'Trinidad',\n",
       " 'Russia',\n",
       " 'Memphis',\n",
       " 'Puerto',\n",
       " 'Washington',\n",
       " 'Atlantic',\n",
       " 'West coast',\n",
       " 'Baghdad']"
      ]
     },
     "execution_count": 95,
     "metadata": {},
     "output_type": "execute_result"
    }
   ],
   "source": [
    "places"
   ]
  },
  {
   "cell_type": "code",
   "execution_count": 96,
   "metadata": {},
   "outputs": [],
   "source": [
    "less_places.remove('↗')\n",
    "less_places.remove( 'Montana')\n",
    "less_places.remove('ma')\n",
    "less_places.remove('Miami')\n",
    "less_places.remove('Cali')\n",
    "less_places.remove('Bonita')\n",
    "less_places.remove('Hollywood')"
   ]
  },
  {
   "cell_type": "code",
   "execution_count": 97,
   "metadata": {},
   "outputs": [],
   "source": [
    "df_filtered=df[df[\"GPE\"].isin(places)]\n",
    "df_sample=df[df[\"GPE\"].isin(less_places)]"
   ]
  },
  {
   "cell_type": "code",
   "execution_count": 1,
   "metadata": {},
   "outputs": [
    {
     "ename": "NameError",
     "evalue": "name 'df_sample' is not defined",
     "output_type": "error",
     "traceback": [
      "\u001b[0;31m---------------------------------------------------------------------------\u001b[0m",
      "\u001b[0;31mNameError\u001b[0m                                 Traceback (most recent call last)",
      "\u001b[1;32m/home/lucastrg/FLEP/MA2/CDS/CDS/NLP.ipynb Cell 32'\u001b[0m in \u001b[0;36m<cell line: 1>\u001b[0;34m()\u001b[0m\n\u001b[0;32m----> <a href='vscode-notebook-cell:/home/lucastrg/FLEP/MA2/CDS/CDS/NLP.ipynb#ch0000036?line=0'>1</a>\u001b[0m df_sample\n",
      "\u001b[0;31mNameError\u001b[0m: name 'df_sample' is not defined"
     ]
    }
   ],
   "source": [
    "df_sample"
   ]
  },
  {
   "cell_type": "code",
   "execution_count": 98,
   "metadata": {},
   "outputs": [
    {
     "name": "stderr",
     "output_type": "stream",
     "text": [
      "/tmp/ipykernel_4819/1130032738.py:1: SettingWithCopyWarning: \n",
      "A value is trying to be set on a copy of a slice from a DataFrame.\n",
      "Try using .loc[row_indexer,col_indexer] = value instead\n",
      "\n",
      "See the caveats in the documentation: https://pandas.pydata.org/pandas-docs/stable/user_guide/indexing.html#returning-a-view-versus-a-copy\n",
      "  df_filtered[\"GPE\"]=df_filtered[\"GPE\"].astype(\"str\").astype(\"category\")\n",
      "/tmp/ipykernel_4819/1130032738.py:2: SettingWithCopyWarning: \n",
      "A value is trying to be set on a copy of a slice from a DataFrame.\n",
      "Try using .loc[row_indexer,col_indexer] = value instead\n",
      "\n",
      "See the caveats in the documentation: https://pandas.pydata.org/pandas-docs/stable/user_guide/indexing.html#returning-a-view-versus-a-copy\n",
      "  df_sample[\"GPE\"]=df_sample[\"GPE\"].astype(\"str\").astype(\"category\")\n"
     ]
    }
   ],
   "source": [
    "df_filtered[\"GPE\"]=df_filtered[\"GPE\"].astype(\"str\").astype(\"category\")\n",
    "df_sample[\"GPE\"]=df_sample[\"GPE\"].astype(\"str\").astype(\"category\")"
   ]
  },
  {
   "cell_type": "code",
   "execution_count": 99,
   "metadata": {},
   "outputs": [
    {
     "data": {
      "text/html": [
       "<div>\n",
       "<style scoped>\n",
       "    .dataframe tbody tr th:only-of-type {\n",
       "        vertical-align: middle;\n",
       "    }\n",
       "\n",
       "    .dataframe tbody tr th {\n",
       "        vertical-align: top;\n",
       "    }\n",
       "\n",
       "    .dataframe thead th {\n",
       "        text-align: right;\n",
       "    }\n",
       "</style>\n",
       "<table border=\"1\" class=\"dataframe\">\n",
       "  <thead>\n",
       "    <tr style=\"text-align: right;\">\n",
       "      <th></th>\n",
       "      <th>Artist</th>\n",
       "      <th>Song Name</th>\n",
       "      <th>GPE</th>\n",
       "      <th>Line</th>\n",
       "      <th>Line Before</th>\n",
       "      <th>Line After</th>\n",
       "      <th>polarity</th>\n",
       "      <th>pos</th>\n",
       "      <th>neg</th>\n",
       "      <th>neu</th>\n",
       "      <th>compound</th>\n",
       "    </tr>\n",
       "  </thead>\n",
       "  <tbody>\n",
       "  </tbody>\n",
       "</table>\n",
       "</div>"
      ],
      "text/plain": [
       "Empty DataFrame\n",
       "Columns: [Artist, Song Name, GPE, Line, Line Before, Line After, polarity, pos, neg, neu, compound]\n",
       "Index: []"
      ]
     },
     "execution_count": 99,
     "metadata": {},
     "output_type": "execute_result"
    }
   ],
   "source": [
    "df_sample[df_sample.GPE==\"Bonita\"]"
   ]
  },
  {
   "cell_type": "code",
   "execution_count": 100,
   "metadata": {},
   "outputs": [],
   "source": [
    "df_filtered.to_csv(\"data/5010010012sasaawqwuzzdf.csv\")"
   ]
  },
  {
   "cell_type": "code",
   "execution_count": 10,
   "metadata": {},
   "outputs": [],
   "source": [
    "df_filtered=pd.read_csv(\"data/5010010012sasaawqwuzzdf.csv\")"
   ]
  },
  {
   "cell_type": "code",
   "execution_count": 11,
   "metadata": {},
   "outputs": [
    {
     "data": {
      "text/html": [
       "<div>\n",
       "<style scoped>\n",
       "    .dataframe tbody tr th:only-of-type {\n",
       "        vertical-align: middle;\n",
       "    }\n",
       "\n",
       "    .dataframe tbody tr th {\n",
       "        vertical-align: top;\n",
       "    }\n",
       "\n",
       "    .dataframe thead th {\n",
       "        text-align: right;\n",
       "    }\n",
       "</style>\n",
       "<table border=\"1\" class=\"dataframe\">\n",
       "  <thead>\n",
       "    <tr style=\"text-align: right;\">\n",
       "      <th></th>\n",
       "      <th>Unnamed: 0</th>\n",
       "      <th>Artist</th>\n",
       "      <th>Song Name</th>\n",
       "      <th>GPE</th>\n",
       "      <th>Line</th>\n",
       "      <th>Line Before</th>\n",
       "      <th>Line After</th>\n",
       "      <th>polarity</th>\n",
       "      <th>pos</th>\n",
       "      <th>neg</th>\n",
       "      <th>neu</th>\n",
       "      <th>compound</th>\n",
       "    </tr>\n",
       "  </thead>\n",
       "  <tbody>\n",
       "    <tr>\n",
       "      <th>0</th>\n",
       "      <td>0</td>\n",
       "      <td>French Montana</td>\n",
       "      <td>100</td>\n",
       "      <td>Montana</td>\n",
       "      <td>[Verse 3: French Montana]</td>\n",
       "      <td>NaN</td>\n",
       "      <td>My niggas put in work, shawty held me down</td>\n",
       "      <td>{'neg': 0.0, 'neu': 1.0, 'pos': 0.0, 'compound...</td>\n",
       "      <td>0.000</td>\n",
       "      <td>0.000</td>\n",
       "      <td>1.000</td>\n",
       "      <td>0.0000</td>\n",
       "    </tr>\n",
       "    <tr>\n",
       "      <th>1</th>\n",
       "      <td>3</td>\n",
       "      <td>French Montana</td>\n",
       "      <td>100</td>\n",
       "      <td>Montana</td>\n",
       "      <td>[Verse: French Montana]</td>\n",
       "      <td>NaN</td>\n",
       "      <td>Them niggas sold 17,000 (Hellooo)</td>\n",
       "      <td>{'neg': 0.0, 'neu': 1.0, 'pos': 0.0, 'compound...</td>\n",
       "      <td>0.000</td>\n",
       "      <td>0.000</td>\n",
       "      <td>1.000</td>\n",
       "      <td>0.0000</td>\n",
       "    </tr>\n",
       "    <tr>\n",
       "      <th>2</th>\n",
       "      <td>4</td>\n",
       "      <td>French Montana</td>\n",
       "      <td>100</td>\n",
       "      <td>Montana</td>\n",
       "      <td>Now rock with the new nigga, Montana! (oh!)</td>\n",
       "      <td>Homie, from weed, coke, pills, liquor</td>\n",
       "      <td>[Outro: Pillsbury dope boy]</td>\n",
       "      <td>{'neg': 0.0, 'neu': 1.0, 'pos': 0.0, 'compound...</td>\n",
       "      <td>0.000</td>\n",
       "      <td>0.000</td>\n",
       "      <td>1.000</td>\n",
       "      <td>0.0000</td>\n",
       "    </tr>\n",
       "    <tr>\n",
       "      <th>3</th>\n",
       "      <td>8</td>\n",
       "      <td>French Montana</td>\n",
       "      <td>100</td>\n",
       "      <td>Harlem</td>\n",
       "      <td>Shout out to ma niggas in Harlem</td>\n",
       "      <td>Motthaven, you know, Tremont</td>\n",
       "      <td>Can't call no blocks out there</td>\n",
       "      <td>{'neg': 0.0, 'neu': 1.0, 'pos': 0.0, 'compound...</td>\n",
       "      <td>0.000</td>\n",
       "      <td>0.000</td>\n",
       "      <td>1.000</td>\n",
       "      <td>0.0000</td>\n",
       "    </tr>\n",
       "    <tr>\n",
       "      <th>4</th>\n",
       "      <td>9</td>\n",
       "      <td>French Montana</td>\n",
       "      <td>100</td>\n",
       "      <td>Montana</td>\n",
       "      <td>If the pussy good, hit it two times4Embed', \"’...</td>\n",
       "      <td>If the pussy good, hit it two times</td>\n",
       "      <td>Money ain't everything nigga it's the only thing</td>\n",
       "      <td>{'neg': 0.0, 'neu': 0.707, 'pos': 0.293, 'comp...</td>\n",
       "      <td>0.293</td>\n",
       "      <td>0.000</td>\n",
       "      <td>0.707</td>\n",
       "      <td>0.4404</td>\n",
       "    </tr>\n",
       "    <tr>\n",
       "      <th>...</th>\n",
       "      <td>...</td>\n",
       "      <td>...</td>\n",
       "      <td>...</td>\n",
       "      <td>...</td>\n",
       "      <td>...</td>\n",
       "      <td>...</td>\n",
       "      <td>...</td>\n",
       "      <td>...</td>\n",
       "      <td>...</td>\n",
       "      <td>...</td>\n",
       "      <td>...</td>\n",
       "      <td>...</td>\n",
       "    </tr>\n",
       "    <tr>\n",
       "      <th>7703</th>\n",
       "      <td>13085</td>\n",
       "      <td>Ol' Dirty Bastard</td>\n",
       "      <td>All in Together Now</td>\n",
       "      <td>Brooklyn</td>\n",
       "      <td>I\\'m a Brooklyn soldier, yes, I\\'m is</td>\n",
       "      <td>Just in case, it\\'s goin\\' down</td>\n",
       "      <td>If you lookin\\' for a problem, here it is</td>\n",
       "      <td>{'neg': 0.0, 'neu': 1.0, 'pos': 0.0, 'compound...</td>\n",
       "      <td>0.000</td>\n",
       "      <td>0.000</td>\n",
       "      <td>1.000</td>\n",
       "      <td>0.0000</td>\n",
       "    </tr>\n",
       "    <tr>\n",
       "      <th>7704</th>\n",
       "      <td>13086</td>\n",
       "      <td>Ol' Dirty Bastard</td>\n",
       "      <td>All in Together Now</td>\n",
       "      <td>Brownsville</td>\n",
       "      <td>Down, to the Brownsville, oops you got smoked</td>\n",
       "      <td>I get you blurry in your eye with a high note</td>\n",
       "      <td>The shit I'm dropping is stinking up your area</td>\n",
       "      <td>{'neg': 0.149, 'neu': 0.851, 'pos': 0.0, 'comp...</td>\n",
       "      <td>0.000</td>\n",
       "      <td>0.149</td>\n",
       "      <td>0.851</td>\n",
       "      <td>-0.1027</td>\n",
       "    </tr>\n",
       "    <tr>\n",
       "      <th>7705</th>\n",
       "      <td>13088</td>\n",
       "      <td>Ol' Dirty Bastard</td>\n",
       "      <td>All in Together Now</td>\n",
       "      <td>Niggas</td>\n",
       "      <td>Niggas better loosеn they ass, felt the glass</td>\n",
       "      <td>So you betta\\' run for cover</td>\n",
       "      <td>A forty ouncе bottle, yo, yo, yo money, yo pass</td>\n",
       "      <td>{'neg': 0.0, 'neu': 1.0, 'pos': 0.0, 'compound...</td>\n",
       "      <td>0.000</td>\n",
       "      <td>0.000</td>\n",
       "      <td>1.000</td>\n",
       "      <td>0.0000</td>\n",
       "    </tr>\n",
       "    <tr>\n",
       "      <th>7706</th>\n",
       "      <td>13089</td>\n",
       "      <td>Ol' Dirty Bastard</td>\n",
       "      <td>All in Together Now</td>\n",
       "      <td>Brownsville</td>\n",
       "      <td>Down, to the Brownsville, oops you got smoked</td>\n",
       "      <td>I get you blurry in your eye with a high note</td>\n",
       "      <td>The shit I\\'m dropping is stinking up your area</td>\n",
       "      <td>{'neg': 0.149, 'neu': 0.851, 'pos': 0.0, 'comp...</td>\n",
       "      <td>0.000</td>\n",
       "      <td>0.149</td>\n",
       "      <td>0.851</td>\n",
       "      <td>-0.1027</td>\n",
       "    </tr>\n",
       "    <tr>\n",
       "      <th>7707</th>\n",
       "      <td>13090</td>\n",
       "      <td>Ol' Dirty Bastard</td>\n",
       "      <td>All in Together Now</td>\n",
       "      <td>New York</td>\n",
       "      <td>No, lea-ving, the state, of New York (stay home)</td>\n",
       "      <td>No, smo-king, Phil-ly, blunts, or Backwoods (n...</td>\n",
       "      <td>It's, all good, long as I can, still feel some...</td>\n",
       "      <td>{'neg': 0.239, 'neu': 0.761, 'pos': 0.0, 'comp...</td>\n",
       "      <td>0.000</td>\n",
       "      <td>0.239</td>\n",
       "      <td>0.761</td>\n",
       "      <td>-0.2960</td>\n",
       "    </tr>\n",
       "  </tbody>\n",
       "</table>\n",
       "<p>7708 rows × 12 columns</p>\n",
       "</div>"
      ],
      "text/plain": [
       "      Unnamed: 0             Artist            Song Name          GPE  \\\n",
       "0              0     French Montana                  100      Montana   \n",
       "1              3     French Montana                  100      Montana   \n",
       "2              4     French Montana                  100      Montana   \n",
       "3              8     French Montana                  100       Harlem   \n",
       "4              9     French Montana                  100      Montana   \n",
       "...          ...                ...                  ...          ...   \n",
       "7703       13085  Ol' Dirty Bastard  All in Together Now     Brooklyn   \n",
       "7704       13086  Ol' Dirty Bastard  All in Together Now  Brownsville   \n",
       "7705       13088  Ol' Dirty Bastard  All in Together Now       Niggas   \n",
       "7706       13089  Ol' Dirty Bastard  All in Together Now  Brownsville   \n",
       "7707       13090  Ol' Dirty Bastard  All in Together Now     New York   \n",
       "\n",
       "                                                   Line  \\\n",
       "0                             [Verse 3: French Montana]   \n",
       "1                               [Verse: French Montana]   \n",
       "2           Now rock with the new nigga, Montana! (oh!)   \n",
       "3                      Shout out to ma niggas in Harlem   \n",
       "4     If the pussy good, hit it two times4Embed', \"’...   \n",
       "...                                                 ...   \n",
       "7703              I\\'m a Brooklyn soldier, yes, I\\'m is   \n",
       "7704      Down, to the Brownsville, oops you got smoked   \n",
       "7705      Niggas better loosеn they ass, felt the glass   \n",
       "7706      Down, to the Brownsville, oops you got smoked   \n",
       "7707   No, lea-ving, the state, of New York (stay home)   \n",
       "\n",
       "                                            Line Before  \\\n",
       "0                                                   NaN   \n",
       "1                                                   NaN   \n",
       "2                 Homie, from weed, coke, pills, liquor   \n",
       "3                          Motthaven, you know, Tremont   \n",
       "4                   If the pussy good, hit it two times   \n",
       "...                                                 ...   \n",
       "7703                    Just in case, it\\'s goin\\' down   \n",
       "7704      I get you blurry in your eye with a high note   \n",
       "7705                       So you betta\\' run for cover   \n",
       "7706      I get you blurry in your eye with a high note   \n",
       "7707  No, smo-king, Phil-ly, blunts, or Backwoods (n...   \n",
       "\n",
       "                                             Line After  \\\n",
       "0            My niggas put in work, shawty held me down   \n",
       "1                     Them niggas sold 17,000 (Hellooo)   \n",
       "2                           [Outro: Pillsbury dope boy]   \n",
       "3                        Can't call no blocks out there   \n",
       "4      Money ain't everything nigga it's the only thing   \n",
       "...                                                 ...   \n",
       "7703          If you lookin\\' for a problem, here it is   \n",
       "7704     The shit I'm dropping is stinking up your area   \n",
       "7705    A forty ouncе bottle, yo, yo, yo money, yo pass   \n",
       "7706    The shit I\\'m dropping is stinking up your area   \n",
       "7707  It's, all good, long as I can, still feel some...   \n",
       "\n",
       "                                               polarity    pos    neg    neu  \\\n",
       "0     {'neg': 0.0, 'neu': 1.0, 'pos': 0.0, 'compound...  0.000  0.000  1.000   \n",
       "1     {'neg': 0.0, 'neu': 1.0, 'pos': 0.0, 'compound...  0.000  0.000  1.000   \n",
       "2     {'neg': 0.0, 'neu': 1.0, 'pos': 0.0, 'compound...  0.000  0.000  1.000   \n",
       "3     {'neg': 0.0, 'neu': 1.0, 'pos': 0.0, 'compound...  0.000  0.000  1.000   \n",
       "4     {'neg': 0.0, 'neu': 0.707, 'pos': 0.293, 'comp...  0.293  0.000  0.707   \n",
       "...                                                 ...    ...    ...    ...   \n",
       "7703  {'neg': 0.0, 'neu': 1.0, 'pos': 0.0, 'compound...  0.000  0.000  1.000   \n",
       "7704  {'neg': 0.149, 'neu': 0.851, 'pos': 0.0, 'comp...  0.000  0.149  0.851   \n",
       "7705  {'neg': 0.0, 'neu': 1.0, 'pos': 0.0, 'compound...  0.000  0.000  1.000   \n",
       "7706  {'neg': 0.149, 'neu': 0.851, 'pos': 0.0, 'comp...  0.000  0.149  0.851   \n",
       "7707  {'neg': 0.239, 'neu': 0.761, 'pos': 0.0, 'comp...  0.000  0.239  0.761   \n",
       "\n",
       "      compound  \n",
       "0       0.0000  \n",
       "1       0.0000  \n",
       "2       0.0000  \n",
       "3       0.0000  \n",
       "4       0.4404  \n",
       "...        ...  \n",
       "7703    0.0000  \n",
       "7704   -0.1027  \n",
       "7705    0.0000  \n",
       "7706   -0.1027  \n",
       "7707   -0.2960  \n",
       "\n",
       "[7708 rows x 12 columns]"
      ]
     },
     "execution_count": 11,
     "metadata": {},
     "output_type": "execute_result"
    }
   ],
   "source": [
    "df_filtered"
   ]
  },
  {
   "cell_type": "code",
   "execution_count": 101,
   "metadata": {},
   "outputs": [
    {
     "data": {
      "text/plain": [
       "<seaborn.axisgrid.FacetGrid at 0x7fa004260730>"
      ]
     },
     "execution_count": 101,
     "metadata": {},
     "output_type": "execute_result"
    },
    {
     "data": {
      "image/png": "[encoded data removed]",
      "text/plain": [
       "<Figure size 1584x792 with 1 Axes>"
      ]
     },
     "metadata": {},
     "output_type": "display_data"
    }
   ],
   "source": [
    "sns.catplot(data=df_sample, y=\"compound\", x=\"GPE\", kind=\"boxen\", height=11, aspect=2)\n"
   ]
  },
  {
   "cell_type": "markdown",
   "metadata": {},
   "source": [
    "TODO : plot la distribution entière y"
   ]
  }
 ],
 "metadata": {
  "interpreter": {
   "hash": "f97c73c0b3dc31f822db09fd3a845cf7aea59669cad4c0e0074f0d49bf5c3633"
  },
  "kernelspec": {
   "display_name": "DS-env",
   "language": "python",
   "name": "ds-env"
  },
  "language_info": {
   "codemirror_mode": {
    "name": "ipython",
    "version": 3
   },
   "file_extension": ".py",
   "mimetype": "text/x-python",
   "name": "python",
   "nbconvert_exporter": "python",
   "pygments_lexer": "ipython3",
   "version": "3.9.7"
  },
  "orig_nbformat": 4
 },
 "nbformat": 4,
 "nbformat_minor": 2
}
