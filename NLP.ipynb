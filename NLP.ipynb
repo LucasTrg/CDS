{
 "cells": [
  {
   "cell_type": "code",
   "execution_count": 56,
   "source": [
    "import pandas as pd\n",
    "import spacy\n",
    "from spacy import displacy\n",
    "import nltk\n",
    "import matplotlib.pyplot as plt\n",
    "import seaborn as sns"
   ],
   "outputs": [],
   "metadata": {}
  },
  {
   "cell_type": "code",
   "execution_count": 103,
   "source": [
    "plt.rcParams['figure.figsize'] = 15,8\n",
    "sns.set(rc={'figure.figsize':(15,8)})"
   ],
   "outputs": [],
   "metadata": {}
  },
  {
   "cell_type": "code",
   "execution_count": 21,
   "source": [
    "df = pd.read_csv(\"data/lyrics/genius_v3.csv\")"
   ],
   "outputs": [],
   "metadata": {}
  },
  {
   "cell_type": "code",
   "execution_count": 22,
   "source": [
    "genius=df.iloc[:,2:]"
   ],
   "outputs": [],
   "metadata": {}
  },
  {
   "cell_type": "code",
   "execution_count": 23,
   "source": [
    "nlp = spacy.load(\"en_core_web_lg\")\n"
   ],
   "outputs": [],
   "metadata": {}
  },
  {
   "cell_type": "code",
   "execution_count": 24,
   "source": [
    "neighborhoods=pd.read_csv(\"data/neighborhoods/cleaned_neighborhoods.csv\").iloc[:,1:].Neighborhoods.values.sum().split(\", \")"
   ],
   "outputs": [],
   "metadata": {}
  },
  {
   "cell_type": "code",
   "execution_count": 25,
   "source": [
    "import regex as re"
   ],
   "outputs": [],
   "metadata": {}
  },
  {
   "cell_type": "code",
   "execution_count": 26,
   "source": [
    "start_template=\"\\[\\\"(.*) Lyrics\\[\"\n",
    "m=re.search(start_template,'\"[\"Unforgettable Lyrics[Chorus: Swae Lee]')\n",
    "m.group(1)"
   ],
   "outputs": [
    {
     "output_type": "execute_result",
     "data": {
      "text/plain": [
       "'Unforgettable'"
      ]
     },
     "metadata": {},
     "execution_count": 26
    }
   ],
   "metadata": {}
  },
  {
   "cell_type": "code",
   "execution_count": 27,
   "source": [
    "for ent in nlp(\"Feelin' like I'm fresh out of Bronx\").ents:\n",
    "    print(ent.text, ent.start_char, ent.end_char, ent.label_)\n"
   ],
   "outputs": [
    {
     "output_type": "stream",
     "name": "stdout",
     "text": [
      "Feelin 0 6 ORG\n",
      "Bronx 30 35 GPE\n"
     ]
    }
   ],
   "metadata": {}
  },
  {
   "cell_type": "code",
   "execution_count": 28,
   "source": [
    "LoI=[]\n",
    "for artist,songs in zip(genius.Name, genius.lyrics):\n",
    "    lines=str(songs).split(\"\\\\n\")\n",
    "    for i,line in enumerate(str(songs).split(\"\\\\n\")):\n",
    "        m=re.search(start_template,line)\n",
    "        line = str(line).replace(\"\\'\", \"'\")\n",
    "        if m :\n",
    "            song_name = m.group(1)\n",
    "        else:\n",
    "            doc = nlp(line)\n",
    "            for ent in doc.ents:\n",
    "                if ent.label_==\"GPE\" or ent.label_==\"LOC\" or ent.text in neighborhoods:\n",
    "                    LoI.append([artist, song_name, ent.text,str(line), str(lines[i-1]) if i!=0 else \"\", str(lines[i+1]) if i<(len(lines)-1) else \"\"])\n"
   ],
   "outputs": [],
   "metadata": {}
  },
  {
   "cell_type": "code",
   "execution_count": 29,
   "source": [
    "df=pd.DataFrame(LoI, columns=[\"Artist\", \"Song Name\", \"GPE\", \"Line\", \"Line Before\", \"Line After\"])\n",
    "df.to_csv(\"data/lyrics/genius_ner_v3.csv\", index=False)"
   ],
   "outputs": [],
   "metadata": {}
  },
  {
   "cell_type": "code",
   "execution_count": 31,
   "source": [
    "df=pd.read_csv(\"data/lyrics/genius_ner_v3.csv\")"
   ],
   "outputs": [],
   "metadata": {}
  },
  {
   "cell_type": "code",
   "execution_count": 32,
   "source": [
    "df"
   ],
   "outputs": [
    {
     "output_type": "execute_result",
     "data": {
      "text/html": [
       "<div>\n",
       "<style scoped>\n",
       "    .dataframe tbody tr th:only-of-type {\n",
       "        vertical-align: middle;\n",
       "    }\n",
       "\n",
       "    .dataframe tbody tr th {\n",
       "        vertical-align: top;\n",
       "    }\n",
       "\n",
       "    .dataframe thead th {\n",
       "        text-align: right;\n",
       "    }\n",
       "</style>\n",
       "<table border=\"1\" class=\"dataframe\">\n",
       "  <thead>\n",
       "    <tr style=\"text-align: right;\">\n",
       "      <th></th>\n",
       "      <th>Artist</th>\n",
       "      <th>Song Name</th>\n",
       "      <th>GPE</th>\n",
       "      <th>Line</th>\n",
       "      <th>Line Before</th>\n",
       "      <th>Line After</th>\n",
       "    </tr>\n",
       "  </thead>\n",
       "  <tbody>\n",
       "    <tr>\n",
       "      <th>0</th>\n",
       "      <td>French Montana</td>\n",
       "      <td>Unforgettable</td>\n",
       "      <td>Montana</td>\n",
       "      <td>[Verse 1: French Montana]</td>\n",
       "      <td>Tryna do what lovers do</td>\n",
       "      <td>Feelin' like I'm fresh out; Boosie (Boosie)</td>\n",
       "    </tr>\n",
       "    <tr>\n",
       "      <th>1</th>\n",
       "      <td>French Montana</td>\n",
       "      <td>Unforgettable</td>\n",
       "      <td>Montana</td>\n",
       "      <td>[Refrain: Swae Lee &amp; French Montana]</td>\n",
       "      <td>'Cause I pulled out a million cash, told her p...</td>\n",
       "      <td>And you are unforgettable</td>\n",
       "    </tr>\n",
       "    <tr>\n",
       "      <th>2</th>\n",
       "      <td>French Montana</td>\n",
       "      <td>Unforgettable</td>\n",
       "      <td>Montana</td>\n",
       "      <td>[Verse 2: French Montana]</td>\n",
       "      <td>Tryna do what lovers do</td>\n",
       "      <td>You ain't enough for me</td>\n",
       "    </tr>\n",
       "    <tr>\n",
       "      <th>3</th>\n",
       "      <td>French Montana</td>\n",
       "      <td>Unforgettable</td>\n",
       "      <td>Montana</td>\n",
       "      <td>[Refrain: Swae Lee &amp; French Montana]</td>\n",
       "      <td>Baby girl, work your body, work your body</td>\n",
       "      <td>And you are unforgettable</td>\n",
       "    </tr>\n",
       "    <tr>\n",
       "      <th>4</th>\n",
       "      <td>French Montana</td>\n",
       "      <td>Unforgettable</td>\n",
       "      <td>Montana</td>\n",
       "      <td>[Chorus: Uncle Luke &amp; French Montana]</td>\n",
       "      <td>NaN</td>\n",
       "      <td>Don\\'t stop, pop that, don\\'t stop</td>\n",
       "    </tr>\n",
       "    <tr>\n",
       "      <th>...</th>\n",
       "      <td>...</td>\n",
       "      <td>...</td>\n",
       "      <td>...</td>\n",
       "      <td>...</td>\n",
       "      <td>...</td>\n",
       "      <td>...</td>\n",
       "    </tr>\n",
       "    <tr>\n",
       "      <th>3275</th>\n",
       "      <td>Ol' Dirty Bastard</td>\n",
       "      <td>Baby Blue</td>\n",
       "      <td>East</td>\n",
       "      <td>When you take North, East, West, South</td>\n",
       "      <td>To the South</td>\n",
       "      <td>Put it all together and it spell NEWS!</td>\n",
       "    </tr>\n",
       "    <tr>\n",
       "      <th>3276</th>\n",
       "      <td>Ol' Dirty Bastard</td>\n",
       "      <td>Baby Blue</td>\n",
       "      <td>West</td>\n",
       "      <td>When you take North, East, West, South</td>\n",
       "      <td>To the South</td>\n",
       "      <td>Put it all together and it spell NEWS!</td>\n",
       "    </tr>\n",
       "    <tr>\n",
       "      <th>3277</th>\n",
       "      <td>Ol' Dirty Bastard</td>\n",
       "      <td>Baby Blue</td>\n",
       "      <td>South</td>\n",
       "      <td>When you take North, East, West, South</td>\n",
       "      <td>To the South</td>\n",
       "      <td>Put it all together and it spell NEWS!</td>\n",
       "    </tr>\n",
       "    <tr>\n",
       "      <th>3278</th>\n",
       "      <td>Ol' Dirty Bastard</td>\n",
       "      <td>Baby Blue</td>\n",
       "      <td>Brooklyn</td>\n",
       "      <td>Fuck is goin on, niggas from Brooklyn don’t fu...</td>\n",
       "      <td>Is the Brooklyn Zoo in the muthafucka house?</td>\n",
       "      <td>Niggas don’t yell like that</td>\n",
       "    </tr>\n",
       "    <tr>\n",
       "      <th>3279</th>\n",
       "      <td>Ol' Dirty Bastard</td>\n",
       "      <td>Baby Blue</td>\n",
       "      <td>Harlem</td>\n",
       "      <td>Rhymes is rugged like burnt buildings in Harlem</td>\n",
       "      <td>[Verse 2: Ol’ Dirty Bastard &amp; RZA]</td>\n",
       "      <td>The Ol’ Dirty Bastard from the Temple of Shaolin</td>\n",
       "    </tr>\n",
       "  </tbody>\n",
       "</table>\n",
       "<p>3280 rows × 6 columns</p>\n",
       "</div>"
      ],
      "text/plain": [
       "                 Artist      Song Name       GPE  \\\n",
       "0        French Montana  Unforgettable   Montana   \n",
       "1        French Montana  Unforgettable   Montana   \n",
       "2        French Montana  Unforgettable   Montana   \n",
       "3        French Montana  Unforgettable   Montana   \n",
       "4        French Montana  Unforgettable   Montana   \n",
       "...                 ...            ...       ...   \n",
       "3275  Ol' Dirty Bastard      Baby Blue      East   \n",
       "3276  Ol' Dirty Bastard      Baby Blue      West   \n",
       "3277  Ol' Dirty Bastard      Baby Blue     South   \n",
       "3278  Ol' Dirty Bastard      Baby Blue  Brooklyn   \n",
       "3279  Ol' Dirty Bastard      Baby Blue    Harlem   \n",
       "\n",
       "                                                   Line  \\\n",
       "0                             [Verse 1: French Montana]   \n",
       "1                  [Refrain: Swae Lee & French Montana]   \n",
       "2                             [Verse 2: French Montana]   \n",
       "3                  [Refrain: Swae Lee & French Montana]   \n",
       "4                 [Chorus: Uncle Luke & French Montana]   \n",
       "...                                                 ...   \n",
       "3275             When you take North, East, West, South   \n",
       "3276             When you take North, East, West, South   \n",
       "3277             When you take North, East, West, South   \n",
       "3278  Fuck is goin on, niggas from Brooklyn don’t fu...   \n",
       "3279    Rhymes is rugged like burnt buildings in Harlem   \n",
       "\n",
       "                                            Line Before  \\\n",
       "0                               Tryna do what lovers do   \n",
       "1     'Cause I pulled out a million cash, told her p...   \n",
       "2                               Tryna do what lovers do   \n",
       "3             Baby girl, work your body, work your body   \n",
       "4                                                   NaN   \n",
       "...                                                 ...   \n",
       "3275                                       To the South   \n",
       "3276                                       To the South   \n",
       "3277                                       To the South   \n",
       "3278       Is the Brooklyn Zoo in the muthafucka house?   \n",
       "3279                 [Verse 2: Ol’ Dirty Bastard & RZA]   \n",
       "\n",
       "                                            Line After  \n",
       "0          Feelin' like I'm fresh out; Boosie (Boosie)  \n",
       "1                            And you are unforgettable  \n",
       "2                              You ain't enough for me  \n",
       "3                            And you are unforgettable  \n",
       "4                   Don\\'t stop, pop that, don\\'t stop  \n",
       "...                                                ...  \n",
       "3275            Put it all together and it spell NEWS!  \n",
       "3276            Put it all together and it spell NEWS!  \n",
       "3277            Put it all together and it spell NEWS!  \n",
       "3278                       Niggas don’t yell like that  \n",
       "3279  The Ol’ Dirty Bastard from the Temple of Shaolin  \n",
       "\n",
       "[3280 rows x 6 columns]"
      ]
     },
     "metadata": {},
     "execution_count": 32
    }
   ],
   "metadata": {}
  },
  {
   "cell_type": "code",
   "execution_count": 33,
   "source": [
    "df.GPE.value_counts()"
   ],
   "outputs": [
    {
     "output_type": "execute_result",
     "data": {
      "text/plain": [
       "New York          163\n",
       "Brooklyn          138\n",
       "Montana            87\n",
       "Cali               73\n",
       "Earth              72\n",
       "                 ... \n",
       "don                 1\n",
       "Esco                1\n",
       "Silkk               1\n",
       "Ukraine             1\n",
       "Blueberry Hill      1\n",
       "Name: GPE, Length: 1061, dtype: int64"
      ]
     },
     "metadata": {},
     "execution_count": 33
    }
   ],
   "metadata": {}
  },
  {
   "cell_type": "code",
   "execution_count": 34,
   "source": [
    "df.shape"
   ],
   "outputs": [
    {
     "output_type": "execute_result",
     "data": {
      "text/plain": [
       "(3280, 6)"
      ]
     },
     "metadata": {},
     "execution_count": 34
    }
   ],
   "metadata": {}
  },
  {
   "cell_type": "code",
   "execution_count": 156,
   "source": [
    "view =df[df.GPE==\"East\"]\n",
    "view.shape"
   ],
   "outputs": [
    {
     "output_type": "execute_result",
     "data": {
      "text/plain": [
       "(32, 11)"
      ]
     },
     "metadata": {},
     "execution_count": 156
    }
   ],
   "metadata": {}
  },
  {
   "cell_type": "code",
   "execution_count": 157,
   "source": [
    "view.iloc[:30].apply(lambda row : displacy.render(nlp(str(row[\"Line Before\"])+\"\\n\"+str(row[\"Line\"])+\"\\n\"+str(row[\"Line After\"])),style=\"ent\"),axis=1)"
   ],
   "outputs": [
    {
     "output_type": "display_data",
     "data": {
      "text/html": [
       "<span class=\"tex2jax_ignore\"><div class=\"entities\" style=\"line-height: 2.5; direction: ltr\">The instamatic focal point bringin\\' damage to your borough</br>Be some brothers from the \n",
       "<mark class=\"entity\" style=\"background: #ff9561; padding: 0.45em 0.6em; margin: 0 0.25em; line-height: 1; border-radius: 0.35em;\">\n",
       "    East\n",
       "    <span style=\"font-size: 0.8em; font-weight: bold; line-height: 1; border-radius: 0.35em; vertical-align: middle; margin-left: 0.5rem\">LOC</span>\n",
       "</mark>\n",
       " with them beats that be thorough</br>Got the solar gravitation, so I\\'m bound to pull it</div></span>"
      ],
      "text/plain": [
       "<IPython.core.display.HTML object>"
      ]
     },
     "metadata": {}
    },
    {
     "output_type": "stream",
     "name": "stderr",
     "text": [
      "/home/lucastrg/FLEP/DS-env/lib/python3.9/site-packages/spacy/displacy/__init__.py:200: UserWarning: [W006] No entities to visualize found in Doc object. If this is surprising to you, make sure the Doc was processed using a model that supports named entity recognition, and check the `doc.ents` property manually if necessary.\n",
      "  warnings.warn(Warnings.W006)\n"
     ]
    },
    {
     "output_type": "display_data",
     "data": {
      "text/html": [
       "<span class=\"tex2jax_ignore\"><div class=\"entities\" style=\"line-height: 2.5; direction: ltr\">[Verse 2]</br>Rest in peace to my niggas in the East</br>And all the real niggas that was shot by beast</div></span>"
      ],
      "text/plain": [
       "<IPython.core.display.HTML object>"
      ]
     },
     "metadata": {}
    },
    {
     "output_type": "display_data",
     "data": {
      "text/html": [
       "<span class=\"tex2jax_ignore\"><div class=\"entities\" style=\"line-height: 2.5; direction: ltr\">But not with just another negotiation</br>He went to the \n",
       "<mark class=\"entity\" style=\"background: #ff9561; padding: 0.45em 0.6em; margin: 0 0.25em; line-height: 1; border-radius: 0.35em;\">\n",
       "    East\n",
       "    <span style=\"font-size: 0.8em; font-weight: bold; line-height: 1; border-radius: 0.35em; vertical-align: middle; margin-left: 0.5rem\">LOC</span>\n",
       "</mark>\n",
       " for human's rights</br>To free the lieutenant shot down in flight</div></span>"
      ],
      "text/plain": [
       "<IPython.core.display.HTML object>"
      ]
     },
     "metadata": {}
    },
    {
     "output_type": "display_data",
     "data": {
      "text/html": [
       "<span class=\"tex2jax_ignore\"><div class=\"entities\" style=\"line-height: 2.5; direction: ltr\">\n",
       "<mark class=\"entity\" style=\"background: #ff9561; padding: 0.45em 0.6em; margin: 0 0.25em; line-height: 1; border-radius: 0.35em;\">\n",
       "    West coast\n",
       "    <span style=\"font-size: 0.8em; font-weight: bold; line-height: 1; border-radius: 0.35em; vertical-align: middle; margin-left: 0.5rem\">LOC</span>\n",
       "</mark>\n",
       ", \n",
       "<mark class=\"entity\" style=\"background: #ff9561; padding: 0.45em 0.6em; margin: 0 0.25em; line-height: 1; border-radius: 0.35em;\">\n",
       "    East coast\n",
       "    <span style=\"font-size: 0.8em; font-weight: bold; line-height: 1; border-radius: 0.35em; vertical-align: middle; margin-left: 0.5rem\">LOC</span>\n",
       "</mark>\n",
       "</br>West, uhh, \n",
       "<mark class=\"entity\" style=\"background: #ff9561; padding: 0.45em 0.6em; margin: 0 0.25em; line-height: 1; border-radius: 0.35em;\">\n",
       "    East\n",
       "    <span style=\"font-size: 0.8em; font-weight: bold; line-height: 1; border-radius: 0.35em; vertical-align: middle; margin-left: 0.5rem\">LOC</span>\n",
       "</mark>\n",
       ", ahh</br>Uhh, that \n",
       "<mark class=\"entity\" style=\"background: #aa9cfc; padding: 0.45em 0.6em; margin: 0 0.25em; line-height: 1; border-radius: 0.35em;\">\n",
       "    nigga Ras\n",
       "    <span style=\"font-size: 0.8em; font-weight: bold; line-height: 1; border-radius: 0.35em; vertical-align: middle; margin-left: 0.5rem\">PERSON</span>\n",
       "</mark>\n",
       ", that nigga \n",
       "<mark class=\"entity\" style=\"background: #feca74; padding: 0.45em 0.6em; margin: 0 0.25em; line-height: 1; border-radius: 0.35em;\">\n",
       "    Chino\n",
       "    <span style=\"font-size: 0.8em; font-weight: bold; line-height: 1; border-radius: 0.35em; vertical-align: middle; margin-left: 0.5rem\">GPE</span>\n",
       "</mark>\n",
       "</div></span>"
      ],
      "text/plain": [
       "<IPython.core.display.HTML object>"
      ]
     },
     "metadata": {}
    },
    {
     "output_type": "display_data",
     "data": {
      "text/html": [
       "<span class=\"tex2jax_ignore\"><div class=\"entities\" style=\"line-height: 2.5; direction: ltr\">So take your, style and Go-Go like \n",
       "<mark class=\"entity\" style=\"background: #feca74; padding: 0.45em 0.6em; margin: 0 0.25em; line-height: 1; border-radius: 0.35em;\">\n",
       "    D.C.\n",
       "    <span style=\"font-size: 0.8em; font-weight: bold; line-height: 1; border-radius: 0.35em; vertical-align: middle; margin-left: 0.5rem\">GPE</span>\n",
       "</mark>\n",
       " niggas</br>\n",
       "<mark class=\"entity\" style=\"background: #f0d0ff; padding: 0.45em 0.6em; margin: 0 0.25em; line-height: 1; border-radius: 0.35em;\">\n",
       "    Y'all\n",
       "    <span style=\"font-size: 0.8em; font-weight: bold; line-height: 1; border-radius: 0.35em; vertical-align: middle; margin-left: 0.5rem\">WORK_OF_ART</span>\n",
       "</mark>\n",
       " know the haps we movin strapped on the \n",
       "<mark class=\"entity\" style=\"background: #ff9561; padding: 0.45em 0.6em; margin: 0 0.25em; line-height: 1; border-radius: 0.35em;\">\n",
       "    East\n",
       "    <span style=\"font-size: 0.8em; font-weight: bold; line-height: 1; border-radius: 0.35em; vertical-align: middle; margin-left: 0.5rem\">LOC</span>\n",
       "</mark>\n",
       " nigga</br>Yo, yo, well miggedy \n",
       "<mark class=\"entity\" style=\"background: #bfe1d9; padding: 0.45em 0.6em; margin: 0 0.25em; line-height: 1; border-radius: 0.35em;\">\n",
       "    mayday\n",
       "    <span style=\"font-size: 0.8em; font-weight: bold; line-height: 1; border-radius: 0.35em; vertical-align: middle; margin-left: 0.5rem\">DATE</span>\n",
       "</mark>\n",
       ", \n",
       "<mark class=\"entity\" style=\"background: #feca74; padding: 0.45em 0.6em; margin: 0 0.25em; line-height: 1; border-radius: 0.35em;\">\n",
       "    mayday\n",
       "    <span style=\"font-size: 0.8em; font-weight: bold; line-height: 1; border-radius: 0.35em; vertical-align: middle; margin-left: 0.5rem\">GPE</span>\n",
       "</mark>\n",
       ", it's \n",
       "<mark class=\"entity\" style=\"background: #7aecec; padding: 0.45em 0.6em; margin: 0 0.25em; line-height: 1; border-radius: 0.35em;\">\n",
       "    Krazy Drayz's\n",
       "    <span style=\"font-size: 0.8em; font-weight: bold; line-height: 1; border-radius: 0.35em; vertical-align: middle; margin-left: 0.5rem\">ORG</span>\n",
       "</mark>\n",
       " payday</div></span>"
      ],
      "text/plain": [
       "<IPython.core.display.HTML object>"
      ]
     },
     "metadata": {}
    },
    {
     "output_type": "display_data",
     "data": {
      "text/html": [
       "<span class=\"tex2jax_ignore\"><div class=\"entities\" style=\"line-height: 2.5; direction: ltr\">\n",
       "<mark class=\"entity\" style=\"background: #aa9cfc; padding: 0.45em 0.6em; margin: 0 0.25em; line-height: 1; border-radius: 0.35em;\">\n",
       "    Askin\n",
       "    <span style=\"font-size: 0.8em; font-weight: bold; line-height: 1; border-radius: 0.35em; vertical-align: middle; margin-left: 0.5rem\">PERSON</span>\n",
       "</mark>\n",
       " for credit? You can forget it!</br>\n",
       "<mark class=\"entity\" style=\"background: #feca74; padding: 0.45em 0.6em; margin: 0 0.25em; line-height: 1; border-radius: 0.35em;\">\n",
       "    North\n",
       "    <span style=\"font-size: 0.8em; font-weight: bold; line-height: 1; border-radius: 0.35em; vertical-align: middle; margin-left: 0.5rem\">GPE</span>\n",
       "</mark>\n",
       ", \n",
       "<mark class=\"entity\" style=\"background: #ff9561; padding: 0.45em 0.6em; margin: 0 0.25em; line-height: 1; border-radius: 0.35em;\">\n",
       "    South\n",
       "    <span style=\"font-size: 0.8em; font-weight: bold; line-height: 1; border-radius: 0.35em; vertical-align: middle; margin-left: 0.5rem\">LOC</span>\n",
       "</mark>\n",
       ", \n",
       "<mark class=\"entity\" style=\"background: #ff9561; padding: 0.45em 0.6em; margin: 0 0.25em; line-height: 1; border-radius: 0.35em;\">\n",
       "    East\n",
       "    <span style=\"font-size: 0.8em; font-weight: bold; line-height: 1; border-radius: 0.35em; vertical-align: middle; margin-left: 0.5rem\">LOC</span>\n",
       "</mark>\n",
       ", West! ... \n",
       "<mark class=\"entity\" style=\"background: #aa9cfc; padding: 0.45em 0.6em; margin: 0 0.25em; line-height: 1; border-radius: 0.35em;\">\n",
       "    Yo\n",
       "    <span style=\"font-size: 0.8em; font-weight: bold; line-height: 1; border-radius: 0.35em; vertical-align: middle; margin-left: 0.5rem\">PERSON</span>\n",
       "</mark>\n",
       ", put \\'em up, put \\'em up, put \\'em up</br>It\\'s your/it\\'s your/it\\'s your - it\\'s yours!</div></span>"
      ],
      "text/plain": [
       "<IPython.core.display.HTML object>"
      ]
     },
     "metadata": {}
    },
    {
     "output_type": "display_data",
     "data": {
      "text/html": [
       "<span class=\"tex2jax_ignore\"><div class=\"entities\" style=\"line-height: 2.5; direction: ltr\">Drink the grand cru straight no soda</br>From the \n",
       "<mark class=\"entity\" style=\"background: #ff9561; padding: 0.45em 0.6em; margin: 0 0.25em; line-height: 1; border-radius: 0.35em;\">\n",
       "    East\n",
       "    <span style=\"font-size: 0.8em; font-weight: bold; line-height: 1; border-radius: 0.35em; vertical-align: middle; margin-left: 0.5rem\">LOC</span>\n",
       "</mark>\n",
       " to \n",
       "<mark class=\"entity\" style=\"background: #ff9561; padding: 0.45em 0.6em; margin: 0 0.25em; line-height: 1; border-radius: 0.35em;\">\n",
       "    the West coast\n",
       "    <span style=\"font-size: 0.8em; font-weight: bold; line-height: 1; border-radius: 0.35em; vertical-align: middle; margin-left: 0.5rem\">LOC</span>\n",
       "</mark>\n",
       "</br>\n",
       "<mark class=\"entity\" style=\"background: #aa9cfc; padding: 0.45em 0.6em; margin: 0 0.25em; line-height: 1; border-radius: 0.35em;\">\n",
       "    Mami\n",
       "    <span style=\"font-size: 0.8em; font-weight: bold; line-height: 1; border-radius: 0.35em; vertical-align: middle; margin-left: 0.5rem\">PERSON</span>\n",
       "</mark>\n",
       " screaming baby dont cry</div></span>"
      ],
      "text/plain": [
       "<IPython.core.display.HTML object>"
      ]
     },
     "metadata": {}
    },
    {
     "output_type": "display_data",
     "data": {
      "text/html": [
       "<span class=\"tex2jax_ignore\"><div class=\"entities\" style=\"line-height: 2.5; direction: ltr\">[Verse 2]</br>Here\\'s what the \n",
       "<mark class=\"entity\" style=\"background: #ff9561; padding: 0.45em 0.6em; margin: 0 0.25em; line-height: 1; border-radius: 0.35em;\">\n",
       "    West\n",
       "    <span style=\"font-size: 0.8em; font-weight: bold; line-height: 1; border-radius: 0.35em; vertical-align: middle; margin-left: 0.5rem\">LOC</span>\n",
       "</mark>\n",
       " and the \n",
       "<mark class=\"entity\" style=\"background: #ff9561; padding: 0.45em 0.6em; margin: 0 0.25em; line-height: 1; border-radius: 0.35em;\">\n",
       "    East\n",
       "    <span style=\"font-size: 0.8em; font-weight: bold; line-height: 1; border-radius: 0.35em; vertical-align: middle; margin-left: 0.5rem\">LOC</span>\n",
       "</mark>\n",
       " have in common</br>Both have black cops in cars profilin</div></span>"
      ],
      "text/plain": [
       "<IPython.core.display.HTML object>"
      ]
     },
     "metadata": {}
    },
    {
     "output_type": "display_data",
     "data": {
      "text/html": [
       "<span class=\"tex2jax_ignore\"><div class=\"entities\" style=\"line-height: 2.5; direction: ltr\">Hardcore kids in the \n",
       "<mark class=\"entity\" style=\"background: #ff9561; padding: 0.45em 0.6em; margin: 0 0.25em; line-height: 1; border-radius: 0.35em;\">\n",
       "    West\n",
       "    <span style=\"font-size: 0.8em; font-weight: bold; line-height: 1; border-radius: 0.35em; vertical-align: middle; margin-left: 0.5rem\">LOC</span>\n",
       "</mark>\n",
       " got stress</br>In the \n",
       "<mark class=\"entity\" style=\"background: #ff9561; padding: 0.45em 0.6em; margin: 0 0.25em; line-height: 1; border-radius: 0.35em;\">\n",
       "    East\n",
       "    <span style=\"font-size: 0.8em; font-weight: bold; line-height: 1; border-radius: 0.35em; vertical-align: middle; margin-left: 0.5rem\">LOC</span>\n",
       "</mark>\n",
       " we are chased by the same black beast</br>The black cop is the only real obstacle</div></span>"
      ],
      "text/plain": [
       "<IPython.core.display.HTML object>"
      ]
     },
     "metadata": {}
    },
    {
     "output_type": "display_data",
     "data": {
      "text/html": [
       "<span class=\"tex2jax_ignore\"><div class=\"entities\" style=\"line-height: 2.5; direction: ltr\">The City, ain\\'t no pity, for the beast</br>It\\'s \n",
       "<mark class=\"entity\" style=\"background: #aa9cfc; padding: 0.45em 0.6em; margin: 0 0.25em; line-height: 1; border-radius: 0.35em;\">\n",
       "    Hakim\n",
       "    <span style=\"font-size: 0.8em; font-weight: bold; line-height: 1; border-radius: 0.35em; vertical-align: middle; margin-left: 0.5rem\">PERSON</span>\n",
       "</mark>\n",
       " that voice from the East</br>nan</div></span>"
      ],
      "text/plain": [
       "<IPython.core.display.HTML object>"
      ]
     },
     "metadata": {}
    },
    {
     "output_type": "display_data",
     "data": {
      "text/html": [
       "<span class=\"tex2jax_ignore\"><div class=\"entities\" style=\"line-height: 2.5; direction: ltr\">Increase the peace that cease 'cause once I release</br>My crew from the \n",
       "<mark class=\"entity\" style=\"background: #ff9561; padding: 0.45em 0.6em; margin: 0 0.25em; line-height: 1; border-radius: 0.35em;\">\n",
       "    East\n",
       "    <span style=\"font-size: 0.8em; font-weight: bold; line-height: 1; border-radius: 0.35em; vertical-align: middle; margin-left: 0.5rem\">LOC</span>\n",
       "</mark>\n",
       ", we leavin' \n",
       "<mark class=\"entity\" style=\"background: #e4e7d2; padding: 0.45em 0.6em; margin: 0 0.25em; line-height: 1; border-radius: 0.35em;\">\n",
       "    at least 20\n",
       "    <span style=\"font-size: 0.8em; font-weight: bold; line-height: 1; border-radius: 0.35em; vertical-align: middle; margin-left: 0.5rem\">CARDINAL</span>\n",
       "</mark>\n",
       " police deceased</br>It's the beast on attack, so make tracks, I break backs</div></span>"
      ],
      "text/plain": [
       "<IPython.core.display.HTML object>"
      ]
     },
     "metadata": {}
    },
    {
     "output_type": "display_data",
     "data": {
      "text/html": [
       "<span class=\"tex2jax_ignore\"><div class=\"entities\" style=\"line-height: 2.5; direction: ltr\">Went for Tootie \\'cause the girl was much older</br>East to the \n",
       "<mark class=\"entity\" style=\"background: #7aecec; padding: 0.45em 0.6em; margin: 0 0.25em; line-height: 1; border-radius: 0.35em;\">\n",
       "    Benz\n",
       "    <span style=\"font-size: 0.8em; font-weight: bold; line-height: 1; border-radius: 0.35em; vertical-align: middle; margin-left: 0.5rem\">ORG</span>\n",
       "</mark>\n",
       ", I slowly walked</br>Clearing out my throat so I cold start my smooth talk</div></span>"
      ],
      "text/plain": [
       "<IPython.core.display.HTML object>"
      ]
     },
     "metadata": {}
    },
    {
     "output_type": "display_data",
     "data": {
      "text/html": [
       "<span class=\"tex2jax_ignore\"><div class=\"entities\" style=\"line-height: 2.5; direction: ltr\">The Epic is that \n",
       "<mark class=\"entity\" style=\"background: #7aecec; padding: 0.45em 0.6em; margin: 0 0.25em; line-height: 1; border-radius: 0.35em;\">\n",
       "    I Rush Associated Labels\n",
       "\n",
       "    <span style=\"font-size: 0.8em; font-weight: bold; line-height: 1; border-radius: 0.35em; vertical-align: middle; margin-left: 0.5rem\">ORG</span>\n",
       "</mark>\n",
       "From \n",
       "<mark class=\"entity\" style=\"background: #ff9561; padding: 0.45em 0.6em; margin: 0 0.25em; line-height: 1; border-radius: 0.35em;\">\n",
       "    East\n",
       "    <span style=\"font-size: 0.8em; font-weight: bold; line-height: 1; border-radius: 0.35em; vertical-align: middle; margin-left: 0.5rem\">LOC</span>\n",
       "</mark>\n",
       ", \n",
       "<mark class=\"entity\" style=\"background: #ff9561; padding: 0.45em 0.6em; margin: 0 0.25em; line-height: 1; border-radius: 0.35em;\">\n",
       "    West\n",
       "    <span style=\"font-size: 0.8em; font-weight: bold; line-height: 1; border-radius: 0.35em; vertical-align: middle; margin-left: 0.5rem\">LOC</span>\n",
       "</mark>\n",
       " to \n",
       "<mark class=\"entity\" style=\"background: #7aecec; padding: 0.45em 0.6em; margin: 0 0.25em; line-height: 1; border-radius: 0.35em;\">\n",
       "    ATCO\n",
       "    <span style=\"font-size: 0.8em; font-weight: bold; line-height: 1; border-radius: 0.35em; vertical-align: middle; margin-left: 0.5rem\">ORG</span>\n",
       "</mark>\n",
       ", I bring it to a Next Plateau</br>But I keep it phat, though</div></span>"
      ],
      "text/plain": [
       "<IPython.core.display.HTML object>"
      ]
     },
     "metadata": {}
    },
    {
     "output_type": "display_data",
     "data": {
      "text/html": [
       "<span class=\"tex2jax_ignore\"><div class=\"entities\" style=\"line-height: 2.5; direction: ltr\">No infections, condom style, I got no yeast</br>Worldwide trunk funk, no jazz on the East</br>Breakin honies down, mackin here to \n",
       "<mark class=\"entity\" style=\"background: #feca74; padding: 0.45em 0.6em; margin: 0 0.25em; line-height: 1; border-radius: 0.35em;\">\n",
       "    Petersberg\n",
       "    <span style=\"font-size: 0.8em; font-weight: bold; line-height: 1; border-radius: 0.35em; vertical-align: middle; margin-left: 0.5rem\">GPE</span>\n",
       "</mark>\n",
       "</div></span>"
      ],
      "text/plain": [
       "<IPython.core.display.HTML object>"
      ]
     },
     "metadata": {}
    },
    {
     "output_type": "display_data",
     "data": {
      "text/html": [
       "<span class=\"tex2jax_ignore\"><div class=\"entities\" style=\"line-height: 2.5; direction: ltr\">I\\'m from the back kid, smooth with tons of grease</br>\n",
       "<mark class=\"entity\" style=\"background: #feca74; padding: 0.45em 0.6em; margin: 0 0.25em; line-height: 1; border-radius: 0.35em;\">\n",
       "    Denver\n",
       "    <span style=\"font-size: 0.8em; font-weight: bold; line-height: 1; border-radius: 0.35em; vertical-align: middle; margin-left: 0.5rem\">GPE</span>\n",
       "</mark>\n",
       " and \n",
       "<mark class=\"entity\" style=\"background: #feca74; padding: 0.45em 0.6em; margin: 0 0.25em; line-height: 1; border-radius: 0.35em;\">\n",
       "    Texas\n",
       "    <span style=\"font-size: 0.8em; font-weight: bold; line-height: 1; border-radius: 0.35em; vertical-align: middle; margin-left: 0.5rem\">GPE</span>\n",
       "</mark>\n",
       ", and \n",
       "<mark class=\"entity\" style=\"background: #feca74; padding: 0.45em 0.6em; margin: 0 0.25em; line-height: 1; border-radius: 0.35em;\">\n",
       "    Cali\n",
       "    <span style=\"font-size: 0.8em; font-weight: bold; line-height: 1; border-radius: 0.35em; vertical-align: middle; margin-left: 0.5rem\">GPE</span>\n",
       "</mark>\n",
       " on back to East</br>She hittin switches, and watch she make it lowride</div></span>"
      ],
      "text/plain": [
       "<IPython.core.display.HTML object>"
      ]
     },
     "metadata": {}
    },
    {
     "output_type": "display_data",
     "data": {
      "text/html": [
       "<span class=\"tex2jax_ignore\"><div class=\"entities\" style=\"line-height: 2.5; direction: ltr\">Buy the E, get a key, to the \n",
       "<mark class=\"entity\" style=\"background: #aa9cfc; padding: 0.45em 0.6em; margin: 0 0.25em; line-height: 1; border-radius: 0.35em;\">\n",
       "    Lex\n",
       "    <span style=\"font-size: 0.8em; font-weight: bold; line-height: 1; border-radius: 0.35em; vertical-align: middle; margin-left: 0.5rem\">PERSON</span>\n",
       "</mark>\n",
       " to hold</br>\n",
       "<mark class=\"entity\" style=\"background: #ff9561; padding: 0.45em 0.6em; margin: 0 0.25em; line-height: 1; border-radius: 0.35em;\">\n",
       "    East\n",
       "    <span style=\"font-size: 0.8em; font-weight: bold; line-height: 1; border-radius: 0.35em; vertical-align: middle; margin-left: 0.5rem\">LOC</span>\n",
       "</mark>\n",
       ", \n",
       "<mark class=\"entity\" style=\"background: #ff9561; padding: 0.45em 0.6em; margin: 0 0.25em; line-height: 1; border-radius: 0.35em;\">\n",
       "    West\n",
       "    <span style=\"font-size: 0.8em; font-weight: bold; line-height: 1; border-radius: 0.35em; vertical-align: middle; margin-left: 0.5rem\">LOC</span>\n",
       "</mark>\n",
       ", every state, come on, bury the hate</br>\n",
       "<mark class=\"entity\" style=\"background: #e4e7d2; padding: 0.45em 0.6em; margin: 0 0.25em; line-height: 1; border-radius: 0.35em;\">\n",
       "    Millions\n",
       "    <span style=\"font-size: 0.8em; font-weight: bold; line-height: 1; border-radius: 0.35em; vertical-align: middle; margin-left: 0.5rem\">CARDINAL</span>\n",
       "</mark>\n",
       ", the only thing we in a hurry to make</div></span>"
      ],
      "text/plain": [
       "<IPython.core.display.HTML object>"
      ]
     },
     "metadata": {}
    },
    {
     "output_type": "display_data",
     "data": {
      "text/html": [
       "<span class=\"tex2jax_ignore\"><div class=\"entities\" style=\"line-height: 2.5; direction: ltr\">And when we move, we ain\\'t got no discussion at all</br>East Coast\\'s on your neck and you ain\\'t shruggin\\' it off</br>Try to bullyfoot and end up stumblin\\' off</div></span>"
      ],
      "text/plain": [
       "<IPython.core.display.HTML object>"
      ]
     },
     "metadata": {}
    },
    {
     "output_type": "display_data",
     "data": {
      "text/html": [
       "<span class=\"tex2jax_ignore\"><div class=\"entities\" style=\"line-height: 2.5; direction: ltr\">From \n",
       "<mark class=\"entity\" style=\"background: #feca74; padding: 0.45em 0.6em; margin: 0 0.25em; line-height: 1; border-radius: 0.35em;\">\n",
       "    Long Beach\n",
       "    <span style=\"font-size: 0.8em; font-weight: bold; line-height: 1; border-radius: 0.35em; vertical-align: middle; margin-left: 0.5rem\">GPE</span>\n",
       "</mark>\n",
       " to \n",
       "<mark class=\"entity\" style=\"background: #feca74; padding: 0.45em 0.6em; margin: 0 0.25em; line-height: 1; border-radius: 0.35em;\">\n",
       "    Brooklyn\n",
       "    <span style=\"font-size: 0.8em; font-weight: bold; line-height: 1; border-radius: 0.35em; vertical-align: middle; margin-left: 0.5rem\">GPE</span>\n",
       "</mark>\n",
       ", they know</br>We rock from the \n",
       "<mark class=\"entity\" style=\"background: #ff9561; padding: 0.45em 0.6em; margin: 0 0.25em; line-height: 1; border-radius: 0.35em;\">\n",
       "    East\n",
       "    <span style=\"font-size: 0.8em; font-weight: bold; line-height: 1; border-radius: 0.35em; vertical-align: middle; margin-left: 0.5rem\">LOC</span>\n",
       "</mark>\n",
       " to \n",
       "<mark class=\"entity\" style=\"background: #ff9561; padding: 0.45em 0.6em; margin: 0 0.25em; line-height: 1; border-radius: 0.35em;\">\n",
       "    West Coast\n",
       "    <span style=\"font-size: 0.8em; font-weight: bold; line-height: 1; border-radius: 0.35em; vertical-align: middle; margin-left: 0.5rem\">LOC</span>\n",
       "</mark>\n",
       "</br>Queens, salute to \n",
       "<mark class=\"entity\" style=\"background: #7aecec; padding: 0.45em 0.6em; margin: 0 0.25em; line-height: 1; border-radius: 0.35em;\">\n",
       "    Pharoahe\n",
       "    <span style=\"font-size: 0.8em; font-weight: bold; line-height: 1; border-radius: 0.35em; vertical-align: middle; margin-left: 0.5rem\">ORG</span>\n",
       "</mark>\n",
       "</div></span>"
      ],
      "text/plain": [
       "<IPython.core.display.HTML object>"
      ]
     },
     "metadata": {}
    },
    {
     "output_type": "display_data",
     "data": {
      "text/html": [
       "<span class=\"tex2jax_ignore\"><div class=\"entities\" style=\"line-height: 2.5; direction: ltr\">From \n",
       "<mark class=\"entity\" style=\"background: #feca74; padding: 0.45em 0.6em; margin: 0 0.25em; line-height: 1; border-radius: 0.35em;\">\n",
       "    Long Beach\n",
       "    <span style=\"font-size: 0.8em; font-weight: bold; line-height: 1; border-radius: 0.35em; vertical-align: middle; margin-left: 0.5rem\">GPE</span>\n",
       "</mark>\n",
       " to \n",
       "<mark class=\"entity\" style=\"background: #feca74; padding: 0.45em 0.6em; margin: 0 0.25em; line-height: 1; border-radius: 0.35em;\">\n",
       "    Brooklyn\n",
       "    <span style=\"font-size: 0.8em; font-weight: bold; line-height: 1; border-radius: 0.35em; vertical-align: middle; margin-left: 0.5rem\">GPE</span>\n",
       "</mark>\n",
       ", they know</br>We rock from the \n",
       "<mark class=\"entity\" style=\"background: #ff9561; padding: 0.45em 0.6em; margin: 0 0.25em; line-height: 1; border-radius: 0.35em;\">\n",
       "    East\n",
       "    <span style=\"font-size: 0.8em; font-weight: bold; line-height: 1; border-radius: 0.35em; vertical-align: middle; margin-left: 0.5rem\">LOC</span>\n",
       "</mark>\n",
       " to West coast</br>Queens, salute to \n",
       "<mark class=\"entity\" style=\"background: #7aecec; padding: 0.45em 0.6em; margin: 0 0.25em; line-height: 1; border-radius: 0.35em;\">\n",
       "    Pharoahe\n",
       "    <span style=\"font-size: 0.8em; font-weight: bold; line-height: 1; border-radius: 0.35em; vertical-align: middle; margin-left: 0.5rem\">ORG</span>\n",
       "</mark>\n",
       "</div></span>"
      ],
      "text/plain": [
       "<IPython.core.display.HTML object>"
      ]
     },
     "metadata": {}
    },
    {
     "output_type": "display_data",
     "data": {
      "text/html": [
       "<span class=\"tex2jax_ignore\"><div class=\"entities\" style=\"line-height: 2.5; direction: ltr\">The cats out in \n",
       "<mark class=\"entity\" style=\"background: #feca74; padding: 0.45em 0.6em; margin: 0 0.25em; line-height: 1; border-radius: 0.35em;\">\n",
       "    Starrett City\n",
       "    <span style=\"font-size: 0.8em; font-weight: bold; line-height: 1; border-radius: 0.35em; vertical-align: middle; margin-left: 0.5rem\">GPE</span>\n",
       "</mark>\n",
       " getting busy</br>To the Hook, to the \n",
       "<mark class=\"entity\" style=\"background: #ff9561; padding: 0.45em 0.6em; margin: 0 0.25em; line-height: 1; border-radius: 0.35em;\">\n",
       "    East\n",
       "    <span style=\"font-size: 0.8em; font-weight: bold; line-height: 1; border-radius: 0.35em; vertical-align: middle; margin-left: 0.5rem\">LOC</span>\n",
       "</mark>\n",
       ", to the \n",
       "<mark class=\"entity\" style=\"background: #7aecec; padding: 0.45em 0.6em; margin: 0 0.25em; line-height: 1; border-radius: 0.35em;\">\n",
       "    Stuy\n",
       "    <span style=\"font-size: 0.8em; font-weight: bold; line-height: 1; border-radius: 0.35em; vertical-align: middle; margin-left: 0.5rem\">ORG</span>\n",
       "</mark>\n",
       "</br>Bushwick and \n",
       "<mark class=\"entity\" style=\"background: #feca74; padding: 0.45em 0.6em; margin: 0 0.25em; line-height: 1; border-radius: 0.35em;\">\n",
       "    Canarsie\n",
       "    <span style=\"font-size: 0.8em; font-weight: bold; line-height: 1; border-radius: 0.35em; vertical-align: middle; margin-left: 0.5rem\">GPE</span>\n",
       "</mark>\n",
       "</div></span>"
      ],
      "text/plain": [
       "<IPython.core.display.HTML object>"
      ]
     },
     "metadata": {}
    },
    {
     "output_type": "display_data",
     "data": {
      "text/html": [
       "<span class=\"tex2jax_ignore\"><div class=\"entities\" style=\"line-height: 2.5; direction: ltr\">I wanna make peace</br>In the \n",
       "<mark class=\"entity\" style=\"background: #ff9561; padding: 0.45em 0.6em; margin: 0 0.25em; line-height: 1; border-radius: 0.35em;\">\n",
       "    South\n",
       "    <span style=\"font-size: 0.8em; font-weight: bold; line-height: 1; border-radius: 0.35em; vertical-align: middle; margin-left: 0.5rem\">LOC</span>\n",
       "</mark>\n",
       ", in the \n",
       "<mark class=\"entity\" style=\"background: #ff9561; padding: 0.45em 0.6em; margin: 0 0.25em; line-height: 1; border-radius: 0.35em;\">\n",
       "    North\n",
       "    <span style=\"font-size: 0.8em; font-weight: bold; line-height: 1; border-radius: 0.35em; vertical-align: middle; margin-left: 0.5rem\">LOC</span>\n",
       "</mark>\n",
       ", in the \n",
       "<mark class=\"entity\" style=\"background: #ff9561; padding: 0.45em 0.6em; margin: 0 0.25em; line-height: 1; border-radius: 0.35em;\">\n",
       "    West\n",
       "    <span style=\"font-size: 0.8em; font-weight: bold; line-height: 1; border-radius: 0.35em; vertical-align: middle; margin-left: 0.5rem\">LOC</span>\n",
       "</mark>\n",
       " and the East</br>Everybody wanna listen to the President</div></span>"
      ],
      "text/plain": [
       "<IPython.core.display.HTML object>"
      ]
     },
     "metadata": {}
    },
    {
     "output_type": "display_data",
     "data": {
      "text/html": [
       "<span class=\"tex2jax_ignore\"><div class=\"entities\" style=\"line-height: 2.5; direction: ltr\">Signing off y'all, signing off y'all</br>From the \n",
       "<mark class=\"entity\" style=\"background: #ff9561; padding: 0.45em 0.6em; margin: 0 0.25em; line-height: 1; border-radius: 0.35em;\">\n",
       "    South\n",
       "    <span style=\"font-size: 0.8em; font-weight: bold; line-height: 1; border-radius: 0.35em; vertical-align: middle; margin-left: 0.5rem\">LOC</span>\n",
       "</mark>\n",
       " to the \n",
       "<mark class=\"entity\" style=\"background: #ff9561; padding: 0.45em 0.6em; margin: 0 0.25em; line-height: 1; border-radius: 0.35em;\">\n",
       "    West\n",
       "    <span style=\"font-size: 0.8em; font-weight: bold; line-height: 1; border-radius: 0.35em; vertical-align: middle; margin-left: 0.5rem\">LOC</span>\n",
       "</mark>\n",
       " to the \n",
       "<mark class=\"entity\" style=\"background: #ff9561; padding: 0.45em 0.6em; margin: 0 0.25em; line-height: 1; border-radius: 0.35em;\">\n",
       "    East\n",
       "    <span style=\"font-size: 0.8em; font-weight: bold; line-height: 1; border-radius: 0.35em; vertical-align: middle; margin-left: 0.5rem\">LOC</span>\n",
       "</mark>\n",
       " to \n",
       "<mark class=\"entity\" style=\"background: #ff9561; padding: 0.45em 0.6em; margin: 0 0.25em; line-height: 1; border-radius: 0.35em;\">\n",
       "    the North\n",
       "Busy Bee\n",
       "    <span style=\"font-size: 0.8em; font-weight: bold; line-height: 1; border-radius: 0.35em; vertical-align: middle; margin-left: 0.5rem\">LOC</span>\n",
       "</mark>\n",
       ", my man, you know I went off!</div></span>"
      ],
      "text/plain": [
       "<IPython.core.display.HTML object>"
      ]
     },
     "metadata": {}
    },
    {
     "output_type": "display_data",
     "data": {
      "text/html": [
       "<span class=\"tex2jax_ignore\"><div class=\"entities\" style=\"line-height: 2.5; direction: ltr\">\n",
       "<mark class=\"entity\" style=\"background: #aa9cfc; padding: 0.45em 0.6em; margin: 0 0.25em; line-height: 1; border-radius: 0.35em;\">\n",
       "    Mark\n",
       "    <span style=\"font-size: 0.8em; font-weight: bold; line-height: 1; border-radius: 0.35em; vertical-align: middle; margin-left: 0.5rem\">PERSON</span>\n",
       "</mark>\n",
       " you for death</br>Won't even talk that \n",
       "<mark class=\"entity\" style=\"background: #ff9561; padding: 0.45em 0.6em; margin: 0 0.25em; line-height: 1; border-radius: 0.35em;\">\n",
       "    East\n",
       "    <span style=\"font-size: 0.8em; font-weight: bold; line-height: 1; border-radius: 0.35em; vertical-align: middle; margin-left: 0.5rem\">LOC</span>\n",
       "</mark>\n",
       " or West crap</br>From Watts to LeFrak</div></span>"
      ],
      "text/plain": [
       "<IPython.core.display.HTML object>"
      ]
     },
     "metadata": {}
    },
    {
     "output_type": "display_data",
     "data": {
      "text/html": [
       "<span class=\"tex2jax_ignore\"><div class=\"entities\" style=\"line-height: 2.5; direction: ltr\">\n",
       "<mark class=\"entity\" style=\"background: #aa9cfc; padding: 0.45em 0.6em; margin: 0 0.25em; line-height: 1; border-radius: 0.35em;\">\n",
       "    Mark\n",
       "    <span style=\"font-size: 0.8em; font-weight: bold; line-height: 1; border-radius: 0.35em; vertical-align: middle; margin-left: 0.5rem\">PERSON</span>\n",
       "</mark>\n",
       " you for death</br>Won't even talk that \n",
       "<mark class=\"entity\" style=\"background: #ff9561; padding: 0.45em 0.6em; margin: 0 0.25em; line-height: 1; border-radius: 0.35em;\">\n",
       "    East\n",
       "    <span style=\"font-size: 0.8em; font-weight: bold; line-height: 1; border-radius: 0.35em; vertical-align: middle; margin-left: 0.5rem\">LOC</span>\n",
       "</mark>\n",
       " or West crap</br>From Watts to LeFrak</div></span>"
      ],
      "text/plain": [
       "<IPython.core.display.HTML object>"
      ]
     },
     "metadata": {}
    },
    {
     "output_type": "display_data",
     "data": {
      "text/html": [
       "<span class=\"tex2jax_ignore\"><div class=\"entities\" style=\"line-height: 2.5; direction: ltr\">\n",
       "<mark class=\"entity\" style=\"background: #aa9cfc; padding: 0.45em 0.6em; margin: 0 0.25em; line-height: 1; border-radius: 0.35em;\">\n",
       "    Mark\n",
       "    <span style=\"font-size: 0.8em; font-weight: bold; line-height: 1; border-radius: 0.35em; vertical-align: middle; margin-left: 0.5rem\">PERSON</span>\n",
       "</mark>\n",
       " you for death</br>Won't even talk that \n",
       "<mark class=\"entity\" style=\"background: #ff9561; padding: 0.45em 0.6em; margin: 0 0.25em; line-height: 1; border-radius: 0.35em;\">\n",
       "    East\n",
       "    <span style=\"font-size: 0.8em; font-weight: bold; line-height: 1; border-radius: 0.35em; vertical-align: middle; margin-left: 0.5rem\">LOC</span>\n",
       "</mark>\n",
       " or West crap</br>From Watts to LeFrak</div></span>"
      ],
      "text/plain": [
       "<IPython.core.display.HTML object>"
      ]
     },
     "metadata": {}
    },
    {
     "output_type": "display_data",
     "data": {
      "text/html": [
       "<span class=\"tex2jax_ignore\"><div class=\"entities\" style=\"line-height: 2.5; direction: ltr\">\n",
       "<mark class=\"entity\" style=\"background: #aa9cfc; padding: 0.45em 0.6em; margin: 0 0.25em; line-height: 1; border-radius: 0.35em;\">\n",
       "    Mark\n",
       "    <span style=\"font-size: 0.8em; font-weight: bold; line-height: 1; border-radius: 0.35em; vertical-align: middle; margin-left: 0.5rem\">PERSON</span>\n",
       "</mark>\n",
       " you for death</br>Won't even talk that \n",
       "<mark class=\"entity\" style=\"background: #ff9561; padding: 0.45em 0.6em; margin: 0 0.25em; line-height: 1; border-radius: 0.35em;\">\n",
       "    East\n",
       "    <span style=\"font-size: 0.8em; font-weight: bold; line-height: 1; border-radius: 0.35em; vertical-align: middle; margin-left: 0.5rem\">LOC</span>\n",
       "</mark>\n",
       " or West crap</br>From Watts to LeFrak</div></span>"
      ],
      "text/plain": [
       "<IPython.core.display.HTML object>"
      ]
     },
     "metadata": {}
    },
    {
     "output_type": "display_data",
     "data": {
      "text/html": [
       "<span class=\"tex2jax_ignore\"><div class=\"entities\" style=\"line-height: 2.5; direction: ltr\">\n",
       "<mark class=\"entity\" style=\"background: #aa9cfc; padding: 0.45em 0.6em; margin: 0 0.25em; line-height: 1; border-radius: 0.35em;\">\n",
       "    Mark\n",
       "    <span style=\"font-size: 0.8em; font-weight: bold; line-height: 1; border-radius: 0.35em; vertical-align: middle; margin-left: 0.5rem\">PERSON</span>\n",
       "</mark>\n",
       " you for death</br>Won't even talk that \n",
       "<mark class=\"entity\" style=\"background: #ff9561; padding: 0.45em 0.6em; margin: 0 0.25em; line-height: 1; border-radius: 0.35em;\">\n",
       "    East\n",
       "    <span style=\"font-size: 0.8em; font-weight: bold; line-height: 1; border-radius: 0.35em; vertical-align: middle; margin-left: 0.5rem\">LOC</span>\n",
       "</mark>\n",
       " or West crap</br>From Watts to LeFrak</div></span>"
      ],
      "text/plain": [
       "<IPython.core.display.HTML object>"
      ]
     },
     "metadata": {}
    },
    {
     "output_type": "display_data",
     "data": {
      "text/html": [
       "<span class=\"tex2jax_ignore\"><div class=\"entities\" style=\"line-height: 2.5; direction: ltr\">In \n",
       "<mark class=\"entity\" style=\"background: #feca74; padding: 0.45em 0.6em; margin: 0 0.25em; line-height: 1; border-radius: 0.35em;\">\n",
       "    New York\n",
       "    <span style=\"font-size: 0.8em; font-weight: bold; line-height: 1; border-radius: 0.35em; vertical-align: middle; margin-left: 0.5rem\">GPE</span>\n",
       "</mark>\n",
       ", I \n",
       "<mark class=\"entity\" style=\"background: #aa9cfc; padding: 0.45em 0.6em; margin: 0 0.25em; line-height: 1; border-radius: 0.35em;\">\n",
       "    Milly Rock\n",
       "    <span style=\"font-size: 0.8em; font-weight: bold; line-height: 1; border-radius: 0.35em; vertical-align: middle; margin-left: 0.5rem\">PERSON</span>\n",
       "</mark>\n",
       " to &quot;\n",
       "<mark class=\"entity\" style=\"background: #bfeeb7; padding: 0.45em 0.6em; margin: 0 0.25em; line-height: 1; border-radius: 0.35em;\">\n",
       "    Magnolia\n",
       "    <span style=\"font-size: 0.8em; font-weight: bold; line-height: 1; border-radius: 0.35em; vertical-align: middle; margin-left: 0.5rem\">PRODUCT</span>\n",
       "</mark>\n",
       "&quot;</br>I love the \n",
       "<mark class=\"entity\" style=\"background: #ff9561; padding: 0.45em 0.6em; margin: 0 0.25em; line-height: 1; border-radius: 0.35em;\">\n",
       "    East\n",
       "    <span style=\"font-size: 0.8em; font-weight: bold; line-height: 1; border-radius: 0.35em; vertical-align: middle; margin-left: 0.5rem\">LOC</span>\n",
       "</mark>\n",
       ", but shout-out to every coast, bruh</br>South to North and even \n",
       "<mark class=\"entity\" style=\"background: #ff9561; padding: 0.45em 0.6em; margin: 0 0.25em; line-height: 1; border-radius: 0.35em;\">\n",
       "    West Coast\n",
       "    <span style=\"font-size: 0.8em; font-weight: bold; line-height: 1; border-radius: 0.35em; vertical-align: middle; margin-left: 0.5rem\">LOC</span>\n",
       "</mark>\n",
       ", bruh (Come on)</div></span>"
      ],
      "text/plain": [
       "<IPython.core.display.HTML object>"
      ]
     },
     "metadata": {}
    },
    {
     "output_type": "display_data",
     "data": {
      "text/html": [
       "<span class=\"tex2jax_ignore\"><div class=\"entities\" style=\"line-height: 2.5; direction: ltr\">But I\\'m still conscious enough to give hope to the masses (Hanh)</br>Watch the \n",
       "<mark class=\"entity\" style=\"background: #7aecec; padding: 0.45em 0.6em; margin: 0 0.25em; line-height: 1; border-radius: 0.35em;\">\n",
       "    coke\n",
       "    <span style=\"font-size: 0.8em; font-weight: bold; line-height: 1; border-radius: 0.35em; vertical-align: middle; margin-left: 0.5rem\">ORG</span>\n",
       "</mark>\n",
       " do gymnastics (\n",
       "<mark class=\"entity\" style=\"background: #ff9561; padding: 0.45em 0.6em; margin: 0 0.25em; line-height: 1; border-radius: 0.35em;\">\n",
       "    East\n",
       "    <span style=\"font-size: 0.8em; font-weight: bold; line-height: 1; border-radius: 0.35em; vertical-align: middle; margin-left: 0.5rem\">LOC</span>\n",
       "</mark>\n",
       " side)</br>\n",
       "<mark class=\"entity\" style=\"background: #aa9cfc; padding: 0.45em 0.6em; margin: 0 0.25em; line-height: 1; border-radius: 0.35em;\">\n",
       "    Dominique Dawes\n",
       "    <span style=\"font-size: 0.8em; font-weight: bold; line-height: 1; border-radius: 0.35em; vertical-align: middle; margin-left: 0.5rem\">PERSON</span>\n",
       "</mark>\n",
       ", foreign my car when \n",
       "<mark class=\"entity\" style=\"background: #7aecec; padding: 0.45em 0.6em; margin: 0 0.25em; line-height: 1; border-radius: 0.35em;\">\n",
       "    I\\'m mashin\\'\n",
       "    <span style=\"font-size: 0.8em; font-weight: bold; line-height: 1; border-radius: 0.35em; vertical-align: middle; margin-left: 0.5rem\">ORG</span>\n",
       "</mark>\n",
       " (\n",
       "<mark class=\"entity\" style=\"background: #7aecec; padding: 0.45em 0.6em; margin: 0 0.25em; line-height: 1; border-radius: 0.35em;\">\n",
       "    Hanh\n",
       "    <span style=\"font-size: 0.8em; font-weight: bold; line-height: 1; border-radius: 0.35em; vertical-align: middle; margin-left: 0.5rem\">ORG</span>\n",
       "</mark>\n",
       ")</div></span>"
      ],
      "text/plain": [
       "<IPython.core.display.HTML object>"
      ]
     },
     "metadata": {}
    },
    {
     "output_type": "display_data",
     "data": {
      "text/html": [
       "<span class=\"tex2jax_ignore\"><div class=\"entities\" style=\"line-height: 2.5; direction: ltr\">\n",
       "<mark class=\"entity\" style=\"background: #7aecec; padding: 0.45em 0.6em; margin: 0 0.25em; line-height: 1; border-radius: 0.35em;\">\n",
       "    Brownsvillah\n",
       "    <span style=\"font-size: 0.8em; font-weight: bold; line-height: 1; border-radius: 0.35em; vertical-align: middle; margin-left: 0.5rem\">ORG</span>\n",
       "</mark>\n",
       ", do or die Bed-Stuy</br>Murderer, \n",
       "<mark class=\"entity\" style=\"background: #ff9561; padding: 0.45em 0.6em; margin: 0 0.25em; line-height: 1; border-radius: 0.35em;\">\n",
       "    East\n",
       "    <span style=\"font-size: 0.8em; font-weight: bold; line-height: 1; border-radius: 0.35em; vertical-align: middle; margin-left: 0.5rem\">LOC</span>\n",
       "</mark>\n",
       " terrorist, we clap gun thunderist</br>\n",
       "<mark class=\"entity\" style=\"background: #7aecec; padding: 0.45em 0.6em; margin: 0 0.25em; line-height: 1; border-radius: 0.35em;\">\n",
       "    Land of the Iron Gods\n",
       "    <span style=\"font-size: 0.8em; font-weight: bold; line-height: 1; border-radius: 0.35em; vertical-align: middle; margin-left: 0.5rem\">ORG</span>\n",
       "</mark>\n",
       ", swords can't live</div></span>"
      ],
      "text/plain": [
       "<IPython.core.display.HTML object>"
      ]
     },
     "metadata": {}
    },
    {
     "output_type": "execute_result",
     "data": {
      "text/plain": [
       "719     None\n",
       "749     None\n",
       "897     None\n",
       "958     None\n",
       "1126    None\n",
       "1198    None\n",
       "1322    None\n",
       "1532    None\n",
       "1534    None\n",
       "1549    None\n",
       "1780    None\n",
       "1906    None\n",
       "1983    None\n",
       "2069    None\n",
       "2089    None\n",
       "2314    None\n",
       "2496    None\n",
       "2501    None\n",
       "2506    None\n",
       "2526    None\n",
       "2581    None\n",
       "2613    None\n",
       "2846    None\n",
       "2849    None\n",
       "2852    None\n",
       "2856    None\n",
       "2859    None\n",
       "2944    None\n",
       "2950    None\n",
       "2997    None\n",
       "dtype: object"
      ]
     },
     "metadata": {},
     "execution_count": 157
    }
   ],
   "metadata": {}
  },
  {
   "cell_type": "code",
   "execution_count": 6,
   "source": [
    "view = df[\"Harlem\" == df.GPE]\n",
    "view.shape"
   ],
   "outputs": [
    {
     "output_type": "error",
     "ename": "NameError",
     "evalue": "name 'df' is not defined",
     "traceback": [
      "\u001b[0;31m---------------------------------------------------------------------------\u001b[0m",
      "\u001b[0;31mNameError\u001b[0m                                 Traceback (most recent call last)",
      "Input \u001b[0;32mIn [6]\u001b[0m, in \u001b[0;36m<cell line: 1>\u001b[0;34m()\u001b[0m\n\u001b[0;32m----> 1\u001b[0m view \u001b[38;5;241m=\u001b[39m \u001b[43mdf\u001b[49m[\u001b[38;5;124m\"\u001b[39m\u001b[38;5;124mHarlem\u001b[39m\u001b[38;5;124m\"\u001b[39m \u001b[38;5;241m==\u001b[39m df\u001b[38;5;241m.\u001b[39mGPE]\n\u001b[1;32m      2\u001b[0m view\u001b[38;5;241m.\u001b[39mshape\n",
      "\u001b[0;31mNameError\u001b[0m: name 'df' is not defined"
     ]
    }
   ],
   "metadata": {}
  },
  {
   "cell_type": "code",
   "execution_count": 38,
   "source": [
    "doc = nlp(\"\"\"I\\'m more than a threat, I\\'m a problem To hell with Cotton, watch out when I come to Harlem So don\\'t whisper or make a sound or quote\"\"\")"
   ],
   "outputs": [],
   "metadata": {}
  },
  {
   "cell_type": "code",
   "execution_count": 39,
   "source": [
    "displacy.render(doc, style=\"ent\")"
   ],
   "outputs": [
    {
     "output_type": "display_data",
     "data": {
      "text/html": [
       "<span class=\"tex2jax_ignore\"><div class=\"entities\" style=\"line-height: 2.5; direction: ltr\">I'm more than a threat, I'm a problem To hell with \n",
       "<mark class=\"entity\" style=\"background: #7aecec; padding: 0.45em 0.6em; margin: 0 0.25em; line-height: 1; border-radius: 0.35em;\">\n",
       "    Cotton\n",
       "    <span style=\"font-size: 0.8em; font-weight: bold; line-height: 1; border-radius: 0.35em; vertical-align: middle; margin-left: 0.5rem\">ORG</span>\n",
       "</mark>\n",
       ", watch out when I come to \n",
       "<mark class=\"entity\" style=\"background: #ff9561; padding: 0.45em 0.6em; margin: 0 0.25em; line-height: 1; border-radius: 0.35em;\">\n",
       "    Harlem\n",
       "    <span style=\"font-size: 0.8em; font-weight: bold; line-height: 1; border-radius: 0.35em; vertical-align: middle; margin-left: 0.5rem\">LOC</span>\n",
       "</mark>\n",
       " So don't whisper or make a sound or quote</div></span>"
      ],
      "text/plain": [
       "<IPython.core.display.HTML object>"
      ]
     },
     "metadata": {}
    }
   ],
   "metadata": {}
  },
  {
   "cell_type": "code",
   "execution_count": 2,
   "source": [
    "from nltk.sentiment import SentimentIntensityAnalyzer\n",
    "sia = SentimentIntensityAnalyzer()"
   ],
   "outputs": [],
   "metadata": {}
  },
  {
   "cell_type": "code",
   "execution_count": 4,
   "source": [
    "sia.polarity_scores(\"\"\"I\\'m more than a threat, I\\'m a problem To hell with Cotton, watch out when I come to Harlem So don\\'t whisper or make a sound or quote\"\"\")"
   ],
   "outputs": [
    {
     "output_type": "execute_result",
     "data": {
      "text/plain": [
       "{'neg': 0.343, 'neu': 0.657, 'pos': 0.0, 'compound': -0.8996}"
      ]
     },
     "metadata": {},
     "execution_count": 4
    }
   ],
   "metadata": {}
  },
  {
   "cell_type": "code",
   "execution_count": 57,
   "source": [
    "df[\"polarity\"]=df.apply(lambda row : sia.polarity_scores(str(row[\"Line Before\"]) if row[\"Line Before\"] else \"\" +\"\\n\"+row[\"Line\"]+\"\\n\" + str(row[\"Line Before\"]) if row[\"Line Before\"] else \"\"),axis=1)"
   ],
   "outputs": [],
   "metadata": {}
  },
  {
   "cell_type": "code",
   "execution_count": 58,
   "source": [
    "df"
   ],
   "outputs": [
    {
     "output_type": "execute_result",
     "data": {
      "text/html": [
       "<div>\n",
       "<style scoped>\n",
       "    .dataframe tbody tr th:only-of-type {\n",
       "        vertical-align: middle;\n",
       "    }\n",
       "\n",
       "    .dataframe tbody tr th {\n",
       "        vertical-align: top;\n",
       "    }\n",
       "\n",
       "    .dataframe thead th {\n",
       "        text-align: right;\n",
       "    }\n",
       "</style>\n",
       "<table border=\"1\" class=\"dataframe\">\n",
       "  <thead>\n",
       "    <tr style=\"text-align: right;\">\n",
       "      <th></th>\n",
       "      <th>Artist</th>\n",
       "      <th>Song Name</th>\n",
       "      <th>GPE</th>\n",
       "      <th>Line</th>\n",
       "      <th>Line Before</th>\n",
       "      <th>Line After</th>\n",
       "      <th>polarity</th>\n",
       "    </tr>\n",
       "  </thead>\n",
       "  <tbody>\n",
       "    <tr>\n",
       "      <th>0</th>\n",
       "      <td>French Montana</td>\n",
       "      <td>Unforgettable</td>\n",
       "      <td>Montana</td>\n",
       "      <td>[Verse 1: French Montana]</td>\n",
       "      <td>Tryna do what lovers do</td>\n",
       "      <td>Feelin' like I'm fresh out; Boosie (Boosie)</td>\n",
       "      <td>{'neg': 0.0, 'neu': 0.541, 'pos': 0.459, 'comp...</td>\n",
       "    </tr>\n",
       "    <tr>\n",
       "      <th>1</th>\n",
       "      <td>French Montana</td>\n",
       "      <td>Unforgettable</td>\n",
       "      <td>Montana</td>\n",
       "      <td>[Refrain: Swae Lee &amp; French Montana]</td>\n",
       "      <td>'Cause I pulled out a million cash, told her p...</td>\n",
       "      <td>And you are unforgettable</td>\n",
       "      <td>{'neg': 0.0, 'neu': 1.0, 'pos': 0.0, 'compound...</td>\n",
       "    </tr>\n",
       "    <tr>\n",
       "      <th>2</th>\n",
       "      <td>French Montana</td>\n",
       "      <td>Unforgettable</td>\n",
       "      <td>Montana</td>\n",
       "      <td>[Verse 2: French Montana]</td>\n",
       "      <td>Tryna do what lovers do</td>\n",
       "      <td>You ain't enough for me</td>\n",
       "      <td>{'neg': 0.0, 'neu': 0.541, 'pos': 0.459, 'comp...</td>\n",
       "    </tr>\n",
       "    <tr>\n",
       "      <th>3</th>\n",
       "      <td>French Montana</td>\n",
       "      <td>Unforgettable</td>\n",
       "      <td>Montana</td>\n",
       "      <td>[Refrain: Swae Lee &amp; French Montana]</td>\n",
       "      <td>Baby girl, work your body, work your body</td>\n",
       "      <td>And you are unforgettable</td>\n",
       "      <td>{'neg': 0.0, 'neu': 1.0, 'pos': 0.0, 'compound...</td>\n",
       "    </tr>\n",
       "    <tr>\n",
       "      <th>4</th>\n",
       "      <td>French Montana</td>\n",
       "      <td>Unforgettable</td>\n",
       "      <td>Montana</td>\n",
       "      <td>[Chorus: Uncle Luke &amp; French Montana]</td>\n",
       "      <td>NaN</td>\n",
       "      <td>Don\\'t stop, pop that, don\\'t stop</td>\n",
       "      <td>{'neg': 0.0, 'neu': 1.0, 'pos': 0.0, 'compound...</td>\n",
       "    </tr>\n",
       "    <tr>\n",
       "      <th>...</th>\n",
       "      <td>...</td>\n",
       "      <td>...</td>\n",
       "      <td>...</td>\n",
       "      <td>...</td>\n",
       "      <td>...</td>\n",
       "      <td>...</td>\n",
       "      <td>...</td>\n",
       "    </tr>\n",
       "    <tr>\n",
       "      <th>3275</th>\n",
       "      <td>Ol' Dirty Bastard</td>\n",
       "      <td>Baby Blue</td>\n",
       "      <td>East</td>\n",
       "      <td>When you take North, East, West, South</td>\n",
       "      <td>To the South</td>\n",
       "      <td>Put it all together and it spell NEWS!</td>\n",
       "      <td>{'neg': 0.0, 'neu': 1.0, 'pos': 0.0, 'compound...</td>\n",
       "    </tr>\n",
       "    <tr>\n",
       "      <th>3276</th>\n",
       "      <td>Ol' Dirty Bastard</td>\n",
       "      <td>Baby Blue</td>\n",
       "      <td>West</td>\n",
       "      <td>When you take North, East, West, South</td>\n",
       "      <td>To the South</td>\n",
       "      <td>Put it all together and it spell NEWS!</td>\n",
       "      <td>{'neg': 0.0, 'neu': 1.0, 'pos': 0.0, 'compound...</td>\n",
       "    </tr>\n",
       "    <tr>\n",
       "      <th>3277</th>\n",
       "      <td>Ol' Dirty Bastard</td>\n",
       "      <td>Baby Blue</td>\n",
       "      <td>South</td>\n",
       "      <td>When you take North, East, West, South</td>\n",
       "      <td>To the South</td>\n",
       "      <td>Put it all together and it spell NEWS!</td>\n",
       "      <td>{'neg': 0.0, 'neu': 1.0, 'pos': 0.0, 'compound...</td>\n",
       "    </tr>\n",
       "    <tr>\n",
       "      <th>3278</th>\n",
       "      <td>Ol' Dirty Bastard</td>\n",
       "      <td>Baby Blue</td>\n",
       "      <td>Brooklyn</td>\n",
       "      <td>Fuck is goin on, niggas from Brooklyn don’t fu...</td>\n",
       "      <td>Is the Brooklyn Zoo in the muthafucka house?</td>\n",
       "      <td>Niggas don’t yell like that</td>\n",
       "      <td>{'neg': 0.0, 'neu': 1.0, 'pos': 0.0, 'compound...</td>\n",
       "    </tr>\n",
       "    <tr>\n",
       "      <th>3279</th>\n",
       "      <td>Ol' Dirty Bastard</td>\n",
       "      <td>Baby Blue</td>\n",
       "      <td>Harlem</td>\n",
       "      <td>Rhymes is rugged like burnt buildings in Harlem</td>\n",
       "      <td>[Verse 2: Ol’ Dirty Bastard &amp; RZA]</td>\n",
       "      <td>The Ol’ Dirty Bastard from the Temple of Shaolin</td>\n",
       "      <td>{'neg': 0.615, 'neu': 0.385, 'pos': 0.0, 'comp...</td>\n",
       "    </tr>\n",
       "  </tbody>\n",
       "</table>\n",
       "<p>3280 rows × 7 columns</p>\n",
       "</div>"
      ],
      "text/plain": [
       "                 Artist      Song Name       GPE  \\\n",
       "0        French Montana  Unforgettable   Montana   \n",
       "1        French Montana  Unforgettable   Montana   \n",
       "2        French Montana  Unforgettable   Montana   \n",
       "3        French Montana  Unforgettable   Montana   \n",
       "4        French Montana  Unforgettable   Montana   \n",
       "...                 ...            ...       ...   \n",
       "3275  Ol' Dirty Bastard      Baby Blue      East   \n",
       "3276  Ol' Dirty Bastard      Baby Blue      West   \n",
       "3277  Ol' Dirty Bastard      Baby Blue     South   \n",
       "3278  Ol' Dirty Bastard      Baby Blue  Brooklyn   \n",
       "3279  Ol' Dirty Bastard      Baby Blue    Harlem   \n",
       "\n",
       "                                                   Line  \\\n",
       "0                             [Verse 1: French Montana]   \n",
       "1                  [Refrain: Swae Lee & French Montana]   \n",
       "2                             [Verse 2: French Montana]   \n",
       "3                  [Refrain: Swae Lee & French Montana]   \n",
       "4                 [Chorus: Uncle Luke & French Montana]   \n",
       "...                                                 ...   \n",
       "3275             When you take North, East, West, South   \n",
       "3276             When you take North, East, West, South   \n",
       "3277             When you take North, East, West, South   \n",
       "3278  Fuck is goin on, niggas from Brooklyn don’t fu...   \n",
       "3279    Rhymes is rugged like burnt buildings in Harlem   \n",
       "\n",
       "                                            Line Before  \\\n",
       "0                               Tryna do what lovers do   \n",
       "1     'Cause I pulled out a million cash, told her p...   \n",
       "2                               Tryna do what lovers do   \n",
       "3             Baby girl, work your body, work your body   \n",
       "4                                                   NaN   \n",
       "...                                                 ...   \n",
       "3275                                       To the South   \n",
       "3276                                       To the South   \n",
       "3277                                       To the South   \n",
       "3278       Is the Brooklyn Zoo in the muthafucka house?   \n",
       "3279                 [Verse 2: Ol’ Dirty Bastard & RZA]   \n",
       "\n",
       "                                            Line After  \\\n",
       "0          Feelin' like I'm fresh out; Boosie (Boosie)   \n",
       "1                            And you are unforgettable   \n",
       "2                              You ain't enough for me   \n",
       "3                            And you are unforgettable   \n",
       "4                   Don\\'t stop, pop that, don\\'t stop   \n",
       "...                                                ...   \n",
       "3275            Put it all together and it spell NEWS!   \n",
       "3276            Put it all together and it spell NEWS!   \n",
       "3277            Put it all together and it spell NEWS!   \n",
       "3278                       Niggas don’t yell like that   \n",
       "3279  The Ol’ Dirty Bastard from the Temple of Shaolin   \n",
       "\n",
       "                                               polarity  \n",
       "0     {'neg': 0.0, 'neu': 0.541, 'pos': 0.459, 'comp...  \n",
       "1     {'neg': 0.0, 'neu': 1.0, 'pos': 0.0, 'compound...  \n",
       "2     {'neg': 0.0, 'neu': 0.541, 'pos': 0.459, 'comp...  \n",
       "3     {'neg': 0.0, 'neu': 1.0, 'pos': 0.0, 'compound...  \n",
       "4     {'neg': 0.0, 'neu': 1.0, 'pos': 0.0, 'compound...  \n",
       "...                                                 ...  \n",
       "3275  {'neg': 0.0, 'neu': 1.0, 'pos': 0.0, 'compound...  \n",
       "3276  {'neg': 0.0, 'neu': 1.0, 'pos': 0.0, 'compound...  \n",
       "3277  {'neg': 0.0, 'neu': 1.0, 'pos': 0.0, 'compound...  \n",
       "3278  {'neg': 0.0, 'neu': 1.0, 'pos': 0.0, 'compound...  \n",
       "3279  {'neg': 0.615, 'neu': 0.385, 'pos': 0.0, 'comp...  \n",
       "\n",
       "[3280 rows x 7 columns]"
      ]
     },
     "metadata": {},
     "execution_count": 58
    }
   ],
   "metadata": {}
  },
  {
   "cell_type": "code",
   "execution_count": 59,
   "source": [
    "df[\"pos\"]=df[\"polarity\"].apply(lambda polarity : polarity.get(\"pos\"))\n",
    "df[\"neg\"]=df[\"polarity\"].apply(lambda polarity : polarity.get(\"neg\"))\n",
    "df[\"neu\"]=df[\"polarity\"].apply(lambda polarity : polarity.get(\"neu\"))\n",
    "df[\"compound\"]=df[\"polarity\"].apply(lambda polarity : polarity.get(\"compound\"))"
   ],
   "outputs": [],
   "metadata": {}
  },
  {
   "cell_type": "code",
   "execution_count": 150,
   "source": [
    "places=list(df[\"GPE\"].value_counts()[(df[\"GPE\"].value_counts()>12)].index)\n",
    "less_places = list(df[\"GPE\"].value_counts()[(df[\"GPE\"].value_counts()>25)].index)"
   ],
   "outputs": [],
   "metadata": {}
  },
  {
   "cell_type": "code",
   "execution_count": 120,
   "source": [
    "len(places)"
   ],
   "outputs": [
    {
     "output_type": "execute_result",
     "data": {
      "text/plain": [
       "42"
      ]
     },
     "metadata": {},
     "execution_count": 120
    }
   ],
   "metadata": {}
  },
  {
   "cell_type": "code",
   "execution_count": 126,
   "source": [
    "len(less_places)"
   ],
   "outputs": [
    {
     "output_type": "execute_result",
     "data": {
      "text/plain": [
       "10"
      ]
     },
     "metadata": {},
     "execution_count": 126
    }
   ],
   "metadata": {}
  },
  {
   "cell_type": "code",
   "execution_count": 151,
   "source": [
    "df_filtered=df[df[\"GPE\"].isin(places)]\n",
    "df_sample=df[df[\"GPE\"].isin(less_places)]"
   ],
   "outputs": [],
   "metadata": {}
  },
  {
   "cell_type": "code",
   "execution_count": 93,
   "source": [
    "df"
   ],
   "outputs": [
    {
     "output_type": "execute_result",
     "data": {
      "text/html": [
       "<div>\n",
       "<style scoped>\n",
       "    .dataframe tbody tr th:only-of-type {\n",
       "        vertical-align: middle;\n",
       "    }\n",
       "\n",
       "    .dataframe tbody tr th {\n",
       "        vertical-align: top;\n",
       "    }\n",
       "\n",
       "    .dataframe thead th {\n",
       "        text-align: right;\n",
       "    }\n",
       "</style>\n",
       "<table border=\"1\" class=\"dataframe\">\n",
       "  <thead>\n",
       "    <tr style=\"text-align: right;\">\n",
       "      <th></th>\n",
       "      <th>Artist</th>\n",
       "      <th>Song Name</th>\n",
       "      <th>GPE</th>\n",
       "      <th>Line</th>\n",
       "      <th>Line Before</th>\n",
       "      <th>Line After</th>\n",
       "      <th>polarity</th>\n",
       "      <th>pos</th>\n",
       "      <th>neg</th>\n",
       "      <th>neu</th>\n",
       "      <th>compound</th>\n",
       "    </tr>\n",
       "  </thead>\n",
       "  <tbody>\n",
       "    <tr>\n",
       "      <th>0</th>\n",
       "      <td>French Montana</td>\n",
       "      <td>Unforgettable</td>\n",
       "      <td>Montana</td>\n",
       "      <td>[Verse 1: French Montana]</td>\n",
       "      <td>Tryna do what lovers do</td>\n",
       "      <td>Feelin' like I'm fresh out; Boosie (Boosie)</td>\n",
       "      <td>{'neg': 0.0, 'neu': 0.541, 'pos': 0.459, 'comp...</td>\n",
       "      <td>0.459</td>\n",
       "      <td>0.000</td>\n",
       "      <td>0.541</td>\n",
       "      <td>0.5267</td>\n",
       "    </tr>\n",
       "    <tr>\n",
       "      <th>1</th>\n",
       "      <td>French Montana</td>\n",
       "      <td>Unforgettable</td>\n",
       "      <td>Montana</td>\n",
       "      <td>[Refrain: Swae Lee &amp; French Montana]</td>\n",
       "      <td>'Cause I pulled out a million cash, told her p...</td>\n",
       "      <td>And you are unforgettable</td>\n",
       "      <td>{'neg': 0.0, 'neu': 1.0, 'pos': 0.0, 'compound...</td>\n",
       "      <td>0.000</td>\n",
       "      <td>0.000</td>\n",
       "      <td>1.000</td>\n",
       "      <td>0.0000</td>\n",
       "    </tr>\n",
       "    <tr>\n",
       "      <th>2</th>\n",
       "      <td>French Montana</td>\n",
       "      <td>Unforgettable</td>\n",
       "      <td>Montana</td>\n",
       "      <td>[Verse 2: French Montana]</td>\n",
       "      <td>Tryna do what lovers do</td>\n",
       "      <td>You ain't enough for me</td>\n",
       "      <td>{'neg': 0.0, 'neu': 0.541, 'pos': 0.459, 'comp...</td>\n",
       "      <td>0.459</td>\n",
       "      <td>0.000</td>\n",
       "      <td>0.541</td>\n",
       "      <td>0.5267</td>\n",
       "    </tr>\n",
       "    <tr>\n",
       "      <th>3</th>\n",
       "      <td>French Montana</td>\n",
       "      <td>Unforgettable</td>\n",
       "      <td>Montana</td>\n",
       "      <td>[Refrain: Swae Lee &amp; French Montana]</td>\n",
       "      <td>Baby girl, work your body, work your body</td>\n",
       "      <td>And you are unforgettable</td>\n",
       "      <td>{'neg': 0.0, 'neu': 1.0, 'pos': 0.0, 'compound...</td>\n",
       "      <td>0.000</td>\n",
       "      <td>0.000</td>\n",
       "      <td>1.000</td>\n",
       "      <td>0.0000</td>\n",
       "    </tr>\n",
       "    <tr>\n",
       "      <th>4</th>\n",
       "      <td>French Montana</td>\n",
       "      <td>Unforgettable</td>\n",
       "      <td>Montana</td>\n",
       "      <td>[Chorus: Uncle Luke &amp; French Montana]</td>\n",
       "      <td>NaN</td>\n",
       "      <td>Don\\'t stop, pop that, don\\'t stop</td>\n",
       "      <td>{'neg': 0.0, 'neu': 1.0, 'pos': 0.0, 'compound...</td>\n",
       "      <td>0.000</td>\n",
       "      <td>0.000</td>\n",
       "      <td>1.000</td>\n",
       "      <td>0.0000</td>\n",
       "    </tr>\n",
       "    <tr>\n",
       "      <th>...</th>\n",
       "      <td>...</td>\n",
       "      <td>...</td>\n",
       "      <td>...</td>\n",
       "      <td>...</td>\n",
       "      <td>...</td>\n",
       "      <td>...</td>\n",
       "      <td>...</td>\n",
       "      <td>...</td>\n",
       "      <td>...</td>\n",
       "      <td>...</td>\n",
       "      <td>...</td>\n",
       "    </tr>\n",
       "    <tr>\n",
       "      <th>3275</th>\n",
       "      <td>Ol' Dirty Bastard</td>\n",
       "      <td>Baby Blue</td>\n",
       "      <td>East</td>\n",
       "      <td>When you take North, East, West, South</td>\n",
       "      <td>To the South</td>\n",
       "      <td>Put it all together and it spell NEWS!</td>\n",
       "      <td>{'neg': 0.0, 'neu': 1.0, 'pos': 0.0, 'compound...</td>\n",
       "      <td>0.000</td>\n",
       "      <td>0.000</td>\n",
       "      <td>1.000</td>\n",
       "      <td>0.0000</td>\n",
       "    </tr>\n",
       "    <tr>\n",
       "      <th>3276</th>\n",
       "      <td>Ol' Dirty Bastard</td>\n",
       "      <td>Baby Blue</td>\n",
       "      <td>West</td>\n",
       "      <td>When you take North, East, West, South</td>\n",
       "      <td>To the South</td>\n",
       "      <td>Put it all together and it spell NEWS!</td>\n",
       "      <td>{'neg': 0.0, 'neu': 1.0, 'pos': 0.0, 'compound...</td>\n",
       "      <td>0.000</td>\n",
       "      <td>0.000</td>\n",
       "      <td>1.000</td>\n",
       "      <td>0.0000</td>\n",
       "    </tr>\n",
       "    <tr>\n",
       "      <th>3277</th>\n",
       "      <td>Ol' Dirty Bastard</td>\n",
       "      <td>Baby Blue</td>\n",
       "      <td>South</td>\n",
       "      <td>When you take North, East, West, South</td>\n",
       "      <td>To the South</td>\n",
       "      <td>Put it all together and it spell NEWS!</td>\n",
       "      <td>{'neg': 0.0, 'neu': 1.0, 'pos': 0.0, 'compound...</td>\n",
       "      <td>0.000</td>\n",
       "      <td>0.000</td>\n",
       "      <td>1.000</td>\n",
       "      <td>0.0000</td>\n",
       "    </tr>\n",
       "    <tr>\n",
       "      <th>3278</th>\n",
       "      <td>Ol' Dirty Bastard</td>\n",
       "      <td>Baby Blue</td>\n",
       "      <td>Brooklyn</td>\n",
       "      <td>Fuck is goin on, niggas from Brooklyn don’t fu...</td>\n",
       "      <td>Is the Brooklyn Zoo in the muthafucka house?</td>\n",
       "      <td>Niggas don’t yell like that</td>\n",
       "      <td>{'neg': 0.0, 'neu': 1.0, 'pos': 0.0, 'compound...</td>\n",
       "      <td>0.000</td>\n",
       "      <td>0.000</td>\n",
       "      <td>1.000</td>\n",
       "      <td>0.0000</td>\n",
       "    </tr>\n",
       "    <tr>\n",
       "      <th>3279</th>\n",
       "      <td>Ol' Dirty Bastard</td>\n",
       "      <td>Baby Blue</td>\n",
       "      <td>Harlem</td>\n",
       "      <td>Rhymes is rugged like burnt buildings in Harlem</td>\n",
       "      <td>[Verse 2: Ol’ Dirty Bastard &amp; RZA]</td>\n",
       "      <td>The Ol’ Dirty Bastard from the Temple of Shaolin</td>\n",
       "      <td>{'neg': 0.615, 'neu': 0.385, 'pos': 0.0, 'comp...</td>\n",
       "      <td>0.000</td>\n",
       "      <td>0.615</td>\n",
       "      <td>0.385</td>\n",
       "      <td>-0.7506</td>\n",
       "    </tr>\n",
       "  </tbody>\n",
       "</table>\n",
       "<p>3280 rows × 11 columns</p>\n",
       "</div>"
      ],
      "text/plain": [
       "                 Artist      Song Name       GPE  \\\n",
       "0        French Montana  Unforgettable   Montana   \n",
       "1        French Montana  Unforgettable   Montana   \n",
       "2        French Montana  Unforgettable   Montana   \n",
       "3        French Montana  Unforgettable   Montana   \n",
       "4        French Montana  Unforgettable   Montana   \n",
       "...                 ...            ...       ...   \n",
       "3275  Ol' Dirty Bastard      Baby Blue      East   \n",
       "3276  Ol' Dirty Bastard      Baby Blue      West   \n",
       "3277  Ol' Dirty Bastard      Baby Blue     South   \n",
       "3278  Ol' Dirty Bastard      Baby Blue  Brooklyn   \n",
       "3279  Ol' Dirty Bastard      Baby Blue    Harlem   \n",
       "\n",
       "                                                   Line  \\\n",
       "0                             [Verse 1: French Montana]   \n",
       "1                  [Refrain: Swae Lee & French Montana]   \n",
       "2                             [Verse 2: French Montana]   \n",
       "3                  [Refrain: Swae Lee & French Montana]   \n",
       "4                 [Chorus: Uncle Luke & French Montana]   \n",
       "...                                                 ...   \n",
       "3275             When you take North, East, West, South   \n",
       "3276             When you take North, East, West, South   \n",
       "3277             When you take North, East, West, South   \n",
       "3278  Fuck is goin on, niggas from Brooklyn don’t fu...   \n",
       "3279    Rhymes is rugged like burnt buildings in Harlem   \n",
       "\n",
       "                                            Line Before  \\\n",
       "0                               Tryna do what lovers do   \n",
       "1     'Cause I pulled out a million cash, told her p...   \n",
       "2                               Tryna do what lovers do   \n",
       "3             Baby girl, work your body, work your body   \n",
       "4                                                   NaN   \n",
       "...                                                 ...   \n",
       "3275                                       To the South   \n",
       "3276                                       To the South   \n",
       "3277                                       To the South   \n",
       "3278       Is the Brooklyn Zoo in the muthafucka house?   \n",
       "3279                 [Verse 2: Ol’ Dirty Bastard & RZA]   \n",
       "\n",
       "                                            Line After  \\\n",
       "0          Feelin' like I'm fresh out; Boosie (Boosie)   \n",
       "1                            And you are unforgettable   \n",
       "2                              You ain't enough for me   \n",
       "3                            And you are unforgettable   \n",
       "4                   Don\\'t stop, pop that, don\\'t stop   \n",
       "...                                                ...   \n",
       "3275            Put it all together and it spell NEWS!   \n",
       "3276            Put it all together and it spell NEWS!   \n",
       "3277            Put it all together and it spell NEWS!   \n",
       "3278                       Niggas don’t yell like that   \n",
       "3279  The Ol’ Dirty Bastard from the Temple of Shaolin   \n",
       "\n",
       "                                               polarity    pos    neg    neu  \\\n",
       "0     {'neg': 0.0, 'neu': 0.541, 'pos': 0.459, 'comp...  0.459  0.000  0.541   \n",
       "1     {'neg': 0.0, 'neu': 1.0, 'pos': 0.0, 'compound...  0.000  0.000  1.000   \n",
       "2     {'neg': 0.0, 'neu': 0.541, 'pos': 0.459, 'comp...  0.459  0.000  0.541   \n",
       "3     {'neg': 0.0, 'neu': 1.0, 'pos': 0.0, 'compound...  0.000  0.000  1.000   \n",
       "4     {'neg': 0.0, 'neu': 1.0, 'pos': 0.0, 'compound...  0.000  0.000  1.000   \n",
       "...                                                 ...    ...    ...    ...   \n",
       "3275  {'neg': 0.0, 'neu': 1.0, 'pos': 0.0, 'compound...  0.000  0.000  1.000   \n",
       "3276  {'neg': 0.0, 'neu': 1.0, 'pos': 0.0, 'compound...  0.000  0.000  1.000   \n",
       "3277  {'neg': 0.0, 'neu': 1.0, 'pos': 0.0, 'compound...  0.000  0.000  1.000   \n",
       "3278  {'neg': 0.0, 'neu': 1.0, 'pos': 0.0, 'compound...  0.000  0.000  1.000   \n",
       "3279  {'neg': 0.615, 'neu': 0.385, 'pos': 0.0, 'comp...  0.000  0.615  0.385   \n",
       "\n",
       "      compound  \n",
       "0       0.5267  \n",
       "1       0.0000  \n",
       "2       0.5267  \n",
       "3       0.0000  \n",
       "4       0.0000  \n",
       "...        ...  \n",
       "3275    0.0000  \n",
       "3276    0.0000  \n",
       "3277    0.0000  \n",
       "3278    0.0000  \n",
       "3279   -0.7506  \n",
       "\n",
       "[3280 rows x 11 columns]"
      ]
     },
     "metadata": {},
     "execution_count": 93
    }
   ],
   "metadata": {}
  },
  {
   "cell_type": "code",
   "execution_count": 117,
   "source": [
    "df_filtered"
   ],
   "outputs": [
    {
     "output_type": "execute_result",
     "data": {
      "text/html": [
       "<div>\n",
       "<style scoped>\n",
       "    .dataframe tbody tr th:only-of-type {\n",
       "        vertical-align: middle;\n",
       "    }\n",
       "\n",
       "    .dataframe tbody tr th {\n",
       "        vertical-align: top;\n",
       "    }\n",
       "\n",
       "    .dataframe thead th {\n",
       "        text-align: right;\n",
       "    }\n",
       "</style>\n",
       "<table border=\"1\" class=\"dataframe\">\n",
       "  <thead>\n",
       "    <tr style=\"text-align: right;\">\n",
       "      <th></th>\n",
       "      <th>Artist</th>\n",
       "      <th>Song Name</th>\n",
       "      <th>GPE</th>\n",
       "      <th>Line</th>\n",
       "      <th>Line Before</th>\n",
       "      <th>Line After</th>\n",
       "      <th>polarity</th>\n",
       "      <th>pos</th>\n",
       "      <th>neg</th>\n",
       "      <th>neu</th>\n",
       "      <th>compound</th>\n",
       "    </tr>\n",
       "  </thead>\n",
       "  <tbody>\n",
       "    <tr>\n",
       "      <th>0</th>\n",
       "      <td>French Montana</td>\n",
       "      <td>Unforgettable</td>\n",
       "      <td>Montana</td>\n",
       "      <td>[Verse 1: French Montana]</td>\n",
       "      <td>Tryna do what lovers do</td>\n",
       "      <td>Feelin' like I'm fresh out; Boosie (Boosie)</td>\n",
       "      <td>{'neg': 0.0, 'neu': 0.541, 'pos': 0.459, 'comp...</td>\n",
       "      <td>0.459</td>\n",
       "      <td>0.000</td>\n",
       "      <td>0.541</td>\n",
       "      <td>0.5267</td>\n",
       "    </tr>\n",
       "    <tr>\n",
       "      <th>1</th>\n",
       "      <td>French Montana</td>\n",
       "      <td>Unforgettable</td>\n",
       "      <td>Montana</td>\n",
       "      <td>[Refrain: Swae Lee &amp; French Montana]</td>\n",
       "      <td>'Cause I pulled out a million cash, told her p...</td>\n",
       "      <td>And you are unforgettable</td>\n",
       "      <td>{'neg': 0.0, 'neu': 1.0, 'pos': 0.0, 'compound...</td>\n",
       "      <td>0.000</td>\n",
       "      <td>0.000</td>\n",
       "      <td>1.000</td>\n",
       "      <td>0.0000</td>\n",
       "    </tr>\n",
       "    <tr>\n",
       "      <th>2</th>\n",
       "      <td>French Montana</td>\n",
       "      <td>Unforgettable</td>\n",
       "      <td>Montana</td>\n",
       "      <td>[Verse 2: French Montana]</td>\n",
       "      <td>Tryna do what lovers do</td>\n",
       "      <td>You ain't enough for me</td>\n",
       "      <td>{'neg': 0.0, 'neu': 0.541, 'pos': 0.459, 'comp...</td>\n",
       "      <td>0.459</td>\n",
       "      <td>0.000</td>\n",
       "      <td>0.541</td>\n",
       "      <td>0.5267</td>\n",
       "    </tr>\n",
       "    <tr>\n",
       "      <th>3</th>\n",
       "      <td>French Montana</td>\n",
       "      <td>Unforgettable</td>\n",
       "      <td>Montana</td>\n",
       "      <td>[Refrain: Swae Lee &amp; French Montana]</td>\n",
       "      <td>Baby girl, work your body, work your body</td>\n",
       "      <td>And you are unforgettable</td>\n",
       "      <td>{'neg': 0.0, 'neu': 1.0, 'pos': 0.0, 'compound...</td>\n",
       "      <td>0.000</td>\n",
       "      <td>0.000</td>\n",
       "      <td>1.000</td>\n",
       "      <td>0.0000</td>\n",
       "    </tr>\n",
       "    <tr>\n",
       "      <th>4</th>\n",
       "      <td>French Montana</td>\n",
       "      <td>Unforgettable</td>\n",
       "      <td>Montana</td>\n",
       "      <td>[Chorus: Uncle Luke &amp; French Montana]</td>\n",
       "      <td>NaN</td>\n",
       "      <td>Don\\'t stop, pop that, don\\'t stop</td>\n",
       "      <td>{'neg': 0.0, 'neu': 1.0, 'pos': 0.0, 'compound...</td>\n",
       "      <td>0.000</td>\n",
       "      <td>0.000</td>\n",
       "      <td>1.000</td>\n",
       "      <td>0.0000</td>\n",
       "    </tr>\n",
       "    <tr>\n",
       "      <th>...</th>\n",
       "      <td>...</td>\n",
       "      <td>...</td>\n",
       "      <td>...</td>\n",
       "      <td>...</td>\n",
       "      <td>...</td>\n",
       "      <td>...</td>\n",
       "      <td>...</td>\n",
       "      <td>...</td>\n",
       "      <td>...</td>\n",
       "      <td>...</td>\n",
       "      <td>...</td>\n",
       "    </tr>\n",
       "    <tr>\n",
       "      <th>3275</th>\n",
       "      <td>Ol' Dirty Bastard</td>\n",
       "      <td>Baby Blue</td>\n",
       "      <td>East</td>\n",
       "      <td>When you take North, East, West, South</td>\n",
       "      <td>To the South</td>\n",
       "      <td>Put it all together and it spell NEWS!</td>\n",
       "      <td>{'neg': 0.0, 'neu': 1.0, 'pos': 0.0, 'compound...</td>\n",
       "      <td>0.000</td>\n",
       "      <td>0.000</td>\n",
       "      <td>1.000</td>\n",
       "      <td>0.0000</td>\n",
       "    </tr>\n",
       "    <tr>\n",
       "      <th>3276</th>\n",
       "      <td>Ol' Dirty Bastard</td>\n",
       "      <td>Baby Blue</td>\n",
       "      <td>West</td>\n",
       "      <td>When you take North, East, West, South</td>\n",
       "      <td>To the South</td>\n",
       "      <td>Put it all together and it spell NEWS!</td>\n",
       "      <td>{'neg': 0.0, 'neu': 1.0, 'pos': 0.0, 'compound...</td>\n",
       "      <td>0.000</td>\n",
       "      <td>0.000</td>\n",
       "      <td>1.000</td>\n",
       "      <td>0.0000</td>\n",
       "    </tr>\n",
       "    <tr>\n",
       "      <th>3277</th>\n",
       "      <td>Ol' Dirty Bastard</td>\n",
       "      <td>Baby Blue</td>\n",
       "      <td>South</td>\n",
       "      <td>When you take North, East, West, South</td>\n",
       "      <td>To the South</td>\n",
       "      <td>Put it all together and it spell NEWS!</td>\n",
       "      <td>{'neg': 0.0, 'neu': 1.0, 'pos': 0.0, 'compound...</td>\n",
       "      <td>0.000</td>\n",
       "      <td>0.000</td>\n",
       "      <td>1.000</td>\n",
       "      <td>0.0000</td>\n",
       "    </tr>\n",
       "    <tr>\n",
       "      <th>3278</th>\n",
       "      <td>Ol' Dirty Bastard</td>\n",
       "      <td>Baby Blue</td>\n",
       "      <td>Brooklyn</td>\n",
       "      <td>Fuck is goin on, niggas from Brooklyn don’t fu...</td>\n",
       "      <td>Is the Brooklyn Zoo in the muthafucka house?</td>\n",
       "      <td>Niggas don’t yell like that</td>\n",
       "      <td>{'neg': 0.0, 'neu': 1.0, 'pos': 0.0, 'compound...</td>\n",
       "      <td>0.000</td>\n",
       "      <td>0.000</td>\n",
       "      <td>1.000</td>\n",
       "      <td>0.0000</td>\n",
       "    </tr>\n",
       "    <tr>\n",
       "      <th>3279</th>\n",
       "      <td>Ol' Dirty Bastard</td>\n",
       "      <td>Baby Blue</td>\n",
       "      <td>Harlem</td>\n",
       "      <td>Rhymes is rugged like burnt buildings in Harlem</td>\n",
       "      <td>[Verse 2: Ol’ Dirty Bastard &amp; RZA]</td>\n",
       "      <td>The Ol’ Dirty Bastard from the Temple of Shaolin</td>\n",
       "      <td>{'neg': 0.615, 'neu': 0.385, 'pos': 0.0, 'comp...</td>\n",
       "      <td>0.000</td>\n",
       "      <td>0.615</td>\n",
       "      <td>0.385</td>\n",
       "      <td>-0.7506</td>\n",
       "    </tr>\n",
       "  </tbody>\n",
       "</table>\n",
       "<p>1362 rows × 11 columns</p>\n",
       "</div>"
      ],
      "text/plain": [
       "                 Artist      Song Name       GPE  \\\n",
       "0        French Montana  Unforgettable   Montana   \n",
       "1        French Montana  Unforgettable   Montana   \n",
       "2        French Montana  Unforgettable   Montana   \n",
       "3        French Montana  Unforgettable   Montana   \n",
       "4        French Montana  Unforgettable   Montana   \n",
       "...                 ...            ...       ...   \n",
       "3275  Ol' Dirty Bastard      Baby Blue      East   \n",
       "3276  Ol' Dirty Bastard      Baby Blue      West   \n",
       "3277  Ol' Dirty Bastard      Baby Blue     South   \n",
       "3278  Ol' Dirty Bastard      Baby Blue  Brooklyn   \n",
       "3279  Ol' Dirty Bastard      Baby Blue    Harlem   \n",
       "\n",
       "                                                   Line  \\\n",
       "0                             [Verse 1: French Montana]   \n",
       "1                  [Refrain: Swae Lee & French Montana]   \n",
       "2                             [Verse 2: French Montana]   \n",
       "3                  [Refrain: Swae Lee & French Montana]   \n",
       "4                 [Chorus: Uncle Luke & French Montana]   \n",
       "...                                                 ...   \n",
       "3275             When you take North, East, West, South   \n",
       "3276             When you take North, East, West, South   \n",
       "3277             When you take North, East, West, South   \n",
       "3278  Fuck is goin on, niggas from Brooklyn don’t fu...   \n",
       "3279    Rhymes is rugged like burnt buildings in Harlem   \n",
       "\n",
       "                                            Line Before  \\\n",
       "0                               Tryna do what lovers do   \n",
       "1     'Cause I pulled out a million cash, told her p...   \n",
       "2                               Tryna do what lovers do   \n",
       "3             Baby girl, work your body, work your body   \n",
       "4                                                   NaN   \n",
       "...                                                 ...   \n",
       "3275                                       To the South   \n",
       "3276                                       To the South   \n",
       "3277                                       To the South   \n",
       "3278       Is the Brooklyn Zoo in the muthafucka house?   \n",
       "3279                 [Verse 2: Ol’ Dirty Bastard & RZA]   \n",
       "\n",
       "                                            Line After  \\\n",
       "0          Feelin' like I'm fresh out; Boosie (Boosie)   \n",
       "1                            And you are unforgettable   \n",
       "2                              You ain't enough for me   \n",
       "3                            And you are unforgettable   \n",
       "4                   Don\\'t stop, pop that, don\\'t stop   \n",
       "...                                                ...   \n",
       "3275            Put it all together and it spell NEWS!   \n",
       "3276            Put it all together and it spell NEWS!   \n",
       "3277            Put it all together and it spell NEWS!   \n",
       "3278                       Niggas don’t yell like that   \n",
       "3279  The Ol’ Dirty Bastard from the Temple of Shaolin   \n",
       "\n",
       "                                               polarity    pos    neg    neu  \\\n",
       "0     {'neg': 0.0, 'neu': 0.541, 'pos': 0.459, 'comp...  0.459  0.000  0.541   \n",
       "1     {'neg': 0.0, 'neu': 1.0, 'pos': 0.0, 'compound...  0.000  0.000  1.000   \n",
       "2     {'neg': 0.0, 'neu': 0.541, 'pos': 0.459, 'comp...  0.459  0.000  0.541   \n",
       "3     {'neg': 0.0, 'neu': 1.0, 'pos': 0.0, 'compound...  0.000  0.000  1.000   \n",
       "4     {'neg': 0.0, 'neu': 1.0, 'pos': 0.0, 'compound...  0.000  0.000  1.000   \n",
       "...                                                 ...    ...    ...    ...   \n",
       "3275  {'neg': 0.0, 'neu': 1.0, 'pos': 0.0, 'compound...  0.000  0.000  1.000   \n",
       "3276  {'neg': 0.0, 'neu': 1.0, 'pos': 0.0, 'compound...  0.000  0.000  1.000   \n",
       "3277  {'neg': 0.0, 'neu': 1.0, 'pos': 0.0, 'compound...  0.000  0.000  1.000   \n",
       "3278  {'neg': 0.0, 'neu': 1.0, 'pos': 0.0, 'compound...  0.000  0.000  1.000   \n",
       "3279  {'neg': 0.615, 'neu': 0.385, 'pos': 0.0, 'comp...  0.000  0.615  0.385   \n",
       "\n",
       "      compound  \n",
       "0       0.5267  \n",
       "1       0.0000  \n",
       "2       0.5267  \n",
       "3       0.0000  \n",
       "4       0.0000  \n",
       "...        ...  \n",
       "3275    0.0000  \n",
       "3276    0.0000  \n",
       "3277    0.0000  \n",
       "3278    0.0000  \n",
       "3279   -0.7506  \n",
       "\n",
       "[1362 rows x 11 columns]"
      ]
     },
     "metadata": {},
     "execution_count": 117
    }
   ],
   "metadata": {}
  },
  {
   "cell_type": "code",
   "execution_count": 92,
   "source": [
    "df[\"GPE\"]=df[\"GPE\"].astype(\"category\")"
   ],
   "outputs": [],
   "metadata": {}
  },
  {
   "cell_type": "code",
   "execution_count": null,
   "source": [
    "df"
   ],
   "outputs": [],
   "metadata": {}
  },
  {
   "cell_type": "code",
   "execution_count": 154,
   "source": [
    "df_sample[\"GPE\"]=df_sample[\"GPE\"].astype(\"str\").astype(\"category\")"
   ],
   "outputs": [
    {
     "output_type": "stream",
     "name": "stderr",
     "text": [
      "/tmp/ipykernel_5635/2540905232.py:1: SettingWithCopyWarning: \n",
      "A value is trying to be set on a copy of a slice from a DataFrame.\n",
      "Try using .loc[row_indexer,col_indexer] = value instead\n",
      "\n",
      "See the caveats in the documentation: https://pandas.pydata.org/pandas-docs/stable/user_guide/indexing.html#returning-a-view-versus-a-copy\n",
      "  df_sample[\"GPE\"]=df_sample[\"GPE\"].astype(\"str\").astype(\"category\")\n"
     ]
    }
   ],
   "metadata": {}
  },
  {
   "cell_type": "code",
   "execution_count": 152,
   "source": [
    "\n",
    "sns.catplot(data=df_sample, y=\"pos\", x=\"GPE\", kind=\"box\", height=10, aspect=2)\n",
    "\n",
    "sns.catplot(data=df_sample, y=\"neg\", x=\"GPE\", kind=\"box\", height=10, aspect=2)\n",
    "\n"
   ],
   "outputs": [
    {
     "output_type": "stream",
     "name": "stderr",
     "text": [
      "/home/lucastrg/FLEP/DS-env/lib/python3.9/site-packages/seaborn/axisgrid.py:88: UserWarning: Glyph 45572 (\\N{HANGUL SYLLABLE NU}) missing from current font.\n",
      "  self._figure.tight_layout(*args, **kwargs)\n",
      "/home/lucastrg/FLEP/DS-env/lib/python3.9/site-packages/seaborn/axisgrid.py:88: UserWarning: Glyph 44396 (\\N{HANGUL SYLLABLE GU}) missing from current font.\n",
      "  self._figure.tight_layout(*args, **kwargs)\n",
      "/home/lucastrg/FLEP/DS-env/lib/python3.9/site-packages/seaborn/axisgrid.py:88: UserWarning: Glyph 45572 (\\N{HANGUL SYLLABLE NU}) missing from current font.\n",
      "  self._figure.tight_layout(*args, **kwargs)\n",
      "/home/lucastrg/FLEP/DS-env/lib/python3.9/site-packages/seaborn/axisgrid.py:88: UserWarning: Glyph 44396 (\\N{HANGUL SYLLABLE GU}) missing from current font.\n",
      "  self._figure.tight_layout(*args, **kwargs)\n"
     ]
    },
    {
     "output_type": "execute_result",
     "data": {
      "text/plain": [
       "<seaborn.axisgrid.FacetGrid at 0x7f709303fa00>"
      ]
     },
     "metadata": {},
     "execution_count": 152
    },
    {
     "output_type": "stream",
     "name": "stderr",
     "text": [
      "/home/lucastrg/FLEP/DS-env/lib/python3.9/site-packages/IPython/core/pylabtools.py:151: UserWarning: Glyph 45572 (\\N{HANGUL SYLLABLE NU}) missing from current font.\n",
      "  fig.canvas.print_figure(bytes_io, **kw)\n",
      "/home/lucastrg/FLEP/DS-env/lib/python3.9/site-packages/IPython/core/pylabtools.py:151: UserWarning: Glyph 44396 (\\N{HANGUL SYLLABLE GU}) missing from current font.\n",
      "  fig.canvas.print_figure(bytes_io, **kw)\n"
     ]
    },
    {
     "output_type": "display_data",
     "data": {
      "image/png": "[encoded data removed]",
      "text/plain": [
       "<Figure size 1440x720 with 1 Axes>"
      ]
     },
     "metadata": {}
    },
    {
     "output_type": "display_data",
     "data": {
      "image/png": "[encoded data removed]",
      "text/plain": [
       "<Figure size 1440x720 with 1 Axes>"
      ]
     },
     "metadata": {}
    }
   ],
   "metadata": {}
  },
  {
   "cell_type": "code",
   "execution_count": 155,
   "source": [
    "sns.catplot(data=df_sample, y=\"compound\", x=\"GPE\", kind=\"boxen\", height=11, aspect=2)\n"
   ],
   "outputs": [
    {
     "output_type": "execute_result",
     "data": {
      "text/plain": [
       "<seaborn.axisgrid.FacetGrid at 0x7f708e59a520>"
      ]
     },
     "metadata": {},
     "execution_count": 155
    },
    {
     "output_type": "display_data",
     "data": {
      "image/png": "[encoded data removed]",
      "text/plain": [
       "<Figure size 1584x792 with 1 Axes>"
      ]
     },
     "metadata": {}
    }
   ],
   "metadata": {}
  },
  {
   "cell_type": "code",
   "execution_count": null,
   "source": [],
   "outputs": [],
   "metadata": {}
  }
 ],
 "metadata": {
  "orig_nbformat": 4,
  "language_info": {
   "name": "python",
   "version": "3.9.7",
   "mimetype": "text/x-python",
   "codemirror_mode": {
    "name": "ipython",
    "version": 3
   },
   "pygments_lexer": "ipython3",
   "nbconvert_exporter": "python",
   "file_extension": ".py"
  },
  "kernelspec": {
   "name": "python3",
   "display_name": "Python 3.9.7 64-bit ('DS-env': venv)"
  },
  "interpreter": {
   "hash": "f97c73c0b3dc31f822db09fd3a845cf7aea59669cad4c0e0074f0d49bf5c3633"
  }
 },
 "nbformat": 4,
 "nbformat_minor": 2
}